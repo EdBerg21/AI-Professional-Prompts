{
  "metadata": {
    "kernelspec": {
      "display_name": "Python 3",
      "name": "python3"
    },
    "language_info": {
      "name": "python",
      "version": "3.10.12",
      "mimetype": "text/x-python",
      "codemirror_mode": {
        "name": "ipython",
        "version": 3
      },
      "pygments_lexer": "ipython3",
      "nbconvert_exporter": "python",
      "file_extension": ".py"
    },
    "kaggle": {
      "accelerator": "gpu",
      "dataSources": [
        {
          "sourceId": 4966565,
          "sourceType": "datasetVersion",
          "datasetId": 2880535
        },
        {
          "sourceId": 5112,
          "sourceType": "modelInstanceVersion",
          "modelInstanceId": 3900
        }
      ],
      "isInternetEnabled": false,
      "language": "python",
      "sourceType": "notebook",
      "isGpuEnabled": true
    },
    "colab": {
      "provenance": [],
      "gpuType": "T4",
      "include_colab_link": true
    },
    "accelerator": "GPU",
    "widgets": {
      "application/vnd.jupyter.widget-state+json": {
        "a6e1d016f0934c4ba4b470ff1490de28": {
          "model_module": "@jupyter-widgets/controls",
          "model_name": "HBoxModel",
          "model_module_version": "1.5.0",
          "state": {
            "_dom_classes": [],
            "_model_module": "@jupyter-widgets/controls",
            "_model_module_version": "1.5.0",
            "_model_name": "HBoxModel",
            "_view_count": null,
            "_view_module": "@jupyter-widgets/controls",
            "_view_module_version": "1.5.0",
            "_view_name": "HBoxView",
            "box_style": "",
            "children": [
              "IPY_MODEL_4d3ff8563ee1441799d2e1cd423c9afc",
              "IPY_MODEL_fdc4d841602c46d28cf8955a9d3d3fb5",
              "IPY_MODEL_cb25a2a2300a422197d21c5277edb0df"
            ],
            "layout": "IPY_MODEL_ae4121686d4544a48d668bc1a0b95039"
          }
        },
        "4d3ff8563ee1441799d2e1cd423c9afc": {
          "model_module": "@jupyter-widgets/controls",
          "model_name": "HTMLModel",
          "model_module_version": "1.5.0",
          "state": {
            "_dom_classes": [],
            "_model_module": "@jupyter-widgets/controls",
            "_model_module_version": "1.5.0",
            "_model_name": "HTMLModel",
            "_view_count": null,
            "_view_module": "@jupyter-widgets/controls",
            "_view_module_version": "1.5.0",
            "_view_name": "HTMLView",
            "description": "",
            "description_tooltip": null,
            "layout": "IPY_MODEL_da392b9670274b3ca970b1e98dbcca42",
            "placeholder": "​",
            "style": "IPY_MODEL_8ae9374de6204a59b493a8d9bb9e9917",
            "value": "Loading checkpoint shards: 100%"
          }
        },
        "fdc4d841602c46d28cf8955a9d3d3fb5": {
          "model_module": "@jupyter-widgets/controls",
          "model_name": "FloatProgressModel",
          "model_module_version": "1.5.0",
          "state": {
            "_dom_classes": [],
            "_model_module": "@jupyter-widgets/controls",
            "_model_module_version": "1.5.0",
            "_model_name": "FloatProgressModel",
            "_view_count": null,
            "_view_module": "@jupyter-widgets/controls",
            "_view_module_version": "1.5.0",
            "_view_name": "ProgressView",
            "bar_style": "success",
            "description": "",
            "description_tooltip": null,
            "layout": "IPY_MODEL_d0f0a118b13d44db9e3d3e766b047cb4",
            "max": 2,
            "min": 0,
            "orientation": "horizontal",
            "style": "IPY_MODEL_c558c6355d2c483a9735cf5566bd8043",
            "value": 2
          }
        },
        "cb25a2a2300a422197d21c5277edb0df": {
          "model_module": "@jupyter-widgets/controls",
          "model_name": "HTMLModel",
          "model_module_version": "1.5.0",
          "state": {
            "_dom_classes": [],
            "_model_module": "@jupyter-widgets/controls",
            "_model_module_version": "1.5.0",
            "_model_name": "HTMLModel",
            "_view_count": null,
            "_view_module": "@jupyter-widgets/controls",
            "_view_module_version": "1.5.0",
            "_view_name": "HTMLView",
            "description": "",
            "description_tooltip": null,
            "layout": "IPY_MODEL_e385346818cc4bd4bf1006313334c0be",
            "placeholder": "​",
            "style": "IPY_MODEL_66e33c9162a8429797df9cbbfd48cd13",
            "value": " 2/2 [01:07&lt;00:00, 31.34s/it]"
          }
        },
        "ae4121686d4544a48d668bc1a0b95039": {
          "model_module": "@jupyter-widgets/base",
          "model_name": "LayoutModel",
          "model_module_version": "1.2.0",
          "state": {
            "_model_module": "@jupyter-widgets/base",
            "_model_module_version": "1.2.0",
            "_model_name": "LayoutModel",
            "_view_count": null,
            "_view_module": "@jupyter-widgets/base",
            "_view_module_version": "1.2.0",
            "_view_name": "LayoutView",
            "align_content": null,
            "align_items": null,
            "align_self": null,
            "border": null,
            "bottom": null,
            "display": null,
            "flex": null,
            "flex_flow": null,
            "grid_area": null,
            "grid_auto_columns": null,
            "grid_auto_flow": null,
            "grid_auto_rows": null,
            "grid_column": null,
            "grid_gap": null,
            "grid_row": null,
            "grid_template_areas": null,
            "grid_template_columns": null,
            "grid_template_rows": null,
            "height": null,
            "justify_content": null,
            "justify_items": null,
            "left": null,
            "margin": null,
            "max_height": null,
            "max_width": null,
            "min_height": null,
            "min_width": null,
            "object_fit": null,
            "object_position": null,
            "order": null,
            "overflow": null,
            "overflow_x": null,
            "overflow_y": null,
            "padding": null,
            "right": null,
            "top": null,
            "visibility": null,
            "width": null
          }
        },
        "da392b9670274b3ca970b1e98dbcca42": {
          "model_module": "@jupyter-widgets/base",
          "model_name": "LayoutModel",
          "model_module_version": "1.2.0",
          "state": {
            "_model_module": "@jupyter-widgets/base",
            "_model_module_version": "1.2.0",
            "_model_name": "LayoutModel",
            "_view_count": null,
            "_view_module": "@jupyter-widgets/base",
            "_view_module_version": "1.2.0",
            "_view_name": "LayoutView",
            "align_content": null,
            "align_items": null,
            "align_self": null,
            "border": null,
            "bottom": null,
            "display": null,
            "flex": null,
            "flex_flow": null,
            "grid_area": null,
            "grid_auto_columns": null,
            "grid_auto_flow": null,
            "grid_auto_rows": null,
            "grid_column": null,
            "grid_gap": null,
            "grid_row": null,
            "grid_template_areas": null,
            "grid_template_columns": null,
            "grid_template_rows": null,
            "height": null,
            "justify_content": null,
            "justify_items": null,
            "left": null,
            "margin": null,
            "max_height": null,
            "max_width": null,
            "min_height": null,
            "min_width": null,
            "object_fit": null,
            "object_position": null,
            "order": null,
            "overflow": null,
            "overflow_x": null,
            "overflow_y": null,
            "padding": null,
            "right": null,
            "top": null,
            "visibility": null,
            "width": null
          }
        },
        "8ae9374de6204a59b493a8d9bb9e9917": {
          "model_module": "@jupyter-widgets/controls",
          "model_name": "DescriptionStyleModel",
          "model_module_version": "1.5.0",
          "state": {
            "_model_module": "@jupyter-widgets/controls",
            "_model_module_version": "1.5.0",
            "_model_name": "DescriptionStyleModel",
            "_view_count": null,
            "_view_module": "@jupyter-widgets/base",
            "_view_module_version": "1.2.0",
            "_view_name": "StyleView",
            "description_width": ""
          }
        },
        "d0f0a118b13d44db9e3d3e766b047cb4": {
          "model_module": "@jupyter-widgets/base",
          "model_name": "LayoutModel",
          "model_module_version": "1.2.0",
          "state": {
            "_model_module": "@jupyter-widgets/base",
            "_model_module_version": "1.2.0",
            "_model_name": "LayoutModel",
            "_view_count": null,
            "_view_module": "@jupyter-widgets/base",
            "_view_module_version": "1.2.0",
            "_view_name": "LayoutView",
            "align_content": null,
            "align_items": null,
            "align_self": null,
            "border": null,
            "bottom": null,
            "display": null,
            "flex": null,
            "flex_flow": null,
            "grid_area": null,
            "grid_auto_columns": null,
            "grid_auto_flow": null,
            "grid_auto_rows": null,
            "grid_column": null,
            "grid_gap": null,
            "grid_row": null,
            "grid_template_areas": null,
            "grid_template_columns": null,
            "grid_template_rows": null,
            "height": null,
            "justify_content": null,
            "justify_items": null,
            "left": null,
            "margin": null,
            "max_height": null,
            "max_width": null,
            "min_height": null,
            "min_width": null,
            "object_fit": null,
            "object_position": null,
            "order": null,
            "overflow": null,
            "overflow_x": null,
            "overflow_y": null,
            "padding": null,
            "right": null,
            "top": null,
            "visibility": null,
            "width": null
          }
        },
        "c558c6355d2c483a9735cf5566bd8043": {
          "model_module": "@jupyter-widgets/controls",
          "model_name": "ProgressStyleModel",
          "model_module_version": "1.5.0",
          "state": {
            "_model_module": "@jupyter-widgets/controls",
            "_model_module_version": "1.5.0",
            "_model_name": "ProgressStyleModel",
            "_view_count": null,
            "_view_module": "@jupyter-widgets/base",
            "_view_module_version": "1.2.0",
            "_view_name": "StyleView",
            "bar_color": null,
            "description_width": ""
          }
        },
        "e385346818cc4bd4bf1006313334c0be": {
          "model_module": "@jupyter-widgets/base",
          "model_name": "LayoutModel",
          "model_module_version": "1.2.0",
          "state": {
            "_model_module": "@jupyter-widgets/base",
            "_model_module_version": "1.2.0",
            "_model_name": "LayoutModel",
            "_view_count": null,
            "_view_module": "@jupyter-widgets/base",
            "_view_module_version": "1.2.0",
            "_view_name": "LayoutView",
            "align_content": null,
            "align_items": null,
            "align_self": null,
            "border": null,
            "bottom": null,
            "display": null,
            "flex": null,
            "flex_flow": null,
            "grid_area": null,
            "grid_auto_columns": null,
            "grid_auto_flow": null,
            "grid_auto_rows": null,
            "grid_column": null,
            "grid_gap": null,
            "grid_row": null,
            "grid_template_areas": null,
            "grid_template_columns": null,
            "grid_template_rows": null,
            "height": null,
            "justify_content": null,
            "justify_items": null,
            "left": null,
            "margin": null,
            "max_height": null,
            "max_width": null,
            "min_height": null,
            "min_width": null,
            "object_fit": null,
            "object_position": null,
            "order": null,
            "overflow": null,
            "overflow_x": null,
            "overflow_y": null,
            "padding": null,
            "right": null,
            "top": null,
            "visibility": null,
            "width": null
          }
        },
        "66e33c9162a8429797df9cbbfd48cd13": {
          "model_module": "@jupyter-widgets/controls",
          "model_name": "DescriptionStyleModel",
          "model_module_version": "1.5.0",
          "state": {
            "_model_module": "@jupyter-widgets/controls",
            "_model_module_version": "1.5.0",
            "_model_name": "DescriptionStyleModel",
            "_view_count": null,
            "_view_module": "@jupyter-widgets/base",
            "_view_module_version": "1.2.0",
            "_view_name": "StyleView",
            "description_width": ""
          }
        },
        "6a93a52b2b8d4ddc99993b2a0c67e30b": {
          "model_module": "@jupyter-widgets/controls",
          "model_name": "HBoxModel",
          "model_module_version": "1.5.0",
          "state": {
            "_dom_classes": [],
            "_model_module": "@jupyter-widgets/controls",
            "_model_module_version": "1.5.0",
            "_model_name": "HBoxModel",
            "_view_count": null,
            "_view_module": "@jupyter-widgets/controls",
            "_view_module_version": "1.5.0",
            "_view_name": "HBoxView",
            "box_style": "",
            "children": [
              "IPY_MODEL_8d36fb76b07942a49c50fc98578c2b6a",
              "IPY_MODEL_1b86f27821694e9b80a89d868a3f0231",
              "IPY_MODEL_f4da9e12b1a744468c4c5a412024a6d8"
            ],
            "layout": "IPY_MODEL_8d972d554a1d470a8f2ee5cb452f774b"
          }
        },
        "8d36fb76b07942a49c50fc98578c2b6a": {
          "model_module": "@jupyter-widgets/controls",
          "model_name": "HTMLModel",
          "model_module_version": "1.5.0",
          "state": {
            "_dom_classes": [],
            "_model_module": "@jupyter-widgets/controls",
            "_model_module_version": "1.5.0",
            "_model_name": "HTMLModel",
            "_view_count": null,
            "_view_module": "@jupyter-widgets/controls",
            "_view_module_version": "1.5.0",
            "_view_name": "HTMLView",
            "description": "",
            "description_tooltip": null,
            "layout": "IPY_MODEL_87b04ad91fdf4a8c805934803c92d974",
            "placeholder": "​",
            "style": "IPY_MODEL_86190af33eb040cfa9ef7f79046e331d",
            "value": ".gitattributes: 100%"
          }
        },
        "1b86f27821694e9b80a89d868a3f0231": {
          "model_module": "@jupyter-widgets/controls",
          "model_name": "FloatProgressModel",
          "model_module_version": "1.5.0",
          "state": {
            "_dom_classes": [],
            "_model_module": "@jupyter-widgets/controls",
            "_model_module_version": "1.5.0",
            "_model_name": "FloatProgressModel",
            "_view_count": null,
            "_view_module": "@jupyter-widgets/controls",
            "_view_module_version": "1.5.0",
            "_view_name": "ProgressView",
            "bar_style": "success",
            "description": "",
            "description_tooltip": null,
            "layout": "IPY_MODEL_427be03335c34c5799d5815fc04c3e7f",
            "max": 1175,
            "min": 0,
            "orientation": "horizontal",
            "style": "IPY_MODEL_9b7dff079a144a458f3c5b378c14ff99",
            "value": 1175
          }
        },
        "f4da9e12b1a744468c4c5a412024a6d8": {
          "model_module": "@jupyter-widgets/controls",
          "model_name": "HTMLModel",
          "model_module_version": "1.5.0",
          "state": {
            "_dom_classes": [],
            "_model_module": "@jupyter-widgets/controls",
            "_model_module_version": "1.5.0",
            "_model_name": "HTMLModel",
            "_view_count": null,
            "_view_module": "@jupyter-widgets/controls",
            "_view_module_version": "1.5.0",
            "_view_name": "HTMLView",
            "description": "",
            "description_tooltip": null,
            "layout": "IPY_MODEL_e96b709385274dcbb652adf44ad6e956",
            "placeholder": "​",
            "style": "IPY_MODEL_07f4308304bb44d787461c0521cfdb80",
            "value": " 1.18k/1.18k [00:00&lt;00:00, 57.9kB/s]"
          }
        },
        "8d972d554a1d470a8f2ee5cb452f774b": {
          "model_module": "@jupyter-widgets/base",
          "model_name": "LayoutModel",
          "model_module_version": "1.2.0",
          "state": {
            "_model_module": "@jupyter-widgets/base",
            "_model_module_version": "1.2.0",
            "_model_name": "LayoutModel",
            "_view_count": null,
            "_view_module": "@jupyter-widgets/base",
            "_view_module_version": "1.2.0",
            "_view_name": "LayoutView",
            "align_content": null,
            "align_items": null,
            "align_self": null,
            "border": null,
            "bottom": null,
            "display": null,
            "flex": null,
            "flex_flow": null,
            "grid_area": null,
            "grid_auto_columns": null,
            "grid_auto_flow": null,
            "grid_auto_rows": null,
            "grid_column": null,
            "grid_gap": null,
            "grid_row": null,
            "grid_template_areas": null,
            "grid_template_columns": null,
            "grid_template_rows": null,
            "height": null,
            "justify_content": null,
            "justify_items": null,
            "left": null,
            "margin": null,
            "max_height": null,
            "max_width": null,
            "min_height": null,
            "min_width": null,
            "object_fit": null,
            "object_position": null,
            "order": null,
            "overflow": null,
            "overflow_x": null,
            "overflow_y": null,
            "padding": null,
            "right": null,
            "top": null,
            "visibility": null,
            "width": null
          }
        },
        "87b04ad91fdf4a8c805934803c92d974": {
          "model_module": "@jupyter-widgets/base",
          "model_name": "LayoutModel",
          "model_module_version": "1.2.0",
          "state": {
            "_model_module": "@jupyter-widgets/base",
            "_model_module_version": "1.2.0",
            "_model_name": "LayoutModel",
            "_view_count": null,
            "_view_module": "@jupyter-widgets/base",
            "_view_module_version": "1.2.0",
            "_view_name": "LayoutView",
            "align_content": null,
            "align_items": null,
            "align_self": null,
            "border": null,
            "bottom": null,
            "display": null,
            "flex": null,
            "flex_flow": null,
            "grid_area": null,
            "grid_auto_columns": null,
            "grid_auto_flow": null,
            "grid_auto_rows": null,
            "grid_column": null,
            "grid_gap": null,
            "grid_row": null,
            "grid_template_areas": null,
            "grid_template_columns": null,
            "grid_template_rows": null,
            "height": null,
            "justify_content": null,
            "justify_items": null,
            "left": null,
            "margin": null,
            "max_height": null,
            "max_width": null,
            "min_height": null,
            "min_width": null,
            "object_fit": null,
            "object_position": null,
            "order": null,
            "overflow": null,
            "overflow_x": null,
            "overflow_y": null,
            "padding": null,
            "right": null,
            "top": null,
            "visibility": null,
            "width": null
          }
        },
        "86190af33eb040cfa9ef7f79046e331d": {
          "model_module": "@jupyter-widgets/controls",
          "model_name": "DescriptionStyleModel",
          "model_module_version": "1.5.0",
          "state": {
            "_model_module": "@jupyter-widgets/controls",
            "_model_module_version": "1.5.0",
            "_model_name": "DescriptionStyleModel",
            "_view_count": null,
            "_view_module": "@jupyter-widgets/base",
            "_view_module_version": "1.2.0",
            "_view_name": "StyleView",
            "description_width": ""
          }
        },
        "427be03335c34c5799d5815fc04c3e7f": {
          "model_module": "@jupyter-widgets/base",
          "model_name": "LayoutModel",
          "model_module_version": "1.2.0",
          "state": {
            "_model_module": "@jupyter-widgets/base",
            "_model_module_version": "1.2.0",
            "_model_name": "LayoutModel",
            "_view_count": null,
            "_view_module": "@jupyter-widgets/base",
            "_view_module_version": "1.2.0",
            "_view_name": "LayoutView",
            "align_content": null,
            "align_items": null,
            "align_self": null,
            "border": null,
            "bottom": null,
            "display": null,
            "flex": null,
            "flex_flow": null,
            "grid_area": null,
            "grid_auto_columns": null,
            "grid_auto_flow": null,
            "grid_auto_rows": null,
            "grid_column": null,
            "grid_gap": null,
            "grid_row": null,
            "grid_template_areas": null,
            "grid_template_columns": null,
            "grid_template_rows": null,
            "height": null,
            "justify_content": null,
            "justify_items": null,
            "left": null,
            "margin": null,
            "max_height": null,
            "max_width": null,
            "min_height": null,
            "min_width": null,
            "object_fit": null,
            "object_position": null,
            "order": null,
            "overflow": null,
            "overflow_x": null,
            "overflow_y": null,
            "padding": null,
            "right": null,
            "top": null,
            "visibility": null,
            "width": null
          }
        },
        "9b7dff079a144a458f3c5b378c14ff99": {
          "model_module": "@jupyter-widgets/controls",
          "model_name": "ProgressStyleModel",
          "model_module_version": "1.5.0",
          "state": {
            "_model_module": "@jupyter-widgets/controls",
            "_model_module_version": "1.5.0",
            "_model_name": "ProgressStyleModel",
            "_view_count": null,
            "_view_module": "@jupyter-widgets/base",
            "_view_module_version": "1.2.0",
            "_view_name": "StyleView",
            "bar_color": null,
            "description_width": ""
          }
        },
        "e96b709385274dcbb652adf44ad6e956": {
          "model_module": "@jupyter-widgets/base",
          "model_name": "LayoutModel",
          "model_module_version": "1.2.0",
          "state": {
            "_model_module": "@jupyter-widgets/base",
            "_model_module_version": "1.2.0",
            "_model_name": "LayoutModel",
            "_view_count": null,
            "_view_module": "@jupyter-widgets/base",
            "_view_module_version": "1.2.0",
            "_view_name": "LayoutView",
            "align_content": null,
            "align_items": null,
            "align_self": null,
            "border": null,
            "bottom": null,
            "display": null,
            "flex": null,
            "flex_flow": null,
            "grid_area": null,
            "grid_auto_columns": null,
            "grid_auto_flow": null,
            "grid_auto_rows": null,
            "grid_column": null,
            "grid_gap": null,
            "grid_row": null,
            "grid_template_areas": null,
            "grid_template_columns": null,
            "grid_template_rows": null,
            "height": null,
            "justify_content": null,
            "justify_items": null,
            "left": null,
            "margin": null,
            "max_height": null,
            "max_width": null,
            "min_height": null,
            "min_width": null,
            "object_fit": null,
            "object_position": null,
            "order": null,
            "overflow": null,
            "overflow_x": null,
            "overflow_y": null,
            "padding": null,
            "right": null,
            "top": null,
            "visibility": null,
            "width": null
          }
        },
        "07f4308304bb44d787461c0521cfdb80": {
          "model_module": "@jupyter-widgets/controls",
          "model_name": "DescriptionStyleModel",
          "model_module_version": "1.5.0",
          "state": {
            "_model_module": "@jupyter-widgets/controls",
            "_model_module_version": "1.5.0",
            "_model_name": "DescriptionStyleModel",
            "_view_count": null,
            "_view_module": "@jupyter-widgets/base",
            "_view_module_version": "1.2.0",
            "_view_name": "StyleView",
            "description_width": ""
          }
        },
        "d9047b1ca8c94137bd0733fd61470c27": {
          "model_module": "@jupyter-widgets/controls",
          "model_name": "HBoxModel",
          "model_module_version": "1.5.0",
          "state": {
            "_dom_classes": [],
            "_model_module": "@jupyter-widgets/controls",
            "_model_module_version": "1.5.0",
            "_model_name": "HBoxModel",
            "_view_count": null,
            "_view_module": "@jupyter-widgets/controls",
            "_view_module_version": "1.5.0",
            "_view_name": "HBoxView",
            "box_style": "",
            "children": [
              "IPY_MODEL_a72e06dbeca44acf8bd2d1696fabcb53",
              "IPY_MODEL_7e40785160be409299ad73794da011a9",
              "IPY_MODEL_81b8169869f942979da772e1d3d8860e"
            ],
            "layout": "IPY_MODEL_82beff44d56d4c318f5ddc5b6865e67e"
          }
        },
        "a72e06dbeca44acf8bd2d1696fabcb53": {
          "model_module": "@jupyter-widgets/controls",
          "model_name": "HTMLModel",
          "model_module_version": "1.5.0",
          "state": {
            "_dom_classes": [],
            "_model_module": "@jupyter-widgets/controls",
            "_model_module_version": "1.5.0",
            "_model_name": "HTMLModel",
            "_view_count": null,
            "_view_module": "@jupyter-widgets/controls",
            "_view_module_version": "1.5.0",
            "_view_name": "HTMLView",
            "description": "",
            "description_tooltip": null,
            "layout": "IPY_MODEL_27b77833012a43cf9e32a21b50f658a4",
            "placeholder": "​",
            "style": "IPY_MODEL_0cf9342a6f404ddf910d0199e750441a",
            "value": "1_Pooling/config.json: 100%"
          }
        },
        "7e40785160be409299ad73794da011a9": {
          "model_module": "@jupyter-widgets/controls",
          "model_name": "FloatProgressModel",
          "model_module_version": "1.5.0",
          "state": {
            "_dom_classes": [],
            "_model_module": "@jupyter-widgets/controls",
            "_model_module_version": "1.5.0",
            "_model_name": "FloatProgressModel",
            "_view_count": null,
            "_view_module": "@jupyter-widgets/controls",
            "_view_module_version": "1.5.0",
            "_view_name": "ProgressView",
            "bar_style": "success",
            "description": "",
            "description_tooltip": null,
            "layout": "IPY_MODEL_5027c0c8ffa64d5eac76cad3dce2d140",
            "max": 190,
            "min": 0,
            "orientation": "horizontal",
            "style": "IPY_MODEL_5707aa44c40f4318b08c4018193fe855",
            "value": 190
          }
        },
        "81b8169869f942979da772e1d3d8860e": {
          "model_module": "@jupyter-widgets/controls",
          "model_name": "HTMLModel",
          "model_module_version": "1.5.0",
          "state": {
            "_dom_classes": [],
            "_model_module": "@jupyter-widgets/controls",
            "_model_module_version": "1.5.0",
            "_model_name": "HTMLModel",
            "_view_count": null,
            "_view_module": "@jupyter-widgets/controls",
            "_view_module_version": "1.5.0",
            "_view_name": "HTMLView",
            "description": "",
            "description_tooltip": null,
            "layout": "IPY_MODEL_21a382b76f66421a807043097a659e6e",
            "placeholder": "​",
            "style": "IPY_MODEL_1d1d51bc2d584ad79636a6901dcfd0b6",
            "value": " 190/190 [00:00&lt;00:00, 10.7kB/s]"
          }
        },
        "82beff44d56d4c318f5ddc5b6865e67e": {
          "model_module": "@jupyter-widgets/base",
          "model_name": "LayoutModel",
          "model_module_version": "1.2.0",
          "state": {
            "_model_module": "@jupyter-widgets/base",
            "_model_module_version": "1.2.0",
            "_model_name": "LayoutModel",
            "_view_count": null,
            "_view_module": "@jupyter-widgets/base",
            "_view_module_version": "1.2.0",
            "_view_name": "LayoutView",
            "align_content": null,
            "align_items": null,
            "align_self": null,
            "border": null,
            "bottom": null,
            "display": null,
            "flex": null,
            "flex_flow": null,
            "grid_area": null,
            "grid_auto_columns": null,
            "grid_auto_flow": null,
            "grid_auto_rows": null,
            "grid_column": null,
            "grid_gap": null,
            "grid_row": null,
            "grid_template_areas": null,
            "grid_template_columns": null,
            "grid_template_rows": null,
            "height": null,
            "justify_content": null,
            "justify_items": null,
            "left": null,
            "margin": null,
            "max_height": null,
            "max_width": null,
            "min_height": null,
            "min_width": null,
            "object_fit": null,
            "object_position": null,
            "order": null,
            "overflow": null,
            "overflow_x": null,
            "overflow_y": null,
            "padding": null,
            "right": null,
            "top": null,
            "visibility": null,
            "width": null
          }
        },
        "27b77833012a43cf9e32a21b50f658a4": {
          "model_module": "@jupyter-widgets/base",
          "model_name": "LayoutModel",
          "model_module_version": "1.2.0",
          "state": {
            "_model_module": "@jupyter-widgets/base",
            "_model_module_version": "1.2.0",
            "_model_name": "LayoutModel",
            "_view_count": null,
            "_view_module": "@jupyter-widgets/base",
            "_view_module_version": "1.2.0",
            "_view_name": "LayoutView",
            "align_content": null,
            "align_items": null,
            "align_self": null,
            "border": null,
            "bottom": null,
            "display": null,
            "flex": null,
            "flex_flow": null,
            "grid_area": null,
            "grid_auto_columns": null,
            "grid_auto_flow": null,
            "grid_auto_rows": null,
            "grid_column": null,
            "grid_gap": null,
            "grid_row": null,
            "grid_template_areas": null,
            "grid_template_columns": null,
            "grid_template_rows": null,
            "height": null,
            "justify_content": null,
            "justify_items": null,
            "left": null,
            "margin": null,
            "max_height": null,
            "max_width": null,
            "min_height": null,
            "min_width": null,
            "object_fit": null,
            "object_position": null,
            "order": null,
            "overflow": null,
            "overflow_x": null,
            "overflow_y": null,
            "padding": null,
            "right": null,
            "top": null,
            "visibility": null,
            "width": null
          }
        },
        "0cf9342a6f404ddf910d0199e750441a": {
          "model_module": "@jupyter-widgets/controls",
          "model_name": "DescriptionStyleModel",
          "model_module_version": "1.5.0",
          "state": {
            "_model_module": "@jupyter-widgets/controls",
            "_model_module_version": "1.5.0",
            "_model_name": "DescriptionStyleModel",
            "_view_count": null,
            "_view_module": "@jupyter-widgets/base",
            "_view_module_version": "1.2.0",
            "_view_name": "StyleView",
            "description_width": ""
          }
        },
        "5027c0c8ffa64d5eac76cad3dce2d140": {
          "model_module": "@jupyter-widgets/base",
          "model_name": "LayoutModel",
          "model_module_version": "1.2.0",
          "state": {
            "_model_module": "@jupyter-widgets/base",
            "_model_module_version": "1.2.0",
            "_model_name": "LayoutModel",
            "_view_count": null,
            "_view_module": "@jupyter-widgets/base",
            "_view_module_version": "1.2.0",
            "_view_name": "LayoutView",
            "align_content": null,
            "align_items": null,
            "align_self": null,
            "border": null,
            "bottom": null,
            "display": null,
            "flex": null,
            "flex_flow": null,
            "grid_area": null,
            "grid_auto_columns": null,
            "grid_auto_flow": null,
            "grid_auto_rows": null,
            "grid_column": null,
            "grid_gap": null,
            "grid_row": null,
            "grid_template_areas": null,
            "grid_template_columns": null,
            "grid_template_rows": null,
            "height": null,
            "justify_content": null,
            "justify_items": null,
            "left": null,
            "margin": null,
            "max_height": null,
            "max_width": null,
            "min_height": null,
            "min_width": null,
            "object_fit": null,
            "object_position": null,
            "order": null,
            "overflow": null,
            "overflow_x": null,
            "overflow_y": null,
            "padding": null,
            "right": null,
            "top": null,
            "visibility": null,
            "width": null
          }
        },
        "5707aa44c40f4318b08c4018193fe855": {
          "model_module": "@jupyter-widgets/controls",
          "model_name": "ProgressStyleModel",
          "model_module_version": "1.5.0",
          "state": {
            "_model_module": "@jupyter-widgets/controls",
            "_model_module_version": "1.5.0",
            "_model_name": "ProgressStyleModel",
            "_view_count": null,
            "_view_module": "@jupyter-widgets/base",
            "_view_module_version": "1.2.0",
            "_view_name": "StyleView",
            "bar_color": null,
            "description_width": ""
          }
        },
        "21a382b76f66421a807043097a659e6e": {
          "model_module": "@jupyter-widgets/base",
          "model_name": "LayoutModel",
          "model_module_version": "1.2.0",
          "state": {
            "_model_module": "@jupyter-widgets/base",
            "_model_module_version": "1.2.0",
            "_model_name": "LayoutModel",
            "_view_count": null,
            "_view_module": "@jupyter-widgets/base",
            "_view_module_version": "1.2.0",
            "_view_name": "LayoutView",
            "align_content": null,
            "align_items": null,
            "align_self": null,
            "border": null,
            "bottom": null,
            "display": null,
            "flex": null,
            "flex_flow": null,
            "grid_area": null,
            "grid_auto_columns": null,
            "grid_auto_flow": null,
            "grid_auto_rows": null,
            "grid_column": null,
            "grid_gap": null,
            "grid_row": null,
            "grid_template_areas": null,
            "grid_template_columns": null,
            "grid_template_rows": null,
            "height": null,
            "justify_content": null,
            "justify_items": null,
            "left": null,
            "margin": null,
            "max_height": null,
            "max_width": null,
            "min_height": null,
            "min_width": null,
            "object_fit": null,
            "object_position": null,
            "order": null,
            "overflow": null,
            "overflow_x": null,
            "overflow_y": null,
            "padding": null,
            "right": null,
            "top": null,
            "visibility": null,
            "width": null
          }
        },
        "1d1d51bc2d584ad79636a6901dcfd0b6": {
          "model_module": "@jupyter-widgets/controls",
          "model_name": "DescriptionStyleModel",
          "model_module_version": "1.5.0",
          "state": {
            "_model_module": "@jupyter-widgets/controls",
            "_model_module_version": "1.5.0",
            "_model_name": "DescriptionStyleModel",
            "_view_count": null,
            "_view_module": "@jupyter-widgets/base",
            "_view_module_version": "1.2.0",
            "_view_name": "StyleView",
            "description_width": ""
          }
        },
        "dabe800f6cd94858b7abeba86415865c": {
          "model_module": "@jupyter-widgets/controls",
          "model_name": "HBoxModel",
          "model_module_version": "1.5.0",
          "state": {
            "_dom_classes": [],
            "_model_module": "@jupyter-widgets/controls",
            "_model_module_version": "1.5.0",
            "_model_name": "HBoxModel",
            "_view_count": null,
            "_view_module": "@jupyter-widgets/controls",
            "_view_module_version": "1.5.0",
            "_view_name": "HBoxView",
            "box_style": "",
            "children": [
              "IPY_MODEL_89d16944fe854090a66a2fd3bad1d918",
              "IPY_MODEL_7d82da52c9e9481bb2c45e533223da2d",
              "IPY_MODEL_766ec925af5845b4bc2002be7d7f27af"
            ],
            "layout": "IPY_MODEL_a9154cc82d66484982e550b0356dc006"
          }
        },
        "89d16944fe854090a66a2fd3bad1d918": {
          "model_module": "@jupyter-widgets/controls",
          "model_name": "HTMLModel",
          "model_module_version": "1.5.0",
          "state": {
            "_dom_classes": [],
            "_model_module": "@jupyter-widgets/controls",
            "_model_module_version": "1.5.0",
            "_model_name": "HTMLModel",
            "_view_count": null,
            "_view_module": "@jupyter-widgets/controls",
            "_view_module_version": "1.5.0",
            "_view_name": "HTMLView",
            "description": "",
            "description_tooltip": null,
            "layout": "IPY_MODEL_5f98de9effe747eb94681bcec9b128ec",
            "placeholder": "​",
            "style": "IPY_MODEL_1d006a35e59f46f2b17844a1cf8b7acb",
            "value": "README.md: 100%"
          }
        },
        "7d82da52c9e9481bb2c45e533223da2d": {
          "model_module": "@jupyter-widgets/controls",
          "model_name": "FloatProgressModel",
          "model_module_version": "1.5.0",
          "state": {
            "_dom_classes": [],
            "_model_module": "@jupyter-widgets/controls",
            "_model_module_version": "1.5.0",
            "_model_name": "FloatProgressModel",
            "_view_count": null,
            "_view_module": "@jupyter-widgets/controls",
            "_view_module_version": "1.5.0",
            "_view_name": "ProgressView",
            "bar_style": "success",
            "description": "",
            "description_tooltip": null,
            "layout": "IPY_MODEL_1eaba052224b44548cfd60ffa80eafcb",
            "max": 10571,
            "min": 0,
            "orientation": "horizontal",
            "style": "IPY_MODEL_5f16dc47921745aba8a18ce5dad60211",
            "value": 10571
          }
        },
        "766ec925af5845b4bc2002be7d7f27af": {
          "model_module": "@jupyter-widgets/controls",
          "model_name": "HTMLModel",
          "model_module_version": "1.5.0",
          "state": {
            "_dom_classes": [],
            "_model_module": "@jupyter-widgets/controls",
            "_model_module_version": "1.5.0",
            "_model_name": "HTMLModel",
            "_view_count": null,
            "_view_module": "@jupyter-widgets/controls",
            "_view_module_version": "1.5.0",
            "_view_name": "HTMLView",
            "description": "",
            "description_tooltip": null,
            "layout": "IPY_MODEL_f67eb70824904ed0bcaedd0a8d7a574a",
            "placeholder": "​",
            "style": "IPY_MODEL_7f898fc3758c4f628d8a4ffc0d223cd6",
            "value": " 10.6k/10.6k [00:00&lt;00:00, 566kB/s]"
          }
        },
        "a9154cc82d66484982e550b0356dc006": {
          "model_module": "@jupyter-widgets/base",
          "model_name": "LayoutModel",
          "model_module_version": "1.2.0",
          "state": {
            "_model_module": "@jupyter-widgets/base",
            "_model_module_version": "1.2.0",
            "_model_name": "LayoutModel",
            "_view_count": null,
            "_view_module": "@jupyter-widgets/base",
            "_view_module_version": "1.2.0",
            "_view_name": "LayoutView",
            "align_content": null,
            "align_items": null,
            "align_self": null,
            "border": null,
            "bottom": null,
            "display": null,
            "flex": null,
            "flex_flow": null,
            "grid_area": null,
            "grid_auto_columns": null,
            "grid_auto_flow": null,
            "grid_auto_rows": null,
            "grid_column": null,
            "grid_gap": null,
            "grid_row": null,
            "grid_template_areas": null,
            "grid_template_columns": null,
            "grid_template_rows": null,
            "height": null,
            "justify_content": null,
            "justify_items": null,
            "left": null,
            "margin": null,
            "max_height": null,
            "max_width": null,
            "min_height": null,
            "min_width": null,
            "object_fit": null,
            "object_position": null,
            "order": null,
            "overflow": null,
            "overflow_x": null,
            "overflow_y": null,
            "padding": null,
            "right": null,
            "top": null,
            "visibility": null,
            "width": null
          }
        },
        "5f98de9effe747eb94681bcec9b128ec": {
          "model_module": "@jupyter-widgets/base",
          "model_name": "LayoutModel",
          "model_module_version": "1.2.0",
          "state": {
            "_model_module": "@jupyter-widgets/base",
            "_model_module_version": "1.2.0",
            "_model_name": "LayoutModel",
            "_view_count": null,
            "_view_module": "@jupyter-widgets/base",
            "_view_module_version": "1.2.0",
            "_view_name": "LayoutView",
            "align_content": null,
            "align_items": null,
            "align_self": null,
            "border": null,
            "bottom": null,
            "display": null,
            "flex": null,
            "flex_flow": null,
            "grid_area": null,
            "grid_auto_columns": null,
            "grid_auto_flow": null,
            "grid_auto_rows": null,
            "grid_column": null,
            "grid_gap": null,
            "grid_row": null,
            "grid_template_areas": null,
            "grid_template_columns": null,
            "grid_template_rows": null,
            "height": null,
            "justify_content": null,
            "justify_items": null,
            "left": null,
            "margin": null,
            "max_height": null,
            "max_width": null,
            "min_height": null,
            "min_width": null,
            "object_fit": null,
            "object_position": null,
            "order": null,
            "overflow": null,
            "overflow_x": null,
            "overflow_y": null,
            "padding": null,
            "right": null,
            "top": null,
            "visibility": null,
            "width": null
          }
        },
        "1d006a35e59f46f2b17844a1cf8b7acb": {
          "model_module": "@jupyter-widgets/controls",
          "model_name": "DescriptionStyleModel",
          "model_module_version": "1.5.0",
          "state": {
            "_model_module": "@jupyter-widgets/controls",
            "_model_module_version": "1.5.0",
            "_model_name": "DescriptionStyleModel",
            "_view_count": null,
            "_view_module": "@jupyter-widgets/base",
            "_view_module_version": "1.2.0",
            "_view_name": "StyleView",
            "description_width": ""
          }
        },
        "1eaba052224b44548cfd60ffa80eafcb": {
          "model_module": "@jupyter-widgets/base",
          "model_name": "LayoutModel",
          "model_module_version": "1.2.0",
          "state": {
            "_model_module": "@jupyter-widgets/base",
            "_model_module_version": "1.2.0",
            "_model_name": "LayoutModel",
            "_view_count": null,
            "_view_module": "@jupyter-widgets/base",
            "_view_module_version": "1.2.0",
            "_view_name": "LayoutView",
            "align_content": null,
            "align_items": null,
            "align_self": null,
            "border": null,
            "bottom": null,
            "display": null,
            "flex": null,
            "flex_flow": null,
            "grid_area": null,
            "grid_auto_columns": null,
            "grid_auto_flow": null,
            "grid_auto_rows": null,
            "grid_column": null,
            "grid_gap": null,
            "grid_row": null,
            "grid_template_areas": null,
            "grid_template_columns": null,
            "grid_template_rows": null,
            "height": null,
            "justify_content": null,
            "justify_items": null,
            "left": null,
            "margin": null,
            "max_height": null,
            "max_width": null,
            "min_height": null,
            "min_width": null,
            "object_fit": null,
            "object_position": null,
            "order": null,
            "overflow": null,
            "overflow_x": null,
            "overflow_y": null,
            "padding": null,
            "right": null,
            "top": null,
            "visibility": null,
            "width": null
          }
        },
        "5f16dc47921745aba8a18ce5dad60211": {
          "model_module": "@jupyter-widgets/controls",
          "model_name": "ProgressStyleModel",
          "model_module_version": "1.5.0",
          "state": {
            "_model_module": "@jupyter-widgets/controls",
            "_model_module_version": "1.5.0",
            "_model_name": "ProgressStyleModel",
            "_view_count": null,
            "_view_module": "@jupyter-widgets/base",
            "_view_module_version": "1.2.0",
            "_view_name": "StyleView",
            "bar_color": null,
            "description_width": ""
          }
        },
        "f67eb70824904ed0bcaedd0a8d7a574a": {
          "model_module": "@jupyter-widgets/base",
          "model_name": "LayoutModel",
          "model_module_version": "1.2.0",
          "state": {
            "_model_module": "@jupyter-widgets/base",
            "_model_module_version": "1.2.0",
            "_model_name": "LayoutModel",
            "_view_count": null,
            "_view_module": "@jupyter-widgets/base",
            "_view_module_version": "1.2.0",
            "_view_name": "LayoutView",
            "align_content": null,
            "align_items": null,
            "align_self": null,
            "border": null,
            "bottom": null,
            "display": null,
            "flex": null,
            "flex_flow": null,
            "grid_area": null,
            "grid_auto_columns": null,
            "grid_auto_flow": null,
            "grid_auto_rows": null,
            "grid_column": null,
            "grid_gap": null,
            "grid_row": null,
            "grid_template_areas": null,
            "grid_template_columns": null,
            "grid_template_rows": null,
            "height": null,
            "justify_content": null,
            "justify_items": null,
            "left": null,
            "margin": null,
            "max_height": null,
            "max_width": null,
            "min_height": null,
            "min_width": null,
            "object_fit": null,
            "object_position": null,
            "order": null,
            "overflow": null,
            "overflow_x": null,
            "overflow_y": null,
            "padding": null,
            "right": null,
            "top": null,
            "visibility": null,
            "width": null
          }
        },
        "7f898fc3758c4f628d8a4ffc0d223cd6": {
          "model_module": "@jupyter-widgets/controls",
          "model_name": "DescriptionStyleModel",
          "model_module_version": "1.5.0",
          "state": {
            "_model_module": "@jupyter-widgets/controls",
            "_model_module_version": "1.5.0",
            "_model_name": "DescriptionStyleModel",
            "_view_count": null,
            "_view_module": "@jupyter-widgets/base",
            "_view_module_version": "1.2.0",
            "_view_name": "StyleView",
            "description_width": ""
          }
        },
        "a94f54bd1da54a3fa2d5f097d6c0482e": {
          "model_module": "@jupyter-widgets/controls",
          "model_name": "HBoxModel",
          "model_module_version": "1.5.0",
          "state": {
            "_dom_classes": [],
            "_model_module": "@jupyter-widgets/controls",
            "_model_module_version": "1.5.0",
            "_model_name": "HBoxModel",
            "_view_count": null,
            "_view_module": "@jupyter-widgets/controls",
            "_view_module_version": "1.5.0",
            "_view_name": "HBoxView",
            "box_style": "",
            "children": [
              "IPY_MODEL_f221386586174d5a9cc86af6840bf802",
              "IPY_MODEL_e381f1dfdef84deb810ce8c96bb636e3",
              "IPY_MODEL_cc552b39adf3495e97f368fba34ef5a1"
            ],
            "layout": "IPY_MODEL_4458ad6d8d574b0c9ba31d20847de814"
          }
        },
        "f221386586174d5a9cc86af6840bf802": {
          "model_module": "@jupyter-widgets/controls",
          "model_name": "HTMLModel",
          "model_module_version": "1.5.0",
          "state": {
            "_dom_classes": [],
            "_model_module": "@jupyter-widgets/controls",
            "_model_module_version": "1.5.0",
            "_model_name": "HTMLModel",
            "_view_count": null,
            "_view_module": "@jupyter-widgets/controls",
            "_view_module_version": "1.5.0",
            "_view_name": "HTMLView",
            "description": "",
            "description_tooltip": null,
            "layout": "IPY_MODEL_8162c7fa550847f280f313f29ece1c88",
            "placeholder": "​",
            "style": "IPY_MODEL_cf7bd1d0c4af482e8bd2b6291768d497",
            "value": "config.json: 100%"
          }
        },
        "e381f1dfdef84deb810ce8c96bb636e3": {
          "model_module": "@jupyter-widgets/controls",
          "model_name": "FloatProgressModel",
          "model_module_version": "1.5.0",
          "state": {
            "_dom_classes": [],
            "_model_module": "@jupyter-widgets/controls",
            "_model_module_version": "1.5.0",
            "_model_name": "FloatProgressModel",
            "_view_count": null,
            "_view_module": "@jupyter-widgets/controls",
            "_view_module_version": "1.5.0",
            "_view_name": "ProgressView",
            "bar_style": "success",
            "description": "",
            "description_tooltip": null,
            "layout": "IPY_MODEL_b317e0655ea34d369146ef5aeda8f948",
            "max": 571,
            "min": 0,
            "orientation": "horizontal",
            "style": "IPY_MODEL_9174d45f9f6545c2b19e442a4a5eff3d",
            "value": 571
          }
        },
        "cc552b39adf3495e97f368fba34ef5a1": {
          "model_module": "@jupyter-widgets/controls",
          "model_name": "HTMLModel",
          "model_module_version": "1.5.0",
          "state": {
            "_dom_classes": [],
            "_model_module": "@jupyter-widgets/controls",
            "_model_module_version": "1.5.0",
            "_model_name": "HTMLModel",
            "_view_count": null,
            "_view_module": "@jupyter-widgets/controls",
            "_view_module_version": "1.5.0",
            "_view_name": "HTMLView",
            "description": "",
            "description_tooltip": null,
            "layout": "IPY_MODEL_ff62e79c7214413f97d0d44152bd43c3",
            "placeholder": "​",
            "style": "IPY_MODEL_0c6e18de449945fea86a8d77f6d79241",
            "value": " 571/571 [00:00&lt;00:00, 42.4kB/s]"
          }
        },
        "4458ad6d8d574b0c9ba31d20847de814": {
          "model_module": "@jupyter-widgets/base",
          "model_name": "LayoutModel",
          "model_module_version": "1.2.0",
          "state": {
            "_model_module": "@jupyter-widgets/base",
            "_model_module_version": "1.2.0",
            "_model_name": "LayoutModel",
            "_view_count": null,
            "_view_module": "@jupyter-widgets/base",
            "_view_module_version": "1.2.0",
            "_view_name": "LayoutView",
            "align_content": null,
            "align_items": null,
            "align_self": null,
            "border": null,
            "bottom": null,
            "display": null,
            "flex": null,
            "flex_flow": null,
            "grid_area": null,
            "grid_auto_columns": null,
            "grid_auto_flow": null,
            "grid_auto_rows": null,
            "grid_column": null,
            "grid_gap": null,
            "grid_row": null,
            "grid_template_areas": null,
            "grid_template_columns": null,
            "grid_template_rows": null,
            "height": null,
            "justify_content": null,
            "justify_items": null,
            "left": null,
            "margin": null,
            "max_height": null,
            "max_width": null,
            "min_height": null,
            "min_width": null,
            "object_fit": null,
            "object_position": null,
            "order": null,
            "overflow": null,
            "overflow_x": null,
            "overflow_y": null,
            "padding": null,
            "right": null,
            "top": null,
            "visibility": null,
            "width": null
          }
        },
        "8162c7fa550847f280f313f29ece1c88": {
          "model_module": "@jupyter-widgets/base",
          "model_name": "LayoutModel",
          "model_module_version": "1.2.0",
          "state": {
            "_model_module": "@jupyter-widgets/base",
            "_model_module_version": "1.2.0",
            "_model_name": "LayoutModel",
            "_view_count": null,
            "_view_module": "@jupyter-widgets/base",
            "_view_module_version": "1.2.0",
            "_view_name": "LayoutView",
            "align_content": null,
            "align_items": null,
            "align_self": null,
            "border": null,
            "bottom": null,
            "display": null,
            "flex": null,
            "flex_flow": null,
            "grid_area": null,
            "grid_auto_columns": null,
            "grid_auto_flow": null,
            "grid_auto_rows": null,
            "grid_column": null,
            "grid_gap": null,
            "grid_row": null,
            "grid_template_areas": null,
            "grid_template_columns": null,
            "grid_template_rows": null,
            "height": null,
            "justify_content": null,
            "justify_items": null,
            "left": null,
            "margin": null,
            "max_height": null,
            "max_width": null,
            "min_height": null,
            "min_width": null,
            "object_fit": null,
            "object_position": null,
            "order": null,
            "overflow": null,
            "overflow_x": null,
            "overflow_y": null,
            "padding": null,
            "right": null,
            "top": null,
            "visibility": null,
            "width": null
          }
        },
        "cf7bd1d0c4af482e8bd2b6291768d497": {
          "model_module": "@jupyter-widgets/controls",
          "model_name": "DescriptionStyleModel",
          "model_module_version": "1.5.0",
          "state": {
            "_model_module": "@jupyter-widgets/controls",
            "_model_module_version": "1.5.0",
            "_model_name": "DescriptionStyleModel",
            "_view_count": null,
            "_view_module": "@jupyter-widgets/base",
            "_view_module_version": "1.2.0",
            "_view_name": "StyleView",
            "description_width": ""
          }
        },
        "b317e0655ea34d369146ef5aeda8f948": {
          "model_module": "@jupyter-widgets/base",
          "model_name": "LayoutModel",
          "model_module_version": "1.2.0",
          "state": {
            "_model_module": "@jupyter-widgets/base",
            "_model_module_version": "1.2.0",
            "_model_name": "LayoutModel",
            "_view_count": null,
            "_view_module": "@jupyter-widgets/base",
            "_view_module_version": "1.2.0",
            "_view_name": "LayoutView",
            "align_content": null,
            "align_items": null,
            "align_self": null,
            "border": null,
            "bottom": null,
            "display": null,
            "flex": null,
            "flex_flow": null,
            "grid_area": null,
            "grid_auto_columns": null,
            "grid_auto_flow": null,
            "grid_auto_rows": null,
            "grid_column": null,
            "grid_gap": null,
            "grid_row": null,
            "grid_template_areas": null,
            "grid_template_columns": null,
            "grid_template_rows": null,
            "height": null,
            "justify_content": null,
            "justify_items": null,
            "left": null,
            "margin": null,
            "max_height": null,
            "max_width": null,
            "min_height": null,
            "min_width": null,
            "object_fit": null,
            "object_position": null,
            "order": null,
            "overflow": null,
            "overflow_x": null,
            "overflow_y": null,
            "padding": null,
            "right": null,
            "top": null,
            "visibility": null,
            "width": null
          }
        },
        "9174d45f9f6545c2b19e442a4a5eff3d": {
          "model_module": "@jupyter-widgets/controls",
          "model_name": "ProgressStyleModel",
          "model_module_version": "1.5.0",
          "state": {
            "_model_module": "@jupyter-widgets/controls",
            "_model_module_version": "1.5.0",
            "_model_name": "ProgressStyleModel",
            "_view_count": null,
            "_view_module": "@jupyter-widgets/base",
            "_view_module_version": "1.2.0",
            "_view_name": "StyleView",
            "bar_color": null,
            "description_width": ""
          }
        },
        "ff62e79c7214413f97d0d44152bd43c3": {
          "model_module": "@jupyter-widgets/base",
          "model_name": "LayoutModel",
          "model_module_version": "1.2.0",
          "state": {
            "_model_module": "@jupyter-widgets/base",
            "_model_module_version": "1.2.0",
            "_model_name": "LayoutModel",
            "_view_count": null,
            "_view_module": "@jupyter-widgets/base",
            "_view_module_version": "1.2.0",
            "_view_name": "LayoutView",
            "align_content": null,
            "align_items": null,
            "align_self": null,
            "border": null,
            "bottom": null,
            "display": null,
            "flex": null,
            "flex_flow": null,
            "grid_area": null,
            "grid_auto_columns": null,
            "grid_auto_flow": null,
            "grid_auto_rows": null,
            "grid_column": null,
            "grid_gap": null,
            "grid_row": null,
            "grid_template_areas": null,
            "grid_template_columns": null,
            "grid_template_rows": null,
            "height": null,
            "justify_content": null,
            "justify_items": null,
            "left": null,
            "margin": null,
            "max_height": null,
            "max_width": null,
            "min_height": null,
            "min_width": null,
            "object_fit": null,
            "object_position": null,
            "order": null,
            "overflow": null,
            "overflow_x": null,
            "overflow_y": null,
            "padding": null,
            "right": null,
            "top": null,
            "visibility": null,
            "width": null
          }
        },
        "0c6e18de449945fea86a8d77f6d79241": {
          "model_module": "@jupyter-widgets/controls",
          "model_name": "DescriptionStyleModel",
          "model_module_version": "1.5.0",
          "state": {
            "_model_module": "@jupyter-widgets/controls",
            "_model_module_version": "1.5.0",
            "_model_name": "DescriptionStyleModel",
            "_view_count": null,
            "_view_module": "@jupyter-widgets/base",
            "_view_module_version": "1.2.0",
            "_view_name": "StyleView",
            "description_width": ""
          }
        },
        "07681bf4838f422399687d5ba9646e50": {
          "model_module": "@jupyter-widgets/controls",
          "model_name": "HBoxModel",
          "model_module_version": "1.5.0",
          "state": {
            "_dom_classes": [],
            "_model_module": "@jupyter-widgets/controls",
            "_model_module_version": "1.5.0",
            "_model_name": "HBoxModel",
            "_view_count": null,
            "_view_module": "@jupyter-widgets/controls",
            "_view_module_version": "1.5.0",
            "_view_name": "HBoxView",
            "box_style": "",
            "children": [
              "IPY_MODEL_e5133ccbc1214ac88e7f420653632ea3",
              "IPY_MODEL_a5699db82afa45d89865ec6dfbaa6919",
              "IPY_MODEL_b201918b1884412da0af8976e077e886"
            ],
            "layout": "IPY_MODEL_2ed8cbfd90c24fbf8f0c6ceeaa1ee931"
          }
        },
        "e5133ccbc1214ac88e7f420653632ea3": {
          "model_module": "@jupyter-widgets/controls",
          "model_name": "HTMLModel",
          "model_module_version": "1.5.0",
          "state": {
            "_dom_classes": [],
            "_model_module": "@jupyter-widgets/controls",
            "_model_module_version": "1.5.0",
            "_model_name": "HTMLModel",
            "_view_count": null,
            "_view_module": "@jupyter-widgets/controls",
            "_view_module_version": "1.5.0",
            "_view_name": "HTMLView",
            "description": "",
            "description_tooltip": null,
            "layout": "IPY_MODEL_620c72b18add4a47a31be7119de00c8b",
            "placeholder": "​",
            "style": "IPY_MODEL_d060c794be244998a0c4d12f7ca1090a",
            "value": "config_sentence_transformers.json: 100%"
          }
        },
        "a5699db82afa45d89865ec6dfbaa6919": {
          "model_module": "@jupyter-widgets/controls",
          "model_name": "FloatProgressModel",
          "model_module_version": "1.5.0",
          "state": {
            "_dom_classes": [],
            "_model_module": "@jupyter-widgets/controls",
            "_model_module_version": "1.5.0",
            "_model_name": "FloatProgressModel",
            "_view_count": null,
            "_view_module": "@jupyter-widgets/controls",
            "_view_module_version": "1.5.0",
            "_view_name": "ProgressView",
            "bar_style": "success",
            "description": "",
            "description_tooltip": null,
            "layout": "IPY_MODEL_2423dcdcfe2c4f6ab9bd2a0152b14951",
            "max": 116,
            "min": 0,
            "orientation": "horizontal",
            "style": "IPY_MODEL_d447dea994ad4c3786116b4897aaac8f",
            "value": 116
          }
        },
        "b201918b1884412da0af8976e077e886": {
          "model_module": "@jupyter-widgets/controls",
          "model_name": "HTMLModel",
          "model_module_version": "1.5.0",
          "state": {
            "_dom_classes": [],
            "_model_module": "@jupyter-widgets/controls",
            "_model_module_version": "1.5.0",
            "_model_name": "HTMLModel",
            "_view_count": null,
            "_view_module": "@jupyter-widgets/controls",
            "_view_module_version": "1.5.0",
            "_view_name": "HTMLView",
            "description": "",
            "description_tooltip": null,
            "layout": "IPY_MODEL_01b229d8d498476485d3d93130ff9084",
            "placeholder": "​",
            "style": "IPY_MODEL_d44c1e7195a9420585621db6556ec510",
            "value": " 116/116 [00:00&lt;00:00, 8.17kB/s]"
          }
        },
        "2ed8cbfd90c24fbf8f0c6ceeaa1ee931": {
          "model_module": "@jupyter-widgets/base",
          "model_name": "LayoutModel",
          "model_module_version": "1.2.0",
          "state": {
            "_model_module": "@jupyter-widgets/base",
            "_model_module_version": "1.2.0",
            "_model_name": "LayoutModel",
            "_view_count": null,
            "_view_module": "@jupyter-widgets/base",
            "_view_module_version": "1.2.0",
            "_view_name": "LayoutView",
            "align_content": null,
            "align_items": null,
            "align_self": null,
            "border": null,
            "bottom": null,
            "display": null,
            "flex": null,
            "flex_flow": null,
            "grid_area": null,
            "grid_auto_columns": null,
            "grid_auto_flow": null,
            "grid_auto_rows": null,
            "grid_column": null,
            "grid_gap": null,
            "grid_row": null,
            "grid_template_areas": null,
            "grid_template_columns": null,
            "grid_template_rows": null,
            "height": null,
            "justify_content": null,
            "justify_items": null,
            "left": null,
            "margin": null,
            "max_height": null,
            "max_width": null,
            "min_height": null,
            "min_width": null,
            "object_fit": null,
            "object_position": null,
            "order": null,
            "overflow": null,
            "overflow_x": null,
            "overflow_y": null,
            "padding": null,
            "right": null,
            "top": null,
            "visibility": null,
            "width": null
          }
        },
        "620c72b18add4a47a31be7119de00c8b": {
          "model_module": "@jupyter-widgets/base",
          "model_name": "LayoutModel",
          "model_module_version": "1.2.0",
          "state": {
            "_model_module": "@jupyter-widgets/base",
            "_model_module_version": "1.2.0",
            "_model_name": "LayoutModel",
            "_view_count": null,
            "_view_module": "@jupyter-widgets/base",
            "_view_module_version": "1.2.0",
            "_view_name": "LayoutView",
            "align_content": null,
            "align_items": null,
            "align_self": null,
            "border": null,
            "bottom": null,
            "display": null,
            "flex": null,
            "flex_flow": null,
            "grid_area": null,
            "grid_auto_columns": null,
            "grid_auto_flow": null,
            "grid_auto_rows": null,
            "grid_column": null,
            "grid_gap": null,
            "grid_row": null,
            "grid_template_areas": null,
            "grid_template_columns": null,
            "grid_template_rows": null,
            "height": null,
            "justify_content": null,
            "justify_items": null,
            "left": null,
            "margin": null,
            "max_height": null,
            "max_width": null,
            "min_height": null,
            "min_width": null,
            "object_fit": null,
            "object_position": null,
            "order": null,
            "overflow": null,
            "overflow_x": null,
            "overflow_y": null,
            "padding": null,
            "right": null,
            "top": null,
            "visibility": null,
            "width": null
          }
        },
        "d060c794be244998a0c4d12f7ca1090a": {
          "model_module": "@jupyter-widgets/controls",
          "model_name": "DescriptionStyleModel",
          "model_module_version": "1.5.0",
          "state": {
            "_model_module": "@jupyter-widgets/controls",
            "_model_module_version": "1.5.0",
            "_model_name": "DescriptionStyleModel",
            "_view_count": null,
            "_view_module": "@jupyter-widgets/base",
            "_view_module_version": "1.2.0",
            "_view_name": "StyleView",
            "description_width": ""
          }
        },
        "2423dcdcfe2c4f6ab9bd2a0152b14951": {
          "model_module": "@jupyter-widgets/base",
          "model_name": "LayoutModel",
          "model_module_version": "1.2.0",
          "state": {
            "_model_module": "@jupyter-widgets/base",
            "_model_module_version": "1.2.0",
            "_model_name": "LayoutModel",
            "_view_count": null,
            "_view_module": "@jupyter-widgets/base",
            "_view_module_version": "1.2.0",
            "_view_name": "LayoutView",
            "align_content": null,
            "align_items": null,
            "align_self": null,
            "border": null,
            "bottom": null,
            "display": null,
            "flex": null,
            "flex_flow": null,
            "grid_area": null,
            "grid_auto_columns": null,
            "grid_auto_flow": null,
            "grid_auto_rows": null,
            "grid_column": null,
            "grid_gap": null,
            "grid_row": null,
            "grid_template_areas": null,
            "grid_template_columns": null,
            "grid_template_rows": null,
            "height": null,
            "justify_content": null,
            "justify_items": null,
            "left": null,
            "margin": null,
            "max_height": null,
            "max_width": null,
            "min_height": null,
            "min_width": null,
            "object_fit": null,
            "object_position": null,
            "order": null,
            "overflow": null,
            "overflow_x": null,
            "overflow_y": null,
            "padding": null,
            "right": null,
            "top": null,
            "visibility": null,
            "width": null
          }
        },
        "d447dea994ad4c3786116b4897aaac8f": {
          "model_module": "@jupyter-widgets/controls",
          "model_name": "ProgressStyleModel",
          "model_module_version": "1.5.0",
          "state": {
            "_model_module": "@jupyter-widgets/controls",
            "_model_module_version": "1.5.0",
            "_model_name": "ProgressStyleModel",
            "_view_count": null,
            "_view_module": "@jupyter-widgets/base",
            "_view_module_version": "1.2.0",
            "_view_name": "StyleView",
            "bar_color": null,
            "description_width": ""
          }
        },
        "01b229d8d498476485d3d93130ff9084": {
          "model_module": "@jupyter-widgets/base",
          "model_name": "LayoutModel",
          "model_module_version": "1.2.0",
          "state": {
            "_model_module": "@jupyter-widgets/base",
            "_model_module_version": "1.2.0",
            "_model_name": "LayoutModel",
            "_view_count": null,
            "_view_module": "@jupyter-widgets/base",
            "_view_module_version": "1.2.0",
            "_view_name": "LayoutView",
            "align_content": null,
            "align_items": null,
            "align_self": null,
            "border": null,
            "bottom": null,
            "display": null,
            "flex": null,
            "flex_flow": null,
            "grid_area": null,
            "grid_auto_columns": null,
            "grid_auto_flow": null,
            "grid_auto_rows": null,
            "grid_column": null,
            "grid_gap": null,
            "grid_row": null,
            "grid_template_areas": null,
            "grid_template_columns": null,
            "grid_template_rows": null,
            "height": null,
            "justify_content": null,
            "justify_items": null,
            "left": null,
            "margin": null,
            "max_height": null,
            "max_width": null,
            "min_height": null,
            "min_width": null,
            "object_fit": null,
            "object_position": null,
            "order": null,
            "overflow": null,
            "overflow_x": null,
            "overflow_y": null,
            "padding": null,
            "right": null,
            "top": null,
            "visibility": null,
            "width": null
          }
        },
        "d44c1e7195a9420585621db6556ec510": {
          "model_module": "@jupyter-widgets/controls",
          "model_name": "DescriptionStyleModel",
          "model_module_version": "1.5.0",
          "state": {
            "_model_module": "@jupyter-widgets/controls",
            "_model_module_version": "1.5.0",
            "_model_name": "DescriptionStyleModel",
            "_view_count": null,
            "_view_module": "@jupyter-widgets/base",
            "_view_module_version": "1.2.0",
            "_view_name": "StyleView",
            "description_width": ""
          }
        },
        "5bae9e7bb63148e5b78f93d6adc8d8b0": {
          "model_module": "@jupyter-widgets/controls",
          "model_name": "HBoxModel",
          "model_module_version": "1.5.0",
          "state": {
            "_dom_classes": [],
            "_model_module": "@jupyter-widgets/controls",
            "_model_module_version": "1.5.0",
            "_model_name": "HBoxModel",
            "_view_count": null,
            "_view_module": "@jupyter-widgets/controls",
            "_view_module_version": "1.5.0",
            "_view_name": "HBoxView",
            "box_style": "",
            "children": [
              "IPY_MODEL_7287061c5cb24355b42b6aedb9609b81",
              "IPY_MODEL_3145caef519b479ca519329a119983eb",
              "IPY_MODEL_384a6e2e10834f94b9cf0ace55a9b6be"
            ],
            "layout": "IPY_MODEL_c212f181ef2849fa98a2856c3dc6dd4e"
          }
        },
        "7287061c5cb24355b42b6aedb9609b81": {
          "model_module": "@jupyter-widgets/controls",
          "model_name": "HTMLModel",
          "model_module_version": "1.5.0",
          "state": {
            "_dom_classes": [],
            "_model_module": "@jupyter-widgets/controls",
            "_model_module_version": "1.5.0",
            "_model_name": "HTMLModel",
            "_view_count": null,
            "_view_module": "@jupyter-widgets/controls",
            "_view_module_version": "1.5.0",
            "_view_name": "HTMLView",
            "description": "",
            "description_tooltip": null,
            "layout": "IPY_MODEL_00b8f33d0d29426a99b294373f556139",
            "placeholder": "​",
            "style": "IPY_MODEL_70577e694be14dd5af01b9257cc7f31e",
            "value": "data_config.json: 100%"
          }
        },
        "3145caef519b479ca519329a119983eb": {
          "model_module": "@jupyter-widgets/controls",
          "model_name": "FloatProgressModel",
          "model_module_version": "1.5.0",
          "state": {
            "_dom_classes": [],
            "_model_module": "@jupyter-widgets/controls",
            "_model_module_version": "1.5.0",
            "_model_name": "FloatProgressModel",
            "_view_count": null,
            "_view_module": "@jupyter-widgets/controls",
            "_view_module_version": "1.5.0",
            "_view_name": "ProgressView",
            "bar_style": "success",
            "description": "",
            "description_tooltip": null,
            "layout": "IPY_MODEL_3e520411ed854e3ebf66f1ceda54b081",
            "max": 39265,
            "min": 0,
            "orientation": "horizontal",
            "style": "IPY_MODEL_6f6bfcca139844f09582db9c94f198a8",
            "value": 39265
          }
        },
        "384a6e2e10834f94b9cf0ace55a9b6be": {
          "model_module": "@jupyter-widgets/controls",
          "model_name": "HTMLModel",
          "model_module_version": "1.5.0",
          "state": {
            "_dom_classes": [],
            "_model_module": "@jupyter-widgets/controls",
            "_model_module_version": "1.5.0",
            "_model_name": "HTMLModel",
            "_view_count": null,
            "_view_module": "@jupyter-widgets/controls",
            "_view_module_version": "1.5.0",
            "_view_name": "HTMLView",
            "description": "",
            "description_tooltip": null,
            "layout": "IPY_MODEL_f8045e13ae7e4b62bcb8608a9386d265",
            "placeholder": "​",
            "style": "IPY_MODEL_95c6e73d0a6f47179815aca2b367f489",
            "value": " 39.3k/39.3k [00:00&lt;00:00, 1.70MB/s]"
          }
        },
        "c212f181ef2849fa98a2856c3dc6dd4e": {
          "model_module": "@jupyter-widgets/base",
          "model_name": "LayoutModel",
          "model_module_version": "1.2.0",
          "state": {
            "_model_module": "@jupyter-widgets/base",
            "_model_module_version": "1.2.0",
            "_model_name": "LayoutModel",
            "_view_count": null,
            "_view_module": "@jupyter-widgets/base",
            "_view_module_version": "1.2.0",
            "_view_name": "LayoutView",
            "align_content": null,
            "align_items": null,
            "align_self": null,
            "border": null,
            "bottom": null,
            "display": null,
            "flex": null,
            "flex_flow": null,
            "grid_area": null,
            "grid_auto_columns": null,
            "grid_auto_flow": null,
            "grid_auto_rows": null,
            "grid_column": null,
            "grid_gap": null,
            "grid_row": null,
            "grid_template_areas": null,
            "grid_template_columns": null,
            "grid_template_rows": null,
            "height": null,
            "justify_content": null,
            "justify_items": null,
            "left": null,
            "margin": null,
            "max_height": null,
            "max_width": null,
            "min_height": null,
            "min_width": null,
            "object_fit": null,
            "object_position": null,
            "order": null,
            "overflow": null,
            "overflow_x": null,
            "overflow_y": null,
            "padding": null,
            "right": null,
            "top": null,
            "visibility": null,
            "width": null
          }
        },
        "00b8f33d0d29426a99b294373f556139": {
          "model_module": "@jupyter-widgets/base",
          "model_name": "LayoutModel",
          "model_module_version": "1.2.0",
          "state": {
            "_model_module": "@jupyter-widgets/base",
            "_model_module_version": "1.2.0",
            "_model_name": "LayoutModel",
            "_view_count": null,
            "_view_module": "@jupyter-widgets/base",
            "_view_module_version": "1.2.0",
            "_view_name": "LayoutView",
            "align_content": null,
            "align_items": null,
            "align_self": null,
            "border": null,
            "bottom": null,
            "display": null,
            "flex": null,
            "flex_flow": null,
            "grid_area": null,
            "grid_auto_columns": null,
            "grid_auto_flow": null,
            "grid_auto_rows": null,
            "grid_column": null,
            "grid_gap": null,
            "grid_row": null,
            "grid_template_areas": null,
            "grid_template_columns": null,
            "grid_template_rows": null,
            "height": null,
            "justify_content": null,
            "justify_items": null,
            "left": null,
            "margin": null,
            "max_height": null,
            "max_width": null,
            "min_height": null,
            "min_width": null,
            "object_fit": null,
            "object_position": null,
            "order": null,
            "overflow": null,
            "overflow_x": null,
            "overflow_y": null,
            "padding": null,
            "right": null,
            "top": null,
            "visibility": null,
            "width": null
          }
        },
        "70577e694be14dd5af01b9257cc7f31e": {
          "model_module": "@jupyter-widgets/controls",
          "model_name": "DescriptionStyleModel",
          "model_module_version": "1.5.0",
          "state": {
            "_model_module": "@jupyter-widgets/controls",
            "_model_module_version": "1.5.0",
            "_model_name": "DescriptionStyleModel",
            "_view_count": null,
            "_view_module": "@jupyter-widgets/base",
            "_view_module_version": "1.2.0",
            "_view_name": "StyleView",
            "description_width": ""
          }
        },
        "3e520411ed854e3ebf66f1ceda54b081": {
          "model_module": "@jupyter-widgets/base",
          "model_name": "LayoutModel",
          "model_module_version": "1.2.0",
          "state": {
            "_model_module": "@jupyter-widgets/base",
            "_model_module_version": "1.2.0",
            "_model_name": "LayoutModel",
            "_view_count": null,
            "_view_module": "@jupyter-widgets/base",
            "_view_module_version": "1.2.0",
            "_view_name": "LayoutView",
            "align_content": null,
            "align_items": null,
            "align_self": null,
            "border": null,
            "bottom": null,
            "display": null,
            "flex": null,
            "flex_flow": null,
            "grid_area": null,
            "grid_auto_columns": null,
            "grid_auto_flow": null,
            "grid_auto_rows": null,
            "grid_column": null,
            "grid_gap": null,
            "grid_row": null,
            "grid_template_areas": null,
            "grid_template_columns": null,
            "grid_template_rows": null,
            "height": null,
            "justify_content": null,
            "justify_items": null,
            "left": null,
            "margin": null,
            "max_height": null,
            "max_width": null,
            "min_height": null,
            "min_width": null,
            "object_fit": null,
            "object_position": null,
            "order": null,
            "overflow": null,
            "overflow_x": null,
            "overflow_y": null,
            "padding": null,
            "right": null,
            "top": null,
            "visibility": null,
            "width": null
          }
        },
        "6f6bfcca139844f09582db9c94f198a8": {
          "model_module": "@jupyter-widgets/controls",
          "model_name": "ProgressStyleModel",
          "model_module_version": "1.5.0",
          "state": {
            "_model_module": "@jupyter-widgets/controls",
            "_model_module_version": "1.5.0",
            "_model_name": "ProgressStyleModel",
            "_view_count": null,
            "_view_module": "@jupyter-widgets/base",
            "_view_module_version": "1.2.0",
            "_view_name": "StyleView",
            "bar_color": null,
            "description_width": ""
          }
        },
        "f8045e13ae7e4b62bcb8608a9386d265": {
          "model_module": "@jupyter-widgets/base",
          "model_name": "LayoutModel",
          "model_module_version": "1.2.0",
          "state": {
            "_model_module": "@jupyter-widgets/base",
            "_model_module_version": "1.2.0",
            "_model_name": "LayoutModel",
            "_view_count": null,
            "_view_module": "@jupyter-widgets/base",
            "_view_module_version": "1.2.0",
            "_view_name": "LayoutView",
            "align_content": null,
            "align_items": null,
            "align_self": null,
            "border": null,
            "bottom": null,
            "display": null,
            "flex": null,
            "flex_flow": null,
            "grid_area": null,
            "grid_auto_columns": null,
            "grid_auto_flow": null,
            "grid_auto_rows": null,
            "grid_column": null,
            "grid_gap": null,
            "grid_row": null,
            "grid_template_areas": null,
            "grid_template_columns": null,
            "grid_template_rows": null,
            "height": null,
            "justify_content": null,
            "justify_items": null,
            "left": null,
            "margin": null,
            "max_height": null,
            "max_width": null,
            "min_height": null,
            "min_width": null,
            "object_fit": null,
            "object_position": null,
            "order": null,
            "overflow": null,
            "overflow_x": null,
            "overflow_y": null,
            "padding": null,
            "right": null,
            "top": null,
            "visibility": null,
            "width": null
          }
        },
        "95c6e73d0a6f47179815aca2b367f489": {
          "model_module": "@jupyter-widgets/controls",
          "model_name": "DescriptionStyleModel",
          "model_module_version": "1.5.0",
          "state": {
            "_model_module": "@jupyter-widgets/controls",
            "_model_module_version": "1.5.0",
            "_model_name": "DescriptionStyleModel",
            "_view_count": null,
            "_view_module": "@jupyter-widgets/base",
            "_view_module_version": "1.2.0",
            "_view_name": "StyleView",
            "description_width": ""
          }
        },
        "d2c91f4b90c14aacb455263b83d59b42": {
          "model_module": "@jupyter-widgets/controls",
          "model_name": "HBoxModel",
          "model_module_version": "1.5.0",
          "state": {
            "_dom_classes": [],
            "_model_module": "@jupyter-widgets/controls",
            "_model_module_version": "1.5.0",
            "_model_name": "HBoxModel",
            "_view_count": null,
            "_view_module": "@jupyter-widgets/controls",
            "_view_module_version": "1.5.0",
            "_view_name": "HBoxView",
            "box_style": "",
            "children": [
              "IPY_MODEL_1e1ff9bba5244804b3c2ee3dbf3c1c84",
              "IPY_MODEL_cbf45460772c4afb91ab69a3f8d7698f",
              "IPY_MODEL_cf6fd29dd6714f028965b0ac6e3b2b51"
            ],
            "layout": "IPY_MODEL_6be9351450344ac3824564e7196cb3d6"
          }
        },
        "1e1ff9bba5244804b3c2ee3dbf3c1c84": {
          "model_module": "@jupyter-widgets/controls",
          "model_name": "HTMLModel",
          "model_module_version": "1.5.0",
          "state": {
            "_dom_classes": [],
            "_model_module": "@jupyter-widgets/controls",
            "_model_module_version": "1.5.0",
            "_model_name": "HTMLModel",
            "_view_count": null,
            "_view_module": "@jupyter-widgets/controls",
            "_view_module_version": "1.5.0",
            "_view_name": "HTMLView",
            "description": "",
            "description_tooltip": null,
            "layout": "IPY_MODEL_69e787fa84804df7942d41405b2d077a",
            "placeholder": "​",
            "style": "IPY_MODEL_87f69ad0f6124f42be780fa3b5948a2e",
            "value": "pytorch_model.bin: 100%"
          }
        },
        "cbf45460772c4afb91ab69a3f8d7698f": {
          "model_module": "@jupyter-widgets/controls",
          "model_name": "FloatProgressModel",
          "model_module_version": "1.5.0",
          "state": {
            "_dom_classes": [],
            "_model_module": "@jupyter-widgets/controls",
            "_model_module_version": "1.5.0",
            "_model_name": "FloatProgressModel",
            "_view_count": null,
            "_view_module": "@jupyter-widgets/controls",
            "_view_module_version": "1.5.0",
            "_view_name": "ProgressView",
            "bar_style": "success",
            "description": "",
            "description_tooltip": null,
            "layout": "IPY_MODEL_d5ae264dcf3547fa9a1eeca756c6d769",
            "max": 438011953,
            "min": 0,
            "orientation": "horizontal",
            "style": "IPY_MODEL_ef90b761d0954f18b83853ef7dfe10a8",
            "value": 438011953
          }
        },
        "cf6fd29dd6714f028965b0ac6e3b2b51": {
          "model_module": "@jupyter-widgets/controls",
          "model_name": "HTMLModel",
          "model_module_version": "1.5.0",
          "state": {
            "_dom_classes": [],
            "_model_module": "@jupyter-widgets/controls",
            "_model_module_version": "1.5.0",
            "_model_name": "HTMLModel",
            "_view_count": null,
            "_view_module": "@jupyter-widgets/controls",
            "_view_module_version": "1.5.0",
            "_view_name": "HTMLView",
            "description": "",
            "description_tooltip": null,
            "layout": "IPY_MODEL_11be570aca6542f797ebbc8699e20719",
            "placeholder": "​",
            "style": "IPY_MODEL_d2c3ce23cab54be3bf4ed1e7fcb0d9a8",
            "value": " 438M/438M [00:03&lt;00:00, 139MB/s]"
          }
        },
        "6be9351450344ac3824564e7196cb3d6": {
          "model_module": "@jupyter-widgets/base",
          "model_name": "LayoutModel",
          "model_module_version": "1.2.0",
          "state": {
            "_model_module": "@jupyter-widgets/base",
            "_model_module_version": "1.2.0",
            "_model_name": "LayoutModel",
            "_view_count": null,
            "_view_module": "@jupyter-widgets/base",
            "_view_module_version": "1.2.0",
            "_view_name": "LayoutView",
            "align_content": null,
            "align_items": null,
            "align_self": null,
            "border": null,
            "bottom": null,
            "display": null,
            "flex": null,
            "flex_flow": null,
            "grid_area": null,
            "grid_auto_columns": null,
            "grid_auto_flow": null,
            "grid_auto_rows": null,
            "grid_column": null,
            "grid_gap": null,
            "grid_row": null,
            "grid_template_areas": null,
            "grid_template_columns": null,
            "grid_template_rows": null,
            "height": null,
            "justify_content": null,
            "justify_items": null,
            "left": null,
            "margin": null,
            "max_height": null,
            "max_width": null,
            "min_height": null,
            "min_width": null,
            "object_fit": null,
            "object_position": null,
            "order": null,
            "overflow": null,
            "overflow_x": null,
            "overflow_y": null,
            "padding": null,
            "right": null,
            "top": null,
            "visibility": null,
            "width": null
          }
        },
        "69e787fa84804df7942d41405b2d077a": {
          "model_module": "@jupyter-widgets/base",
          "model_name": "LayoutModel",
          "model_module_version": "1.2.0",
          "state": {
            "_model_module": "@jupyter-widgets/base",
            "_model_module_version": "1.2.0",
            "_model_name": "LayoutModel",
            "_view_count": null,
            "_view_module": "@jupyter-widgets/base",
            "_view_module_version": "1.2.0",
            "_view_name": "LayoutView",
            "align_content": null,
            "align_items": null,
            "align_self": null,
            "border": null,
            "bottom": null,
            "display": null,
            "flex": null,
            "flex_flow": null,
            "grid_area": null,
            "grid_auto_columns": null,
            "grid_auto_flow": null,
            "grid_auto_rows": null,
            "grid_column": null,
            "grid_gap": null,
            "grid_row": null,
            "grid_template_areas": null,
            "grid_template_columns": null,
            "grid_template_rows": null,
            "height": null,
            "justify_content": null,
            "justify_items": null,
            "left": null,
            "margin": null,
            "max_height": null,
            "max_width": null,
            "min_height": null,
            "min_width": null,
            "object_fit": null,
            "object_position": null,
            "order": null,
            "overflow": null,
            "overflow_x": null,
            "overflow_y": null,
            "padding": null,
            "right": null,
            "top": null,
            "visibility": null,
            "width": null
          }
        },
        "87f69ad0f6124f42be780fa3b5948a2e": {
          "model_module": "@jupyter-widgets/controls",
          "model_name": "DescriptionStyleModel",
          "model_module_version": "1.5.0",
          "state": {
            "_model_module": "@jupyter-widgets/controls",
            "_model_module_version": "1.5.0",
            "_model_name": "DescriptionStyleModel",
            "_view_count": null,
            "_view_module": "@jupyter-widgets/base",
            "_view_module_version": "1.2.0",
            "_view_name": "StyleView",
            "description_width": ""
          }
        },
        "d5ae264dcf3547fa9a1eeca756c6d769": {
          "model_module": "@jupyter-widgets/base",
          "model_name": "LayoutModel",
          "model_module_version": "1.2.0",
          "state": {
            "_model_module": "@jupyter-widgets/base",
            "_model_module_version": "1.2.0",
            "_model_name": "LayoutModel",
            "_view_count": null,
            "_view_module": "@jupyter-widgets/base",
            "_view_module_version": "1.2.0",
            "_view_name": "LayoutView",
            "align_content": null,
            "align_items": null,
            "align_self": null,
            "border": null,
            "bottom": null,
            "display": null,
            "flex": null,
            "flex_flow": null,
            "grid_area": null,
            "grid_auto_columns": null,
            "grid_auto_flow": null,
            "grid_auto_rows": null,
            "grid_column": null,
            "grid_gap": null,
            "grid_row": null,
            "grid_template_areas": null,
            "grid_template_columns": null,
            "grid_template_rows": null,
            "height": null,
            "justify_content": null,
            "justify_items": null,
            "left": null,
            "margin": null,
            "max_height": null,
            "max_width": null,
            "min_height": null,
            "min_width": null,
            "object_fit": null,
            "object_position": null,
            "order": null,
            "overflow": null,
            "overflow_x": null,
            "overflow_y": null,
            "padding": null,
            "right": null,
            "top": null,
            "visibility": null,
            "width": null
          }
        },
        "ef90b761d0954f18b83853ef7dfe10a8": {
          "model_module": "@jupyter-widgets/controls",
          "model_name": "ProgressStyleModel",
          "model_module_version": "1.5.0",
          "state": {
            "_model_module": "@jupyter-widgets/controls",
            "_model_module_version": "1.5.0",
            "_model_name": "ProgressStyleModel",
            "_view_count": null,
            "_view_module": "@jupyter-widgets/base",
            "_view_module_version": "1.2.0",
            "_view_name": "StyleView",
            "bar_color": null,
            "description_width": ""
          }
        },
        "11be570aca6542f797ebbc8699e20719": {
          "model_module": "@jupyter-widgets/base",
          "model_name": "LayoutModel",
          "model_module_version": "1.2.0",
          "state": {
            "_model_module": "@jupyter-widgets/base",
            "_model_module_version": "1.2.0",
            "_model_name": "LayoutModel",
            "_view_count": null,
            "_view_module": "@jupyter-widgets/base",
            "_view_module_version": "1.2.0",
            "_view_name": "LayoutView",
            "align_content": null,
            "align_items": null,
            "align_self": null,
            "border": null,
            "bottom": null,
            "display": null,
            "flex": null,
            "flex_flow": null,
            "grid_area": null,
            "grid_auto_columns": null,
            "grid_auto_flow": null,
            "grid_auto_rows": null,
            "grid_column": null,
            "grid_gap": null,
            "grid_row": null,
            "grid_template_areas": null,
            "grid_template_columns": null,
            "grid_template_rows": null,
            "height": null,
            "justify_content": null,
            "justify_items": null,
            "left": null,
            "margin": null,
            "max_height": null,
            "max_width": null,
            "min_height": null,
            "min_width": null,
            "object_fit": null,
            "object_position": null,
            "order": null,
            "overflow": null,
            "overflow_x": null,
            "overflow_y": null,
            "padding": null,
            "right": null,
            "top": null,
            "visibility": null,
            "width": null
          }
        },
        "d2c3ce23cab54be3bf4ed1e7fcb0d9a8": {
          "model_module": "@jupyter-widgets/controls",
          "model_name": "DescriptionStyleModel",
          "model_module_version": "1.5.0",
          "state": {
            "_model_module": "@jupyter-widgets/controls",
            "_model_module_version": "1.5.0",
            "_model_name": "DescriptionStyleModel",
            "_view_count": null,
            "_view_module": "@jupyter-widgets/base",
            "_view_module_version": "1.2.0",
            "_view_name": "StyleView",
            "description_width": ""
          }
        },
        "83ae33a2a1b84effb166d879c9e08942": {
          "model_module": "@jupyter-widgets/controls",
          "model_name": "HBoxModel",
          "model_module_version": "1.5.0",
          "state": {
            "_dom_classes": [],
            "_model_module": "@jupyter-widgets/controls",
            "_model_module_version": "1.5.0",
            "_model_name": "HBoxModel",
            "_view_count": null,
            "_view_module": "@jupyter-widgets/controls",
            "_view_module_version": "1.5.0",
            "_view_name": "HBoxView",
            "box_style": "",
            "children": [
              "IPY_MODEL_8a218379e9e7442eb316907c63c64a87",
              "IPY_MODEL_da57338fba254127b75c13343a69970e",
              "IPY_MODEL_f7ce3ed4f1f841aaa6ddd75263434b6a"
            ],
            "layout": "IPY_MODEL_f70cd9b6d25f448faccd98215cfd70ef"
          }
        },
        "8a218379e9e7442eb316907c63c64a87": {
          "model_module": "@jupyter-widgets/controls",
          "model_name": "HTMLModel",
          "model_module_version": "1.5.0",
          "state": {
            "_dom_classes": [],
            "_model_module": "@jupyter-widgets/controls",
            "_model_module_version": "1.5.0",
            "_model_name": "HTMLModel",
            "_view_count": null,
            "_view_module": "@jupyter-widgets/controls",
            "_view_module_version": "1.5.0",
            "_view_name": "HTMLView",
            "description": "",
            "description_tooltip": null,
            "layout": "IPY_MODEL_06e3c8cbe70e4ce892a86c46193e443c",
            "placeholder": "​",
            "style": "IPY_MODEL_fa98570c57334906ab1aaea9c7a276be",
            "value": "sentence_bert_config.json: 100%"
          }
        },
        "da57338fba254127b75c13343a69970e": {
          "model_module": "@jupyter-widgets/controls",
          "model_name": "FloatProgressModel",
          "model_module_version": "1.5.0",
          "state": {
            "_dom_classes": [],
            "_model_module": "@jupyter-widgets/controls",
            "_model_module_version": "1.5.0",
            "_model_name": "FloatProgressModel",
            "_view_count": null,
            "_view_module": "@jupyter-widgets/controls",
            "_view_module_version": "1.5.0",
            "_view_name": "ProgressView",
            "bar_style": "success",
            "description": "",
            "description_tooltip": null,
            "layout": "IPY_MODEL_505ffa57d2d0453fbdaebc9c6eca9bde",
            "max": 53,
            "min": 0,
            "orientation": "horizontal",
            "style": "IPY_MODEL_2b5d862337da41c39d9c8fc1825c9ff3",
            "value": 53
          }
        },
        "f7ce3ed4f1f841aaa6ddd75263434b6a": {
          "model_module": "@jupyter-widgets/controls",
          "model_name": "HTMLModel",
          "model_module_version": "1.5.0",
          "state": {
            "_dom_classes": [],
            "_model_module": "@jupyter-widgets/controls",
            "_model_module_version": "1.5.0",
            "_model_name": "HTMLModel",
            "_view_count": null,
            "_view_module": "@jupyter-widgets/controls",
            "_view_module_version": "1.5.0",
            "_view_name": "HTMLView",
            "description": "",
            "description_tooltip": null,
            "layout": "IPY_MODEL_c23c5536263a4efb89f020c41c8d6937",
            "placeholder": "​",
            "style": "IPY_MODEL_d59914251d194391bc8e50811941a447",
            "value": " 53.0/53.0 [00:00&lt;00:00, 3.92kB/s]"
          }
        },
        "f70cd9b6d25f448faccd98215cfd70ef": {
          "model_module": "@jupyter-widgets/base",
          "model_name": "LayoutModel",
          "model_module_version": "1.2.0",
          "state": {
            "_model_module": "@jupyter-widgets/base",
            "_model_module_version": "1.2.0",
            "_model_name": "LayoutModel",
            "_view_count": null,
            "_view_module": "@jupyter-widgets/base",
            "_view_module_version": "1.2.0",
            "_view_name": "LayoutView",
            "align_content": null,
            "align_items": null,
            "align_self": null,
            "border": null,
            "bottom": null,
            "display": null,
            "flex": null,
            "flex_flow": null,
            "grid_area": null,
            "grid_auto_columns": null,
            "grid_auto_flow": null,
            "grid_auto_rows": null,
            "grid_column": null,
            "grid_gap": null,
            "grid_row": null,
            "grid_template_areas": null,
            "grid_template_columns": null,
            "grid_template_rows": null,
            "height": null,
            "justify_content": null,
            "justify_items": null,
            "left": null,
            "margin": null,
            "max_height": null,
            "max_width": null,
            "min_height": null,
            "min_width": null,
            "object_fit": null,
            "object_position": null,
            "order": null,
            "overflow": null,
            "overflow_x": null,
            "overflow_y": null,
            "padding": null,
            "right": null,
            "top": null,
            "visibility": null,
            "width": null
          }
        },
        "06e3c8cbe70e4ce892a86c46193e443c": {
          "model_module": "@jupyter-widgets/base",
          "model_name": "LayoutModel",
          "model_module_version": "1.2.0",
          "state": {
            "_model_module": "@jupyter-widgets/base",
            "_model_module_version": "1.2.0",
            "_model_name": "LayoutModel",
            "_view_count": null,
            "_view_module": "@jupyter-widgets/base",
            "_view_module_version": "1.2.0",
            "_view_name": "LayoutView",
            "align_content": null,
            "align_items": null,
            "align_self": null,
            "border": null,
            "bottom": null,
            "display": null,
            "flex": null,
            "flex_flow": null,
            "grid_area": null,
            "grid_auto_columns": null,
            "grid_auto_flow": null,
            "grid_auto_rows": null,
            "grid_column": null,
            "grid_gap": null,
            "grid_row": null,
            "grid_template_areas": null,
            "grid_template_columns": null,
            "grid_template_rows": null,
            "height": null,
            "justify_content": null,
            "justify_items": null,
            "left": null,
            "margin": null,
            "max_height": null,
            "max_width": null,
            "min_height": null,
            "min_width": null,
            "object_fit": null,
            "object_position": null,
            "order": null,
            "overflow": null,
            "overflow_x": null,
            "overflow_y": null,
            "padding": null,
            "right": null,
            "top": null,
            "visibility": null,
            "width": null
          }
        },
        "fa98570c57334906ab1aaea9c7a276be": {
          "model_module": "@jupyter-widgets/controls",
          "model_name": "DescriptionStyleModel",
          "model_module_version": "1.5.0",
          "state": {
            "_model_module": "@jupyter-widgets/controls",
            "_model_module_version": "1.5.0",
            "_model_name": "DescriptionStyleModel",
            "_view_count": null,
            "_view_module": "@jupyter-widgets/base",
            "_view_module_version": "1.2.0",
            "_view_name": "StyleView",
            "description_width": ""
          }
        },
        "505ffa57d2d0453fbdaebc9c6eca9bde": {
          "model_module": "@jupyter-widgets/base",
          "model_name": "LayoutModel",
          "model_module_version": "1.2.0",
          "state": {
            "_model_module": "@jupyter-widgets/base",
            "_model_module_version": "1.2.0",
            "_model_name": "LayoutModel",
            "_view_count": null,
            "_view_module": "@jupyter-widgets/base",
            "_view_module_version": "1.2.0",
            "_view_name": "LayoutView",
            "align_content": null,
            "align_items": null,
            "align_self": null,
            "border": null,
            "bottom": null,
            "display": null,
            "flex": null,
            "flex_flow": null,
            "grid_area": null,
            "grid_auto_columns": null,
            "grid_auto_flow": null,
            "grid_auto_rows": null,
            "grid_column": null,
            "grid_gap": null,
            "grid_row": null,
            "grid_template_areas": null,
            "grid_template_columns": null,
            "grid_template_rows": null,
            "height": null,
            "justify_content": null,
            "justify_items": null,
            "left": null,
            "margin": null,
            "max_height": null,
            "max_width": null,
            "min_height": null,
            "min_width": null,
            "object_fit": null,
            "object_position": null,
            "order": null,
            "overflow": null,
            "overflow_x": null,
            "overflow_y": null,
            "padding": null,
            "right": null,
            "top": null,
            "visibility": null,
            "width": null
          }
        },
        "2b5d862337da41c39d9c8fc1825c9ff3": {
          "model_module": "@jupyter-widgets/controls",
          "model_name": "ProgressStyleModel",
          "model_module_version": "1.5.0",
          "state": {
            "_model_module": "@jupyter-widgets/controls",
            "_model_module_version": "1.5.0",
            "_model_name": "ProgressStyleModel",
            "_view_count": null,
            "_view_module": "@jupyter-widgets/base",
            "_view_module_version": "1.2.0",
            "_view_name": "StyleView",
            "bar_color": null,
            "description_width": ""
          }
        },
        "c23c5536263a4efb89f020c41c8d6937": {
          "model_module": "@jupyter-widgets/base",
          "model_name": "LayoutModel",
          "model_module_version": "1.2.0",
          "state": {
            "_model_module": "@jupyter-widgets/base",
            "_model_module_version": "1.2.0",
            "_model_name": "LayoutModel",
            "_view_count": null,
            "_view_module": "@jupyter-widgets/base",
            "_view_module_version": "1.2.0",
            "_view_name": "LayoutView",
            "align_content": null,
            "align_items": null,
            "align_self": null,
            "border": null,
            "bottom": null,
            "display": null,
            "flex": null,
            "flex_flow": null,
            "grid_area": null,
            "grid_auto_columns": null,
            "grid_auto_flow": null,
            "grid_auto_rows": null,
            "grid_column": null,
            "grid_gap": null,
            "grid_row": null,
            "grid_template_areas": null,
            "grid_template_columns": null,
            "grid_template_rows": null,
            "height": null,
            "justify_content": null,
            "justify_items": null,
            "left": null,
            "margin": null,
            "max_height": null,
            "max_width": null,
            "min_height": null,
            "min_width": null,
            "object_fit": null,
            "object_position": null,
            "order": null,
            "overflow": null,
            "overflow_x": null,
            "overflow_y": null,
            "padding": null,
            "right": null,
            "top": null,
            "visibility": null,
            "width": null
          }
        },
        "d59914251d194391bc8e50811941a447": {
          "model_module": "@jupyter-widgets/controls",
          "model_name": "DescriptionStyleModel",
          "model_module_version": "1.5.0",
          "state": {
            "_model_module": "@jupyter-widgets/controls",
            "_model_module_version": "1.5.0",
            "_model_name": "DescriptionStyleModel",
            "_view_count": null,
            "_view_module": "@jupyter-widgets/base",
            "_view_module_version": "1.2.0",
            "_view_name": "StyleView",
            "description_width": ""
          }
        },
        "36abc78e10514e61ad2932f2385c4cef": {
          "model_module": "@jupyter-widgets/controls",
          "model_name": "HBoxModel",
          "model_module_version": "1.5.0",
          "state": {
            "_dom_classes": [],
            "_model_module": "@jupyter-widgets/controls",
            "_model_module_version": "1.5.0",
            "_model_name": "HBoxModel",
            "_view_count": null,
            "_view_module": "@jupyter-widgets/controls",
            "_view_module_version": "1.5.0",
            "_view_name": "HBoxView",
            "box_style": "",
            "children": [
              "IPY_MODEL_8612ebf89fa8445fa00496f16bb7e2fa",
              "IPY_MODEL_a438c88a05a0485f8cd9745b0dd4c0f2",
              "IPY_MODEL_39e1b016fdee4df09bebb14550abf14a"
            ],
            "layout": "IPY_MODEL_5e9ac10e77e141318211cd66f4484d6d"
          }
        },
        "8612ebf89fa8445fa00496f16bb7e2fa": {
          "model_module": "@jupyter-widgets/controls",
          "model_name": "HTMLModel",
          "model_module_version": "1.5.0",
          "state": {
            "_dom_classes": [],
            "_model_module": "@jupyter-widgets/controls",
            "_model_module_version": "1.5.0",
            "_model_name": "HTMLModel",
            "_view_count": null,
            "_view_module": "@jupyter-widgets/controls",
            "_view_module_version": "1.5.0",
            "_view_name": "HTMLView",
            "description": "",
            "description_tooltip": null,
            "layout": "IPY_MODEL_5297655383bf4b428e7690eaa84ba9d0",
            "placeholder": "​",
            "style": "IPY_MODEL_36660a3c693b43e4a67d742d1887a121",
            "value": "special_tokens_map.json: 100%"
          }
        },
        "a438c88a05a0485f8cd9745b0dd4c0f2": {
          "model_module": "@jupyter-widgets/controls",
          "model_name": "FloatProgressModel",
          "model_module_version": "1.5.0",
          "state": {
            "_dom_classes": [],
            "_model_module": "@jupyter-widgets/controls",
            "_model_module_version": "1.5.0",
            "_model_name": "FloatProgressModel",
            "_view_count": null,
            "_view_module": "@jupyter-widgets/controls",
            "_view_module_version": "1.5.0",
            "_view_name": "ProgressView",
            "bar_style": "success",
            "description": "",
            "description_tooltip": null,
            "layout": "IPY_MODEL_4fac3714cb00469dab2cf43beb8eff79",
            "max": 239,
            "min": 0,
            "orientation": "horizontal",
            "style": "IPY_MODEL_982fc69337d245709ea654dadce08b4b",
            "value": 239
          }
        },
        "39e1b016fdee4df09bebb14550abf14a": {
          "model_module": "@jupyter-widgets/controls",
          "model_name": "HTMLModel",
          "model_module_version": "1.5.0",
          "state": {
            "_dom_classes": [],
            "_model_module": "@jupyter-widgets/controls",
            "_model_module_version": "1.5.0",
            "_model_name": "HTMLModel",
            "_view_count": null,
            "_view_module": "@jupyter-widgets/controls",
            "_view_module_version": "1.5.0",
            "_view_name": "HTMLView",
            "description": "",
            "description_tooltip": null,
            "layout": "IPY_MODEL_d06596721e304c0496e32511ccdc3e55",
            "placeholder": "​",
            "style": "IPY_MODEL_9ef5ec9f95a14cf0b06608c7c94554f4",
            "value": " 239/239 [00:00&lt;00:00, 15.9kB/s]"
          }
        },
        "5e9ac10e77e141318211cd66f4484d6d": {
          "model_module": "@jupyter-widgets/base",
          "model_name": "LayoutModel",
          "model_module_version": "1.2.0",
          "state": {
            "_model_module": "@jupyter-widgets/base",
            "_model_module_version": "1.2.0",
            "_model_name": "LayoutModel",
            "_view_count": null,
            "_view_module": "@jupyter-widgets/base",
            "_view_module_version": "1.2.0",
            "_view_name": "LayoutView",
            "align_content": null,
            "align_items": null,
            "align_self": null,
            "border": null,
            "bottom": null,
            "display": null,
            "flex": null,
            "flex_flow": null,
            "grid_area": null,
            "grid_auto_columns": null,
            "grid_auto_flow": null,
            "grid_auto_rows": null,
            "grid_column": null,
            "grid_gap": null,
            "grid_row": null,
            "grid_template_areas": null,
            "grid_template_columns": null,
            "grid_template_rows": null,
            "height": null,
            "justify_content": null,
            "justify_items": null,
            "left": null,
            "margin": null,
            "max_height": null,
            "max_width": null,
            "min_height": null,
            "min_width": null,
            "object_fit": null,
            "object_position": null,
            "order": null,
            "overflow": null,
            "overflow_x": null,
            "overflow_y": null,
            "padding": null,
            "right": null,
            "top": null,
            "visibility": null,
            "width": null
          }
        },
        "5297655383bf4b428e7690eaa84ba9d0": {
          "model_module": "@jupyter-widgets/base",
          "model_name": "LayoutModel",
          "model_module_version": "1.2.0",
          "state": {
            "_model_module": "@jupyter-widgets/base",
            "_model_module_version": "1.2.0",
            "_model_name": "LayoutModel",
            "_view_count": null,
            "_view_module": "@jupyter-widgets/base",
            "_view_module_version": "1.2.0",
            "_view_name": "LayoutView",
            "align_content": null,
            "align_items": null,
            "align_self": null,
            "border": null,
            "bottom": null,
            "display": null,
            "flex": null,
            "flex_flow": null,
            "grid_area": null,
            "grid_auto_columns": null,
            "grid_auto_flow": null,
            "grid_auto_rows": null,
            "grid_column": null,
            "grid_gap": null,
            "grid_row": null,
            "grid_template_areas": null,
            "grid_template_columns": null,
            "grid_template_rows": null,
            "height": null,
            "justify_content": null,
            "justify_items": null,
            "left": null,
            "margin": null,
            "max_height": null,
            "max_width": null,
            "min_height": null,
            "min_width": null,
            "object_fit": null,
            "object_position": null,
            "order": null,
            "overflow": null,
            "overflow_x": null,
            "overflow_y": null,
            "padding": null,
            "right": null,
            "top": null,
            "visibility": null,
            "width": null
          }
        },
        "36660a3c693b43e4a67d742d1887a121": {
          "model_module": "@jupyter-widgets/controls",
          "model_name": "DescriptionStyleModel",
          "model_module_version": "1.5.0",
          "state": {
            "_model_module": "@jupyter-widgets/controls",
            "_model_module_version": "1.5.0",
            "_model_name": "DescriptionStyleModel",
            "_view_count": null,
            "_view_module": "@jupyter-widgets/base",
            "_view_module_version": "1.2.0",
            "_view_name": "StyleView",
            "description_width": ""
          }
        },
        "4fac3714cb00469dab2cf43beb8eff79": {
          "model_module": "@jupyter-widgets/base",
          "model_name": "LayoutModel",
          "model_module_version": "1.2.0",
          "state": {
            "_model_module": "@jupyter-widgets/base",
            "_model_module_version": "1.2.0",
            "_model_name": "LayoutModel",
            "_view_count": null,
            "_view_module": "@jupyter-widgets/base",
            "_view_module_version": "1.2.0",
            "_view_name": "LayoutView",
            "align_content": null,
            "align_items": null,
            "align_self": null,
            "border": null,
            "bottom": null,
            "display": null,
            "flex": null,
            "flex_flow": null,
            "grid_area": null,
            "grid_auto_columns": null,
            "grid_auto_flow": null,
            "grid_auto_rows": null,
            "grid_column": null,
            "grid_gap": null,
            "grid_row": null,
            "grid_template_areas": null,
            "grid_template_columns": null,
            "grid_template_rows": null,
            "height": null,
            "justify_content": null,
            "justify_items": null,
            "left": null,
            "margin": null,
            "max_height": null,
            "max_width": null,
            "min_height": null,
            "min_width": null,
            "object_fit": null,
            "object_position": null,
            "order": null,
            "overflow": null,
            "overflow_x": null,
            "overflow_y": null,
            "padding": null,
            "right": null,
            "top": null,
            "visibility": null,
            "width": null
          }
        },
        "982fc69337d245709ea654dadce08b4b": {
          "model_module": "@jupyter-widgets/controls",
          "model_name": "ProgressStyleModel",
          "model_module_version": "1.5.0",
          "state": {
            "_model_module": "@jupyter-widgets/controls",
            "_model_module_version": "1.5.0",
            "_model_name": "ProgressStyleModel",
            "_view_count": null,
            "_view_module": "@jupyter-widgets/base",
            "_view_module_version": "1.2.0",
            "_view_name": "StyleView",
            "bar_color": null,
            "description_width": ""
          }
        },
        "d06596721e304c0496e32511ccdc3e55": {
          "model_module": "@jupyter-widgets/base",
          "model_name": "LayoutModel",
          "model_module_version": "1.2.0",
          "state": {
            "_model_module": "@jupyter-widgets/base",
            "_model_module_version": "1.2.0",
            "_model_name": "LayoutModel",
            "_view_count": null,
            "_view_module": "@jupyter-widgets/base",
            "_view_module_version": "1.2.0",
            "_view_name": "LayoutView",
            "align_content": null,
            "align_items": null,
            "align_self": null,
            "border": null,
            "bottom": null,
            "display": null,
            "flex": null,
            "flex_flow": null,
            "grid_area": null,
            "grid_auto_columns": null,
            "grid_auto_flow": null,
            "grid_auto_rows": null,
            "grid_column": null,
            "grid_gap": null,
            "grid_row": null,
            "grid_template_areas": null,
            "grid_template_columns": null,
            "grid_template_rows": null,
            "height": null,
            "justify_content": null,
            "justify_items": null,
            "left": null,
            "margin": null,
            "max_height": null,
            "max_width": null,
            "min_height": null,
            "min_width": null,
            "object_fit": null,
            "object_position": null,
            "order": null,
            "overflow": null,
            "overflow_x": null,
            "overflow_y": null,
            "padding": null,
            "right": null,
            "top": null,
            "visibility": null,
            "width": null
          }
        },
        "9ef5ec9f95a14cf0b06608c7c94554f4": {
          "model_module": "@jupyter-widgets/controls",
          "model_name": "DescriptionStyleModel",
          "model_module_version": "1.5.0",
          "state": {
            "_model_module": "@jupyter-widgets/controls",
            "_model_module_version": "1.5.0",
            "_model_name": "DescriptionStyleModel",
            "_view_count": null,
            "_view_module": "@jupyter-widgets/base",
            "_view_module_version": "1.2.0",
            "_view_name": "StyleView",
            "description_width": ""
          }
        },
        "e8ed851147bb4411bec1aa84d8bd8807": {
          "model_module": "@jupyter-widgets/controls",
          "model_name": "HBoxModel",
          "model_module_version": "1.5.0",
          "state": {
            "_dom_classes": [],
            "_model_module": "@jupyter-widgets/controls",
            "_model_module_version": "1.5.0",
            "_model_name": "HBoxModel",
            "_view_count": null,
            "_view_module": "@jupyter-widgets/controls",
            "_view_module_version": "1.5.0",
            "_view_name": "HBoxView",
            "box_style": "",
            "children": [
              "IPY_MODEL_53da0ee7d32547569e316f6992c21d8e",
              "IPY_MODEL_bf3965a93dca4388828d26f6f4557a90",
              "IPY_MODEL_73436b65cdfa41a5834491e00f4b9f09"
            ],
            "layout": "IPY_MODEL_495203577e9f48f5a90418b131ef0b30"
          }
        },
        "53da0ee7d32547569e316f6992c21d8e": {
          "model_module": "@jupyter-widgets/controls",
          "model_name": "HTMLModel",
          "model_module_version": "1.5.0",
          "state": {
            "_dom_classes": [],
            "_model_module": "@jupyter-widgets/controls",
            "_model_module_version": "1.5.0",
            "_model_name": "HTMLModel",
            "_view_count": null,
            "_view_module": "@jupyter-widgets/controls",
            "_view_module_version": "1.5.0",
            "_view_name": "HTMLView",
            "description": "",
            "description_tooltip": null,
            "layout": "IPY_MODEL_e403e8123eb64142a06ce9ed9c5fb190",
            "placeholder": "​",
            "style": "IPY_MODEL_a08987ffe0974b8682e7e6ecc6a047be",
            "value": "tokenizer.json: 100%"
          }
        },
        "bf3965a93dca4388828d26f6f4557a90": {
          "model_module": "@jupyter-widgets/controls",
          "model_name": "FloatProgressModel",
          "model_module_version": "1.5.0",
          "state": {
            "_dom_classes": [],
            "_model_module": "@jupyter-widgets/controls",
            "_model_module_version": "1.5.0",
            "_model_name": "FloatProgressModel",
            "_view_count": null,
            "_view_module": "@jupyter-widgets/controls",
            "_view_module_version": "1.5.0",
            "_view_name": "ProgressView",
            "bar_style": "success",
            "description": "",
            "description_tooltip": null,
            "layout": "IPY_MODEL_9bfd7b428ed44dbe80aa04a1bd8767d9",
            "max": 466021,
            "min": 0,
            "orientation": "horizontal",
            "style": "IPY_MODEL_9449a7ac0ad749c2b31bbe393dca7b0c",
            "value": 466021
          }
        },
        "73436b65cdfa41a5834491e00f4b9f09": {
          "model_module": "@jupyter-widgets/controls",
          "model_name": "HTMLModel",
          "model_module_version": "1.5.0",
          "state": {
            "_dom_classes": [],
            "_model_module": "@jupyter-widgets/controls",
            "_model_module_version": "1.5.0",
            "_model_name": "HTMLModel",
            "_view_count": null,
            "_view_module": "@jupyter-widgets/controls",
            "_view_module_version": "1.5.0",
            "_view_name": "HTMLView",
            "description": "",
            "description_tooltip": null,
            "layout": "IPY_MODEL_750cb5c2825d484d99e90869f7c51aa4",
            "placeholder": "​",
            "style": "IPY_MODEL_742039618c8d4ba3ab7c21553222f331",
            "value": " 466k/466k [00:00&lt;00:00, 6.70MB/s]"
          }
        },
        "495203577e9f48f5a90418b131ef0b30": {
          "model_module": "@jupyter-widgets/base",
          "model_name": "LayoutModel",
          "model_module_version": "1.2.0",
          "state": {
            "_model_module": "@jupyter-widgets/base",
            "_model_module_version": "1.2.0",
            "_model_name": "LayoutModel",
            "_view_count": null,
            "_view_module": "@jupyter-widgets/base",
            "_view_module_version": "1.2.0",
            "_view_name": "LayoutView",
            "align_content": null,
            "align_items": null,
            "align_self": null,
            "border": null,
            "bottom": null,
            "display": null,
            "flex": null,
            "flex_flow": null,
            "grid_area": null,
            "grid_auto_columns": null,
            "grid_auto_flow": null,
            "grid_auto_rows": null,
            "grid_column": null,
            "grid_gap": null,
            "grid_row": null,
            "grid_template_areas": null,
            "grid_template_columns": null,
            "grid_template_rows": null,
            "height": null,
            "justify_content": null,
            "justify_items": null,
            "left": null,
            "margin": null,
            "max_height": null,
            "max_width": null,
            "min_height": null,
            "min_width": null,
            "object_fit": null,
            "object_position": null,
            "order": null,
            "overflow": null,
            "overflow_x": null,
            "overflow_y": null,
            "padding": null,
            "right": null,
            "top": null,
            "visibility": null,
            "width": null
          }
        },
        "e403e8123eb64142a06ce9ed9c5fb190": {
          "model_module": "@jupyter-widgets/base",
          "model_name": "LayoutModel",
          "model_module_version": "1.2.0",
          "state": {
            "_model_module": "@jupyter-widgets/base",
            "_model_module_version": "1.2.0",
            "_model_name": "LayoutModel",
            "_view_count": null,
            "_view_module": "@jupyter-widgets/base",
            "_view_module_version": "1.2.0",
            "_view_name": "LayoutView",
            "align_content": null,
            "align_items": null,
            "align_self": null,
            "border": null,
            "bottom": null,
            "display": null,
            "flex": null,
            "flex_flow": null,
            "grid_area": null,
            "grid_auto_columns": null,
            "grid_auto_flow": null,
            "grid_auto_rows": null,
            "grid_column": null,
            "grid_gap": null,
            "grid_row": null,
            "grid_template_areas": null,
            "grid_template_columns": null,
            "grid_template_rows": null,
            "height": null,
            "justify_content": null,
            "justify_items": null,
            "left": null,
            "margin": null,
            "max_height": null,
            "max_width": null,
            "min_height": null,
            "min_width": null,
            "object_fit": null,
            "object_position": null,
            "order": null,
            "overflow": null,
            "overflow_x": null,
            "overflow_y": null,
            "padding": null,
            "right": null,
            "top": null,
            "visibility": null,
            "width": null
          }
        },
        "a08987ffe0974b8682e7e6ecc6a047be": {
          "model_module": "@jupyter-widgets/controls",
          "model_name": "DescriptionStyleModel",
          "model_module_version": "1.5.0",
          "state": {
            "_model_module": "@jupyter-widgets/controls",
            "_model_module_version": "1.5.0",
            "_model_name": "DescriptionStyleModel",
            "_view_count": null,
            "_view_module": "@jupyter-widgets/base",
            "_view_module_version": "1.2.0",
            "_view_name": "StyleView",
            "description_width": ""
          }
        },
        "9bfd7b428ed44dbe80aa04a1bd8767d9": {
          "model_module": "@jupyter-widgets/base",
          "model_name": "LayoutModel",
          "model_module_version": "1.2.0",
          "state": {
            "_model_module": "@jupyter-widgets/base",
            "_model_module_version": "1.2.0",
            "_model_name": "LayoutModel",
            "_view_count": null,
            "_view_module": "@jupyter-widgets/base",
            "_view_module_version": "1.2.0",
            "_view_name": "LayoutView",
            "align_content": null,
            "align_items": null,
            "align_self": null,
            "border": null,
            "bottom": null,
            "display": null,
            "flex": null,
            "flex_flow": null,
            "grid_area": null,
            "grid_auto_columns": null,
            "grid_auto_flow": null,
            "grid_auto_rows": null,
            "grid_column": null,
            "grid_gap": null,
            "grid_row": null,
            "grid_template_areas": null,
            "grid_template_columns": null,
            "grid_template_rows": null,
            "height": null,
            "justify_content": null,
            "justify_items": null,
            "left": null,
            "margin": null,
            "max_height": null,
            "max_width": null,
            "min_height": null,
            "min_width": null,
            "object_fit": null,
            "object_position": null,
            "order": null,
            "overflow": null,
            "overflow_x": null,
            "overflow_y": null,
            "padding": null,
            "right": null,
            "top": null,
            "visibility": null,
            "width": null
          }
        },
        "9449a7ac0ad749c2b31bbe393dca7b0c": {
          "model_module": "@jupyter-widgets/controls",
          "model_name": "ProgressStyleModel",
          "model_module_version": "1.5.0",
          "state": {
            "_model_module": "@jupyter-widgets/controls",
            "_model_module_version": "1.5.0",
            "_model_name": "ProgressStyleModel",
            "_view_count": null,
            "_view_module": "@jupyter-widgets/base",
            "_view_module_version": "1.2.0",
            "_view_name": "StyleView",
            "bar_color": null,
            "description_width": ""
          }
        },
        "750cb5c2825d484d99e90869f7c51aa4": {
          "model_module": "@jupyter-widgets/base",
          "model_name": "LayoutModel",
          "model_module_version": "1.2.0",
          "state": {
            "_model_module": "@jupyter-widgets/base",
            "_model_module_version": "1.2.0",
            "_model_name": "LayoutModel",
            "_view_count": null,
            "_view_module": "@jupyter-widgets/base",
            "_view_module_version": "1.2.0",
            "_view_name": "LayoutView",
            "align_content": null,
            "align_items": null,
            "align_self": null,
            "border": null,
            "bottom": null,
            "display": null,
            "flex": null,
            "flex_flow": null,
            "grid_area": null,
            "grid_auto_columns": null,
            "grid_auto_flow": null,
            "grid_auto_rows": null,
            "grid_column": null,
            "grid_gap": null,
            "grid_row": null,
            "grid_template_areas": null,
            "grid_template_columns": null,
            "grid_template_rows": null,
            "height": null,
            "justify_content": null,
            "justify_items": null,
            "left": null,
            "margin": null,
            "max_height": null,
            "max_width": null,
            "min_height": null,
            "min_width": null,
            "object_fit": null,
            "object_position": null,
            "order": null,
            "overflow": null,
            "overflow_x": null,
            "overflow_y": null,
            "padding": null,
            "right": null,
            "top": null,
            "visibility": null,
            "width": null
          }
        },
        "742039618c8d4ba3ab7c21553222f331": {
          "model_module": "@jupyter-widgets/controls",
          "model_name": "DescriptionStyleModel",
          "model_module_version": "1.5.0",
          "state": {
            "_model_module": "@jupyter-widgets/controls",
            "_model_module_version": "1.5.0",
            "_model_name": "DescriptionStyleModel",
            "_view_count": null,
            "_view_module": "@jupyter-widgets/base",
            "_view_module_version": "1.2.0",
            "_view_name": "StyleView",
            "description_width": ""
          }
        },
        "2283e51849614137ad3c3505ecd29316": {
          "model_module": "@jupyter-widgets/controls",
          "model_name": "HBoxModel",
          "model_module_version": "1.5.0",
          "state": {
            "_dom_classes": [],
            "_model_module": "@jupyter-widgets/controls",
            "_model_module_version": "1.5.0",
            "_model_name": "HBoxModel",
            "_view_count": null,
            "_view_module": "@jupyter-widgets/controls",
            "_view_module_version": "1.5.0",
            "_view_name": "HBoxView",
            "box_style": "",
            "children": [
              "IPY_MODEL_dfcbdbdef1a446c3902c451b63fa9ef3",
              "IPY_MODEL_f9ecebcdd6b84d25be9a980b4fb0df16",
              "IPY_MODEL_666c4ab4a2c54dc8ae6b7795132caad9"
            ],
            "layout": "IPY_MODEL_d7effd29f4b24f02a010a0206989d37f"
          }
        },
        "dfcbdbdef1a446c3902c451b63fa9ef3": {
          "model_module": "@jupyter-widgets/controls",
          "model_name": "HTMLModel",
          "model_module_version": "1.5.0",
          "state": {
            "_dom_classes": [],
            "_model_module": "@jupyter-widgets/controls",
            "_model_module_version": "1.5.0",
            "_model_name": "HTMLModel",
            "_view_count": null,
            "_view_module": "@jupyter-widgets/controls",
            "_view_module_version": "1.5.0",
            "_view_name": "HTMLView",
            "description": "",
            "description_tooltip": null,
            "layout": "IPY_MODEL_cef8413175904a18a1ed1abb8db181bd",
            "placeholder": "​",
            "style": "IPY_MODEL_e54d2a3028934707827bc3ec4db6385f",
            "value": "tokenizer_config.json: 100%"
          }
        },
        "f9ecebcdd6b84d25be9a980b4fb0df16": {
          "model_module": "@jupyter-widgets/controls",
          "model_name": "FloatProgressModel",
          "model_module_version": "1.5.0",
          "state": {
            "_dom_classes": [],
            "_model_module": "@jupyter-widgets/controls",
            "_model_module_version": "1.5.0",
            "_model_name": "FloatProgressModel",
            "_view_count": null,
            "_view_module": "@jupyter-widgets/controls",
            "_view_module_version": "1.5.0",
            "_view_name": "ProgressView",
            "bar_style": "success",
            "description": "",
            "description_tooltip": null,
            "layout": "IPY_MODEL_eacbafbe7c114a949840fc3e9e581197",
            "max": 363,
            "min": 0,
            "orientation": "horizontal",
            "style": "IPY_MODEL_5c3d1f05eca341fa8d9951ad11578af7",
            "value": 363
          }
        },
        "666c4ab4a2c54dc8ae6b7795132caad9": {
          "model_module": "@jupyter-widgets/controls",
          "model_name": "HTMLModel",
          "model_module_version": "1.5.0",
          "state": {
            "_dom_classes": [],
            "_model_module": "@jupyter-widgets/controls",
            "_model_module_version": "1.5.0",
            "_model_name": "HTMLModel",
            "_view_count": null,
            "_view_module": "@jupyter-widgets/controls",
            "_view_module_version": "1.5.0",
            "_view_name": "HTMLView",
            "description": "",
            "description_tooltip": null,
            "layout": "IPY_MODEL_a9c57e5a160c48cf9a8e3c1506f0cf6d",
            "placeholder": "​",
            "style": "IPY_MODEL_f7e4acd132624754a14aa750c20b2149",
            "value": " 363/363 [00:00&lt;00:00, 28.8kB/s]"
          }
        },
        "d7effd29f4b24f02a010a0206989d37f": {
          "model_module": "@jupyter-widgets/base",
          "model_name": "LayoutModel",
          "model_module_version": "1.2.0",
          "state": {
            "_model_module": "@jupyter-widgets/base",
            "_model_module_version": "1.2.0",
            "_model_name": "LayoutModel",
            "_view_count": null,
            "_view_module": "@jupyter-widgets/base",
            "_view_module_version": "1.2.0",
            "_view_name": "LayoutView",
            "align_content": null,
            "align_items": null,
            "align_self": null,
            "border": null,
            "bottom": null,
            "display": null,
            "flex": null,
            "flex_flow": null,
            "grid_area": null,
            "grid_auto_columns": null,
            "grid_auto_flow": null,
            "grid_auto_rows": null,
            "grid_column": null,
            "grid_gap": null,
            "grid_row": null,
            "grid_template_areas": null,
            "grid_template_columns": null,
            "grid_template_rows": null,
            "height": null,
            "justify_content": null,
            "justify_items": null,
            "left": null,
            "margin": null,
            "max_height": null,
            "max_width": null,
            "min_height": null,
            "min_width": null,
            "object_fit": null,
            "object_position": null,
            "order": null,
            "overflow": null,
            "overflow_x": null,
            "overflow_y": null,
            "padding": null,
            "right": null,
            "top": null,
            "visibility": null,
            "width": null
          }
        },
        "cef8413175904a18a1ed1abb8db181bd": {
          "model_module": "@jupyter-widgets/base",
          "model_name": "LayoutModel",
          "model_module_version": "1.2.0",
          "state": {
            "_model_module": "@jupyter-widgets/base",
            "_model_module_version": "1.2.0",
            "_model_name": "LayoutModel",
            "_view_count": null,
            "_view_module": "@jupyter-widgets/base",
            "_view_module_version": "1.2.0",
            "_view_name": "LayoutView",
            "align_content": null,
            "align_items": null,
            "align_self": null,
            "border": null,
            "bottom": null,
            "display": null,
            "flex": null,
            "flex_flow": null,
            "grid_area": null,
            "grid_auto_columns": null,
            "grid_auto_flow": null,
            "grid_auto_rows": null,
            "grid_column": null,
            "grid_gap": null,
            "grid_row": null,
            "grid_template_areas": null,
            "grid_template_columns": null,
            "grid_template_rows": null,
            "height": null,
            "justify_content": null,
            "justify_items": null,
            "left": null,
            "margin": null,
            "max_height": null,
            "max_width": null,
            "min_height": null,
            "min_width": null,
            "object_fit": null,
            "object_position": null,
            "order": null,
            "overflow": null,
            "overflow_x": null,
            "overflow_y": null,
            "padding": null,
            "right": null,
            "top": null,
            "visibility": null,
            "width": null
          }
        },
        "e54d2a3028934707827bc3ec4db6385f": {
          "model_module": "@jupyter-widgets/controls",
          "model_name": "DescriptionStyleModel",
          "model_module_version": "1.5.0",
          "state": {
            "_model_module": "@jupyter-widgets/controls",
            "_model_module_version": "1.5.0",
            "_model_name": "DescriptionStyleModel",
            "_view_count": null,
            "_view_module": "@jupyter-widgets/base",
            "_view_module_version": "1.2.0",
            "_view_name": "StyleView",
            "description_width": ""
          }
        },
        "eacbafbe7c114a949840fc3e9e581197": {
          "model_module": "@jupyter-widgets/base",
          "model_name": "LayoutModel",
          "model_module_version": "1.2.0",
          "state": {
            "_model_module": "@jupyter-widgets/base",
            "_model_module_version": "1.2.0",
            "_model_name": "LayoutModel",
            "_view_count": null,
            "_view_module": "@jupyter-widgets/base",
            "_view_module_version": "1.2.0",
            "_view_name": "LayoutView",
            "align_content": null,
            "align_items": null,
            "align_self": null,
            "border": null,
            "bottom": null,
            "display": null,
            "flex": null,
            "flex_flow": null,
            "grid_area": null,
            "grid_auto_columns": null,
            "grid_auto_flow": null,
            "grid_auto_rows": null,
            "grid_column": null,
            "grid_gap": null,
            "grid_row": null,
            "grid_template_areas": null,
            "grid_template_columns": null,
            "grid_template_rows": null,
            "height": null,
            "justify_content": null,
            "justify_items": null,
            "left": null,
            "margin": null,
            "max_height": null,
            "max_width": null,
            "min_height": null,
            "min_width": null,
            "object_fit": null,
            "object_position": null,
            "order": null,
            "overflow": null,
            "overflow_x": null,
            "overflow_y": null,
            "padding": null,
            "right": null,
            "top": null,
            "visibility": null,
            "width": null
          }
        },
        "5c3d1f05eca341fa8d9951ad11578af7": {
          "model_module": "@jupyter-widgets/controls",
          "model_name": "ProgressStyleModel",
          "model_module_version": "1.5.0",
          "state": {
            "_model_module": "@jupyter-widgets/controls",
            "_model_module_version": "1.5.0",
            "_model_name": "ProgressStyleModel",
            "_view_count": null,
            "_view_module": "@jupyter-widgets/base",
            "_view_module_version": "1.2.0",
            "_view_name": "StyleView",
            "bar_color": null,
            "description_width": ""
          }
        },
        "a9c57e5a160c48cf9a8e3c1506f0cf6d": {
          "model_module": "@jupyter-widgets/base",
          "model_name": "LayoutModel",
          "model_module_version": "1.2.0",
          "state": {
            "_model_module": "@jupyter-widgets/base",
            "_model_module_version": "1.2.0",
            "_model_name": "LayoutModel",
            "_view_count": null,
            "_view_module": "@jupyter-widgets/base",
            "_view_module_version": "1.2.0",
            "_view_name": "LayoutView",
            "align_content": null,
            "align_items": null,
            "align_self": null,
            "border": null,
            "bottom": null,
            "display": null,
            "flex": null,
            "flex_flow": null,
            "grid_area": null,
            "grid_auto_columns": null,
            "grid_auto_flow": null,
            "grid_auto_rows": null,
            "grid_column": null,
            "grid_gap": null,
            "grid_row": null,
            "grid_template_areas": null,
            "grid_template_columns": null,
            "grid_template_rows": null,
            "height": null,
            "justify_content": null,
            "justify_items": null,
            "left": null,
            "margin": null,
            "max_height": null,
            "max_width": null,
            "min_height": null,
            "min_width": null,
            "object_fit": null,
            "object_position": null,
            "order": null,
            "overflow": null,
            "overflow_x": null,
            "overflow_y": null,
            "padding": null,
            "right": null,
            "top": null,
            "visibility": null,
            "width": null
          }
        },
        "f7e4acd132624754a14aa750c20b2149": {
          "model_module": "@jupyter-widgets/controls",
          "model_name": "DescriptionStyleModel",
          "model_module_version": "1.5.0",
          "state": {
            "_model_module": "@jupyter-widgets/controls",
            "_model_module_version": "1.5.0",
            "_model_name": "DescriptionStyleModel",
            "_view_count": null,
            "_view_module": "@jupyter-widgets/base",
            "_view_module_version": "1.2.0",
            "_view_name": "StyleView",
            "description_width": ""
          }
        },
        "5eea828463704163acc6dfa8c7c82c2a": {
          "model_module": "@jupyter-widgets/controls",
          "model_name": "HBoxModel",
          "model_module_version": "1.5.0",
          "state": {
            "_dom_classes": [],
            "_model_module": "@jupyter-widgets/controls",
            "_model_module_version": "1.5.0",
            "_model_name": "HBoxModel",
            "_view_count": null,
            "_view_module": "@jupyter-widgets/controls",
            "_view_module_version": "1.5.0",
            "_view_name": "HBoxView",
            "box_style": "",
            "children": [
              "IPY_MODEL_20b18452d2174805911e19687d163fb5",
              "IPY_MODEL_2f525fa975904c679ba69d4b829ebbc4",
              "IPY_MODEL_2aa606f4c3f24bdf8ada80edc6ce0ec7"
            ],
            "layout": "IPY_MODEL_c5f85e8ee1864b1da725fae26a29e897"
          }
        },
        "20b18452d2174805911e19687d163fb5": {
          "model_module": "@jupyter-widgets/controls",
          "model_name": "HTMLModel",
          "model_module_version": "1.5.0",
          "state": {
            "_dom_classes": [],
            "_model_module": "@jupyter-widgets/controls",
            "_model_module_version": "1.5.0",
            "_model_name": "HTMLModel",
            "_view_count": null,
            "_view_module": "@jupyter-widgets/controls",
            "_view_module_version": "1.5.0",
            "_view_name": "HTMLView",
            "description": "",
            "description_tooltip": null,
            "layout": "IPY_MODEL_57f8a74d7f1d4250bfb786f55f338884",
            "placeholder": "​",
            "style": "IPY_MODEL_9a063557401447e7bcbcc44c4a67ddcf",
            "value": "train_script.py: 100%"
          }
        },
        "2f525fa975904c679ba69d4b829ebbc4": {
          "model_module": "@jupyter-widgets/controls",
          "model_name": "FloatProgressModel",
          "model_module_version": "1.5.0",
          "state": {
            "_dom_classes": [],
            "_model_module": "@jupyter-widgets/controls",
            "_model_module_version": "1.5.0",
            "_model_name": "FloatProgressModel",
            "_view_count": null,
            "_view_module": "@jupyter-widgets/controls",
            "_view_module_version": "1.5.0",
            "_view_name": "ProgressView",
            "bar_style": "success",
            "description": "",
            "description_tooltip": null,
            "layout": "IPY_MODEL_754b516c24dc42ec995ca4f37bfb7a5e",
            "max": 13123,
            "min": 0,
            "orientation": "horizontal",
            "style": "IPY_MODEL_f426158596514006866aa2c00de36c0f",
            "value": 13123
          }
        },
        "2aa606f4c3f24bdf8ada80edc6ce0ec7": {
          "model_module": "@jupyter-widgets/controls",
          "model_name": "HTMLModel",
          "model_module_version": "1.5.0",
          "state": {
            "_dom_classes": [],
            "_model_module": "@jupyter-widgets/controls",
            "_model_module_version": "1.5.0",
            "_model_name": "HTMLModel",
            "_view_count": null,
            "_view_module": "@jupyter-widgets/controls",
            "_view_module_version": "1.5.0",
            "_view_name": "HTMLView",
            "description": "",
            "description_tooltip": null,
            "layout": "IPY_MODEL_d66dbf968a5049d5bee298a810105df5",
            "placeholder": "​",
            "style": "IPY_MODEL_2a3e62cad2c249b4aaf259be2a5e546b",
            "value": " 13.1k/13.1k [00:00&lt;00:00, 843kB/s]"
          }
        },
        "c5f85e8ee1864b1da725fae26a29e897": {
          "model_module": "@jupyter-widgets/base",
          "model_name": "LayoutModel",
          "model_module_version": "1.2.0",
          "state": {
            "_model_module": "@jupyter-widgets/base",
            "_model_module_version": "1.2.0",
            "_model_name": "LayoutModel",
            "_view_count": null,
            "_view_module": "@jupyter-widgets/base",
            "_view_module_version": "1.2.0",
            "_view_name": "LayoutView",
            "align_content": null,
            "align_items": null,
            "align_self": null,
            "border": null,
            "bottom": null,
            "display": null,
            "flex": null,
            "flex_flow": null,
            "grid_area": null,
            "grid_auto_columns": null,
            "grid_auto_flow": null,
            "grid_auto_rows": null,
            "grid_column": null,
            "grid_gap": null,
            "grid_row": null,
            "grid_template_areas": null,
            "grid_template_columns": null,
            "grid_template_rows": null,
            "height": null,
            "justify_content": null,
            "justify_items": null,
            "left": null,
            "margin": null,
            "max_height": null,
            "max_width": null,
            "min_height": null,
            "min_width": null,
            "object_fit": null,
            "object_position": null,
            "order": null,
            "overflow": null,
            "overflow_x": null,
            "overflow_y": null,
            "padding": null,
            "right": null,
            "top": null,
            "visibility": null,
            "width": null
          }
        },
        "57f8a74d7f1d4250bfb786f55f338884": {
          "model_module": "@jupyter-widgets/base",
          "model_name": "LayoutModel",
          "model_module_version": "1.2.0",
          "state": {
            "_model_module": "@jupyter-widgets/base",
            "_model_module_version": "1.2.0",
            "_model_name": "LayoutModel",
            "_view_count": null,
            "_view_module": "@jupyter-widgets/base",
            "_view_module_version": "1.2.0",
            "_view_name": "LayoutView",
            "align_content": null,
            "align_items": null,
            "align_self": null,
            "border": null,
            "bottom": null,
            "display": null,
            "flex": null,
            "flex_flow": null,
            "grid_area": null,
            "grid_auto_columns": null,
            "grid_auto_flow": null,
            "grid_auto_rows": null,
            "grid_column": null,
            "grid_gap": null,
            "grid_row": null,
            "grid_template_areas": null,
            "grid_template_columns": null,
            "grid_template_rows": null,
            "height": null,
            "justify_content": null,
            "justify_items": null,
            "left": null,
            "margin": null,
            "max_height": null,
            "max_width": null,
            "min_height": null,
            "min_width": null,
            "object_fit": null,
            "object_position": null,
            "order": null,
            "overflow": null,
            "overflow_x": null,
            "overflow_y": null,
            "padding": null,
            "right": null,
            "top": null,
            "visibility": null,
            "width": null
          }
        },
        "9a063557401447e7bcbcc44c4a67ddcf": {
          "model_module": "@jupyter-widgets/controls",
          "model_name": "DescriptionStyleModel",
          "model_module_version": "1.5.0",
          "state": {
            "_model_module": "@jupyter-widgets/controls",
            "_model_module_version": "1.5.0",
            "_model_name": "DescriptionStyleModel",
            "_view_count": null,
            "_view_module": "@jupyter-widgets/base",
            "_view_module_version": "1.2.0",
            "_view_name": "StyleView",
            "description_width": ""
          }
        },
        "754b516c24dc42ec995ca4f37bfb7a5e": {
          "model_module": "@jupyter-widgets/base",
          "model_name": "LayoutModel",
          "model_module_version": "1.2.0",
          "state": {
            "_model_module": "@jupyter-widgets/base",
            "_model_module_version": "1.2.0",
            "_model_name": "LayoutModel",
            "_view_count": null,
            "_view_module": "@jupyter-widgets/base",
            "_view_module_version": "1.2.0",
            "_view_name": "LayoutView",
            "align_content": null,
            "align_items": null,
            "align_self": null,
            "border": null,
            "bottom": null,
            "display": null,
            "flex": null,
            "flex_flow": null,
            "grid_area": null,
            "grid_auto_columns": null,
            "grid_auto_flow": null,
            "grid_auto_rows": null,
            "grid_column": null,
            "grid_gap": null,
            "grid_row": null,
            "grid_template_areas": null,
            "grid_template_columns": null,
            "grid_template_rows": null,
            "height": null,
            "justify_content": null,
            "justify_items": null,
            "left": null,
            "margin": null,
            "max_height": null,
            "max_width": null,
            "min_height": null,
            "min_width": null,
            "object_fit": null,
            "object_position": null,
            "order": null,
            "overflow": null,
            "overflow_x": null,
            "overflow_y": null,
            "padding": null,
            "right": null,
            "top": null,
            "visibility": null,
            "width": null
          }
        },
        "f426158596514006866aa2c00de36c0f": {
          "model_module": "@jupyter-widgets/controls",
          "model_name": "ProgressStyleModel",
          "model_module_version": "1.5.0",
          "state": {
            "_model_module": "@jupyter-widgets/controls",
            "_model_module_version": "1.5.0",
            "_model_name": "ProgressStyleModel",
            "_view_count": null,
            "_view_module": "@jupyter-widgets/base",
            "_view_module_version": "1.2.0",
            "_view_name": "StyleView",
            "bar_color": null,
            "description_width": ""
          }
        },
        "d66dbf968a5049d5bee298a810105df5": {
          "model_module": "@jupyter-widgets/base",
          "model_name": "LayoutModel",
          "model_module_version": "1.2.0",
          "state": {
            "_model_module": "@jupyter-widgets/base",
            "_model_module_version": "1.2.0",
            "_model_name": "LayoutModel",
            "_view_count": null,
            "_view_module": "@jupyter-widgets/base",
            "_view_module_version": "1.2.0",
            "_view_name": "LayoutView",
            "align_content": null,
            "align_items": null,
            "align_self": null,
            "border": null,
            "bottom": null,
            "display": null,
            "flex": null,
            "flex_flow": null,
            "grid_area": null,
            "grid_auto_columns": null,
            "grid_auto_flow": null,
            "grid_auto_rows": null,
            "grid_column": null,
            "grid_gap": null,
            "grid_row": null,
            "grid_template_areas": null,
            "grid_template_columns": null,
            "grid_template_rows": null,
            "height": null,
            "justify_content": null,
            "justify_items": null,
            "left": null,
            "margin": null,
            "max_height": null,
            "max_width": null,
            "min_height": null,
            "min_width": null,
            "object_fit": null,
            "object_position": null,
            "order": null,
            "overflow": null,
            "overflow_x": null,
            "overflow_y": null,
            "padding": null,
            "right": null,
            "top": null,
            "visibility": null,
            "width": null
          }
        },
        "2a3e62cad2c249b4aaf259be2a5e546b": {
          "model_module": "@jupyter-widgets/controls",
          "model_name": "DescriptionStyleModel",
          "model_module_version": "1.5.0",
          "state": {
            "_model_module": "@jupyter-widgets/controls",
            "_model_module_version": "1.5.0",
            "_model_name": "DescriptionStyleModel",
            "_view_count": null,
            "_view_module": "@jupyter-widgets/base",
            "_view_module_version": "1.2.0",
            "_view_name": "StyleView",
            "description_width": ""
          }
        },
        "7441f36d3f174151a0dcacd8cce7c97b": {
          "model_module": "@jupyter-widgets/controls",
          "model_name": "HBoxModel",
          "model_module_version": "1.5.0",
          "state": {
            "_dom_classes": [],
            "_model_module": "@jupyter-widgets/controls",
            "_model_module_version": "1.5.0",
            "_model_name": "HBoxModel",
            "_view_count": null,
            "_view_module": "@jupyter-widgets/controls",
            "_view_module_version": "1.5.0",
            "_view_name": "HBoxView",
            "box_style": "",
            "children": [
              "IPY_MODEL_23b0e83d8f154fc185bc203de6f45421",
              "IPY_MODEL_b76a7538f1204ded9a23a0b9ca2226b5",
              "IPY_MODEL_42bb704ae69848be8b5478af09878bdf"
            ],
            "layout": "IPY_MODEL_f839a206e7cb4b989a51d9d8e4851aa3"
          }
        },
        "23b0e83d8f154fc185bc203de6f45421": {
          "model_module": "@jupyter-widgets/controls",
          "model_name": "HTMLModel",
          "model_module_version": "1.5.0",
          "state": {
            "_dom_classes": [],
            "_model_module": "@jupyter-widgets/controls",
            "_model_module_version": "1.5.0",
            "_model_name": "HTMLModel",
            "_view_count": null,
            "_view_module": "@jupyter-widgets/controls",
            "_view_module_version": "1.5.0",
            "_view_name": "HTMLView",
            "description": "",
            "description_tooltip": null,
            "layout": "IPY_MODEL_a4497ae55c6f4ff7bd075fe7abaf03a4",
            "placeholder": "​",
            "style": "IPY_MODEL_cccea48ce3824c409335a5e4b9414bfc",
            "value": "vocab.txt: 100%"
          }
        },
        "b76a7538f1204ded9a23a0b9ca2226b5": {
          "model_module": "@jupyter-widgets/controls",
          "model_name": "FloatProgressModel",
          "model_module_version": "1.5.0",
          "state": {
            "_dom_classes": [],
            "_model_module": "@jupyter-widgets/controls",
            "_model_module_version": "1.5.0",
            "_model_name": "FloatProgressModel",
            "_view_count": null,
            "_view_module": "@jupyter-widgets/controls",
            "_view_module_version": "1.5.0",
            "_view_name": "ProgressView",
            "bar_style": "success",
            "description": "",
            "description_tooltip": null,
            "layout": "IPY_MODEL_6cc10f974f20447391cdf9cf0e6b15d9",
            "max": 231536,
            "min": 0,
            "orientation": "horizontal",
            "style": "IPY_MODEL_d3faf479fe614eb18b23e134d9078201",
            "value": 231536
          }
        },
        "42bb704ae69848be8b5478af09878bdf": {
          "model_module": "@jupyter-widgets/controls",
          "model_name": "HTMLModel",
          "model_module_version": "1.5.0",
          "state": {
            "_dom_classes": [],
            "_model_module": "@jupyter-widgets/controls",
            "_model_module_version": "1.5.0",
            "_model_name": "HTMLModel",
            "_view_count": null,
            "_view_module": "@jupyter-widgets/controls",
            "_view_module_version": "1.5.0",
            "_view_name": "HTMLView",
            "description": "",
            "description_tooltip": null,
            "layout": "IPY_MODEL_ea75b26e1e394b53a29b9e4c7e5f1820",
            "placeholder": "​",
            "style": "IPY_MODEL_dbe8e43ab8a24cad9bff480df981b6ab",
            "value": " 232k/232k [00:00&lt;00:00, 16.0MB/s]"
          }
        },
        "f839a206e7cb4b989a51d9d8e4851aa3": {
          "model_module": "@jupyter-widgets/base",
          "model_name": "LayoutModel",
          "model_module_version": "1.2.0",
          "state": {
            "_model_module": "@jupyter-widgets/base",
            "_model_module_version": "1.2.0",
            "_model_name": "LayoutModel",
            "_view_count": null,
            "_view_module": "@jupyter-widgets/base",
            "_view_module_version": "1.2.0",
            "_view_name": "LayoutView",
            "align_content": null,
            "align_items": null,
            "align_self": null,
            "border": null,
            "bottom": null,
            "display": null,
            "flex": null,
            "flex_flow": null,
            "grid_area": null,
            "grid_auto_columns": null,
            "grid_auto_flow": null,
            "grid_auto_rows": null,
            "grid_column": null,
            "grid_gap": null,
            "grid_row": null,
            "grid_template_areas": null,
            "grid_template_columns": null,
            "grid_template_rows": null,
            "height": null,
            "justify_content": null,
            "justify_items": null,
            "left": null,
            "margin": null,
            "max_height": null,
            "max_width": null,
            "min_height": null,
            "min_width": null,
            "object_fit": null,
            "object_position": null,
            "order": null,
            "overflow": null,
            "overflow_x": null,
            "overflow_y": null,
            "padding": null,
            "right": null,
            "top": null,
            "visibility": null,
            "width": null
          }
        },
        "a4497ae55c6f4ff7bd075fe7abaf03a4": {
          "model_module": "@jupyter-widgets/base",
          "model_name": "LayoutModel",
          "model_module_version": "1.2.0",
          "state": {
            "_model_module": "@jupyter-widgets/base",
            "_model_module_version": "1.2.0",
            "_model_name": "LayoutModel",
            "_view_count": null,
            "_view_module": "@jupyter-widgets/base",
            "_view_module_version": "1.2.0",
            "_view_name": "LayoutView",
            "align_content": null,
            "align_items": null,
            "align_self": null,
            "border": null,
            "bottom": null,
            "display": null,
            "flex": null,
            "flex_flow": null,
            "grid_area": null,
            "grid_auto_columns": null,
            "grid_auto_flow": null,
            "grid_auto_rows": null,
            "grid_column": null,
            "grid_gap": null,
            "grid_row": null,
            "grid_template_areas": null,
            "grid_template_columns": null,
            "grid_template_rows": null,
            "height": null,
            "justify_content": null,
            "justify_items": null,
            "left": null,
            "margin": null,
            "max_height": null,
            "max_width": null,
            "min_height": null,
            "min_width": null,
            "object_fit": null,
            "object_position": null,
            "order": null,
            "overflow": null,
            "overflow_x": null,
            "overflow_y": null,
            "padding": null,
            "right": null,
            "top": null,
            "visibility": null,
            "width": null
          }
        },
        "cccea48ce3824c409335a5e4b9414bfc": {
          "model_module": "@jupyter-widgets/controls",
          "model_name": "DescriptionStyleModel",
          "model_module_version": "1.5.0",
          "state": {
            "_model_module": "@jupyter-widgets/controls",
            "_model_module_version": "1.5.0",
            "_model_name": "DescriptionStyleModel",
            "_view_count": null,
            "_view_module": "@jupyter-widgets/base",
            "_view_module_version": "1.2.0",
            "_view_name": "StyleView",
            "description_width": ""
          }
        },
        "6cc10f974f20447391cdf9cf0e6b15d9": {
          "model_module": "@jupyter-widgets/base",
          "model_name": "LayoutModel",
          "model_module_version": "1.2.0",
          "state": {
            "_model_module": "@jupyter-widgets/base",
            "_model_module_version": "1.2.0",
            "_model_name": "LayoutModel",
            "_view_count": null,
            "_view_module": "@jupyter-widgets/base",
            "_view_module_version": "1.2.0",
            "_view_name": "LayoutView",
            "align_content": null,
            "align_items": null,
            "align_self": null,
            "border": null,
            "bottom": null,
            "display": null,
            "flex": null,
            "flex_flow": null,
            "grid_area": null,
            "grid_auto_columns": null,
            "grid_auto_flow": null,
            "grid_auto_rows": null,
            "grid_column": null,
            "grid_gap": null,
            "grid_row": null,
            "grid_template_areas": null,
            "grid_template_columns": null,
            "grid_template_rows": null,
            "height": null,
            "justify_content": null,
            "justify_items": null,
            "left": null,
            "margin": null,
            "max_height": null,
            "max_width": null,
            "min_height": null,
            "min_width": null,
            "object_fit": null,
            "object_position": null,
            "order": null,
            "overflow": null,
            "overflow_x": null,
            "overflow_y": null,
            "padding": null,
            "right": null,
            "top": null,
            "visibility": null,
            "width": null
          }
        },
        "d3faf479fe614eb18b23e134d9078201": {
          "model_module": "@jupyter-widgets/controls",
          "model_name": "ProgressStyleModel",
          "model_module_version": "1.5.0",
          "state": {
            "_model_module": "@jupyter-widgets/controls",
            "_model_module_version": "1.5.0",
            "_model_name": "ProgressStyleModel",
            "_view_count": null,
            "_view_module": "@jupyter-widgets/base",
            "_view_module_version": "1.2.0",
            "_view_name": "StyleView",
            "bar_color": null,
            "description_width": ""
          }
        },
        "ea75b26e1e394b53a29b9e4c7e5f1820": {
          "model_module": "@jupyter-widgets/base",
          "model_name": "LayoutModel",
          "model_module_version": "1.2.0",
          "state": {
            "_model_module": "@jupyter-widgets/base",
            "_model_module_version": "1.2.0",
            "_model_name": "LayoutModel",
            "_view_count": null,
            "_view_module": "@jupyter-widgets/base",
            "_view_module_version": "1.2.0",
            "_view_name": "LayoutView",
            "align_content": null,
            "align_items": null,
            "align_self": null,
            "border": null,
            "bottom": null,
            "display": null,
            "flex": null,
            "flex_flow": null,
            "grid_area": null,
            "grid_auto_columns": null,
            "grid_auto_flow": null,
            "grid_auto_rows": null,
            "grid_column": null,
            "grid_gap": null,
            "grid_row": null,
            "grid_template_areas": null,
            "grid_template_columns": null,
            "grid_template_rows": null,
            "height": null,
            "justify_content": null,
            "justify_items": null,
            "left": null,
            "margin": null,
            "max_height": null,
            "max_width": null,
            "min_height": null,
            "min_width": null,
            "object_fit": null,
            "object_position": null,
            "order": null,
            "overflow": null,
            "overflow_x": null,
            "overflow_y": null,
            "padding": null,
            "right": null,
            "top": null,
            "visibility": null,
            "width": null
          }
        },
        "dbe8e43ab8a24cad9bff480df981b6ab": {
          "model_module": "@jupyter-widgets/controls",
          "model_name": "DescriptionStyleModel",
          "model_module_version": "1.5.0",
          "state": {
            "_model_module": "@jupyter-widgets/controls",
            "_model_module_version": "1.5.0",
            "_model_name": "DescriptionStyleModel",
            "_view_count": null,
            "_view_module": "@jupyter-widgets/base",
            "_view_module_version": "1.2.0",
            "_view_name": "StyleView",
            "description_width": ""
          }
        },
        "71280f3e70ff4676a9079146748c7d4e": {
          "model_module": "@jupyter-widgets/controls",
          "model_name": "HBoxModel",
          "model_module_version": "1.5.0",
          "state": {
            "_dom_classes": [],
            "_model_module": "@jupyter-widgets/controls",
            "_model_module_version": "1.5.0",
            "_model_name": "HBoxModel",
            "_view_count": null,
            "_view_module": "@jupyter-widgets/controls",
            "_view_module_version": "1.5.0",
            "_view_name": "HBoxView",
            "box_style": "",
            "children": [
              "IPY_MODEL_371fb02322394114ba9945467952ca0a",
              "IPY_MODEL_0da1b33cce494b3cb0b945ca635dfa14",
              "IPY_MODEL_5489a08d8d3b4533b062a7def632bfca"
            ],
            "layout": "IPY_MODEL_0fe0981bcee7442eb657f34f53cade90"
          }
        },
        "371fb02322394114ba9945467952ca0a": {
          "model_module": "@jupyter-widgets/controls",
          "model_name": "HTMLModel",
          "model_module_version": "1.5.0",
          "state": {
            "_dom_classes": [],
            "_model_module": "@jupyter-widgets/controls",
            "_model_module_version": "1.5.0",
            "_model_name": "HTMLModel",
            "_view_count": null,
            "_view_module": "@jupyter-widgets/controls",
            "_view_module_version": "1.5.0",
            "_view_name": "HTMLView",
            "description": "",
            "description_tooltip": null,
            "layout": "IPY_MODEL_84b62da08be04a8396a087ce739426b5",
            "placeholder": "​",
            "style": "IPY_MODEL_315f92374c3e4be3bc214af7b123db6b",
            "value": "modules.json: 100%"
          }
        },
        "0da1b33cce494b3cb0b945ca635dfa14": {
          "model_module": "@jupyter-widgets/controls",
          "model_name": "FloatProgressModel",
          "model_module_version": "1.5.0",
          "state": {
            "_dom_classes": [],
            "_model_module": "@jupyter-widgets/controls",
            "_model_module_version": "1.5.0",
            "_model_name": "FloatProgressModel",
            "_view_count": null,
            "_view_module": "@jupyter-widgets/controls",
            "_view_module_version": "1.5.0",
            "_view_name": "ProgressView",
            "bar_style": "success",
            "description": "",
            "description_tooltip": null,
            "layout": "IPY_MODEL_e4250fb65235405cb35ba26ec68a0756",
            "max": 349,
            "min": 0,
            "orientation": "horizontal",
            "style": "IPY_MODEL_0a1b8b9e40b74228861e1857c6e9d945",
            "value": 349
          }
        },
        "5489a08d8d3b4533b062a7def632bfca": {
          "model_module": "@jupyter-widgets/controls",
          "model_name": "HTMLModel",
          "model_module_version": "1.5.0",
          "state": {
            "_dom_classes": [],
            "_model_module": "@jupyter-widgets/controls",
            "_model_module_version": "1.5.0",
            "_model_name": "HTMLModel",
            "_view_count": null,
            "_view_module": "@jupyter-widgets/controls",
            "_view_module_version": "1.5.0",
            "_view_name": "HTMLView",
            "description": "",
            "description_tooltip": null,
            "layout": "IPY_MODEL_6831f6ad433c47a68ff0c1ea0db00bfa",
            "placeholder": "​",
            "style": "IPY_MODEL_c1f097e92fd145caa18a055087171088",
            "value": " 349/349 [00:00&lt;00:00, 25.6kB/s]"
          }
        },
        "0fe0981bcee7442eb657f34f53cade90": {
          "model_module": "@jupyter-widgets/base",
          "model_name": "LayoutModel",
          "model_module_version": "1.2.0",
          "state": {
            "_model_module": "@jupyter-widgets/base",
            "_model_module_version": "1.2.0",
            "_model_name": "LayoutModel",
            "_view_count": null,
            "_view_module": "@jupyter-widgets/base",
            "_view_module_version": "1.2.0",
            "_view_name": "LayoutView",
            "align_content": null,
            "align_items": null,
            "align_self": null,
            "border": null,
            "bottom": null,
            "display": null,
            "flex": null,
            "flex_flow": null,
            "grid_area": null,
            "grid_auto_columns": null,
            "grid_auto_flow": null,
            "grid_auto_rows": null,
            "grid_column": null,
            "grid_gap": null,
            "grid_row": null,
            "grid_template_areas": null,
            "grid_template_columns": null,
            "grid_template_rows": null,
            "height": null,
            "justify_content": null,
            "justify_items": null,
            "left": null,
            "margin": null,
            "max_height": null,
            "max_width": null,
            "min_height": null,
            "min_width": null,
            "object_fit": null,
            "object_position": null,
            "order": null,
            "overflow": null,
            "overflow_x": null,
            "overflow_y": null,
            "padding": null,
            "right": null,
            "top": null,
            "visibility": null,
            "width": null
          }
        },
        "84b62da08be04a8396a087ce739426b5": {
          "model_module": "@jupyter-widgets/base",
          "model_name": "LayoutModel",
          "model_module_version": "1.2.0",
          "state": {
            "_model_module": "@jupyter-widgets/base",
            "_model_module_version": "1.2.0",
            "_model_name": "LayoutModel",
            "_view_count": null,
            "_view_module": "@jupyter-widgets/base",
            "_view_module_version": "1.2.0",
            "_view_name": "LayoutView",
            "align_content": null,
            "align_items": null,
            "align_self": null,
            "border": null,
            "bottom": null,
            "display": null,
            "flex": null,
            "flex_flow": null,
            "grid_area": null,
            "grid_auto_columns": null,
            "grid_auto_flow": null,
            "grid_auto_rows": null,
            "grid_column": null,
            "grid_gap": null,
            "grid_row": null,
            "grid_template_areas": null,
            "grid_template_columns": null,
            "grid_template_rows": null,
            "height": null,
            "justify_content": null,
            "justify_items": null,
            "left": null,
            "margin": null,
            "max_height": null,
            "max_width": null,
            "min_height": null,
            "min_width": null,
            "object_fit": null,
            "object_position": null,
            "order": null,
            "overflow": null,
            "overflow_x": null,
            "overflow_y": null,
            "padding": null,
            "right": null,
            "top": null,
            "visibility": null,
            "width": null
          }
        },
        "315f92374c3e4be3bc214af7b123db6b": {
          "model_module": "@jupyter-widgets/controls",
          "model_name": "DescriptionStyleModel",
          "model_module_version": "1.5.0",
          "state": {
            "_model_module": "@jupyter-widgets/controls",
            "_model_module_version": "1.5.0",
            "_model_name": "DescriptionStyleModel",
            "_view_count": null,
            "_view_module": "@jupyter-widgets/base",
            "_view_module_version": "1.2.0",
            "_view_name": "StyleView",
            "description_width": ""
          }
        },
        "e4250fb65235405cb35ba26ec68a0756": {
          "model_module": "@jupyter-widgets/base",
          "model_name": "LayoutModel",
          "model_module_version": "1.2.0",
          "state": {
            "_model_module": "@jupyter-widgets/base",
            "_model_module_version": "1.2.0",
            "_model_name": "LayoutModel",
            "_view_count": null,
            "_view_module": "@jupyter-widgets/base",
            "_view_module_version": "1.2.0",
            "_view_name": "LayoutView",
            "align_content": null,
            "align_items": null,
            "align_self": null,
            "border": null,
            "bottom": null,
            "display": null,
            "flex": null,
            "flex_flow": null,
            "grid_area": null,
            "grid_auto_columns": null,
            "grid_auto_flow": null,
            "grid_auto_rows": null,
            "grid_column": null,
            "grid_gap": null,
            "grid_row": null,
            "grid_template_areas": null,
            "grid_template_columns": null,
            "grid_template_rows": null,
            "height": null,
            "justify_content": null,
            "justify_items": null,
            "left": null,
            "margin": null,
            "max_height": null,
            "max_width": null,
            "min_height": null,
            "min_width": null,
            "object_fit": null,
            "object_position": null,
            "order": null,
            "overflow": null,
            "overflow_x": null,
            "overflow_y": null,
            "padding": null,
            "right": null,
            "top": null,
            "visibility": null,
            "width": null
          }
        },
        "0a1b8b9e40b74228861e1857c6e9d945": {
          "model_module": "@jupyter-widgets/controls",
          "model_name": "ProgressStyleModel",
          "model_module_version": "1.5.0",
          "state": {
            "_model_module": "@jupyter-widgets/controls",
            "_model_module_version": "1.5.0",
            "_model_name": "ProgressStyleModel",
            "_view_count": null,
            "_view_module": "@jupyter-widgets/base",
            "_view_module_version": "1.2.0",
            "_view_name": "StyleView",
            "bar_color": null,
            "description_width": ""
          }
        },
        "6831f6ad433c47a68ff0c1ea0db00bfa": {
          "model_module": "@jupyter-widgets/base",
          "model_name": "LayoutModel",
          "model_module_version": "1.2.0",
          "state": {
            "_model_module": "@jupyter-widgets/base",
            "_model_module_version": "1.2.0",
            "_model_name": "LayoutModel",
            "_view_count": null,
            "_view_module": "@jupyter-widgets/base",
            "_view_module_version": "1.2.0",
            "_view_name": "LayoutView",
            "align_content": null,
            "align_items": null,
            "align_self": null,
            "border": null,
            "bottom": null,
            "display": null,
            "flex": null,
            "flex_flow": null,
            "grid_area": null,
            "grid_auto_columns": null,
            "grid_auto_flow": null,
            "grid_auto_rows": null,
            "grid_column": null,
            "grid_gap": null,
            "grid_row": null,
            "grid_template_areas": null,
            "grid_template_columns": null,
            "grid_template_rows": null,
            "height": null,
            "justify_content": null,
            "justify_items": null,
            "left": null,
            "margin": null,
            "max_height": null,
            "max_width": null,
            "min_height": null,
            "min_width": null,
            "object_fit": null,
            "object_position": null,
            "order": null,
            "overflow": null,
            "overflow_x": null,
            "overflow_y": null,
            "padding": null,
            "right": null,
            "top": null,
            "visibility": null,
            "width": null
          }
        },
        "c1f097e92fd145caa18a055087171088": {
          "model_module": "@jupyter-widgets/controls",
          "model_name": "DescriptionStyleModel",
          "model_module_version": "1.5.0",
          "state": {
            "_model_module": "@jupyter-widgets/controls",
            "_model_module_version": "1.5.0",
            "_model_name": "DescriptionStyleModel",
            "_view_count": null,
            "_view_module": "@jupyter-widgets/base",
            "_view_module_version": "1.2.0",
            "_view_name": "StyleView",
            "description_width": ""
          }
        }
      }
    }
  },
  "nbformat_minor": 0,
  "nbformat": 4,
  "cells": [
    {
      "cell_type": "markdown",
      "metadata": {
        "id": "view-in-github",
        "colab_type": "text"
      },
      "source": [
        "<a href=\"https://colab.research.google.com/github/EdBerg21/AI-Professional-Prompts/blob/main/DONE_NATIONAL_UNIFIED_rag_with_mistral_7b_query_wikipedia.ipynb\" target=\"_parent\"><img src=\"https://colab.research.google.com/assets/colab-badge.svg\" alt=\"Open In Colab\"/></a>"
      ]
    },
    {
      "cell_type": "code",
      "source": [
        "# bitsandbytes is required for 4-bit quantization by transformers.AutoModelForCausalLM\n",
        "# sentence-transformers is required by model wrapper langchain.embeddings.HuggingFaceEmbeddings\n",
        "# faiss-gpu is required by embeddings db langchain.vectorstores.FAISS\n",
        "!pip install -q langchain bitsandbytes sentence-transformers faiss-gpu"
      ],
      "metadata": {
        "execution": {
          "iopub.status.busy": "2023-11-30T18:09:09.964472Z",
          "iopub.execute_input": "2023-11-30T18:09:09.965118Z",
          "iopub.status.idle": "2023-11-30T18:09:41.629673Z",
          "shell.execute_reply.started": "2023-11-30T18:09:09.965084Z",
          "shell.execute_reply": "2023-11-30T18:09:41.628658Z"
        },
        "trusted": true,
        "colab": {
          "base_uri": "https://localhost:8080/"
        },
        "id": "JuhrQ9-iX1Fl",
        "outputId": "0e366cd4-7e35-43c4-8abe-12000492b8c4"
      },
      "execution_count": 5,
      "outputs": [
        {
          "output_type": "stream",
          "name": "stdout",
          "text": [
            "\u001b[2K     \u001b[90m━━━━━━━━━━━━━━━━━━━━━━━━━━━━━━━━━━━━━━━━\u001b[0m \u001b[32m798.0/798.0 kB\u001b[0m \u001b[31m4.5 MB/s\u001b[0m eta \u001b[36m0:00:00\u001b[0m\n",
            "\u001b[2K     \u001b[90m━━━━━━━━━━━━━━━━━━━━━━━━━━━━━━━━━━━━━━━━\u001b[0m \u001b[32m86.0/86.0 kB\u001b[0m \u001b[31m10.2 MB/s\u001b[0m eta \u001b[36m0:00:00\u001b[0m\n",
            "\u001b[?25h  Preparing metadata (setup.py) ... \u001b[?25l\u001b[?25hdone\n",
            "\u001b[2K     \u001b[90m━━━━━━━━━━━━━━━━━━━━━━━━━━━━━━━━━━━━━━━━\u001b[0m \u001b[32m85.5/85.5 MB\u001b[0m \u001b[31m7.9 MB/s\u001b[0m eta \u001b[36m0:00:00\u001b[0m\n",
            "\u001b[2K     \u001b[90m━━━━━━━━━━━━━━━━━━━━━━━━━━━━━━━━━━━━━━━━\u001b[0m \u001b[32m1.6/1.6 MB\u001b[0m \u001b[31m48.2 MB/s\u001b[0m eta \u001b[36m0:00:00\u001b[0m\n",
            "\u001b[2K     \u001b[90m━━━━━━━━━━━━━━━━━━━━━━━━━━━━━━━━━━━━━━━━\u001b[0m \u001b[32m216.6/216.6 kB\u001b[0m \u001b[31m26.9 MB/s\u001b[0m eta \u001b[36m0:00:00\u001b[0m\n",
            "\u001b[2K     \u001b[90m━━━━━━━━━━━━━━━━━━━━━━━━━━━━━━━━━━━━━━━━\u001b[0m \u001b[32m48.3/48.3 kB\u001b[0m \u001b[31m6.4 MB/s\u001b[0m eta \u001b[36m0:00:00\u001b[0m\n",
            "\u001b[2K     \u001b[90m━━━━━━━━━━━━━━━━━━━━━━━━━━━━━━━━━━━━━━━━\u001b[0m \u001b[32m1.3/1.3 MB\u001b[0m \u001b[31m49.2 MB/s\u001b[0m eta \u001b[36m0:00:00\u001b[0m\n",
            "\u001b[2K     \u001b[90m━━━━━━━━━━━━━━━━━━━━━━━━━━━━━━━━━━━━━━━━\u001b[0m \u001b[32m49.4/49.4 kB\u001b[0m \u001b[31m6.5 MB/s\u001b[0m eta \u001b[36m0:00:00\u001b[0m\n",
            "\u001b[?25h  Building wheel for sentence-transformers (setup.py) ... \u001b[?25l\u001b[?25hdone\n"
          ]
        }
      ]
    },
    {
      "cell_type": "code",
      "source": [
        "!pip install bitsandbytes"
      ],
      "metadata": {
        "colab": {
          "base_uri": "https://localhost:8080/"
        },
        "id": "7jH4S1Usdfh7",
        "outputId": "1a037be9-3c22-4676-df79-7662a055a4ab"
      },
      "execution_count": 5,
      "outputs": [
        {
          "output_type": "stream",
          "name": "stdout",
          "text": [
            "Collecting bitsandbytes\n",
            "  Downloading bitsandbytes-0.42.0-py3-none-any.whl (105.0 MB)\n",
            "\u001b[2K     \u001b[90m━━━━━━━━━━━━━━━━━━━━━━━━━━━━━━━━━━━━━━━━\u001b[0m \u001b[32m105.0/105.0 MB\u001b[0m \u001b[31m8.5 MB/s\u001b[0m eta \u001b[36m0:00:00\u001b[0m\n",
            "\u001b[?25hRequirement already satisfied: scipy in /usr/local/lib/python3.10/dist-packages (from bitsandbytes) (1.11.4)\n",
            "Requirement already satisfied: numpy<1.28.0,>=1.21.6 in /usr/local/lib/python3.10/dist-packages (from scipy->bitsandbytes) (1.23.5)\n",
            "Installing collected packages: bitsandbytes\n",
            "Successfully installed bitsandbytes-0.42.0\n"
          ]
        }
      ]
    },
    {
      "cell_type": "code",
      "source": [
        "from torch import cuda, bfloat16\n",
        "device = f'cuda:{cuda.current_device()}' if cuda.is_available() else 'cpu'\n",
        "print(device)\n",
        "assert 'cuda' in device"
      ],
      "metadata": {
        "execution": {
          "iopub.status.busy": "2023-11-30T18:09:41.631871Z",
          "iopub.execute_input": "2023-11-30T18:09:41.632182Z",
          "iopub.status.idle": "2023-11-30T18:09:44.52054Z",
          "shell.execute_reply.started": "2023-11-30T18:09:41.632157Z",
          "shell.execute_reply": "2023-11-30T18:09:44.519433Z"
        },
        "trusted": true,
        "colab": {
          "base_uri": "https://localhost:8080/",
          "height": 350
        },
        "id": "ilpPtKz9X1Fw",
        "outputId": "745c5e21-ed95-4321-9ea0-b94d40a21c5b"
      },
      "execution_count": 5,
      "outputs": [
        {
          "output_type": "stream",
          "name": "stdout",
          "text": [
            "cpu\n"
          ]
        },
        {
          "output_type": "error",
          "ename": "AssertionError",
          "evalue": "",
          "traceback": [
            "\u001b[0;31m---------------------------------------------------------------------------\u001b[0m",
            "\u001b[0;31mAssertionError\u001b[0m                            Traceback (most recent call last)",
            "\u001b[0;32m<ipython-input-5-784d9bf400fa>\u001b[0m in \u001b[0;36m<cell line: 4>\u001b[0;34m()\u001b[0m\n\u001b[1;32m      2\u001b[0m \u001b[0mdevice\u001b[0m \u001b[0;34m=\u001b[0m \u001b[0;34mf'cuda:{cuda.current_device()}'\u001b[0m \u001b[0;32mif\u001b[0m \u001b[0mcuda\u001b[0m\u001b[0;34m.\u001b[0m\u001b[0mis_available\u001b[0m\u001b[0;34m(\u001b[0m\u001b[0;34m)\u001b[0m \u001b[0;32melse\u001b[0m \u001b[0;34m'cpu'\u001b[0m\u001b[0;34m\u001b[0m\u001b[0;34m\u001b[0m\u001b[0m\n\u001b[1;32m      3\u001b[0m \u001b[0mprint\u001b[0m\u001b[0;34m(\u001b[0m\u001b[0mdevice\u001b[0m\u001b[0;34m)\u001b[0m\u001b[0;34m\u001b[0m\u001b[0;34m\u001b[0m\u001b[0m\n\u001b[0;32m----> 4\u001b[0;31m \u001b[0;32massert\u001b[0m \u001b[0;34m'cuda'\u001b[0m \u001b[0;32min\u001b[0m \u001b[0mdevice\u001b[0m\u001b[0;34m\u001b[0m\u001b[0;34m\u001b[0m\u001b[0m\n\u001b[0m",
            "\u001b[0;31mAssertionError\u001b[0m: "
          ]
        }
      ]
    },
    {
      "cell_type": "code",
      "source": [
        "from pathlib import Path\n",
        "from pprint import pprint\n",
        "import sys\n",
        "from timeit import default_timer\n",
        "\n",
        "import numpy as np\n",
        "import torch\n",
        "from torch.nn import functional as F\n",
        "import transformers\n",
        "from transformers import AutoTokenizer\n",
        "from transformers import top_k_top_p_filtering\n",
        "from langchain.document_loaders.csv_loader import CSVLoader\n",
        "from langchain.text_splitter import RecursiveCharacterTextSplitter, CharacterTextSplitter\n",
        "from langchain.document_loaders import TextLoader\n",
        "from langchain.embeddings import HuggingFaceEmbeddings\n",
        "from langchain.chains import RetrievalQA\n",
        "from langchain.llms import HuggingFacePipeline\n",
        "from langchain.vectorstores import FAISS\n",
        "from langchain.schema.document import Document"
      ],
      "metadata": {
        "execution": {
          "iopub.status.busy": "2023-11-30T18:09:44.521838Z",
          "iopub.execute_input": "2023-11-30T18:09:44.522286Z",
          "iopub.status.idle": "2023-11-30T18:09:48.853117Z",
          "shell.execute_reply.started": "2023-11-30T18:09:44.522255Z",
          "shell.execute_reply": "2023-11-30T18:09:48.852326Z"
        },
        "trusted": true,
        "id": "-h4Ax90-X1Fy"
      },
      "execution_count": 31,
      "outputs": []
    },
    {
      "cell_type": "code",
      "source": [
        "\n",
        "# Load model directly\n",
        "from transformers import AutoTokenizer, AutoModelForCausalLM\n",
        "\n",
        "tokenizer = AutoTokenizer.from_pretrained(\"mistralai/Mistral-7B-Instruct-v0.1\")\n",
        "# model = AutoModelForCausalLM.from_pretrained(\"mistralai/Mistral-7B-Instruct-v0.1\")"
      ],
      "metadata": {
        "colab": {
          "base_uri": "https://localhost:8080/"
        },
        "id": "_URBEozHbKMs",
        "outputId": "b8f535a1-d0d9-421a-ec93-b0ffd7b44ad6"
      },
      "execution_count": 30,
      "outputs": [
        {
          "output_type": "stream",
          "name": "stderr",
          "text": [
            "/usr/local/lib/python3.10/dist-packages/huggingface_hub/utils/_token.py:88: UserWarning: \n",
            "The secret `HF_TOKEN` does not exist in your Colab secrets.\n",
            "To authenticate with the Hugging Face Hub, create a token in your settings tab (https://huggingface.co/settings/tokens), set it as secret in your Google Colab and restart your session.\n",
            "You will be able to reuse this secret in all of your notebooks.\n",
            "Please note that authentication is recommended but still optional to access public models or datasets.\n",
            "  warnings.warn(\n"
          ]
        }
      ]
    },
    {
      "cell_type": "code",
      "source": [
        "model_path = \"/root/.cache/huggingface/hub/models--mistralai--Mistral-7B-Instruct-v0.1/snapshots/9ab9e76e2b09f9f29ea2d56aa5bd139e4445c59e\""
      ],
      "metadata": {
        "execution": {
          "iopub.status.busy": "2023-11-30T18:09:48.855006Z",
          "iopub.execute_input": "2023-11-30T18:09:48.855595Z",
          "iopub.status.idle": "2023-11-30T18:09:48.860364Z",
          "shell.execute_reply.started": "2023-11-30T18:09:48.855567Z",
          "shell.execute_reply": "2023-11-30T18:09:48.859309Z"
        },
        "trusted": true,
        "id": "ZwrScejYX1F2"
      },
      "execution_count": 29,
      "outputs": []
    },
    {
      "cell_type": "markdown",
      "source": [
        "# Model\n",
        "## Files"
      ],
      "metadata": {
        "id": "WBrLSIxVX1F5"
      }
    },
    {
      "cell_type": "code",
      "source": [
        "def sizeof_fmt(num, suffix=\"B\"):\n",
        "    for unit in (\"\", \"Ki\", \"Mi\", \"Gi\", \"Ti\", \"Pi\", \"Ei\", \"Zi\"):\n",
        "        if abs(num) < 1024.0:\n",
        "            return f\"{num:5.1f} | {unit}{suffix}\"\n",
        "        num /= 1024.0\n",
        "    return f\"{num:.1f}Yi{suffix}\"\n",
        "\n",
        "path = Path(model_path)\n",
        "files = list(path.iterdir())\n",
        "files = sorted(files, key=lambda f: -f.stat().st_size)\n",
        "for file in files:\n",
        "    print(f'{file.as_posix() : <80.80}| {sizeof_fmt(file.stat().st_size)}')"
      ],
      "metadata": {
        "execution": {
          "iopub.status.busy": "2023-11-30T18:09:48.861364Z",
          "iopub.execute_input": "2023-11-30T18:09:48.861593Z",
          "iopub.status.idle": "2023-11-30T18:09:50.603087Z",
          "shell.execute_reply.started": "2023-11-30T18:09:48.861572Z",
          "shell.execute_reply": "2023-11-30T18:09:50.602157Z"
        },
        "trusted": true,
        "colab": {
          "base_uri": "https://localhost:8080/"
        },
        "id": "I6OCMXnaX1F-",
        "outputId": "67c98d77-1d76-44e5-def6-2d1c8c157169"
      },
      "execution_count": 28,
      "outputs": [
        {
          "output_type": "stream",
          "name": "stdout",
          "text": [
            "/root/.cache/huggingface/hub/models--mistralai--Mistral-7B-Instruct-v0.1/snapsho|   9.3 | GiB\n",
            "/root/.cache/huggingface/hub/models--mistralai--Mistral-7B-Instruct-v0.1/snapsho|   4.2 | GiB\n",
            "/root/.cache/huggingface/hub/models--mistralai--Mistral-7B-Instruct-v0.1/snapsho|   1.7 | MiB\n",
            "/root/.cache/huggingface/hub/models--mistralai--Mistral-7B-Instruct-v0.1/snapsho| 481.9 | KiB\n",
            "/root/.cache/huggingface/hub/models--mistralai--Mistral-7B-Instruct-v0.1/snapsho|  24.5 | KiB\n",
            "/root/.cache/huggingface/hub/models--mistralai--Mistral-7B-Instruct-v0.1/snapsho|   1.4 | KiB\n",
            "/root/.cache/huggingface/hub/models--mistralai--Mistral-7B-Instruct-v0.1/snapsho| 571.0 | B\n",
            "/root/.cache/huggingface/hub/models--mistralai--Mistral-7B-Instruct-v0.1/snapsho|  72.0 | B\n"
          ]
        }
      ]
    },
    {
      "cell_type": "markdown",
      "source": [
        "## Tokenizer\n",
        "Load pretrained tokenizer."
      ],
      "metadata": {
        "id": "WieoZkDTX1GA"
      }
    },
    {
      "cell_type": "code",
      "source": [
        "tokenizer = AutoTokenizer.from_pretrained(model_path)"
      ],
      "metadata": {
        "execution": {
          "iopub.status.busy": "2023-11-30T18:09:50.604765Z",
          "iopub.execute_input": "2023-11-30T18:09:50.605145Z",
          "iopub.status.idle": "2023-11-30T18:09:50.731119Z",
          "shell.execute_reply.started": "2023-11-30T18:09:50.60511Z",
          "shell.execute_reply": "2023-11-30T18:09:50.73035Z"
        },
        "trusted": true,
        "id": "wIZsra45X1GB"
      },
      "execution_count": 27,
      "outputs": []
    },
    {
      "cell_type": "markdown",
      "source": [
        "## Model"
      ],
      "metadata": {
        "id": "Y4XueEESX1GD"
      }
    },
    {
      "cell_type": "markdown",
      "source": [
        "### Mistral Config"
      ],
      "metadata": {
        "id": "YPZImVPeX1GG"
      }
    },
    {
      "cell_type": "code",
      "source": [
        "# the config shows us we need to instantiate huggingface's AutoModelForCausalLM\n",
        "model_config = transformers.AutoConfig.from_pretrained(model_path)\n",
        "model_config"
      ],
      "metadata": {
        "execution": {
          "iopub.status.busy": "2023-11-30T18:09:50.732256Z",
          "iopub.execute_input": "2023-11-30T18:09:50.732552Z",
          "iopub.status.idle": "2023-11-30T18:09:50.748338Z",
          "shell.execute_reply.started": "2023-11-30T18:09:50.732526Z",
          "shell.execute_reply": "2023-11-30T18:09:50.747492Z"
        },
        "trusted": true,
        "colab": {
          "base_uri": "https://localhost:8080/"
        },
        "id": "eVQ3Ik8hX1GI",
        "outputId": "958214e7-dbfb-43d2-82de-7e5bc5bc0714"
      },
      "execution_count": 26,
      "outputs": [
        {
          "output_type": "execute_result",
          "data": {
            "text/plain": [
              "MistralConfig {\n",
              "  \"_name_or_path\": \"/root/.cache/huggingface/hub/models--mistralai--Mistral-7B-Instruct-v0.1/snapshots/9ab9e76e2b09f9f29ea2d56aa5bd139e4445c59e\",\n",
              "  \"architectures\": [\n",
              "    \"MistralForCausalLM\"\n",
              "  ],\n",
              "  \"bos_token_id\": 1,\n",
              "  \"eos_token_id\": 2,\n",
              "  \"hidden_act\": \"silu\",\n",
              "  \"hidden_size\": 4096,\n",
              "  \"initializer_range\": 0.02,\n",
              "  \"intermediate_size\": 14336,\n",
              "  \"max_position_embeddings\": 32768,\n",
              "  \"model_type\": \"mistral\",\n",
              "  \"num_attention_heads\": 32,\n",
              "  \"num_hidden_layers\": 32,\n",
              "  \"num_key_value_heads\": 8,\n",
              "  \"rms_norm_eps\": 1e-05,\n",
              "  \"rope_theta\": 10000.0,\n",
              "  \"sliding_window\": 4096,\n",
              "  \"tie_word_embeddings\": false,\n",
              "  \"torch_dtype\": \"bfloat16\",\n",
              "  \"transformers_version\": \"4.35.2\",\n",
              "  \"use_cache\": true,\n",
              "  \"vocab_size\": 32000\n",
              "}"
            ]
          },
          "metadata": {},
          "execution_count": 26
        }
      ]
    },
    {
      "cell_type": "markdown",
      "source": [
        "### 4-bit Quantization"
      ],
      "metadata": {
        "id": "wbg2Sdm4X1GK"
      }
    },
    {
      "cell_type": "markdown",
      "source": [
        "<div class=\"alert alert-block alert-info\">\n",
        "<b>4-bit Quantization</b><br><br> Quantization in the context of deep learning is the process of constraining the number of bits that represent the weights and biases of the model - Weights and Biases numbers that we need in backpropagation. In 4-bit quantization, each weight or bias is represented using only 4 bits as opposed to the typical 32 bits used in single-precision floating-point format (float32). The primary advantage of using 4-bit quantization is the reduction in model size and memory usage. <br><br>\n",
        "\n",
        "See https://www.kaggle.com/code/lorentzyeung/what-s-4-bit-quantization-how-does-it-help-llama2\n",
        "\n",
        "</div>"
      ],
      "metadata": {
        "id": "iPisz1AHX1GM"
      }
    },
    {
      "cell_type": "code",
      "source": [
        "\n",
        "import transformers\n",
        "from bitsandbytes import bfloat16  # Assuming bfloat16 is part of the bitsandbytes package\n",
        "\n",
        "bnb_config = transformers.BitsAndBytesConfig(\n",
        "    load_in_4bit=True,\n",
        "    bnb_4bit_quant_type='nf4',\n",
        "    bnb_4bit_use_double_quant=True,\n",
        "    bnb_4bit_compute_dtype=bfloat16\n",
        ")"
      ],
      "metadata": {
        "colab": {
          "base_uri": "https://localhost:8080/",
          "height": 752
        },
        "id": "jM4kgOMQdW_G",
        "outputId": "85195efc-fa40-4542-afa6-ed67f258404d"
      },
      "execution_count": 25,
      "outputs": [
        {
          "output_type": "error",
          "ename": "ImportError",
          "evalue": "cannot import name 'bfloat16' from 'bitsandbytes' (/usr/local/lib/python3.10/dist-packages/bitsandbytes/__init__.py)",
          "traceback": [
            "\u001b[0;31m---------------------------------------------------------------------------\u001b[0m",
            "\u001b[0;31mImportError\u001b[0m                               Traceback (most recent call last)",
            "\u001b[0;32m<ipython-input-25-41028e638771>\u001b[0m in \u001b[0;36m<cell line: 2>\u001b[0;34m()\u001b[0m\n\u001b[1;32m      1\u001b[0m \u001b[0;32mimport\u001b[0m \u001b[0mtransformers\u001b[0m\u001b[0;34m\u001b[0m\u001b[0;34m\u001b[0m\u001b[0m\n\u001b[0;32m----> 2\u001b[0;31m \u001b[0;32mfrom\u001b[0m \u001b[0mbitsandbytes\u001b[0m \u001b[0;32mimport\u001b[0m \u001b[0mbfloat16\u001b[0m  \u001b[0;31m# Assuming bfloat16 is part of the bitsandbytes package\u001b[0m\u001b[0;34m\u001b[0m\u001b[0;34m\u001b[0m\u001b[0m\n\u001b[0m\u001b[1;32m      3\u001b[0m \u001b[0;34m\u001b[0m\u001b[0m\n\u001b[1;32m      4\u001b[0m bnb_config = transformers.BitsAndBytesConfig(\n\u001b[1;32m      5\u001b[0m     \u001b[0mload_in_4bit\u001b[0m\u001b[0;34m=\u001b[0m\u001b[0;32mTrue\u001b[0m\u001b[0;34m,\u001b[0m\u001b[0;34m\u001b[0m\u001b[0;34m\u001b[0m\u001b[0m\n",
            "\u001b[0;31mImportError\u001b[0m: cannot import name 'bfloat16' from 'bitsandbytes' (/usr/local/lib/python3.10/dist-packages/bitsandbytes/__init__.py)",
            "",
            "\u001b[0;31m---------------------------------------------------------------------------\u001b[0;32m\nNOTE: If your import is failing due to a missing package, you can\nmanually install dependencies using either !pip or !apt.\n\nTo view examples of installing some common dependencies, click the\n\"Open Examples\" button below.\n\u001b[0;31m---------------------------------------------------------------------------\u001b[0m\n"
          ],
          "errorDetails": {
            "actions": [
              {
                "action": "open_url",
                "actionText": "Open Examples",
                "url": "/notebooks/snippets/importing_libraries.ipynb"
              }
            ]
          }
        }
      ]
    },
    {
      "cell_type": "code",
      "source": [
        "# requires bitsandbytes package to be installed\n",
        "bnb_config = transformers.BitsAndBytesConfig(\n",
        "    load_in_4bit=True,\n",
        "    bnb_4bit_quant_type='nf4',\n",
        "    bnb_4bit_use_double_quant=True,\n",
        "  #  bnb_4bit_compute_dtype=bfloat16\n",
        ")"
      ],
      "metadata": {
        "execution": {
          "iopub.status.busy": "2023-11-30T18:09:50.749426Z",
          "iopub.execute_input": "2023-11-30T18:09:50.749769Z",
          "iopub.status.idle": "2023-11-30T18:09:50.758671Z",
          "shell.execute_reply.started": "2023-11-30T18:09:50.749734Z",
          "shell.execute_reply": "2023-11-30T18:09:50.757877Z"
        },
        "trusted": true,
        "id": "NR5COjZAX1GN"
      },
      "execution_count": 23,
      "outputs": []
    },
    {
      "cell_type": "markdown",
      "source": [
        "### Pretrained Model"
      ],
      "metadata": {
        "id": "kFf0lFA-X1GP"
      }
    },
    {
      "cell_type": "code",
      "source": [
        "!pip install transformers"
      ],
      "metadata": {
        "colab": {
          "base_uri": "https://localhost:8080/"
        },
        "id": "0hIjOZXLjh_-",
        "outputId": "9ba086b8-7512-49f1-c653-af41b8bfa003"
      },
      "execution_count": 5,
      "outputs": [
        {
          "output_type": "stream",
          "name": "stdout",
          "text": [
            "Requirement already satisfied: transformers in /usr/local/lib/python3.10/dist-packages (4.35.2)\n",
            "Requirement already satisfied: filelock in /usr/local/lib/python3.10/dist-packages (from transformers) (3.13.1)\n",
            "Requirement already satisfied: huggingface-hub<1.0,>=0.16.4 in /usr/local/lib/python3.10/dist-packages (from transformers) (0.20.2)\n",
            "Requirement already satisfied: numpy>=1.17 in /usr/local/lib/python3.10/dist-packages (from transformers) (1.23.5)\n",
            "Requirement already satisfied: packaging>=20.0 in /usr/local/lib/python3.10/dist-packages (from transformers) (23.2)\n",
            "Requirement already satisfied: pyyaml>=5.1 in /usr/local/lib/python3.10/dist-packages (from transformers) (6.0.1)\n",
            "Requirement already satisfied: regex!=2019.12.17 in /usr/local/lib/python3.10/dist-packages (from transformers) (2023.6.3)\n",
            "Requirement already satisfied: requests in /usr/local/lib/python3.10/dist-packages (from transformers) (2.31.0)\n",
            "Requirement already satisfied: tokenizers<0.19,>=0.14 in /usr/local/lib/python3.10/dist-packages (from transformers) (0.15.0)\n",
            "Requirement already satisfied: safetensors>=0.3.1 in /usr/local/lib/python3.10/dist-packages (from transformers) (0.4.1)\n",
            "Requirement already satisfied: tqdm>=4.27 in /usr/local/lib/python3.10/dist-packages (from transformers) (4.66.1)\n",
            "Requirement already satisfied: fsspec>=2023.5.0 in /usr/local/lib/python3.10/dist-packages (from huggingface-hub<1.0,>=0.16.4->transformers) (2023.6.0)\n",
            "Requirement already satisfied: typing-extensions>=3.7.4.3 in /usr/local/lib/python3.10/dist-packages (from huggingface-hub<1.0,>=0.16.4->transformers) (4.5.0)\n",
            "Requirement already satisfied: charset-normalizer<4,>=2 in /usr/local/lib/python3.10/dist-packages (from requests->transformers) (3.3.2)\n",
            "Requirement already satisfied: idna<4,>=2.5 in /usr/local/lib/python3.10/dist-packages (from requests->transformers) (3.6)\n",
            "Requirement already satisfied: urllib3<3,>=1.21.1 in /usr/local/lib/python3.10/dist-packages (from requests->transformers) (2.0.7)\n",
            "Requirement already satisfied: certifi>=2017.4.17 in /usr/local/lib/python3.10/dist-packages (from requests->transformers) (2023.11.17)\n"
          ]
        }
      ]
    },
    {
      "cell_type": "code",
      "source": [
        "import transformers"
      ],
      "metadata": {
        "id": "XillPeqIjcY9"
      },
      "execution_count": 7,
      "outputs": []
    },
    {
      "cell_type": "code",
      "source": [
        "!pip install accelerate"
      ],
      "metadata": {
        "colab": {
          "base_uri": "https://localhost:8080/"
        },
        "id": "PytQGv_2iyho",
        "outputId": "fb2b02cc-cd60-4338-b3b0-32cd157c114d"
      },
      "execution_count": 20,
      "outputs": [
        {
          "output_type": "stream",
          "name": "stdout",
          "text": [
            "Requirement already satisfied: accelerate in /usr/local/lib/python3.10/dist-packages (0.26.1)\n",
            "Requirement already satisfied: numpy>=1.17 in /usr/local/lib/python3.10/dist-packages (from accelerate) (1.23.5)\n",
            "Requirement already satisfied: packaging>=20.0 in /usr/local/lib/python3.10/dist-packages (from accelerate) (23.2)\n",
            "Requirement already satisfied: psutil in /usr/local/lib/python3.10/dist-packages (from accelerate) (5.9.5)\n",
            "Requirement already satisfied: pyyaml in /usr/local/lib/python3.10/dist-packages (from accelerate) (6.0.1)\n",
            "Requirement already satisfied: torch>=1.10.0 in /usr/local/lib/python3.10/dist-packages (from accelerate) (2.1.0+cu121)\n",
            "Requirement already satisfied: huggingface-hub in /usr/local/lib/python3.10/dist-packages (from accelerate) (0.20.2)\n",
            "Requirement already satisfied: safetensors>=0.3.1 in /usr/local/lib/python3.10/dist-packages (from accelerate) (0.4.1)\n",
            "Requirement already satisfied: filelock in /usr/local/lib/python3.10/dist-packages (from torch>=1.10.0->accelerate) (3.13.1)\n",
            "Requirement already satisfied: typing-extensions in /usr/local/lib/python3.10/dist-packages (from torch>=1.10.0->accelerate) (4.5.0)\n",
            "Requirement already satisfied: sympy in /usr/local/lib/python3.10/dist-packages (from torch>=1.10.0->accelerate) (1.12)\n",
            "Requirement already satisfied: networkx in /usr/local/lib/python3.10/dist-packages (from torch>=1.10.0->accelerate) (3.2.1)\n",
            "Requirement already satisfied: jinja2 in /usr/local/lib/python3.10/dist-packages (from torch>=1.10.0->accelerate) (3.1.2)\n",
            "Requirement already satisfied: fsspec in /usr/local/lib/python3.10/dist-packages (from torch>=1.10.0->accelerate) (2023.6.0)\n",
            "Requirement already satisfied: triton==2.1.0 in /usr/local/lib/python3.10/dist-packages (from torch>=1.10.0->accelerate) (2.1.0)\n",
            "Requirement already satisfied: requests in /usr/local/lib/python3.10/dist-packages (from huggingface-hub->accelerate) (2.31.0)\n",
            "Requirement already satisfied: tqdm>=4.42.1 in /usr/local/lib/python3.10/dist-packages (from huggingface-hub->accelerate) (4.66.1)\n",
            "Requirement already satisfied: MarkupSafe>=2.0 in /usr/local/lib/python3.10/dist-packages (from jinja2->torch>=1.10.0->accelerate) (2.1.3)\n",
            "Requirement already satisfied: charset-normalizer<4,>=2 in /usr/local/lib/python3.10/dist-packages (from requests->huggingface-hub->accelerate) (3.3.2)\n",
            "Requirement already satisfied: idna<4,>=2.5 in /usr/local/lib/python3.10/dist-packages (from requests->huggingface-hub->accelerate) (3.6)\n",
            "Requirement already satisfied: urllib3<3,>=1.21.1 in /usr/local/lib/python3.10/dist-packages (from requests->huggingface-hub->accelerate) (2.0.7)\n",
            "Requirement already satisfied: certifi>=2017.4.17 in /usr/local/lib/python3.10/dist-packages (from requests->huggingface-hub->accelerate) (2023.11.17)\n",
            "Requirement already satisfied: mpmath>=0.19 in /usr/local/lib/python3.10/dist-packages (from sympy->torch>=1.10.0->accelerate) (1.3.0)\n"
          ]
        }
      ]
    },
    {
      "cell_type": "code",
      "source": [
        "#t0 = default_timer()\n",
        "model = transformers.AutoModelForCausalLM.from_pretrained(\n",
        "    model_path,\n",
        "    trust_remote_code=True,\n",
        "    config=model_config,\n",
        "    quantization_config=bnb_config,\n",
        "    torch_dtype = torch.bfloat16,\n",
        "   # device_map=\"auto\",  # {\"\": 1},  # \"cuda:0\",\n",
        "     device_map='auto',\n",
        "     load_in_4bit=True\n",
        ")\n",
        "print(default_timer(), 'sec.')"
      ],
      "metadata": {
        "execution": {
          "iopub.status.busy": "2023-11-30T18:09:52.062747Z",
          "iopub.execute_input": "2023-11-30T18:09:52.063193Z",
          "iopub.status.idle": "2023-11-30T18:12:16.114132Z",
          "shell.execute_reply.started": "2023-11-30T18:09:52.063161Z",
          "shell.execute_reply": "2023-11-30T18:12:16.113105Z"
        },
        "trusted": true,
        "colab": {
          "base_uri": "https://localhost:8080/",
          "height": 150,
          "referenced_widgets": [
            "a6e1d016f0934c4ba4b470ff1490de28",
            "4d3ff8563ee1441799d2e1cd423c9afc",
            "fdc4d841602c46d28cf8955a9d3d3fb5",
            "cb25a2a2300a422197d21c5277edb0df",
            "ae4121686d4544a48d668bc1a0b95039",
            "da392b9670274b3ca970b1e98dbcca42",
            "8ae9374de6204a59b493a8d9bb9e9917",
            "d0f0a118b13d44db9e3d3e766b047cb4",
            "c558c6355d2c483a9735cf5566bd8043",
            "e385346818cc4bd4bf1006313334c0be",
            "66e33c9162a8429797df9cbbfd48cd13"
          ]
        },
        "id": "W6TE5KixX1GQ",
        "outputId": "e9229077-4e06-4ef5-ccb2-02b36d58deda"
      },
      "execution_count": 32,
      "outputs": [
        {
          "output_type": "display_data",
          "data": {
            "text/plain": [
              "Loading checkpoint shards:   0%|          | 0/2 [00:00<?, ?it/s]"
            ],
            "application/vnd.jupyter.widget-view+json": {
              "version_major": 2,
              "version_minor": 0,
              "model_id": "a6e1d016f0934c4ba4b470ff1490de28"
            }
          },
          "metadata": {}
        },
        {
          "output_type": "stream",
          "name": "stdout",
          "text": [
            "1564.02500114 sec.\n"
          ]
        }
      ]
    },
    {
      "cell_type": "markdown",
      "source": [
        "<div class=\"alert alert-block alert-warning\">\n",
        "<b>Quantized Model</b><br><br> We currently can't save a model that has been quantized with BitsAndBytes <br><br>\n",
        "\n",
        "See Pull Request https://github.com/huggingface/transformers/pull/26037\n",
        "\n",
        "</div>"
      ],
      "metadata": {
        "id": "MGdz_ffaX1GS"
      }
    },
    {
      "cell_type": "code",
      "source": [
        "print('Architecture\\n')\n",
        "model"
      ],
      "metadata": {
        "execution": {
          "iopub.status.busy": "2023-11-30T18:12:16.116087Z",
          "iopub.execute_input": "2023-11-30T18:12:16.11639Z",
          "iopub.status.idle": "2023-11-30T18:12:16.126311Z",
          "shell.execute_reply.started": "2023-11-30T18:12:16.116364Z",
          "shell.execute_reply": "2023-11-30T18:12:16.125356Z"
        },
        "trusted": true,
        "colab": {
          "base_uri": "https://localhost:8080/"
        },
        "id": "mLKyIZqFX1GU",
        "outputId": "03c0fe10-7738-4ecc-b573-592c9026ed54"
      },
      "execution_count": 33,
      "outputs": [
        {
          "output_type": "stream",
          "name": "stdout",
          "text": [
            "Architecture\n",
            "\n"
          ]
        },
        {
          "output_type": "execute_result",
          "data": {
            "text/plain": [
              "MistralForCausalLM(\n",
              "  (model): MistralModel(\n",
              "    (embed_tokens): Embedding(32000, 4096)\n",
              "    (layers): ModuleList(\n",
              "      (0-31): 32 x MistralDecoderLayer(\n",
              "        (self_attn): MistralAttention(\n",
              "          (q_proj): Linear4bit(in_features=4096, out_features=4096, bias=False)\n",
              "          (k_proj): Linear4bit(in_features=4096, out_features=1024, bias=False)\n",
              "          (v_proj): Linear4bit(in_features=4096, out_features=1024, bias=False)\n",
              "          (o_proj): Linear4bit(in_features=4096, out_features=4096, bias=False)\n",
              "          (rotary_emb): MistralRotaryEmbedding()\n",
              "        )\n",
              "        (mlp): MistralMLP(\n",
              "          (gate_proj): Linear4bit(in_features=4096, out_features=14336, bias=False)\n",
              "          (up_proj): Linear4bit(in_features=4096, out_features=14336, bias=False)\n",
              "          (down_proj): Linear4bit(in_features=14336, out_features=4096, bias=False)\n",
              "          (act_fn): SiLUActivation()\n",
              "        )\n",
              "        (input_layernorm): MistralRMSNorm()\n",
              "        (post_attention_layernorm): MistralRMSNorm()\n",
              "      )\n",
              "    )\n",
              "    (norm): MistralRMSNorm()\n",
              "  )\n",
              "  (lm_head): Linear(in_features=4096, out_features=32000, bias=False)\n",
              ")"
            ]
          },
          "metadata": {},
          "execution_count": 33
        }
      ]
    },
    {
      "cell_type": "code",
      "source": [
        "from pynvml import nvmlInit, nvmlDeviceGetHandleByIndex, nvmlDeviceGetMemoryInfo\n",
        "\n",
        "def print_gpu_utilization():\n",
        "    nvmlInit()\n",
        "    handle = nvmlDeviceGetHandleByIndex(0)\n",
        "    info = nvmlDeviceGetMemoryInfo(handle)\n",
        "    print(f\"GPU memory occupied: {info.used//1024**2} MB.\")"
      ],
      "metadata": {
        "execution": {
          "iopub.status.busy": "2023-11-30T18:12:16.127657Z",
          "iopub.execute_input": "2023-11-30T18:12:16.128054Z",
          "iopub.status.idle": "2023-11-30T18:12:16.146883Z",
          "shell.execute_reply.started": "2023-11-30T18:12:16.128026Z",
          "shell.execute_reply": "2023-11-30T18:12:16.145823Z"
        },
        "trusted": true,
        "colab": {
          "base_uri": "https://localhost:8080/",
          "height": 732
        },
        "id": "EE3Exs3PX1GW",
        "outputId": "3d5cfd55-2180-4a20-cf02-7ed71efe423e"
      },
      "execution_count": 34,
      "outputs": [
        {
          "output_type": "error",
          "ename": "ModuleNotFoundError",
          "evalue": "No module named 'pynvml'",
          "traceback": [
            "\u001b[0;31m---------------------------------------------------------------------------\u001b[0m",
            "\u001b[0;31mModuleNotFoundError\u001b[0m                       Traceback (most recent call last)",
            "\u001b[0;32m<ipython-input-34-13bdd78042cc>\u001b[0m in \u001b[0;36m<cell line: 1>\u001b[0;34m()\u001b[0m\n\u001b[0;32m----> 1\u001b[0;31m \u001b[0;32mfrom\u001b[0m \u001b[0mpynvml\u001b[0m \u001b[0;32mimport\u001b[0m \u001b[0mnvmlInit\u001b[0m\u001b[0;34m,\u001b[0m \u001b[0mnvmlDeviceGetHandleByIndex\u001b[0m\u001b[0;34m,\u001b[0m \u001b[0mnvmlDeviceGetMemoryInfo\u001b[0m\u001b[0;34m\u001b[0m\u001b[0;34m\u001b[0m\u001b[0m\n\u001b[0m\u001b[1;32m      2\u001b[0m \u001b[0;34m\u001b[0m\u001b[0m\n\u001b[1;32m      3\u001b[0m \u001b[0;32mdef\u001b[0m \u001b[0mprint_gpu_utilization\u001b[0m\u001b[0;34m(\u001b[0m\u001b[0;34m)\u001b[0m\u001b[0;34m:\u001b[0m\u001b[0;34m\u001b[0m\u001b[0;34m\u001b[0m\u001b[0m\n\u001b[1;32m      4\u001b[0m     \u001b[0mnvmlInit\u001b[0m\u001b[0;34m(\u001b[0m\u001b[0;34m)\u001b[0m\u001b[0;34m\u001b[0m\u001b[0;34m\u001b[0m\u001b[0m\n\u001b[1;32m      5\u001b[0m     \u001b[0mhandle\u001b[0m \u001b[0;34m=\u001b[0m \u001b[0mnvmlDeviceGetHandleByIndex\u001b[0m\u001b[0;34m(\u001b[0m\u001b[0;36m0\u001b[0m\u001b[0;34m)\u001b[0m\u001b[0;34m\u001b[0m\u001b[0;34m\u001b[0m\u001b[0m\n",
            "\u001b[0;31mModuleNotFoundError\u001b[0m: No module named 'pynvml'",
            "",
            "\u001b[0;31m---------------------------------------------------------------------------\u001b[0;32m\nNOTE: If your import is failing due to a missing package, you can\nmanually install dependencies using either !pip or !apt.\n\nTo view examples of installing some common dependencies, click the\n\"Open Examples\" button below.\n\u001b[0;31m---------------------------------------------------------------------------\u001b[0m\n"
          ],
          "errorDetails": {
            "actions": [
              {
                "action": "open_url",
                "actionText": "Open Examples",
                "url": "/notebooks/snippets/importing_libraries.ipynb"
              }
            ]
          }
        }
      ]
    },
    {
      "cell_type": "code",
      "source": [
        "print(f'The model has {model.num_parameters():,} parameters.')\n",
        "print(f'The Model runs on {model.device}')\n",
        "print_gpu_utilization()"
      ],
      "metadata": {
        "execution": {
          "iopub.status.busy": "2023-11-30T18:12:16.149546Z",
          "iopub.execute_input": "2023-11-30T18:12:16.14991Z",
          "iopub.status.idle": "2023-11-30T18:12:16.158267Z",
          "shell.execute_reply.started": "2023-11-30T18:12:16.149884Z",
          "shell.execute_reply": "2023-11-30T18:12:16.157333Z"
        },
        "trusted": true,
        "colab": {
          "base_uri": "https://localhost:8080/",
          "height": 439
        },
        "id": "ke5speOYX1GY",
        "outputId": "f58979aa-e0a8-424b-83c3-4be41b9c7362"
      },
      "execution_count": 35,
      "outputs": [
        {
          "output_type": "stream",
          "name": "stdout",
          "text": [
            "The model has 7,241,732,096 parameters.\n",
            "The Model runs on cuda:0\n"
          ]
        },
        {
          "output_type": "error",
          "ename": "NameError",
          "evalue": "name 'print_gpu_utilization' is not defined",
          "traceback": [
            "\u001b[0;31m---------------------------------------------------------------------------\u001b[0m",
            "\u001b[0;31mNameError\u001b[0m                                 Traceback (most recent call last)",
            "\u001b[0;32m<ipython-input-35-1c27d4e280fb>\u001b[0m in \u001b[0;36m<cell line: 3>\u001b[0;34m()\u001b[0m\n\u001b[1;32m      1\u001b[0m \u001b[0mprint\u001b[0m\u001b[0;34m(\u001b[0m\u001b[0;34mf'The model has {model.num_parameters():,} parameters.'\u001b[0m\u001b[0;34m)\u001b[0m\u001b[0;34m\u001b[0m\u001b[0;34m\u001b[0m\u001b[0m\n\u001b[1;32m      2\u001b[0m \u001b[0mprint\u001b[0m\u001b[0;34m(\u001b[0m\u001b[0;34mf'The Model runs on {model.device}'\u001b[0m\u001b[0;34m)\u001b[0m\u001b[0;34m\u001b[0m\u001b[0;34m\u001b[0m\u001b[0m\n\u001b[0;32m----> 3\u001b[0;31m \u001b[0mprint_gpu_utilization\u001b[0m\u001b[0;34m(\u001b[0m\u001b[0;34m)\u001b[0m\u001b[0;34m\u001b[0m\u001b[0;34m\u001b[0m\u001b[0m\n\u001b[0m",
            "\u001b[0;31mNameError\u001b[0m: name 'print_gpu_utilization' is not defined"
          ]
        }
      ]
    },
    {
      "cell_type": "code",
      "source": [
        "print('Model (without head) \\n\\n')\n",
        "model.model"
      ],
      "metadata": {
        "execution": {
          "iopub.status.busy": "2023-11-30T18:12:16.159381Z",
          "iopub.execute_input": "2023-11-30T18:12:16.159672Z",
          "iopub.status.idle": "2023-11-30T18:12:16.173026Z",
          "shell.execute_reply.started": "2023-11-30T18:12:16.159648Z",
          "shell.execute_reply": "2023-11-30T18:12:16.172042Z"
        },
        "trusted": true,
        "colab": {
          "base_uri": "https://localhost:8080/"
        },
        "id": "uBQcbXihX1GZ",
        "outputId": "790e182b-1073-4281-b5dc-3ef828bbd83b"
      },
      "execution_count": 36,
      "outputs": [
        {
          "output_type": "stream",
          "name": "stdout",
          "text": [
            "Model (without head) \n",
            "\n",
            "\n"
          ]
        },
        {
          "output_type": "execute_result",
          "data": {
            "text/plain": [
              "MistralModel(\n",
              "  (embed_tokens): Embedding(32000, 4096)\n",
              "  (layers): ModuleList(\n",
              "    (0-31): 32 x MistralDecoderLayer(\n",
              "      (self_attn): MistralAttention(\n",
              "        (q_proj): Linear4bit(in_features=4096, out_features=4096, bias=False)\n",
              "        (k_proj): Linear4bit(in_features=4096, out_features=1024, bias=False)\n",
              "        (v_proj): Linear4bit(in_features=4096, out_features=1024, bias=False)\n",
              "        (o_proj): Linear4bit(in_features=4096, out_features=4096, bias=False)\n",
              "        (rotary_emb): MistralRotaryEmbedding()\n",
              "      )\n",
              "      (mlp): MistralMLP(\n",
              "        (gate_proj): Linear4bit(in_features=4096, out_features=14336, bias=False)\n",
              "        (up_proj): Linear4bit(in_features=4096, out_features=14336, bias=False)\n",
              "        (down_proj): Linear4bit(in_features=14336, out_features=4096, bias=False)\n",
              "        (act_fn): SiLUActivation()\n",
              "      )\n",
              "      (input_layernorm): MistralRMSNorm()\n",
              "      (post_attention_layernorm): MistralRMSNorm()\n",
              "    )\n",
              "  )\n",
              "  (norm): MistralRMSNorm()\n",
              ")"
            ]
          },
          "metadata": {},
          "execution_count": 36
        }
      ]
    },
    {
      "cell_type": "markdown",
      "source": [
        "# Test Model"
      ],
      "metadata": {
        "id": "Nmquk65zX1Gb"
      }
    },
    {
      "cell_type": "code",
      "source": [
        "query = \"Please explain what is the State of the Union address. Give just a definition. Keep it in 100 words.\"\n",
        "messages = [{\n",
        "    \"role\":\"user\",\n",
        "    \"content\": query\n",
        "}]\n",
        "model_inputs = tokenizer.apply_chat_template(messages, return_tensors = \"pt\").to('cuda')"
      ],
      "metadata": {
        "execution": {
          "iopub.status.busy": "2023-11-30T18:12:43.911468Z",
          "iopub.execute_input": "2023-11-30T18:12:43.911845Z",
          "iopub.status.idle": "2023-11-30T18:12:43.91807Z",
          "shell.execute_reply.started": "2023-11-30T18:12:43.911816Z",
          "shell.execute_reply": "2023-11-30T18:12:43.917029Z"
        },
        "trusted": true,
        "id": "qm74npARX1Gc"
      },
      "execution_count": 39,
      "outputs": []
    },
    {
      "cell_type": "code",
      "source": [
        "# Setting `pad_token_id` to `eos_token_id` for open-ended generation.\n",
        "generated_ids = model.generate(\n",
        "    model_inputs,\n",
        "    max_new_tokens = 7500,\n",
        "    do_sample = True,\n",
        "    pad_token_id = tokenizer.eos_token_id\n",
        "\n",
        ")\n",
        "print('Generated IDs:', generated_ids)"
      ],
      "metadata": {
        "execution": {
          "iopub.status.busy": "2023-11-30T18:12:47.86227Z",
          "iopub.execute_input": "2023-11-30T18:12:47.862644Z",
          "iopub.status.idle": "2023-11-30T18:12:55.425578Z",
          "shell.execute_reply.started": "2023-11-30T18:12:47.862611Z",
          "shell.execute_reply": "2023-11-30T18:12:55.424627Z"
        },
        "trusted": true,
        "colab": {
          "base_uri": "https://localhost:8080/"
        },
        "id": "cGaBiwy3X1Ge",
        "outputId": "0f824907-5f8a-4e91-ba5b-726960bb8dc2"
      },
      "execution_count": 40,
      "outputs": [
        {
          "output_type": "stream",
          "name": "stdout",
          "text": [
            "Generated IDs: tensor([[    1,   733, 16289, 28793,  5919,  7282,   767,   349,   272,  3885,\n",
            "           302,   272,  7085,  2962, 28723, 16104,   776,   264,  7526, 28723,\n",
            "         10339,   378,   297, 28705, 28740, 28734, 28734,  3085, 28723,   733,\n",
            "         28748, 16289, 28793,   415,  3885,   302,   272,  7085,  2962,   349,\n",
            "           396,  9558,  1951,   297,   690,   272,  4951,   302,   272,  2969,\n",
            "          3543,   882,  1588,   264,  8666,   298,  8463, 28725,  9566,   297,\n",
            "          2935,  4624, 28723,  6213,   272,  8666, 28725,   272,  4951,  5312,\n",
            "           396,  4009,   356,   272,  4644,   302,   272,  5878,   304,  3342,\n",
            "           274,   272,  1868,  1665,   302,   272,  8725, 28725,  4282,  4908,\n",
            "         28725,   304,   799, 20902,  4382, 28723,   415,  8666,   349,  5035,\n",
            "           298,  3084,   264,  3081,   304,  3078,   864, 23094,   302,   272,\n",
            "          4951, 28742, 28713, 28231,   304,  6400,   354,   272,  3524,   879,\n",
            "         28725,   304,   378,  2608,  5532,  6470,   298,  2992,   354,  8463,\n",
            "         28723,     2]], device='cuda:0')\n"
          ]
        }
      ]
    },
    {
      "cell_type": "code",
      "source": [
        "decoded = tokenizer.batch_decode(generated_ids, skip_special_tokens=True)\n",
        "print('Decoded:', decoded)"
      ],
      "metadata": {
        "execution": {
          "iopub.status.busy": "2023-11-30T18:12:55.427048Z",
          "iopub.execute_input": "2023-11-30T18:12:55.427346Z",
          "iopub.status.idle": "2023-11-30T18:12:55.43356Z",
          "shell.execute_reply.started": "2023-11-30T18:12:55.427321Z",
          "shell.execute_reply": "2023-11-30T18:12:55.432587Z"
        },
        "trusted": true,
        "colab": {
          "base_uri": "https://localhost:8080/"
        },
        "id": "2SMWhOYQX1Gg",
        "outputId": "d220a364-0e89-4dff-cc11-710ab0fd1de7"
      },
      "execution_count": 41,
      "outputs": [
        {
          "output_type": "stream",
          "name": "stdout",
          "text": [
            "Decoded: [\"[INST] Please explain what is the State of the Union address. Give just a definition. Keep it in 100 words. [/INST] The State of the Union address is an annual event in which the president of the United States delivers a speech to Congress, typically in early January. During the speech, the president provides an update on the condition of the nation and discusses the current state of the economy, national security, and other pressing issues. The speech is meant to provide a clear and concise overview of the president's priorities and plans for the coming year, and it often includes calls to action for Congress.\"]\n"
          ]
        }
      ]
    },
    {
      "cell_type": "markdown",
      "source": [
        "# RAG"
      ],
      "metadata": {
        "id": "Oz1ogs63X1Gi"
      }
    },
    {
      "cell_type": "markdown",
      "source": [
        "![image](https://upload.wikimedia.org/wikipedia/commons/thumb/3/37/RAG_schema.svg/1024px-RAG_schema.svg.png)"
      ],
      "metadata": {
        "id": "dDi9zWjRX1Gj"
      }
    },
    {
      "cell_type": "code",
      "source": [
        "# Wrap tokenizer and model with pipeline\n",
        "pipeline = transformers.pipeline(\n",
        "    model=model,\n",
        "    tokenizer=tokenizer,\n",
        "    task='text-generation',\n",
        "    # temperature=0.1,\n",
        "    max_new_tokens=150,\n",
        "    # repetition_penalty=1.1\n",
        "    return_full_text=False,\n",
        "#     torch_dtype=torch.float16,\n",
        "    pad_token_id = tokenizer.eos_token_id,  # open-end generation (and suppressing warning...)\n",
        ")"
      ],
      "metadata": {
        "execution": {
          "iopub.status.busy": "2023-11-30T18:13:05.411381Z",
          "iopub.execute_input": "2023-11-30T18:13:05.412008Z",
          "iopub.status.idle": "2023-11-30T18:13:07.247501Z",
          "shell.execute_reply.started": "2023-11-30T18:13:05.411963Z",
          "shell.execute_reply": "2023-11-30T18:13:07.246722Z"
        },
        "trusted": true,
        "id": "1CVVZfWLX1Gk"
      },
      "execution_count": 42,
      "outputs": []
    },
    {
      "cell_type": "code",
      "source": [
        "# Wrap pipeline with langchain's HuggingFacePipeline\n",
        "llm = HuggingFacePipeline(pipeline=pipeline)"
      ],
      "metadata": {
        "execution": {
          "iopub.status.busy": "2023-11-30T18:13:07.248956Z",
          "iopub.execute_input": "2023-11-30T18:13:07.249223Z",
          "iopub.status.idle": "2023-11-30T18:13:07.25469Z",
          "shell.execute_reply.started": "2023-11-30T18:13:07.249199Z",
          "shell.execute_reply": "2023-11-30T18:13:07.253775Z"
        },
        "trusted": true,
        "id": "aO6le9PmX1Gm"
      },
      "execution_count": 43,
      "outputs": []
    },
    {
      "cell_type": "markdown",
      "source": [
        "# RAG - State of the Union 2023"
      ],
      "metadata": {
        "id": "TjfUZcP8X1Go"
      }
    },
    {
      "cell_type": "code",
      "source": [
        "loader = TextLoader(\"/content/biden-sotu-2023-autogenerated-transcript.txt\",\n",
        "                    encoding=\"utf8\")\n",
        "documents = loader.load()\n",
        "print(len(documents), 'Document')\n",
        "\n",
        "text_splitter = RecursiveCharacterTextSplitter(chunk_size=1000,\n",
        "                                               chunk_overlap=20)\n",
        "all_splits = text_splitter.split_documents(documents)\n",
        "print(len(all_splits), 'Chunks')"
      ],
      "metadata": {
        "execution": {
          "iopub.status.busy": "2023-11-30T18:13:25.349432Z",
          "iopub.execute_input": "2023-11-30T18:13:25.349811Z",
          "iopub.status.idle": "2023-11-30T18:13:25.39032Z",
          "shell.execute_reply.started": "2023-11-30T18:13:25.349778Z",
          "shell.execute_reply": "2023-11-30T18:13:25.389448Z"
        },
        "trusted": true,
        "colab": {
          "base_uri": "https://localhost:8080/"
        },
        "id": "ZwI23Od9X1Gp",
        "outputId": "649be9df-4f12-42fd-d336-fa6a636e94c5"
      },
      "execution_count": 46,
      "outputs": [
        {
          "output_type": "stream",
          "name": "stdout",
          "text": [
            "1 Document\n",
            "54 Chunks\n"
          ]
        }
      ]
    },
    {
      "cell_type": "code",
      "source": [
        "embeddings_model_name = \"sentence-transformers/all-mpnet-base-v2\"\n",
        "embeddings_model_kwargs = {\"device\": \"cuda\"}\n",
        "\n",
        "# HuggingFaceEmbeddings is a langchain class\n",
        "embeddings = HuggingFaceEmbeddings(model_name=embeddings_model_name,\n",
        "                                   model_kwargs=embeddings_model_kwargs)"
      ],
      "metadata": {
        "execution": {
          "iopub.status.busy": "2023-11-30T18:13:27.026325Z",
          "iopub.execute_input": "2023-11-30T18:13:27.027206Z",
          "iopub.status.idle": "2023-11-30T18:13:33.836849Z",
          "shell.execute_reply.started": "2023-11-30T18:13:27.027171Z",
          "shell.execute_reply": "2023-11-30T18:13:33.835779Z"
        },
        "trusted": true,
        "colab": {
          "base_uri": "https://localhost:8080/",
          "height": 1000,
          "referenced_widgets": [
            "6a93a52b2b8d4ddc99993b2a0c67e30b",
            "8d36fb76b07942a49c50fc98578c2b6a",
            "1b86f27821694e9b80a89d868a3f0231",
            "f4da9e12b1a744468c4c5a412024a6d8",
            "8d972d554a1d470a8f2ee5cb452f774b",
            "87b04ad91fdf4a8c805934803c92d974",
            "86190af33eb040cfa9ef7f79046e331d",
            "427be03335c34c5799d5815fc04c3e7f",
            "9b7dff079a144a458f3c5b378c14ff99",
            "e96b709385274dcbb652adf44ad6e956",
            "07f4308304bb44d787461c0521cfdb80",
            "d9047b1ca8c94137bd0733fd61470c27",
            "a72e06dbeca44acf8bd2d1696fabcb53",
            "7e40785160be409299ad73794da011a9",
            "81b8169869f942979da772e1d3d8860e",
            "82beff44d56d4c318f5ddc5b6865e67e",
            "27b77833012a43cf9e32a21b50f658a4",
            "0cf9342a6f404ddf910d0199e750441a",
            "5027c0c8ffa64d5eac76cad3dce2d140",
            "5707aa44c40f4318b08c4018193fe855",
            "21a382b76f66421a807043097a659e6e",
            "1d1d51bc2d584ad79636a6901dcfd0b6",
            "dabe800f6cd94858b7abeba86415865c",
            "89d16944fe854090a66a2fd3bad1d918",
            "7d82da52c9e9481bb2c45e533223da2d",
            "766ec925af5845b4bc2002be7d7f27af",
            "a9154cc82d66484982e550b0356dc006",
            "5f98de9effe747eb94681bcec9b128ec",
            "1d006a35e59f46f2b17844a1cf8b7acb",
            "1eaba052224b44548cfd60ffa80eafcb",
            "5f16dc47921745aba8a18ce5dad60211",
            "f67eb70824904ed0bcaedd0a8d7a574a",
            "7f898fc3758c4f628d8a4ffc0d223cd6",
            "a94f54bd1da54a3fa2d5f097d6c0482e",
            "f221386586174d5a9cc86af6840bf802",
            "e381f1dfdef84deb810ce8c96bb636e3",
            "cc552b39adf3495e97f368fba34ef5a1",
            "4458ad6d8d574b0c9ba31d20847de814",
            "8162c7fa550847f280f313f29ece1c88",
            "cf7bd1d0c4af482e8bd2b6291768d497",
            "b317e0655ea34d369146ef5aeda8f948",
            "9174d45f9f6545c2b19e442a4a5eff3d",
            "ff62e79c7214413f97d0d44152bd43c3",
            "0c6e18de449945fea86a8d77f6d79241",
            "07681bf4838f422399687d5ba9646e50",
            "e5133ccbc1214ac88e7f420653632ea3",
            "a5699db82afa45d89865ec6dfbaa6919",
            "b201918b1884412da0af8976e077e886",
            "2ed8cbfd90c24fbf8f0c6ceeaa1ee931",
            "620c72b18add4a47a31be7119de00c8b",
            "d060c794be244998a0c4d12f7ca1090a",
            "2423dcdcfe2c4f6ab9bd2a0152b14951",
            "d447dea994ad4c3786116b4897aaac8f",
            "01b229d8d498476485d3d93130ff9084",
            "d44c1e7195a9420585621db6556ec510",
            "5bae9e7bb63148e5b78f93d6adc8d8b0",
            "7287061c5cb24355b42b6aedb9609b81",
            "3145caef519b479ca519329a119983eb",
            "384a6e2e10834f94b9cf0ace55a9b6be",
            "c212f181ef2849fa98a2856c3dc6dd4e",
            "00b8f33d0d29426a99b294373f556139",
            "70577e694be14dd5af01b9257cc7f31e",
            "3e520411ed854e3ebf66f1ceda54b081",
            "6f6bfcca139844f09582db9c94f198a8",
            "f8045e13ae7e4b62bcb8608a9386d265",
            "95c6e73d0a6f47179815aca2b367f489",
            "d2c91f4b90c14aacb455263b83d59b42",
            "1e1ff9bba5244804b3c2ee3dbf3c1c84",
            "cbf45460772c4afb91ab69a3f8d7698f",
            "cf6fd29dd6714f028965b0ac6e3b2b51",
            "6be9351450344ac3824564e7196cb3d6",
            "69e787fa84804df7942d41405b2d077a",
            "87f69ad0f6124f42be780fa3b5948a2e",
            "d5ae264dcf3547fa9a1eeca756c6d769",
            "ef90b761d0954f18b83853ef7dfe10a8",
            "11be570aca6542f797ebbc8699e20719",
            "d2c3ce23cab54be3bf4ed1e7fcb0d9a8",
            "83ae33a2a1b84effb166d879c9e08942",
            "8a218379e9e7442eb316907c63c64a87",
            "da57338fba254127b75c13343a69970e",
            "f7ce3ed4f1f841aaa6ddd75263434b6a",
            "f70cd9b6d25f448faccd98215cfd70ef",
            "06e3c8cbe70e4ce892a86c46193e443c",
            "fa98570c57334906ab1aaea9c7a276be",
            "505ffa57d2d0453fbdaebc9c6eca9bde",
            "2b5d862337da41c39d9c8fc1825c9ff3",
            "c23c5536263a4efb89f020c41c8d6937",
            "d59914251d194391bc8e50811941a447",
            "36abc78e10514e61ad2932f2385c4cef",
            "8612ebf89fa8445fa00496f16bb7e2fa",
            "a438c88a05a0485f8cd9745b0dd4c0f2",
            "39e1b016fdee4df09bebb14550abf14a",
            "5e9ac10e77e141318211cd66f4484d6d",
            "5297655383bf4b428e7690eaa84ba9d0",
            "36660a3c693b43e4a67d742d1887a121",
            "4fac3714cb00469dab2cf43beb8eff79",
            "982fc69337d245709ea654dadce08b4b",
            "d06596721e304c0496e32511ccdc3e55",
            "9ef5ec9f95a14cf0b06608c7c94554f4",
            "e8ed851147bb4411bec1aa84d8bd8807",
            "53da0ee7d32547569e316f6992c21d8e",
            "bf3965a93dca4388828d26f6f4557a90",
            "73436b65cdfa41a5834491e00f4b9f09",
            "495203577e9f48f5a90418b131ef0b30",
            "e403e8123eb64142a06ce9ed9c5fb190",
            "a08987ffe0974b8682e7e6ecc6a047be",
            "9bfd7b428ed44dbe80aa04a1bd8767d9",
            "9449a7ac0ad749c2b31bbe393dca7b0c",
            "750cb5c2825d484d99e90869f7c51aa4",
            "742039618c8d4ba3ab7c21553222f331",
            "2283e51849614137ad3c3505ecd29316",
            "dfcbdbdef1a446c3902c451b63fa9ef3",
            "f9ecebcdd6b84d25be9a980b4fb0df16",
            "666c4ab4a2c54dc8ae6b7795132caad9",
            "d7effd29f4b24f02a010a0206989d37f",
            "cef8413175904a18a1ed1abb8db181bd",
            "e54d2a3028934707827bc3ec4db6385f",
            "eacbafbe7c114a949840fc3e9e581197",
            "5c3d1f05eca341fa8d9951ad11578af7",
            "a9c57e5a160c48cf9a8e3c1506f0cf6d",
            "f7e4acd132624754a14aa750c20b2149",
            "5eea828463704163acc6dfa8c7c82c2a",
            "20b18452d2174805911e19687d163fb5",
            "2f525fa975904c679ba69d4b829ebbc4",
            "2aa606f4c3f24bdf8ada80edc6ce0ec7",
            "c5f85e8ee1864b1da725fae26a29e897",
            "57f8a74d7f1d4250bfb786f55f338884",
            "9a063557401447e7bcbcc44c4a67ddcf",
            "754b516c24dc42ec995ca4f37bfb7a5e",
            "f426158596514006866aa2c00de36c0f",
            "d66dbf968a5049d5bee298a810105df5",
            "2a3e62cad2c249b4aaf259be2a5e546b",
            "7441f36d3f174151a0dcacd8cce7c97b",
            "23b0e83d8f154fc185bc203de6f45421",
            "b76a7538f1204ded9a23a0b9ca2226b5",
            "42bb704ae69848be8b5478af09878bdf",
            "f839a206e7cb4b989a51d9d8e4851aa3",
            "a4497ae55c6f4ff7bd075fe7abaf03a4",
            "cccea48ce3824c409335a5e4b9414bfc",
            "6cc10f974f20447391cdf9cf0e6b15d9",
            "d3faf479fe614eb18b23e134d9078201",
            "ea75b26e1e394b53a29b9e4c7e5f1820",
            "dbe8e43ab8a24cad9bff480df981b6ab",
            "71280f3e70ff4676a9079146748c7d4e",
            "371fb02322394114ba9945467952ca0a",
            "0da1b33cce494b3cb0b945ca635dfa14",
            "5489a08d8d3b4533b062a7def632bfca",
            "0fe0981bcee7442eb657f34f53cade90",
            "84b62da08be04a8396a087ce739426b5",
            "315f92374c3e4be3bc214af7b123db6b",
            "e4250fb65235405cb35ba26ec68a0756",
            "0a1b8b9e40b74228861e1857c6e9d945",
            "6831f6ad433c47a68ff0c1ea0db00bfa",
            "c1f097e92fd145caa18a055087171088"
          ]
        },
        "id": "vRUFrsBYX1Gr",
        "outputId": "2907f186-9a13-49a4-cd6d-817d2ea1c675"
      },
      "execution_count": 47,
      "outputs": [
        {
          "output_type": "display_data",
          "data": {
            "text/plain": [
              ".gitattributes:   0%|          | 0.00/1.18k [00:00<?, ?B/s]"
            ],
            "application/vnd.jupyter.widget-view+json": {
              "version_major": 2,
              "version_minor": 0,
              "model_id": "6a93a52b2b8d4ddc99993b2a0c67e30b"
            }
          },
          "metadata": {}
        },
        {
          "output_type": "display_data",
          "data": {
            "text/plain": [
              "1_Pooling/config.json:   0%|          | 0.00/190 [00:00<?, ?B/s]"
            ],
            "application/vnd.jupyter.widget-view+json": {
              "version_major": 2,
              "version_minor": 0,
              "model_id": "d9047b1ca8c94137bd0733fd61470c27"
            }
          },
          "metadata": {}
        },
        {
          "output_type": "display_data",
          "data": {
            "text/plain": [
              "README.md:   0%|          | 0.00/10.6k [00:00<?, ?B/s]"
            ],
            "application/vnd.jupyter.widget-view+json": {
              "version_major": 2,
              "version_minor": 0,
              "model_id": "dabe800f6cd94858b7abeba86415865c"
            }
          },
          "metadata": {}
        },
        {
          "output_type": "display_data",
          "data": {
            "text/plain": [
              "config.json:   0%|          | 0.00/571 [00:00<?, ?B/s]"
            ],
            "application/vnd.jupyter.widget-view+json": {
              "version_major": 2,
              "version_minor": 0,
              "model_id": "a94f54bd1da54a3fa2d5f097d6c0482e"
            }
          },
          "metadata": {}
        },
        {
          "output_type": "display_data",
          "data": {
            "text/plain": [
              "config_sentence_transformers.json:   0%|          | 0.00/116 [00:00<?, ?B/s]"
            ],
            "application/vnd.jupyter.widget-view+json": {
              "version_major": 2,
              "version_minor": 0,
              "model_id": "07681bf4838f422399687d5ba9646e50"
            }
          },
          "metadata": {}
        },
        {
          "output_type": "display_data",
          "data": {
            "text/plain": [
              "data_config.json:   0%|          | 0.00/39.3k [00:00<?, ?B/s]"
            ],
            "application/vnd.jupyter.widget-view+json": {
              "version_major": 2,
              "version_minor": 0,
              "model_id": "5bae9e7bb63148e5b78f93d6adc8d8b0"
            }
          },
          "metadata": {}
        },
        {
          "output_type": "display_data",
          "data": {
            "text/plain": [
              "pytorch_model.bin:   0%|          | 0.00/438M [00:00<?, ?B/s]"
            ],
            "application/vnd.jupyter.widget-view+json": {
              "version_major": 2,
              "version_minor": 0,
              "model_id": "d2c91f4b90c14aacb455263b83d59b42"
            }
          },
          "metadata": {}
        },
        {
          "output_type": "display_data",
          "data": {
            "text/plain": [
              "sentence_bert_config.json:   0%|          | 0.00/53.0 [00:00<?, ?B/s]"
            ],
            "application/vnd.jupyter.widget-view+json": {
              "version_major": 2,
              "version_minor": 0,
              "model_id": "83ae33a2a1b84effb166d879c9e08942"
            }
          },
          "metadata": {}
        },
        {
          "output_type": "display_data",
          "data": {
            "text/plain": [
              "special_tokens_map.json:   0%|          | 0.00/239 [00:00<?, ?B/s]"
            ],
            "application/vnd.jupyter.widget-view+json": {
              "version_major": 2,
              "version_minor": 0,
              "model_id": "36abc78e10514e61ad2932f2385c4cef"
            }
          },
          "metadata": {}
        },
        {
          "output_type": "display_data",
          "data": {
            "text/plain": [
              "tokenizer.json:   0%|          | 0.00/466k [00:00<?, ?B/s]"
            ],
            "application/vnd.jupyter.widget-view+json": {
              "version_major": 2,
              "version_minor": 0,
              "model_id": "e8ed851147bb4411bec1aa84d8bd8807"
            }
          },
          "metadata": {}
        },
        {
          "output_type": "display_data",
          "data": {
            "text/plain": [
              "tokenizer_config.json:   0%|          | 0.00/363 [00:00<?, ?B/s]"
            ],
            "application/vnd.jupyter.widget-view+json": {
              "version_major": 2,
              "version_minor": 0,
              "model_id": "2283e51849614137ad3c3505ecd29316"
            }
          },
          "metadata": {}
        },
        {
          "output_type": "display_data",
          "data": {
            "text/plain": [
              "train_script.py:   0%|          | 0.00/13.1k [00:00<?, ?B/s]"
            ],
            "application/vnd.jupyter.widget-view+json": {
              "version_major": 2,
              "version_minor": 0,
              "model_id": "5eea828463704163acc6dfa8c7c82c2a"
            }
          },
          "metadata": {}
        },
        {
          "output_type": "display_data",
          "data": {
            "text/plain": [
              "vocab.txt:   0%|          | 0.00/232k [00:00<?, ?B/s]"
            ],
            "application/vnd.jupyter.widget-view+json": {
              "version_major": 2,
              "version_minor": 0,
              "model_id": "7441f36d3f174151a0dcacd8cce7c97b"
            }
          },
          "metadata": {}
        },
        {
          "output_type": "display_data",
          "data": {
            "text/plain": [
              "modules.json:   0%|          | 0.00/349 [00:00<?, ?B/s]"
            ],
            "application/vnd.jupyter.widget-view+json": {
              "version_major": 2,
              "version_minor": 0,
              "model_id": "71280f3e70ff4676a9079146748c7d4e"
            }
          },
          "metadata": {}
        }
      ]
    },
    {
      "cell_type": "code",
      "source": [
        "db = FAISS.from_documents(all_splits, embeddings)\n",
        "retriever = db.as_retriever()  # langchain_core.vectorstores.VectorStoreRetriever"
      ],
      "metadata": {
        "execution": {
          "iopub.status.busy": "2023-11-30T18:13:33.838582Z",
          "iopub.execute_input": "2023-11-30T18:13:33.839597Z",
          "iopub.status.idle": "2023-11-30T18:13:34.653809Z",
          "shell.execute_reply.started": "2023-11-30T18:13:33.839558Z",
          "shell.execute_reply": "2023-11-30T18:13:34.653088Z"
        },
        "trusted": true,
        "id": "cfbWGltWX1Gs"
      },
      "execution_count": 48,
      "outputs": []
    },
    {
      "cell_type": "code",
      "source": [
        "qa = RetrievalQA.from_chain_type(\n",
        "    llm=llm,\n",
        "    chain_type=\"stuff\",\n",
        "    retriever=retriever,\n",
        "    verbose=True\n",
        ")"
      ],
      "metadata": {
        "execution": {
          "iopub.status.busy": "2023-11-30T18:13:39.29132Z",
          "iopub.execute_input": "2023-11-30T18:13:39.2917Z",
          "iopub.status.idle": "2023-11-30T18:13:39.297158Z",
          "shell.execute_reply.started": "2023-11-30T18:13:39.291666Z",
          "shell.execute_reply": "2023-11-30T18:13:39.296171Z"
        },
        "trusted": true,
        "id": "NjibmUClX1Gu"
      },
      "execution_count": 49,
      "outputs": []
    },
    {
      "cell_type": "code",
      "source": [
        "query = \"What were the main topics in the State of the Union in 2023? Summarize. Keep it under 200 words.\"\n",
        "print(f\"Query: {query}\\n\")\n",
        "result = qa.run(query)\n",
        "print(\"\\nResult: \", result)"
      ],
      "metadata": {
        "execution": {
          "iopub.status.busy": "2023-11-30T18:13:41.595433Z",
          "iopub.execute_input": "2023-11-30T18:13:41.59579Z",
          "iopub.status.idle": "2023-11-30T18:13:52.361368Z",
          "shell.execute_reply.started": "2023-11-30T18:13:41.595764Z",
          "shell.execute_reply": "2023-11-30T18:13:52.360375Z"
        },
        "trusted": true,
        "colab": {
          "base_uri": "https://localhost:8080/"
        },
        "id": "80hgQ2u4X1Gv",
        "outputId": "3fa216a0-836a-4834-b8b9-bb19ea0924a3"
      },
      "execution_count": 50,
      "outputs": [
        {
          "output_type": "stream",
          "name": "stdout",
          "text": [
            "Query: What were the main topics in the State of the Union in 2023? Summarize. Keep it under 200 words.\n",
            "\n",
            "\n",
            "\n",
            "\u001b[1m> Entering new RetrievalQA chain...\u001b[0m\n"
          ]
        },
        {
          "output_type": "stream",
          "name": "stderr",
          "text": [
            "/usr/local/lib/python3.10/dist-packages/langchain_core/_api/deprecation.py:117: LangChainDeprecationWarning: The function `run` was deprecated in LangChain 0.1.0 and will be removed in 0.2.0. Use invoke instead.\n",
            "  warn_deprecated(\n"
          ]
        },
        {
          "output_type": "stream",
          "name": "stdout",
          "text": [
            "\n",
            "\u001b[1m> Finished chain.\u001b[0m\n",
            "\n",
            "Result:   The main topics in the State of the Union in 2023 were the economy, healthcare, climate change, and national security. The President spoke about the strong state of the union, the importance of expanding healthcare coverage, the need for climate change action, and the need for increased national security measures. The President also spoke about the importance of bipartisanship and working together to address these issues. The President also mentioned the need for increased funding for mental health care and the need to hold social media companies accountable for their actions.\n"
          ]
        }
      ]
    },
    {
      "cell_type": "code",
      "source": [
        "relevant_documents = retriever.get_relevant_documents(query)\n",
        "print(f\"Query: {query}\")\n",
        "print(f\"Retrieved documents: {len(relevant_documents)}\\n\")\n",
        "for doc in relevant_documents:\n",
        "    print(doc.page_content[:450], '...\\n')"
      ],
      "metadata": {
        "execution": {
          "iopub.status.busy": "2023-11-30T18:13:52.363056Z",
          "iopub.execute_input": "2023-11-30T18:13:52.363437Z",
          "iopub.status.idle": "2023-11-30T18:13:52.39916Z",
          "shell.execute_reply.started": "2023-11-30T18:13:52.363399Z",
          "shell.execute_reply": "2023-11-30T18:13:52.398269Z"
        },
        "trusted": true,
        "colab": {
          "base_uri": "https://localhost:8080/"
        },
        "id": "8P4kr0ANX1Gw",
        "outputId": "928fcb69-151c-426f-9e09-616ad25ea037"
      },
      "execution_count": 51,
      "outputs": [
        {
          "output_type": "stream",
          "name": "stdout",
          "text": [
            "Query: What were the main topics in the State of the Union in 2023? Summarize. Keep it under 200 words.\n",
            "Retrieved documents: 4\n",
            "\n",
            "of light over dark\n",
            "\n",
            "hope over fear you never do the\n",
            "\n",
            "stability over chaos\n",
            "\n",
            "we have to see each other not as enemies\n",
            "\n",
            "but as fellow Americans\n",
            "\n",
            "we're good people the only nation in the\n",
            "\n",
            "world built on an idea the only one\n",
            "\n",
            "other nations\n",
            "\n",
            "are defined by geography ethnicity\n",
            "\n",
            "[Applause]\n",
            "\n",
            "but we're the only nation based on an\n",
            "\n",
            "idea\n",
            "\n",
            "that all of us\n",
            "\n",
            "every one of us is created equal in the\n",
            "\n",
            "image of God\n",
            "\n",
            "a nation that stands as a beacon of the\n",
            "\n",
            "world\n",
            "\n",
            "a  ...\n",
            "\n",
            "producing jobs I will veto it\n",
            "\n",
            "look\n",
            "\n",
            "I'm pleased to say the more Americans\n",
            "\n",
            "helpful to have health insurance now\n",
            "\n",
            "than ever in history a record 16 million\n",
            "\n",
            "people are enrolled in the Affordable\n",
            "\n",
            "Care Act and thanks\n",
            "\n",
            "thanks for the law I signed last year\n",
            "\n",
            "saving millions of saving 800 a year on\n",
            "\n",
            "their premiums by the way that law was\n",
            "\n",
            "written\n",
            "\n",
            "and the benefit expires in 2025.\n",
            "\n",
            "so my plea to some of you at least in\n",
            "\n",
            "this audience let's finish the j ...\n",
            "\n",
            "those challenges from climate to Global\n",
            "\n",
            "Health to food insecurity to terrorism\n",
            "\n",
            "to territorial aggression\n",
            "\n",
            "allies are stepping up spending more and\n",
            "\n",
            "doing more\n",
            "\n",
            "look\n",
            "\n",
            "the bridges were forming between\n",
            "\n",
            "partners in the Pacific and those in the\n",
            "\n",
            "Atlantic\n",
            "\n",
            "and those who bet against America are\n",
            "\n",
            "learning how wrong they are it's never\n",
            "\n",
            "ever been a good bet to bet against\n",
            "\n",
            "America never\n",
            "\n",
            "wow\n",
            "\n",
            "when I came to office most assured the\n",
            "\n",
            "bipartisanship assum ...\n",
            "\n",
            "fentanyl production in the sale and\n",
            "\n",
            "trafficking with more drug detection\n",
            "\n",
            "machines inspection cargo stop pills and\n",
            "\n",
            "powder at the border\n",
            "\n",
            "working with curry is like FedEx to\n",
            "\n",
            "expect more packages for drugs\n",
            "\n",
            "strong penalties to crack down and fend\n",
            "\n",
            "all traffic\n",
            "\n",
            "let's do more mental health especially\n",
            "\n",
            "for our children when millions of young\n",
            "\n",
            "people are struggling with bullying\n",
            "\n",
            "violence trauma we're them greater\n",
            "\n",
            "access to Mental Health Care at th ...\n",
            "\n"
          ]
        }
      ]
    },
    {
      "cell_type": "code",
      "source": [],
      "metadata": {
        "id": "u4HGJNFbX1Gy"
      },
      "execution_count": null,
      "outputs": []
    },
    {
      "cell_type": "markdown",
      "source": [
        "# RAG - Static Wikipedia Article\n",
        "https://en.wikipedia.org/wiki/Shane_MacGowan"
      ],
      "metadata": {
        "id": "OqJGqZiXX1Gz"
      }
    },
    {
      "cell_type": "code",
      "source": [
        "article = \"\"\"\n",
        "\n",
        "Shane Patrick Lysaght MacGowan (25 December 1957 – 30 November 2023) was an Irish singer and songwriter who was best known as the lead singer and songwriter of Celtic punk band the Pogues. Many of his songs are influenced by Irish nationalism, Irish history, the experiences of the Irish diaspora (particularly in England and the United States), and London life in general.[1]\n",
        "\n",
        "Born in Kent, England, to Irish parents, MacGowan joined the punk band The Nipple Erectors before founding the Pogues in 1982. He drew upon his Irish heritage when founding The Pogues and changed his early punk style for a more traditional sound with tutoring from his extended family. Between 1985 and 1987, he co-wrote the Christmas hit \"Fairytale of New York\", which he performed with Kirsty MacColl. In the following years MacGowan and The Pogues released several albums.\n",
        "\n",
        "After The Pogues fired MacGowan for unprofessional behaviour mid-tour, he formed a new band, Shane MacGowan and The Popes, with whom he recorded two studio albums. In 2001, MacGowan rejoined The Pogues for reunion shows and remained with the group until 2014. MacGowan produced his own solo material and collaborated with artists such as Joe Strummer, Nick Cave, Steve Earle, Sinéad O'Connor, and Ronnie Drew. Throughout his life MacGowan suffered physically from years of binge drinking.\n",
        "\n",
        "Early life\n",
        "MacGowan was born on 25 December 1957[2] in Pembury, Kent,[3] the son of Irish immigrants. His father was from Dublin and his mother was from Tipperary. His mother, Therese, worked as a typist at a convent[4] and had previously been a singer, traditional Irish dancer, and model. His father, Maurice, came from a middle-class background and worked in the offices of department store C&A; he was, in his own words, a \"local roustabout\". MacGowan's younger sister, Siobhan MacGowan, became a journalist, writer, and songwriter. He was born in England, but raised in Tipperary in Ireland until the age of 6.[5]\n",
        "\n",
        "MacGowan lived in many parts of southeast England such as Brighton, London, and the home counties, and attended an English public school. In 1971 he left Holmewood House preparatory school in Langton Green, Kent, with a scholarship for Westminster School.[6] He was found in possession of drugs and expelled in his second year.[7] He was first publicly noted in 1976 at a concert by London punk rock band The Clash, where his earlobe was damaged by future Mo-dettes bassist Jane Crockford. A photographer took a picture of him covered in blood, which made the local papers with the headline \"Cannibalism at Clash Gig\".[8][9][10] Shortly after this, he later joined punk band the Nipple Erectors (later known as 'The Nips'), which featured bassist Shanne Bradley.[11]\n",
        "\n",
        "Career\n",
        "1982–1991: Leading the Pogues\n",
        "MacGowan drew upon his Irish heritage when founding the Pogues and changed his early punk style for a more traditional sound with tutoring from his extended family. Many of his songs are influenced by Irish nationalism, Irish history, the experiences of the Irish diaspora (particularly in England and the United States), and London life in general.[1] These influences are documented in the biography Rake at the Gates of Hell: Shane MacGowan in Context. He often cited the 19th-century Irish poet James Clarence Mangan and playwright Brendan Behan as influences.[1] Their most critically acclaimed album was If I Should Fall from Grace with God (1988), which also marked the high point of the band's commercial success. Between 1985 and 1987, MacGowan co-wrote \"Fairytale of New York\", which he performed with Kirsty MacColl, and remains a perennial Christmas favourite. In 2004, 2005 and 2006, it was voted favourite Christmas song in a poll by music video channel VH1.[12] In the following years MacGowan and the Pogues released several albums.[1][13] In 1988 he co-wrote Streets of Sorrow/Birmingham Six, a song by the Pogues which proved highly controversial, banned on British TV and radio.[14]\n",
        "\n",
        "1992–2005: Shane MacGowan and the Popes\n",
        "After the Pogues fired MacGowan for unprofessional behaviour mid-tour, he formed a new band, Shane MacGowan and the Popes, recording two studio albums, a live album, three tracks on the Popes Outlaw Heaven (2010) and a live DVD, and touring internationally. In 1997, MacGowan appeared on Lou Reed's \"Perfect Day\", covered by numerous artists in aid of Children in Need. It was the UK's number one single for three weeks, in two separate spells.[15] Selling over a million copies, the record contributed £2,125,000 to the charity's highest fundraising total in six years.[16] From December 2003 up to May 2005, Shane MacGowan and the Popes toured extensively in the UK, Ireland and Europe.[17]\n",
        "\n",
        "2001–2014: Return to the Pogues\n",
        "A colourful image of Shane\n",
        "MacGowan depicted in the painting Boy from the County Hell by Brian Whelan\n",
        "The Pogues and MacGowan reformed for a sell-out tour in 2001 and each year from 2004 to 2009 for further tours, including headline slots at Guilfest in England and the Azkena Rock Festival in the Basque Country. In May 2005, MacGowan rejoined the Pogues permanently.[17] That same year, the Pogues re-released \"Fairytale of New York\" to raise funds for the Justice For Kirsty Campaign and Crisis at Christmas. The single was the best-selling Christmas-themed single of 2005, reaching number 3 in the UK Charts that year.[18]\n",
        "\n",
        "In 2006, he was voted 50th in the NME Rock Heroes List.[19][20] He was seen many times with the Libertines and Babyshambles singer Pete Doherty;[21] on occasions MacGowan joined Babyshambles on stage. Other famous friends included Johnny Depp, who appeared in the video for \"That Woman's Got Me Drinking\",[22] and Joe Strummer, who referred to MacGowan as \"one of the best writers of the century\" in an interview featured on the videogram release \"Live at the Town and Country Club\" from 1988. Strummer occasionally joined MacGowan and the Pogues on stage (and briefly replaced MacGowan as lead vocalist after his sacking from the band).[23] He also worked with Nick Cave and joined him on stage.[24]\n",
        "\n",
        "About his future with the Pogues, in a 24 December 2015 interview with Vice magazine,[25] when the interviewer asked whether the band were still active, MacGowan said: \"We're not, no,\" saying that, since their 2001 reunion happened, \"I went back with [the] Pogues and we grew to hate each other all over again,\" adding: \"I don't hate the band at all — they're friends. I like them a lot. We were friends for years before we joined the band. We just got a bit sick of each other. We're friends as long as we don't tour together. I've done a hell of a lot of touring. I've had enough of it.\"[26]\n",
        "\n",
        "2010–2011: the Shane Gang\n",
        "In 2010, MacGowan played impromptu shows in Dublin with a new five-piece backing band named the Shane Gang, including In Tua Nua rhythm section Paul Byrne (drums) and Jack Dublin (bass), with manager Joey Cashman on whistle. In November 2010, this line up went to Lanzarote to record a new album.[27][28] MacGowan and the Shane Gang performed at the Red Hand Rocks music festival in the Patrician Hall, Carrickmore County Tyrone in June 2011.[29]\n",
        "\n",
        "2011–2023\n",
        "MacGowan made a return to stage on 13 June 2019 at the RDS Arena in Dublin as a guest for Chrissie Hynde and the Pretenders.[30]\n",
        "\n",
        "Following on from the success of Feis Liverpool 2018's finale in which he was joined by names such as Imelda May, Paddy Moloney,[31] Albert Hammond Jr and many more, MacGowan was announced to appear on 7 July alongside a host of guests for the Feis Liverpool 2019's finale. However the event was ultimately cancelled due to a lack of ticket sales and funding issues. Feis Liverpool is the UK's largest celebration of Irish music and culture.[32]\n",
        "\n",
        "In 2020, MacGowan reportedly returned to the studio to record several new songs with the Irish indie band Cronin led by brothers Johnny and Mick Cronin.[33]\n",
        "\n",
        "Media and charity work\n",
        "MacGowan appeared in an episode of Fair City, shown on 28 December 2008.[34] In 2009, MacGowan starred in the RTÉ reality show Victoria and Shane Grow Their Own, as he and his wife Victoria Mary Clarke endeavoured to grow their own food in their own garden.[35]\n",
        "\n",
        "In 2010, MacGowan offered a piece of unusual art to the Irish Society for the Prevention of Cruelty to Children (ISPCC) to auction off to support their services to children: a drawing on a living room door.[36] It ended up earning €1,602 for the charity.[37]\n",
        "\n",
        "Personal life\n",
        "\n",
        "MacGowan performing in 2010\n",
        "Relationships\n",
        "On 26 November 2018, after a decades-long relationship and subsequent 11-year engagement, MacGowan married Irish journalist Victoria Mary Clarke in Copenhagen. They resided in Dublin.[38] MacGowan was a Roman Catholic, describing himself as \"a free-thinking religious fanatic\" who also prayed to Buddha. As an adolescent, he considered the priesthood.[39]\n",
        "\n",
        "Addictions\n",
        "In 2001, Sinéad O'Connor reported MacGowan to the police in London for drug possession, in what she said was an attempt to discourage him from using heroin.[40] At first furious, MacGowan later expressed gratitude towards O'Connor and claimed that the incident helped him kick his heroin habit.[41]\n",
        "\n",
        "MacGowan suffered physically from years of binge drinking.[42] He often performed onstage and gave interviews while drunk. In 2004, on the BBC TV political magazine programme This Week, he gave incoherent and slurred answers to questions from Janet Street-Porter about the public smoking ban in Ireland.[43] MacGowan began drinking at age five, when his family gave him Guinness to help him sleep, and his father frequently took him to the local pub while he drank with his friends.[44]\n",
        "\n",
        "In 2016, Clarke revealed to the press that MacGowan was sober \"for the first time in years.\" She explained that the origins of MacGowan's drinking problem stemmed from several years of \"singing in bars and clubs and other venues where people go to drink and have fun\" and that \"his whole career has revolved around it and, indeed, been both enhanced and simultaneously inhibited by it\". She said that his drinking was not a problem for many years but \"went from being just a normal part of life\" to becoming very unhealthy, a circumstance made much worse due to the introduction of hard drugs such as heroin. She explained that a serious bout with pneumonia, compounded by an excruciatingly painful hip injury which required a long stay in the hospital, was ultimately responsible for his sobriety. The lengthy hospital stay required a total detox, and MacGowan's sobriety continued after he got home.[45]\n",
        "\n",
        "Politics\n",
        "Having grown up in an Irish republican family, MacGowan said in 2015 that he regretted not joining the IRA. In a filmed interview he said, \"I was ashamed I didn't have the guts to join the IRA, and The Pogues was my way of overcoming that\".[46][47] The central figure in his 1997 song \"Paddy Public Enemy No. 1\" is based on ex-INLA leader Dominic McGlinchey. Asked his opinion of McGlinchey, MacGowan said \"he was a great man\".[48] He also counted Sinn Féin leader Gerry Adams as a friend, according to his most recent biography.[49]\n",
        "\n",
        "Health\n",
        "MacGowan used a wheelchair following a fall as he was leaving a Dublin studio in the summer of 2015, which fractured his pelvis.[33] He said in an interview with Vice later that year, \"It was a fall and I fell the wrong way. I broke my pelvis, which is the worst thing you can do. I'm lame in one leg, I can't walk around the room without a crutch. I am getting better, but it's taking a very long time. It's the longest I've ever taken to recover from an injury. And I've had a lot of injuries.\"[50] He continued to use a wheelchair until his death in 2023.[51][52]\n",
        "\n",
        "MacGowan was long known for having very bad teeth; he lost the last of his natural teeth sometime around 2008. In 2015, he had a new set of teeth, with one gold tooth, fitted in a nine-hour procedure. These were retained by eight titanium implants in his jaws. The procedure was the subject of the hour-long television programme Shane MacGowan: A Wreck Reborn. The dental surgeon who carried out the procedure commented that MacGowan had recorded most of his great works while he still had some teeth: \"We've effectively re-tuned his instrument and that will be an ongoing process.\"[26][53]\n",
        "\n",
        "MacGowan was hospitalised for an infection on 6 December 2022.[54][55] He was diagnosed with viral encephalitis.[56]\n",
        "\n",
        "Final illness and death\n",
        "It was reported in July 2023 that MacGowan was hospitalised in the intensive care unit (ICU).[57] Following treatment for an infection, he was discharged in November.[58] He made his last public statement on November 16, 2023, complimenting Travis Kelce's cover of \"Fairytale of New York\".[59] MacGowan died, at home with his wife by his side, on 30 November 2023.[60][61][62]\n",
        "\n",
        "Following MacGowan's death, Michael D. Higgins, President of Ireland, said: \"Shane will be remembered as one of music’s greatest lyricists. So many of his songs would be perfectly crafted poems, if that would not have deprived us of the opportunity to hear him sing them. The genius of Shane’s contribution includes the fact that his songs capture within them, as Shane would put it, the measure of our dreams - of so many worlds, and particularly those of love, of the emigrant experience and of facing the challenges of that experience with authenticity and courage, and of living and seeing the sides of life that so many turn away from.\"[63]\n",
        "\n",
        "Autobiography and biography\n",
        "In 2001, MacGowan coauthored the autobiographical book A Drink with Shane MacGowan with his then partner, later wife, Victoria Mary Clarke.[64]\n",
        "\n",
        "Aside from Rake at the Gates of Hell: Shane MacGowan in Context, which covered up to partway through his musical career, MacGowan was the subject of a 2015 biography, A Furious Devotion: The Life of Shane MacGowan.[65] He was also the subject of several books and paintings. In 2000, Tim Bradford used the title Is Shane MacGowan Still Alive? for a humorous book about Ireland and Irish culture.[66] Shaman Shane — The Wounded Healer by Stephan Martin brands Shane as a latter-day London-Irish spirit-raiser and exorcist. This commentary is found in the book Myth of Return — The Paintings of Brian Whelan and Collected Commentaries. London Irish artist Brian Whelan has painted MacGowan (for example Boy From The County Hell), his works are featured on MacGowan's official website, and is also the illustrator of The Popes’ Outlaw Heaven cover.[67]\n",
        "\n",
        "Honours and awards\n",
        "\n",
        "MacGowan receiving a Lifetime Achievement Award from President of Ireland, Michael D. Higgins, in the National Concert Hall, Dublin, on 15 November 2018\n",
        "In January 2018, MacGowan was honoured with a concert gala to celebrate his 60th birthday at the National Concert Hall in Dublin, where he was presented the Lifetime Achievement Award by Irish President Michael D. Higgins.[68] He also won the 2018 Ivor Novello Inspiration Award.[69]\n",
        "\n",
        "\"\"\""
      ],
      "metadata": {
        "execution": {
          "iopub.status.busy": "2023-11-30T18:14:52.044093Z",
          "iopub.execute_input": "2023-11-30T18:14:52.044475Z",
          "iopub.status.idle": "2023-11-30T18:14:52.063655Z",
          "shell.execute_reply.started": "2023-11-30T18:14:52.044444Z",
          "shell.execute_reply": "2023-11-30T18:14:52.062622Z"
        },
        "trusted": true,
        "id": "lMqysLePX1G1"
      },
      "execution_count": 52,
      "outputs": []
    },
    {
      "cell_type": "code",
      "source": [
        "# Mistral (unlike LLama2) has problems with [...] annotations. Let's remove them\n",
        "import re\n",
        "PATTERN = '\\[[^()]*\\]'\n",
        "article = re.sub(PATTERN, \"\", article)"
      ],
      "metadata": {
        "execution": {
          "iopub.status.busy": "2023-11-30T18:15:02.143063Z",
          "iopub.execute_input": "2023-11-30T18:15:02.143453Z",
          "iopub.status.idle": "2023-11-30T18:15:02.149042Z",
          "shell.execute_reply.started": "2023-11-30T18:15:02.143423Z",
          "shell.execute_reply": "2023-11-30T18:15:02.148004Z"
        },
        "trusted": true,
        "id": "22tqMIJKX1Ha"
      },
      "execution_count": 53,
      "outputs": []
    },
    {
      "cell_type": "code",
      "source": [
        "text_splitter = CharacterTextSplitter(chunk_size=500, chunk_overlap=100)\n",
        "documents = [Document(page_content=x) for x in text_splitter.split_text(article)]\n",
        "print(f'Split into {len(documents)} Documents')"
      ],
      "metadata": {
        "execution": {
          "iopub.status.busy": "2023-11-30T18:15:08.980015Z",
          "iopub.execute_input": "2023-11-30T18:15:08.980969Z",
          "iopub.status.idle": "2023-11-30T18:15:08.9875Z",
          "shell.execute_reply.started": "2023-11-30T18:15:08.980931Z",
          "shell.execute_reply": "2023-11-30T18:15:08.986472Z"
        },
        "trusted": true,
        "colab": {
          "base_uri": "https://localhost:8080/"
        },
        "id": "WF8KWPn-X1Hc",
        "outputId": "35d313f6-6fa1-45f3-bc81-cc529653aff9"
      },
      "execution_count": 54,
      "outputs": [
        {
          "output_type": "stream",
          "name": "stderr",
          "text": [
            "WARNING:langchain.text_splitter:Created a chunk of size 507, which is longer than the specified 500\n",
            "WARNING:langchain.text_splitter:Created a chunk of size 791, which is longer than the specified 500\n",
            "WARNING:langchain.text_splitter:Created a chunk of size 812, which is longer than the specified 500\n"
          ]
        },
        {
          "output_type": "stream",
          "name": "stdout",
          "text": [
            "Split into 6 Documents\n"
          ]
        }
      ]
    },
    {
      "cell_type": "code",
      "source": [
        "db = FAISS.from_documents(documents, embeddings)\n",
        "retriever = db.as_retriever()  # langchain_core.vectorstores.VectorStoreRetriever\n",
        "\n",
        "qa = RetrievalQA.from_chain_type(\n",
        "    llm=llm,\n",
        "    chain_type=\"stuff\",\n",
        "    retriever=retriever,\n",
        "    verbose=True\n",
        ")"
      ],
      "metadata": {
        "execution": {
          "iopub.status.busy": "2023-11-30T18:15:14.584932Z",
          "iopub.execute_input": "2023-11-30T18:15:14.585654Z",
          "iopub.status.idle": "2023-11-30T18:15:14.666846Z",
          "shell.execute_reply.started": "2023-11-30T18:15:14.58562Z",
          "shell.execute_reply": "2023-11-30T18:15:14.666024Z"
        },
        "trusted": true,
        "id": "1u4-f65aX1He"
      },
      "execution_count": 55,
      "outputs": []
    },
    {
      "cell_type": "code",
      "source": [
        "query = \"Please summarize the article in one sentence.\"\n",
        "print(f\"Query: {query}\\n\")\n",
        "result = qa.run(query)\n",
        "print(\"\\nResult: \", result, '\\n\\n')\n",
        "\n",
        "relevant_documents = retriever.get_relevant_documents(query)\n",
        "print(f\"Query: {query}\")\n",
        "print(f\"Retrieved documents: {len(relevant_documents)}\\n\")\n",
        "for doc in relevant_documents:\n",
        "    print(doc.page_content[:450], '...\\n')"
      ],
      "metadata": {
        "execution": {
          "iopub.status.busy": "2023-11-30T18:15:18.845337Z",
          "iopub.execute_input": "2023-11-30T18:15:18.845968Z",
          "iopub.status.idle": "2023-11-30T18:15:24.902504Z",
          "shell.execute_reply.started": "2023-11-30T18:15:18.845936Z",
          "shell.execute_reply": "2023-11-30T18:15:24.901601Z"
        },
        "trusted": true,
        "colab": {
          "base_uri": "https://localhost:8080/"
        },
        "id": "cBLw_7ACX1Hg",
        "outputId": "852781a7-fc4d-4f8e-eabb-16ab2051a07c"
      },
      "execution_count": 56,
      "outputs": [
        {
          "output_type": "stream",
          "name": "stdout",
          "text": [
            "Query: Please summarize the article in one sentence.\n",
            "\n",
            "\n",
            "\n",
            "\u001b[1m> Entering new RetrievalQA chain...\u001b[0m\n",
            "\n",
            "\u001b[1m> Finished chain.\u001b[0m\n",
            "\n",
            "Result:   Shane MacGowan, the lead singer and songwriter of the Pogues, formed a new band, Shane MacGowan and the Popes, after being fired from the Pogues, and later joined punk band the Nipple Erectors. \n",
            "\n",
            "\n",
            "Query: Please summarize the article in one sentence.\n",
            "Retrieved documents: 4\n",
            "\n",
            "In 2010, MacGowan offered a piece of unusual art to the Irish Society for the Prevention of Cruelty to Children (ISPCC) to auction off to support their services to children: a drawing on a living room door. ...\n",
            "\n",
            "1992–2005: Shane MacGowan and the Popes\n",
            "After the Pogues fired MacGowan for unprofessional behaviour mid-tour, he formed a new band, Shane MacGowan and the Popes, recording two studio albums, a live album, three tracks on the Popes Outlaw Heaven (2010) and a live DVD, and touring internationally. In 1997, MacGowan appeared on Lou Reed's \"Perfect Day\", covered by numerous artists in aid of Children in Need. It was the UK's number one single for th ...\n",
            "\n",
            "Final illness and death\n",
            "It was reported in July 2023 that MacGowan was hospitalised in the intensive care unit (ICU). Shaman Shane — The Wounded Healer by Stephan Martin brands Shane as a latter-day London-Irish spirit-raiser and exorcist. This commentary is found in the book Myth of Return — The Paintings of Brian Whelan and Collected Commentaries. London Irish artist Brian Whelan has painted MacGowan (for example Boy From The County Hell), his  ...\n",
            "\n",
            "Shane Patrick Lysaght MacGowan (25 December 1957 – 30 November 2023) was an Irish singer and songwriter who was best known as the lead singer and songwriter of Celtic punk band the Pogues. Many of his songs are influenced by Irish nationalism, Irish history, the experiences of the Irish diaspora (particularly in England and the United States), and London life in general. Shortly after this, he later joined punk band the Nipple Erectors (later kno ...\n",
            "\n"
          ]
        }
      ]
    },
    {
      "cell_type": "markdown",
      "source": [
        "# RAG - Fetch Wikipedia Page with requests"
      ],
      "metadata": {
        "id": "xDtlNy4uX1Hi"
      }
    },
    {
      "cell_type": "markdown",
      "source": [
        "Request and parse a random Wikipedia page"
      ],
      "metadata": {
        "id": "VAay48nzX1Hj"
      }
    },
    {
      "cell_type": "code",
      "source": [
        "import requests\n",
        "\n",
        "def get_wikipedia_page(page_title):\n",
        "    endpoint = \"https://en.wikipedia.org/w/api.php\"\n",
        "    params = {\n",
        "    \"format\": \"json\",\n",
        "    \"action\": \"query\",\n",
        "    \"prop\": \"extracts\",\n",
        "    # \"exintro\": \"\",\n",
        "    \"explaintext\": \"\",\n",
        "    \"titles\": page_title\n",
        "    }\n",
        "    response = requests.get(endpoint, params=params)\n",
        "    data = response.json()\n",
        "    pages = data[\"query\"][\"pages\"]\n",
        "    page_id = list(pages.keys())[0]\n",
        "    return pages[page_id][\"extract\"]"
      ],
      "metadata": {
        "execution": {
          "iopub.status.busy": "2023-11-30T18:15:59.139342Z",
          "iopub.execute_input": "2023-11-30T18:15:59.139687Z",
          "iopub.status.idle": "2023-11-30T18:15:59.145471Z",
          "shell.execute_reply.started": "2023-11-30T18:15:59.13966Z",
          "shell.execute_reply": "2023-11-30T18:15:59.144647Z"
        },
        "trusted": true,
        "id": "e9NccEO0X1Hl"
      },
      "execution_count": 57,
      "outputs": []
    },
    {
      "cell_type": "code",
      "source": [
        "def get_chain(article: str):\n",
        "    text_splitter = CharacterTextSplitter(chunk_size=500, chunk_overlap=100)\n",
        "    documents = [Document(page_content=x) for x in text_splitter.split_text(article)]\n",
        "    print(f'Split into {len(documents)} Documents')\n",
        "\n",
        "    db = FAISS.from_documents(documents, embeddings)\n",
        "    retriever = db.as_retriever()  # langchain_core.vectorstores.VectorStoreRetriever\n",
        "\n",
        "    qa = RetrievalQA.from_chain_type(\n",
        "        llm=llm,\n",
        "        chain_type=\"stuff\",\n",
        "        retriever=retriever,\n",
        "        verbose=True\n",
        "    )\n",
        "    return qa, retriever"
      ],
      "metadata": {
        "execution": {
          "iopub.status.busy": "2023-11-30T18:18:39.921658Z",
          "iopub.execute_input": "2023-11-30T18:18:39.922388Z",
          "iopub.status.idle": "2023-11-30T18:18:39.92856Z",
          "shell.execute_reply.started": "2023-11-30T18:18:39.922349Z",
          "shell.execute_reply": "2023-11-30T18:18:39.927539Z"
        },
        "trusted": true,
        "id": "kNkTcaUuX1Hn"
      },
      "execution_count": 58,
      "outputs": []
    },
    {
      "cell_type": "code",
      "source": [
        "# page_title = \"Electoral system of Germany\"\n",
        "page_title = \"Tuberculosis\"\n",
        "wikipedia_page = get_wikipedia_page(page_title)\n",
        "qa, retriever = get_chain(wikipedia_page)"
      ],
      "metadata": {
        "execution": {
          "iopub.status.busy": "2023-11-30T18:18:40.230747Z",
          "iopub.execute_input": "2023-11-30T18:18:40.231124Z",
          "iopub.status.idle": "2023-11-30T18:18:41.041129Z",
          "shell.execute_reply.started": "2023-11-30T18:18:40.231093Z",
          "shell.execute_reply": "2023-11-30T18:18:41.040381Z"
        },
        "trusted": true,
        "colab": {
          "base_uri": "https://localhost:8080/"
        },
        "id": "uNqQxSbAX1Hp",
        "outputId": "f1a6eb28-b70d-4d8e-e690-e03cb7e10bca"
      },
      "execution_count": 59,
      "outputs": [
        {
          "output_type": "stream",
          "name": "stderr",
          "text": [
            "WARNING:langchain.text_splitter:Created a chunk of size 2500, which is longer than the specified 500\n",
            "WARNING:langchain.text_splitter:Created a chunk of size 793, which is longer than the specified 500\n",
            "WARNING:langchain.text_splitter:Created a chunk of size 825, which is longer than the specified 500\n",
            "WARNING:langchain.text_splitter:Created a chunk of size 2196, which is longer than the specified 500\n",
            "WARNING:langchain.text_splitter:Created a chunk of size 1185, which is longer than the specified 500\n",
            "WARNING:langchain.text_splitter:Created a chunk of size 1069, which is longer than the specified 500\n",
            "WARNING:langchain.text_splitter:Created a chunk of size 3843, which is longer than the specified 500\n",
            "WARNING:langchain.text_splitter:Created a chunk of size 1100, which is longer than the specified 500\n",
            "WARNING:langchain.text_splitter:Created a chunk of size 1221, which is longer than the specified 500\n",
            "WARNING:langchain.text_splitter:Created a chunk of size 806, which is longer than the specified 500\n",
            "WARNING:langchain.text_splitter:Created a chunk of size 1749, which is longer than the specified 500\n",
            "WARNING:langchain.text_splitter:Created a chunk of size 770, which is longer than the specified 500\n",
            "WARNING:langchain.text_splitter:Created a chunk of size 1118, which is longer than the specified 500\n",
            "WARNING:langchain.text_splitter:Created a chunk of size 1261, which is longer than the specified 500\n",
            "WARNING:langchain.text_splitter:Created a chunk of size 1496, which is longer than the specified 500\n",
            "WARNING:langchain.text_splitter:Created a chunk of size 1306, which is longer than the specified 500\n",
            "WARNING:langchain.text_splitter:Created a chunk of size 1178, which is longer than the specified 500\n",
            "WARNING:langchain.text_splitter:Created a chunk of size 1869, which is longer than the specified 500\n",
            "WARNING:langchain.text_splitter:Created a chunk of size 1308, which is longer than the specified 500\n",
            "WARNING:langchain.text_splitter:Created a chunk of size 593, which is longer than the specified 500\n",
            "WARNING:langchain.text_splitter:Created a chunk of size 1267, which is longer than the specified 500\n",
            "WARNING:langchain.text_splitter:Created a chunk of size 1125, which is longer than the specified 500\n",
            "WARNING:langchain.text_splitter:Created a chunk of size 2838, which is longer than the specified 500\n",
            "WARNING:langchain.text_splitter:Created a chunk of size 591, which is longer than the specified 500\n",
            "WARNING:langchain.text_splitter:Created a chunk of size 700, which is longer than the specified 500\n",
            "WARNING:langchain.text_splitter:Created a chunk of size 1312, which is longer than the specified 500\n",
            "WARNING:langchain.text_splitter:Created a chunk of size 3469, which is longer than the specified 500\n",
            "WARNING:langchain.text_splitter:Created a chunk of size 1579, which is longer than the specified 500\n",
            "WARNING:langchain.text_splitter:Created a chunk of size 2061, which is longer than the specified 500\n",
            "WARNING:langchain.text_splitter:Created a chunk of size 742, which is longer than the specified 500\n"
          ]
        },
        {
          "output_type": "stream",
          "name": "stdout",
          "text": [
            "Split into 53 Documents\n"
          ]
        }
      ]
    },
    {
      "cell_type": "code",
      "source": [
        "#query = \"Please give a summary in 100 words.\"\n",
        "query = \"How many people die from Tuberculosis?\"\n",
        "print(f\"Query: {query}\\n\")\n",
        "result = qa.run(query)\n",
        "print(\"\\nResult: \", result, '\\n\\n')\n",
        "\n",
        "relevant_documents = retriever.get_relevant_documents(query)\n",
        "print(f\"Query: {query}\")\n",
        "print(f\"Retrieved documents: {len(relevant_documents)}\\n\")\n",
        "for doc in relevant_documents:\n",
        "    print(doc.page_content[:450], '...\\n')"
      ],
      "metadata": {
        "execution": {
          "iopub.status.busy": "2023-11-30T18:18:41.042809Z",
          "iopub.execute_input": "2023-11-30T18:18:41.043461Z",
          "iopub.status.idle": "2023-11-30T18:18:46.537243Z",
          "shell.execute_reply.started": "2023-11-30T18:18:41.043425Z",
          "shell.execute_reply": "2023-11-30T18:18:46.536303Z"
        },
        "trusted": true,
        "colab": {
          "base_uri": "https://localhost:8080/"
        },
        "id": "9dtD9TjNX1Hr",
        "outputId": "b5421c54-d69f-4ff0-aa52-504304201dfe"
      },
      "execution_count": 60,
      "outputs": [
        {
          "output_type": "stream",
          "name": "stdout",
          "text": [
            "Query: How many people die from Tuberculosis?\n",
            "\n",
            "\n",
            "\n",
            "\u001b[1m> Entering new RetrievalQA chain...\u001b[0m\n",
            "\n",
            "\u001b[1m> Finished chain.\u001b[0m\n",
            "\n",
            "Result:   In 2010, 1.20–1.45 million deaths occurred due to Tuberculosis. \n",
            "\n",
            "\n",
            "Query: How many people die from Tuberculosis?\n",
            "Retrieved documents: 4\n",
            "\n",
            "== See also ==\n",
            "List of deaths due to tuberculosis\n",
            "\n",
            "\n",
            "== Notes ==\n",
            "\n",
            "\n",
            "== References ==\n",
            "\n",
            "\n",
            "== External links == ...\n",
            "\n",
            "== Epidemiology ==\n",
            "Roughly one-quarter of the world's population has been infected with M. tuberculosis, with new infections occurring in about 1% of the population each year. However, most infections with M. tuberculosis do not cause disease, and 90–95% of infections remain asymptomatic. In 2012, an estimated 8.6 million chronic cases were active. In 2010, 8.8 million new cases of tuberculosis were diagnosed, and 1.20–1.45 million deaths occurre ...\n",
            "\n",
            "Tuberculosis (TB), also known colloquially as the \"white death\", or historically as consumption, is an infectious disease usually caused by Mycobacterium tuberculosis (MTB) bacteria. Tuberculosis generally affects the lungs, but it can also affect other parts of the body. Most infections show no symptoms, in which case it is known as latent tuberculosis. Around 10% of latent infections progress to active disease which, if left untreated, kill abo ...\n",
            "\n",
            "==== India ====\n",
            "As of 2017, India had the largest total incidence, with an estimated 2,740,000 cases. According to the World Health Organization (WHO), in 2000–2015, India's estimated mortality rate dropped from 55 to 36 per 100,000 population per year with estimated 480 thousand people died of TB in 2015. In India a major proportion of tuberculosis patients are being treated by private partners and private hospitals. Evidence indicates that the  ...\n",
            "\n"
          ]
        }
      ]
    },
    {
      "cell_type": "code",
      "source": [
        "# page_title = \"Electoral system of Germany\"\n",
        "page_title = \"Electoral system of Germany\"\n",
        "wikipedia_page = get_wikipedia_page(page_title)\n",
        "qa, retriever = get_chain(wikipedia_page)"
      ],
      "metadata": {
        "execution": {
          "iopub.status.busy": "2023-11-30T18:18:55.842356Z",
          "iopub.execute_input": "2023-11-30T18:18:55.843217Z",
          "iopub.status.idle": "2023-11-30T18:18:56.493711Z",
          "shell.execute_reply.started": "2023-11-30T18:18:55.843181Z",
          "shell.execute_reply": "2023-11-30T18:18:56.492978Z"
        },
        "trusted": true,
        "colab": {
          "base_uri": "https://localhost:8080/"
        },
        "id": "Bb5fBrmJX1Ht",
        "outputId": "885926a1-3917-429a-c841-22a868246e0b"
      },
      "execution_count": 61,
      "outputs": [
        {
          "output_type": "stream",
          "name": "stderr",
          "text": [
            "WARNING:langchain.text_splitter:Created a chunk of size 1250, which is longer than the specified 500\n",
            "WARNING:langchain.text_splitter:Created a chunk of size 973, which is longer than the specified 500\n",
            "WARNING:langchain.text_splitter:Created a chunk of size 3894, which is longer than the specified 500\n",
            "WARNING:langchain.text_splitter:Created a chunk of size 668, which is longer than the specified 500\n",
            "WARNING:langchain.text_splitter:Created a chunk of size 745, which is longer than the specified 500\n",
            "WARNING:langchain.text_splitter:Created a chunk of size 828, which is longer than the specified 500\n",
            "WARNING:langchain.text_splitter:Created a chunk of size 1189, which is longer than the specified 500\n",
            "WARNING:langchain.text_splitter:Created a chunk of size 1088, which is longer than the specified 500\n",
            "WARNING:langchain.text_splitter:Created a chunk of size 698, which is longer than the specified 500\n",
            "WARNING:langchain.text_splitter:Created a chunk of size 2114, which is longer than the specified 500\n",
            "WARNING:langchain.text_splitter:Created a chunk of size 981, which is longer than the specified 500\n",
            "WARNING:langchain.text_splitter:Created a chunk of size 645, which is longer than the specified 500\n",
            "WARNING:langchain.text_splitter:Created a chunk of size 1136, which is longer than the specified 500\n",
            "WARNING:langchain.text_splitter:Created a chunk of size 2046, which is longer than the specified 500\n",
            "WARNING:langchain.text_splitter:Created a chunk of size 2648, which is longer than the specified 500\n",
            "WARNING:langchain.text_splitter:Created a chunk of size 3212, which is longer than the specified 500\n",
            "WARNING:langchain.text_splitter:Created a chunk of size 4125, which is longer than the specified 500\n",
            "WARNING:langchain.text_splitter:Created a chunk of size 2626, which is longer than the specified 500\n",
            "WARNING:langchain.text_splitter:Created a chunk of size 1628, which is longer than the specified 500\n",
            "WARNING:langchain.text_splitter:Created a chunk of size 525, which is longer than the specified 500\n",
            "WARNING:langchain.text_splitter:Created a chunk of size 7710, which is longer than the specified 500\n"
          ]
        },
        {
          "output_type": "stream",
          "name": "stdout",
          "text": [
            "Split into 28 Documents\n"
          ]
        }
      ]
    },
    {
      "cell_type": "code",
      "source": [
        "#query = \"Please give a summary in 100 words.\"\n",
        "query = \"Describe the importance of the First Vote in the German Voting System\"\n",
        "print(f\"Query: {query}\\n\")\n",
        "result = qa.run(query)\n",
        "print(\"\\nResult: \", result, '\\n\\n')\n",
        "\n",
        "relevant_documents = retriever.get_relevant_documents(query)\n",
        "print(f\"Query: {query}\")\n",
        "print(f\"Retrieved documents: {len(relevant_documents)}\\n\")\n",
        "for doc in relevant_documents:\n",
        "    print(doc.page_content[:450], '...\\n')"
      ],
      "metadata": {
        "execution": {
          "iopub.status.busy": "2023-11-30T18:18:56.802822Z",
          "iopub.execute_input": "2023-11-30T18:18:56.803665Z",
          "iopub.status.idle": "2023-11-30T18:19:13.572934Z",
          "shell.execute_reply.started": "2023-11-30T18:18:56.803633Z",
          "shell.execute_reply": "2023-11-30T18:19:13.572022Z"
        },
        "trusted": true,
        "colab": {
          "base_uri": "https://localhost:8080/"
        },
        "id": "UmQe5cvrX1Hv",
        "outputId": "afda566b-ec28-4b21-a292-23911b2cf173"
      },
      "execution_count": 62,
      "outputs": [
        {
          "output_type": "stream",
          "name": "stdout",
          "text": [
            "Query: Describe the importance of the First Vote in the German Voting System\n",
            "\n",
            "\n",
            "\n",
            "\u001b[1m> Entering new RetrievalQA chain...\u001b[0m\n",
            "\n",
            "\u001b[1m> Finished chain.\u001b[0m\n",
            "\n",
            "Result:   The first vote in the German voting system is important because it allows the elector to vote for a direct candidate of their constituency. This personalizes the election and allows the elector to have a direct say in who represents their local area in the Bundestag. The first vote also determines the number of direct mandates in the Bundestag, with each district electing one direct candidate. However, the first vote does not determine the power of the parties in the Bundestag. For each direct mandate in a Bundesland, the party always receives one mandate fewer from the second vote. \n",
            "\n",
            "\n",
            "Query: Describe the importance of the First Vote in the German Voting System\n",
            "Retrieved documents: 4\n",
            "\n",
            "=== First vote ===\n",
            "The first vote allows the elector to vote for a direct candidate of their constituency, who applies for a direct mandate in the Bundestag (see illustration above, no. 2). Relative majority voting is used, which means that the candidate who receives most of the votes gets the mandate. If the vote results in a tie, the lot drawn by the leader of the regional election is decisive. In this case, the votes for the other candidates a ...\n",
            "\n",
            "== History ==\n",
            "Election of the 1st German Bundestag (14 August 1949) – The election system which was valid for the election of the Bundestag in 1949 has been changed significantly in the following decades. Because the Parliamentary Council couldn't agree on a written formulation of the voting system in the Grundgesetz, the Federal Election Law was ratified by the heads of government of the German states. The right to vote was granted from the age  ...\n",
            "\n",
            "The German federal election system regulates the election of the members of the national parliament, called the Bundestag. According to the principles governing the elections laws, set down in Art. 38 of the German Basic Law, elections are to be universal, direct, free, equal, and secret. Furthermore, the German Basic Law stipulates that Bundestag elections are to take place every four years and that one can vote, and be elected, upon reaching th ...\n",
            "\n",
            "== See also ==\n",
            "Elections in Germany\n",
            "\n",
            "\n",
            "== References == ...\n",
            "\n"
          ]
        }
      ]
    },
    {
      "cell_type": "code",
      "source": [],
      "metadata": {
        "id": "p4FeOvQNX1Hx"
      },
      "execution_count": null,
      "outputs": []
    },
    {
      "cell_type": "markdown",
      "source": [
        "References:\n",
        "- https://www.kaggle.com/code/gpreda/rag-using-llama-2-langchain-and-chromadb\n",
        "- https://python.langchain.com/docs/modules/data_connection/retrievers/vectorstore\n",
        "- https://api.python.langchain.com/en/latest/chains/langchain.chains.retrieval_qa.base.RetrievalQA.html"
      ],
      "metadata": {
        "id": "QOoelzUoX1Hy"
      }
    }
  ]
}