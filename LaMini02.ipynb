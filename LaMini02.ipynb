{
  "nbformat": 4,
  "nbformat_minor": 0,
  "metadata": {
    "colab": {
      "provenance": [],
      "authorship_tag": "ABX9TyOcyfxV7D28sH+o5HOOwe2O",
      "include_colab_link": true
    },
    "kernelspec": {
      "name": "python3",
      "display_name": "Python 3"
    },
    "language_info": {
      "name": "python"
    }
  },
  "cells": [
    {
      "cell_type": "markdown",
      "metadata": {
        "id": "view-in-github",
        "colab_type": "text"
      },
      "source": [
        "<a href=\"https://colab.research.google.com/github/EdBerg21/AI-Professional-Prompts/blob/main/LaMini02.ipynb\" target=\"_parent\"><img src=\"https://colab.research.google.com/assets/colab-badge.svg\" alt=\"Open In Colab\"/></a>"
      ]
    },
    {
      "cell_type": "code",
      "execution_count": 4,
      "metadata": {
        "colab": {
          "base_uri": "https://localhost:8080/"
        },
        "id": "XBh98jg6hQaP",
        "outputId": "8fb945e5-e299-4474-876b-09aab248d7df"
      },
      "outputs": [
        {
          "output_type": "stream",
          "name": "stdout",
          "text": [
            "Response As an AI language model, I do not have the capacity to form views. However, I can provide information on the location of Akka, Israel. Akka is a coastal city in Israel known for its stunning beaches, archaeological sites, and rich history. It is also a cultural center, with several unique restaurants and cafes, and is a popular destination for tourists. The city offers a variety of activities such as fishing, hiking, and hiking trails.\n"
          ]
        }
      ],
      "source": [
        "\n",
        "!pip install -q transformers\n",
        "from transformers import pipeline\n",
        "\n",
        "checkpoint = \"MBZUAI/LaMini-T5-738M\"\n",
        "\n",
        "model = pipeline('text2text-generation', model = checkpoint)\n",
        "\n",
        "input_prompt = 'Please let me know your thoughts on the given place and why you think it deserves to be visited: \\n\"Akka, Israel\"'\n",
        "generated_text = model(input_prompt, max_length=512, do_sample=True)[0]['generated_text']\n",
        "\n",
        "print(\"Response\", generated_text)"
      ]
    }
  ]
}