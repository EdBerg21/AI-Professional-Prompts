{
  "cells": [
    {
      "cell_type": "markdown",
      "metadata": {
        "id": "view-in-github",
        "colab_type": "text"
      },
      "source": [
        "<a href=\"https://colab.research.google.com/github/EdBerg21/AI-Professional-Prompts/blob/main/prontoggufllama2_quickstart.ipynb\" target=\"_parent\"><img src=\"https://colab.research.google.com/assets/colab-badge.svg\" alt=\"Open In Colab\"/></a>"
      ]
    },
    {
      "cell_type": "markdown",
      "metadata": {
        "id": "aDH3sY8bu4IC"
      },
      "source": [
        "# How to Run Llama 2 Locally with Python (Quickstart)\n",
        "\n",
        "This Jupyter Notebook is part of a Blog Post on https://swharden.com\n",
        "\n",
        "https://swharden.com/blog/2023-07-29-ai-chat-locally-with-python/"
      ]
    },
    {
      "cell_type": "code",
      "source": [
        "!pip install llama-cpp-python"
      ],
      "metadata": {
        "colab": {
          "base_uri": "https://localhost:8080/"
        },
        "id": "2UWyTd1VvJs8",
        "outputId": "40e387b4-7683-49a4-8815-1f67cc9cf147"
      },
      "execution_count": null,
      "outputs": [
        {
          "output_type": "stream",
          "name": "stdout",
          "text": [
            "Collecting llama-cpp-python\n",
            "  Downloading llama_cpp_python-0.2.25.tar.gz (8.8 MB)\n",
            "\u001b[2K     \u001b[90m━━━━━━━━━━━━━━━━━━━━━━━━━━━━━━━━━━━━━━━━\u001b[0m \u001b[32m8.8/8.8 MB\u001b[0m \u001b[31m23.6 MB/s\u001b[0m eta \u001b[36m0:00:00\u001b[0m\n",
            "\u001b[?25h  Installing build dependencies ... \u001b[?25l\u001b[?25hdone\n",
            "  Getting requirements to build wheel ... \u001b[?25l\u001b[?25hdone\n",
            "  Installing backend dependencies ... \u001b[?25l\u001b[?25hdone\n",
            "  Preparing metadata (pyproject.toml) ... \u001b[?25l\u001b[?25hdone\n",
            "Requirement already satisfied: typing-extensions>=4.5.0 in /usr/local/lib/python3.10/dist-packages (from llama-cpp-python) (4.5.0)\n",
            "Requirement already satisfied: numpy>=1.20.0 in /usr/local/lib/python3.10/dist-packages (from llama-cpp-python) (1.23.5)\n",
            "Requirement already satisfied: diskcache>=5.6.1 in /usr/local/lib/python3.10/dist-packages (from llama-cpp-python) (5.6.3)\n",
            "Building wheels for collected packages: llama-cpp-python\n",
            "  Building wheel for llama-cpp-python (pyproject.toml) ... \u001b[?25l\u001b[?25hdone\n",
            "  Created wheel for llama-cpp-python: filename=llama_cpp_python-0.2.25-cp310-cp310-manylinux_2_35_x86_64.whl size=2092950 sha256=0d836cc176ce1b98ccae64b476fe64b67834b51a1e005848d70a4a247178751b\n",
            "  Stored in directory: /root/.cache/pip/wheels/6f/7e/23/5a9b41241b41025d10c13e31d005d6c1a6bce58fa02870ee3a\n",
            "Successfully built llama-cpp-python\n",
            "Installing collected packages: llama-cpp-python\n",
            "Successfully installed llama-cpp-python-0.2.25\n"
          ]
        }
      ]
    },
    {
      "cell_type": "code",
      "execution_count": null,
      "metadata": {
        "id": "lDtuhJp0u4IU"
      },
      "outputs": [],
      "source": [
        "from llama_cpp import Llama\n",
        "\n",
        "from IPython.display import display, HTML\n",
        "import json\n",
        "import time\n",
        "import pathlib"
      ]
    },
    {
      "cell_type": "markdown",
      "metadata": {
        "id": "Hx5f5hgDu4Ic"
      },
      "source": [
        "Load two different models so we can compare their responses to the same prompt.\n",
        "\n",
        "Note that `n_ctx` is the maximum number of context tokens, and increasing this value increases the maximum length of the responses."
      ]
    },
    {
      "cell_type": "code",
      "source": [
        "!wget https://huggingface.co/TheBloke/Llama-2-7B-Chat-GGUF/resolve/main/llama-2-7b-chat.Q4_K_S.gguf"
      ],
      "metadata": {
        "colab": {
          "base_uri": "https://localhost:8080/"
        },
        "id": "ijwd63GlxayO",
        "outputId": "0449a51e-cdf6-4748-c00f-59033aa01846"
      },
      "execution_count": null,
      "outputs": [
        {
          "output_type": "stream",
          "name": "stdout",
          "text": [
            "--2023-12-25 16:40:05--  https://huggingface.co/TheBloke/Llama-2-7B-Chat-GGUF/resolve/main/llama-2-7b-chat.Q4_K_S.gguf\n",
            "Resolving huggingface.co (huggingface.co)... 18.172.134.124, 18.172.134.24, 18.172.134.4, ...\n",
            "Connecting to huggingface.co (huggingface.co)|18.172.134.124|:443... connected.\n",
            "HTTP request sent, awaiting response... 302 Found\n",
            "Location: https://cdn-lfs.huggingface.co/repos/b0/ca/b0cae82fd4b3a362cab01d17953c45edac67d1c2dfb9fbb9e69c80c32dc2012e/632fa75f94b46960de3caf623e79b1d0a4c8564b39a5faacbb8c1fdbd9ba3f52?response-content-disposition=attachment%3B+filename*%3DUTF-8%27%27llama-2-7b-chat.Q4_K_S.gguf%3B+filename%3D%22llama-2-7b-chat.Q4_K_S.gguf%22%3B&Expires=1703781605&Policy=eyJTdGF0ZW1lbnQiOlt7IkNvbmRpdGlvbiI6eyJEYXRlTGVzc1RoYW4iOnsiQVdTOkVwb2NoVGltZSI6MTcwMzc4MTYwNX19LCJSZXNvdXJjZSI6Imh0dHBzOi8vY2RuLWxmcy5odWdnaW5nZmFjZS5jby9yZXBvcy9iMC9jYS9iMGNhZTgyZmQ0YjNhMzYyY2FiMDFkMTc5NTNjNDVlZGFjNjdkMWMyZGZiOWZiYjllNjljODBjMzJkYzIwMTJlLzYzMmZhNzVmOTRiNDY5NjBkZTNjYWY2MjNlNzliMWQwYTRjODU2NGIzOWE1ZmFhY2JiOGMxZmRiZDliYTNmNTI%7EcmVzcG9uc2UtY29udGVudC1kaXNwb3NpdGlvbj0qIn1dfQ__&Signature=hxKeOr8tXezWHg-yn%7EzCm7jhPNoTVh3%7EkSHY0qnhmofwIq9ss4v4J2pm-xMV4LOGkxdDd59%7EMtWlkYA8aEhnwbP6doRf3vuc6y4ys05E9zN-mBF-W2aBHtJvgSpA9SLT7Q8Kiw%7EdPiyhBf%7ERPw81FJX2tJql5U-X-5G8mpxC%7EjvP-t5vhjuernURlueoqetbf5uxUGisS1TZZSZOrAP25zu9Q6xY%7EPyFWtf8pQIWEH60s669K9hZnp2gEoNG6w%7EnNe0-QiEBJlwGegoPEA0voxhhYBeqBcITRtmU4aB1ThjhX7oJqWRshUSD6Yll9cr6tschoYDAfu6PhcYn9RC5BA__&Key-Pair-Id=KVTP0A1DKRTAX [following]\n",
            "--2023-12-25 16:40:05--  https://cdn-lfs.huggingface.co/repos/b0/ca/b0cae82fd4b3a362cab01d17953c45edac67d1c2dfb9fbb9e69c80c32dc2012e/632fa75f94b46960de3caf623e79b1d0a4c8564b39a5faacbb8c1fdbd9ba3f52?response-content-disposition=attachment%3B+filename*%3DUTF-8%27%27llama-2-7b-chat.Q4_K_S.gguf%3B+filename%3D%22llama-2-7b-chat.Q4_K_S.gguf%22%3B&Expires=1703781605&Policy=eyJTdGF0ZW1lbnQiOlt7IkNvbmRpdGlvbiI6eyJEYXRlTGVzc1RoYW4iOnsiQVdTOkVwb2NoVGltZSI6MTcwMzc4MTYwNX19LCJSZXNvdXJjZSI6Imh0dHBzOi8vY2RuLWxmcy5odWdnaW5nZmFjZS5jby9yZXBvcy9iMC9jYS9iMGNhZTgyZmQ0YjNhMzYyY2FiMDFkMTc5NTNjNDVlZGFjNjdkMWMyZGZiOWZiYjllNjljODBjMzJkYzIwMTJlLzYzMmZhNzVmOTRiNDY5NjBkZTNjYWY2MjNlNzliMWQwYTRjODU2NGIzOWE1ZmFhY2JiOGMxZmRiZDliYTNmNTI%7EcmVzcG9uc2UtY29udGVudC1kaXNwb3NpdGlvbj0qIn1dfQ__&Signature=hxKeOr8tXezWHg-yn%7EzCm7jhPNoTVh3%7EkSHY0qnhmofwIq9ss4v4J2pm-xMV4LOGkxdDd59%7EMtWlkYA8aEhnwbP6doRf3vuc6y4ys05E9zN-mBF-W2aBHtJvgSpA9SLT7Q8Kiw%7EdPiyhBf%7ERPw81FJX2tJql5U-X-5G8mpxC%7EjvP-t5vhjuernURlueoqetbf5uxUGisS1TZZSZOrAP25zu9Q6xY%7EPyFWtf8pQIWEH60s669K9hZnp2gEoNG6w%7EnNe0-QiEBJlwGegoPEA0voxhhYBeqBcITRtmU4aB1ThjhX7oJqWRshUSD6Yll9cr6tschoYDAfu6PhcYn9RC5BA__&Key-Pair-Id=KVTP0A1DKRTAX\n",
            "Resolving cdn-lfs.huggingface.co (cdn-lfs.huggingface.co)... 18.154.185.64, 18.154.185.27, 18.154.185.94, ...\n",
            "Connecting to cdn-lfs.huggingface.co (cdn-lfs.huggingface.co)|18.154.185.64|:443... connected.\n",
            "HTTP request sent, awaiting response... 200 OK\n",
            "Length: 3856740032 (3.6G) [binary/octet-stream]\n",
            "Saving to: ‘llama-2-7b-chat.Q4_K_S.gguf’\n",
            "\n",
            "llama-2-7b-chat.Q4_ 100%[===================>]   3.59G   242MB/s    in 23s     \n",
            "\n",
            "2023-12-25 16:40:29 (157 MB/s) - ‘llama-2-7b-chat.Q4_K_S.gguf’ saved [3856740032/3856740032]\n",
            "\n"
          ]
        }
      ]
    },
    {
      "cell_type": "code",
      "execution_count": null,
      "metadata": {
        "colab": {
          "base_uri": "https://localhost:8080/"
        },
        "id": "mFXwqdJIu4Ie",
        "outputId": "4ac3dfa7-41dc-4f53-96a1-a920b44bebc1"
      },
      "outputs": [
        {
          "output_type": "stream",
          "name": "stderr",
          "text": [
            "AVX = 1 | AVX2 = 1 | AVX512 = 0 | AVX512_VBMI = 0 | AVX512_VNNI = 0 | FMA = 1 | NEON = 0 | ARM_FMA = 0 | F16C = 1 | FP16_VA = 0 | WASM_SIMD = 0 | BLAS = 0 | SSE3 = 1 | SSSE3 = 1 | VSX = 0 | \n",
            "AVX = 1 | AVX2 = 1 | AVX512 = 0 | AVX512_VBMI = 0 | AVX512_VNNI = 0 | FMA = 1 | NEON = 0 | ARM_FMA = 0 | F16C = 1 | FP16_VA = 0 | WASM_SIMD = 0 | BLAS = 0 | SSE3 = 1 | SSSE3 = 1 | VSX = 0 | \n"
          ]
        }
      ],
      "source": [
        "MODEL_Q8_0 = Llama(\n",
        "    model_path=\"/content/llama-2-7b-chat.Q4_K_S.gguf\",\n",
        "    n_ctx=2048)\n",
        "\n",
        "MODEL_Q2_K = Llama(\n",
        "    model_path=\"/content/llama-2-7b-chat.Q4_K_S.gguf\",\n",
        "    n_ctx=2048)"
      ]
    },
    {
      "cell_type": "code",
      "execution_count": null,
      "metadata": {
        "id": "KrBYy8pzu4KR"
      },
      "outputs": [],
      "source": [
        "def query(model, question):\n",
        "    model_name = pathlib.Path(model.model_path).name\n",
        "    time_start = time.time()\n",
        "    prompt = f\"Q: {question} A:\"\n",
        "    output = model(prompt=prompt, max_tokens=0) # if max tokens is zero, depends on n_ctx\n",
        "    response = output[\"choices\"][0][\"text\"]\n",
        "    time_elapsed = time.time() - time_start\n",
        "    display(HTML(f'<code>{model_name} response time: {time_elapsed:.02f} sec</code>'))\n",
        "    display(HTML(f'<strong>Question:</strong> {question}'))\n",
        "    display(HTML(f'<strong>Answer:</strong> {response}'))\n",
        "    print(json.dumps(output, indent=2))"
      ]
    },
    {
      "cell_type": "code",
      "execution_count": null,
      "metadata": {
        "colab": {
          "base_uri": "https://localhost:8080/",
          "height": 1000
        },
        "id": "gc8MJJM7u4KV",
        "outputId": "ef2e9ea5-99ba-4ad6-91ca-df65e77279a2"
      },
      "outputs": [
        {
          "output_type": "display_data",
          "data": {
            "text/plain": [
              "<IPython.core.display.HTML object>"
            ],
            "text/html": [
              "<code>llama-2-7b-chat.Q4_K_S.gguf response time: 347.31 sec</code>"
            ]
          },
          "metadata": {}
        },
        {
          "output_type": "display_data",
          "data": {
            "text/plain": [
              "<IPython.core.display.HTML object>"
            ],
            "text/html": [
              "<strong>Question:</strong> Why are Jupyter notebooks difficult to maintain?"
            ]
          },
          "metadata": {}
        },
        {
          "output_type": "display_data",
          "data": {
            "text/plain": [
              "<IPython.core.display.HTML object>"
            ],
            "text/html": [
              "<strong>Answer:</strong>  Jupyter notebooks can be challenging to maintain due to several reasons. Here are some of the common issues:\n",
              "1. Version control: Jupyter notebooks are generated by running code, which means that each notebook is a snapshot of the code at a particular point in time. This makes it difficult to track changes and manage different versions of the notebook.\n",
              "2. File size: Jupyter notebooks can be large files, especially if they contain a lot of code or data. This can make it difficult to transfer or share them with others, and may require special tools or workflows to manage.\n",
              "3. Organization: Jupyter notebooks often lack a clear organizational structure, which can make it difficult to find specific sections of the notebook or to understand how different parts of the notebook fit together.\n",
              "4. Collaboration: Jupyter notebooks are designed for individual use, but they can be challenging to collaborate on. This is because each user needs their own Jupyter environment to run the notebook, which can lead to conflicts and difficulties in tracking changes.\n",
              "5. Reproducibility: Jupyter notebooks may not always be reproducible, especially if they rely on external dependencies or services that are not easily reproduced. This can make it difficult to verify the results of a notebook or to reproduce them in the future.\n",
              "6. Versioning: Jupyter notebooks often lack version control, which can make it difficult to track changes and manage different versions of the notebook.\n",
              "7. Documentation: Jupyter notebooks may not provide enough documentation for others to understand how they work or how to use them. This can make it difficult to share or reuse notebooks in the future.\n",
              "8. Security: Jupyter notebooks may contain sensitive information, such as passwords or confidential data, which can be a security risk if they are not properly protected.\n",
              "9. Backup and recovery: Jupyter notebooks may not have proper backup and recovery mechanisms in place, which can make it difficult to recover from data loss or other errors.\n",
              "10. Integration with other tools: Jupyter notebooks may not integrate well with other tools and workflows, such as version control systems or continuous integration/continuous deployment (CI/CD) pipelines. This can make it difficult to use them in a larger context or to automate certain tasks.\n",
              "To overcome these challenges, it is important to have a clear understanding of how Jupyter notebooks work and how they can be used effectively in different contexts. By using best practices and tools specifically designed for working with Jupyter notebooks, developers can make them more maintainable and easier to use in the long term."
            ]
          },
          "metadata": {}
        },
        {
          "output_type": "stream",
          "name": "stdout",
          "text": [
            "{\n",
            "  \"id\": \"cmpl-22c9a7aa-a7d0-4680-b5d9-97d4d71e4ce4\",\n",
            "  \"object\": \"text_completion\",\n",
            "  \"created\": 1703522500,\n",
            "  \"model\": \"/content/llama-2-7b-chat.Q4_K_S.gguf\",\n",
            "  \"choices\": [\n",
            "    {\n",
            "      \"text\": \" Jupyter notebooks can be challenging to maintain due to several reasons. Here are some of the common issues:\\n1. Version control: Jupyter notebooks are generated by running code, which means that each notebook is a snapshot of the code at a particular point in time. This makes it difficult to track changes and manage different versions of the notebook.\\n2. File size: Jupyter notebooks can be large files, especially if they contain a lot of code or data. This can make it difficult to transfer or share them with others, and may require special tools or workflows to manage.\\n3. Organization: Jupyter notebooks often lack a clear organizational structure, which can make it difficult to find specific sections of the notebook or to understand how different parts of the notebook fit together.\\n4. Collaboration: Jupyter notebooks are designed for individual use, but they can be challenging to collaborate on. This is because each user needs their own Jupyter environment to run the notebook, which can lead to conflicts and difficulties in tracking changes.\\n5. Reproducibility: Jupyter notebooks may not always be reproducible, especially if they rely on external dependencies or services that are not easily reproduced. This can make it difficult to verify the results of a notebook or to reproduce them in the future.\\n6. Versioning: Jupyter notebooks often lack version control, which can make it difficult to track changes and manage different versions of the notebook.\\n7. Documentation: Jupyter notebooks may not provide enough documentation for others to understand how they work or how to use them. This can make it difficult to share or reuse notebooks in the future.\\n8. Security: Jupyter notebooks may contain sensitive information, such as passwords or confidential data, which can be a security risk if they are not properly protected.\\n9. Backup and recovery: Jupyter notebooks may not have proper backup and recovery mechanisms in place, which can make it difficult to recover from data loss or other errors.\\n10. Integration with other tools: Jupyter notebooks may not integrate well with other tools and workflows, such as version control systems or continuous integration/continuous deployment (CI/CD) pipelines. This can make it difficult to use them in a larger context or to automate certain tasks.\\nTo overcome these challenges, it is important to have a clear understanding of how Jupyter notebooks work and how they can be used effectively in different contexts. By using best practices and tools specifically designed for working with Jupyter notebooks, developers can make them more maintainable and easier to use in the long term.\",\n",
            "      \"index\": 0,\n",
            "      \"logprobs\": null,\n",
            "      \"finish_reason\": \"stop\"\n",
            "    }\n",
            "  ],\n",
            "  \"usage\": {\n",
            "    \"prompt_tokens\": 16,\n",
            "    \"completion_tokens\": 573,\n",
            "    \"total_tokens\": 589\n",
            "  }\n",
            "}\n"
          ]
        }
      ],
      "source": [
        "query(MODEL_Q2_K, \"Why are Jupyter notebooks difficult to maintain?\")"
      ]
    },
    {
      "cell_type": "code",
      "execution_count": null,
      "metadata": {
        "colab": {
          "base_uri": "https://localhost:8080/",
          "height": 992
        },
        "id": "pNfwHFo7u4KY",
        "outputId": "4effc0be-e1e3-4918-a0f5-75f9e202aeeb"
      },
      "outputs": [
        {
          "output_type": "display_data",
          "data": {
            "text/plain": [
              "<IPython.core.display.HTML object>"
            ],
            "text/html": [
              "<code>llama-2-7b-chat.Q4_K_S.gguf response time: 156.02 sec</code>"
            ]
          },
          "metadata": {}
        },
        {
          "output_type": "display_data",
          "data": {
            "text/plain": [
              "<IPython.core.display.HTML object>"
            ],
            "text/html": [
              "<strong>Question:</strong> Why are Jupyter notebooks difficult to maintain?"
            ]
          },
          "metadata": {}
        },
        {
          "output_type": "display_data",
          "data": {
            "text/plain": [
              "<IPython.core.display.HTML object>"
            ],
            "text/html": [
              "<strong>Answer:</strong>  Jupyter notebooks can be difficult to maintain for several reasons, including: 1.lax organization: Jupyter notebooks are essentially a collection of code cells, and if these cells are not organized in a consistent manner, it can make it difficult to understand the logic of the code. 2.unstructured data: Jupyter notebooks often contain unstructured data, such as images or tables, which can be challenging to manage and maintain. 3.version control issues: Since Jupyter notebooks are essentially a collection of files, version control can become complex, especially when working with collaborators. 4.dependencies management: Jupyter notebooks rely on a variety of dependencies, including libraries and frameworks, which can make it difficult to manage and maintain. 5.lack of documentation: Without proper documentation, it can be challenging to understand the code and maintain the notebook over time. 6.security concerns: Jupyter notebooks can contain sensitive information, such as passwords or personal data, which must be handled carefully to avoid security breaches. 7.performance issues: Large Jupyter notebooks can be slow and resource-intensive, which can make it difficult to maintain and scale."
            ]
          },
          "metadata": {}
        },
        {
          "output_type": "stream",
          "name": "stdout",
          "text": [
            "{\n",
            "  \"id\": \"cmpl-cdccf216-fb13-46d0-a4e2-3d61371cd1a5\",\n",
            "  \"object\": \"text_completion\",\n",
            "  \"created\": 1703522874,\n",
            "  \"model\": \"/content/llama-2-7b-chat.Q4_K_S.gguf\",\n",
            "  \"choices\": [\n",
            "    {\n",
            "      \"text\": \" Jupyter notebooks can be difficult to maintain for several reasons, including: 1.lax organization: Jupyter notebooks are essentially a collection of code cells, and if these cells are not organized in a consistent manner, it can make it difficult to understand the logic of the code. 2.unstructured data: Jupyter notebooks often contain unstructured data, such as images or tables, which can be challenging to manage and maintain. 3.version control issues: Since Jupyter notebooks are essentially a collection of files, version control can become complex, especially when working with collaborators. 4.dependencies management: Jupyter notebooks rely on a variety of dependencies, including libraries and frameworks, which can make it difficult to manage and maintain. 5.lack of documentation: Without proper documentation, it can be challenging to understand the code and maintain the notebook over time. 6.security concerns: Jupyter notebooks can contain sensitive information, such as passwords or personal data, which must be handled carefully to avoid security breaches. 7.performance issues: Large Jupyter notebooks can be slow and resource-intensive, which can make it difficult to maintain and scale.\",\n",
            "      \"index\": 0,\n",
            "      \"logprobs\": null,\n",
            "      \"finish_reason\": \"stop\"\n",
            "    }\n",
            "  ],\n",
            "  \"usage\": {\n",
            "    \"prompt_tokens\": 16,\n",
            "    \"completion_tokens\": 257,\n",
            "    \"total_tokens\": 273\n",
            "  }\n",
            "}\n"
          ]
        }
      ],
      "source": [
        "query(MODEL_Q8_0, \"Why are Jupyter notebooks difficult to maintain?\")"
      ]
    }
  ],
  "metadata": {
    "kernelspec": {
      "display_name": "Python 3",
      "name": "python3"
    },
    "language_info": {
      "codemirror_mode": {
        "name": "ipython",
        "version": 3
      },
      "file_extension": ".py",
      "mimetype": "text/x-python",
      "name": "python",
      "nbconvert_exporter": "python",
      "pygments_lexer": "ipython3",
      "version": "3.11.4"
    },
    "orig_nbformat": 4,
    "colab": {
      "provenance": [],
      "gpuType": "T4",
      "include_colab_link": true
    },
    "accelerator": "GPU"
  },
  "nbformat": 4,
  "nbformat_minor": 0
}