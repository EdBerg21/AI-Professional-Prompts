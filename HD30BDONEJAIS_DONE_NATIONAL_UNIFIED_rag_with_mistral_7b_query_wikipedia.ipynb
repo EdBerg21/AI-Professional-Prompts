{
  "metadata": {
    "kernelspec": {
      "display_name": "Python 3",
      "name": "python3"
    },
    "language_info": {
      "name": "python",
      "version": "3.10.12",
      "mimetype": "text/x-python",
      "codemirror_mode": {
        "name": "ipython",
        "version": 3
      },
      "pygments_lexer": "ipython3",
      "nbconvert_exporter": "python",
      "file_extension": ".py"
    },
    "kaggle": {
      "accelerator": "gpu",
      "dataSources": [
        {
          "sourceId": 4966565,
          "sourceType": "datasetVersion",
          "datasetId": 2880535
        },
        {
          "sourceId": 5112,
          "sourceType": "modelInstanceVersion",
          "modelInstanceId": 3900
        }
      ],
      "isInternetEnabled": false,
      "language": "python",
      "sourceType": "notebook",
      "isGpuEnabled": true
    },
    "colab": {
      "provenance": [],
      "gpuType": "T4",
      "include_colab_link": true
    },
    "accelerator": "GPU",
    "widgets": {
      "application/vnd.jupyter.widget-state+json": {
        "c4b2fea916794e8092218163bd5ff509": {
          "model_module": "@jupyter-widgets/controls",
          "model_name": "HBoxModel",
          "model_module_version": "1.5.0",
          "state": {
            "_dom_classes": [],
            "_model_module": "@jupyter-widgets/controls",
            "_model_module_version": "1.5.0",
            "_model_name": "HBoxModel",
            "_view_count": null,
            "_view_module": "@jupyter-widgets/controls",
            "_view_module_version": "1.5.0",
            "_view_name": "HBoxView",
            "box_style": "",
            "children": [
              "IPY_MODEL_c9f1f811b40247928cdde103e5802624",
              "IPY_MODEL_bbe7c72dc7aa4cf9a75d424596e5c769",
              "IPY_MODEL_833c09b8e51348d0b5b96aee910686be"
            ],
            "layout": "IPY_MODEL_7ef8e581703748b2b6138306018160dc"
          }
        },
        "c9f1f811b40247928cdde103e5802624": {
          "model_module": "@jupyter-widgets/controls",
          "model_name": "HTMLModel",
          "model_module_version": "1.5.0",
          "state": {
            "_dom_classes": [],
            "_model_module": "@jupyter-widgets/controls",
            "_model_module_version": "1.5.0",
            "_model_name": "HTMLModel",
            "_view_count": null,
            "_view_module": "@jupyter-widgets/controls",
            "_view_module_version": "1.5.0",
            "_view_name": "HTMLView",
            "description": "",
            "description_tooltip": null,
            "layout": "IPY_MODEL_15d9413333af4bb98d24309358e8f0e3",
            "placeholder": "​",
            "style": "IPY_MODEL_e64858d0e1084a71ae976435ca2dc13b",
            "value": "Loading checkpoint shards: 100%"
          }
        },
        "bbe7c72dc7aa4cf9a75d424596e5c769": {
          "model_module": "@jupyter-widgets/controls",
          "model_name": "FloatProgressModel",
          "model_module_version": "1.5.0",
          "state": {
            "_dom_classes": [],
            "_model_module": "@jupyter-widgets/controls",
            "_model_module_version": "1.5.0",
            "_model_name": "FloatProgressModel",
            "_view_count": null,
            "_view_module": "@jupyter-widgets/controls",
            "_view_module_version": "1.5.0",
            "_view_name": "ProgressView",
            "bar_style": "success",
            "description": "",
            "description_tooltip": null,
            "layout": "IPY_MODEL_88e352ee7f4e412ebe73cf6c483e87ae",
            "max": 6,
            "min": 0,
            "orientation": "horizontal",
            "style": "IPY_MODEL_06c5010a5c26427c9d5ccf98dd4bbef3",
            "value": 6
          }
        },
        "833c09b8e51348d0b5b96aee910686be": {
          "model_module": "@jupyter-widgets/controls",
          "model_name": "HTMLModel",
          "model_module_version": "1.5.0",
          "state": {
            "_dom_classes": [],
            "_model_module": "@jupyter-widgets/controls",
            "_model_module_version": "1.5.0",
            "_model_name": "HTMLModel",
            "_view_count": null,
            "_view_module": "@jupyter-widgets/controls",
            "_view_module_version": "1.5.0",
            "_view_name": "HTMLView",
            "description": "",
            "description_tooltip": null,
            "layout": "IPY_MODEL_c32687c8ff4c4fcf9470c3c496a14ceb",
            "placeholder": "​",
            "style": "IPY_MODEL_363e61f4b749477db5f9c66d6f780ef2",
            "value": " 6/6 [05:46&lt;00:00, 50.86s/it]"
          }
        },
        "7ef8e581703748b2b6138306018160dc": {
          "model_module": "@jupyter-widgets/base",
          "model_name": "LayoutModel",
          "model_module_version": "1.2.0",
          "state": {
            "_model_module": "@jupyter-widgets/base",
            "_model_module_version": "1.2.0",
            "_model_name": "LayoutModel",
            "_view_count": null,
            "_view_module": "@jupyter-widgets/base",
            "_view_module_version": "1.2.0",
            "_view_name": "LayoutView",
            "align_content": null,
            "align_items": null,
            "align_self": null,
            "border": null,
            "bottom": null,
            "display": null,
            "flex": null,
            "flex_flow": null,
            "grid_area": null,
            "grid_auto_columns": null,
            "grid_auto_flow": null,
            "grid_auto_rows": null,
            "grid_column": null,
            "grid_gap": null,
            "grid_row": null,
            "grid_template_areas": null,
            "grid_template_columns": null,
            "grid_template_rows": null,
            "height": null,
            "justify_content": null,
            "justify_items": null,
            "left": null,
            "margin": null,
            "max_height": null,
            "max_width": null,
            "min_height": null,
            "min_width": null,
            "object_fit": null,
            "object_position": null,
            "order": null,
            "overflow": null,
            "overflow_x": null,
            "overflow_y": null,
            "padding": null,
            "right": null,
            "top": null,
            "visibility": null,
            "width": null
          }
        },
        "15d9413333af4bb98d24309358e8f0e3": {
          "model_module": "@jupyter-widgets/base",
          "model_name": "LayoutModel",
          "model_module_version": "1.2.0",
          "state": {
            "_model_module": "@jupyter-widgets/base",
            "_model_module_version": "1.2.0",
            "_model_name": "LayoutModel",
            "_view_count": null,
            "_view_module": "@jupyter-widgets/base",
            "_view_module_version": "1.2.0",
            "_view_name": "LayoutView",
            "align_content": null,
            "align_items": null,
            "align_self": null,
            "border": null,
            "bottom": null,
            "display": null,
            "flex": null,
            "flex_flow": null,
            "grid_area": null,
            "grid_auto_columns": null,
            "grid_auto_flow": null,
            "grid_auto_rows": null,
            "grid_column": null,
            "grid_gap": null,
            "grid_row": null,
            "grid_template_areas": null,
            "grid_template_columns": null,
            "grid_template_rows": null,
            "height": null,
            "justify_content": null,
            "justify_items": null,
            "left": null,
            "margin": null,
            "max_height": null,
            "max_width": null,
            "min_height": null,
            "min_width": null,
            "object_fit": null,
            "object_position": null,
            "order": null,
            "overflow": null,
            "overflow_x": null,
            "overflow_y": null,
            "padding": null,
            "right": null,
            "top": null,
            "visibility": null,
            "width": null
          }
        },
        "e64858d0e1084a71ae976435ca2dc13b": {
          "model_module": "@jupyter-widgets/controls",
          "model_name": "DescriptionStyleModel",
          "model_module_version": "1.5.0",
          "state": {
            "_model_module": "@jupyter-widgets/controls",
            "_model_module_version": "1.5.0",
            "_model_name": "DescriptionStyleModel",
            "_view_count": null,
            "_view_module": "@jupyter-widgets/base",
            "_view_module_version": "1.2.0",
            "_view_name": "StyleView",
            "description_width": ""
          }
        },
        "88e352ee7f4e412ebe73cf6c483e87ae": {
          "model_module": "@jupyter-widgets/base",
          "model_name": "LayoutModel",
          "model_module_version": "1.2.0",
          "state": {
            "_model_module": "@jupyter-widgets/base",
            "_model_module_version": "1.2.0",
            "_model_name": "LayoutModel",
            "_view_count": null,
            "_view_module": "@jupyter-widgets/base",
            "_view_module_version": "1.2.0",
            "_view_name": "LayoutView",
            "align_content": null,
            "align_items": null,
            "align_self": null,
            "border": null,
            "bottom": null,
            "display": null,
            "flex": null,
            "flex_flow": null,
            "grid_area": null,
            "grid_auto_columns": null,
            "grid_auto_flow": null,
            "grid_auto_rows": null,
            "grid_column": null,
            "grid_gap": null,
            "grid_row": null,
            "grid_template_areas": null,
            "grid_template_columns": null,
            "grid_template_rows": null,
            "height": null,
            "justify_content": null,
            "justify_items": null,
            "left": null,
            "margin": null,
            "max_height": null,
            "max_width": null,
            "min_height": null,
            "min_width": null,
            "object_fit": null,
            "object_position": null,
            "order": null,
            "overflow": null,
            "overflow_x": null,
            "overflow_y": null,
            "padding": null,
            "right": null,
            "top": null,
            "visibility": null,
            "width": null
          }
        },
        "06c5010a5c26427c9d5ccf98dd4bbef3": {
          "model_module": "@jupyter-widgets/controls",
          "model_name": "ProgressStyleModel",
          "model_module_version": "1.5.0",
          "state": {
            "_model_module": "@jupyter-widgets/controls",
            "_model_module_version": "1.5.0",
            "_model_name": "ProgressStyleModel",
            "_view_count": null,
            "_view_module": "@jupyter-widgets/base",
            "_view_module_version": "1.2.0",
            "_view_name": "StyleView",
            "bar_color": null,
            "description_width": ""
          }
        },
        "c32687c8ff4c4fcf9470c3c496a14ceb": {
          "model_module": "@jupyter-widgets/base",
          "model_name": "LayoutModel",
          "model_module_version": "1.2.0",
          "state": {
            "_model_module": "@jupyter-widgets/base",
            "_model_module_version": "1.2.0",
            "_model_name": "LayoutModel",
            "_view_count": null,
            "_view_module": "@jupyter-widgets/base",
            "_view_module_version": "1.2.0",
            "_view_name": "LayoutView",
            "align_content": null,
            "align_items": null,
            "align_self": null,
            "border": null,
            "bottom": null,
            "display": null,
            "flex": null,
            "flex_flow": null,
            "grid_area": null,
            "grid_auto_columns": null,
            "grid_auto_flow": null,
            "grid_auto_rows": null,
            "grid_column": null,
            "grid_gap": null,
            "grid_row": null,
            "grid_template_areas": null,
            "grid_template_columns": null,
            "grid_template_rows": null,
            "height": null,
            "justify_content": null,
            "justify_items": null,
            "left": null,
            "margin": null,
            "max_height": null,
            "max_width": null,
            "min_height": null,
            "min_width": null,
            "object_fit": null,
            "object_position": null,
            "order": null,
            "overflow": null,
            "overflow_x": null,
            "overflow_y": null,
            "padding": null,
            "right": null,
            "top": null,
            "visibility": null,
            "width": null
          }
        },
        "363e61f4b749477db5f9c66d6f780ef2": {
          "model_module": "@jupyter-widgets/controls",
          "model_name": "DescriptionStyleModel",
          "model_module_version": "1.5.0",
          "state": {
            "_model_module": "@jupyter-widgets/controls",
            "_model_module_version": "1.5.0",
            "_model_name": "DescriptionStyleModel",
            "_view_count": null,
            "_view_module": "@jupyter-widgets/base",
            "_view_module_version": "1.2.0",
            "_view_name": "StyleView",
            "description_width": ""
          }
        },
        "01083a3f747143f9a2e0381ff3cfa11b": {
          "model_module": "@jupyter-widgets/controls",
          "model_name": "HBoxModel",
          "model_module_version": "1.5.0",
          "state": {
            "_dom_classes": [],
            "_model_module": "@jupyter-widgets/controls",
            "_model_module_version": "1.5.0",
            "_model_name": "HBoxModel",
            "_view_count": null,
            "_view_module": "@jupyter-widgets/controls",
            "_view_module_version": "1.5.0",
            "_view_name": "HBoxView",
            "box_style": "",
            "children": [
              "IPY_MODEL_4e13364c4cb04a07b1429403f10f3eac",
              "IPY_MODEL_7f6ec3a7596945beaceea648d802786f",
              "IPY_MODEL_ee5b9ba56d35462bbfea5dd20dc6ca3e"
            ],
            "layout": "IPY_MODEL_f252292549a143f689c26ee7cd985307"
          }
        },
        "4e13364c4cb04a07b1429403f10f3eac": {
          "model_module": "@jupyter-widgets/controls",
          "model_name": "HTMLModel",
          "model_module_version": "1.5.0",
          "state": {
            "_dom_classes": [],
            "_model_module": "@jupyter-widgets/controls",
            "_model_module_version": "1.5.0",
            "_model_name": "HTMLModel",
            "_view_count": null,
            "_view_module": "@jupyter-widgets/controls",
            "_view_module_version": "1.5.0",
            "_view_name": "HTMLView",
            "description": "",
            "description_tooltip": null,
            "layout": "IPY_MODEL_d70f2fe7e6b94501898298e2faed99d3",
            "placeholder": "​",
            "style": "IPY_MODEL_9b717554673943b9ab21d88e630439d6",
            "value": ".gitattributes: 100%"
          }
        },
        "7f6ec3a7596945beaceea648d802786f": {
          "model_module": "@jupyter-widgets/controls",
          "model_name": "FloatProgressModel",
          "model_module_version": "1.5.0",
          "state": {
            "_dom_classes": [],
            "_model_module": "@jupyter-widgets/controls",
            "_model_module_version": "1.5.0",
            "_model_name": "FloatProgressModel",
            "_view_count": null,
            "_view_module": "@jupyter-widgets/controls",
            "_view_module_version": "1.5.0",
            "_view_name": "ProgressView",
            "bar_style": "success",
            "description": "",
            "description_tooltip": null,
            "layout": "IPY_MODEL_b341d84f672a47218773bcd2df70bde0",
            "max": 1175,
            "min": 0,
            "orientation": "horizontal",
            "style": "IPY_MODEL_f5b03f5c005f47438cb3f737ce1f8be6",
            "value": 1175
          }
        },
        "ee5b9ba56d35462bbfea5dd20dc6ca3e": {
          "model_module": "@jupyter-widgets/controls",
          "model_name": "HTMLModel",
          "model_module_version": "1.5.0",
          "state": {
            "_dom_classes": [],
            "_model_module": "@jupyter-widgets/controls",
            "_model_module_version": "1.5.0",
            "_model_name": "HTMLModel",
            "_view_count": null,
            "_view_module": "@jupyter-widgets/controls",
            "_view_module_version": "1.5.0",
            "_view_name": "HTMLView",
            "description": "",
            "description_tooltip": null,
            "layout": "IPY_MODEL_f8667df639b845afbd5ffee97ff7edca",
            "placeholder": "​",
            "style": "IPY_MODEL_61cdee223b9744989ad2ceceed9a6585",
            "value": " 1.18k/1.18k [00:00&lt;00:00, 91.3kB/s]"
          }
        },
        "f252292549a143f689c26ee7cd985307": {
          "model_module": "@jupyter-widgets/base",
          "model_name": "LayoutModel",
          "model_module_version": "1.2.0",
          "state": {
            "_model_module": "@jupyter-widgets/base",
            "_model_module_version": "1.2.0",
            "_model_name": "LayoutModel",
            "_view_count": null,
            "_view_module": "@jupyter-widgets/base",
            "_view_module_version": "1.2.0",
            "_view_name": "LayoutView",
            "align_content": null,
            "align_items": null,
            "align_self": null,
            "border": null,
            "bottom": null,
            "display": null,
            "flex": null,
            "flex_flow": null,
            "grid_area": null,
            "grid_auto_columns": null,
            "grid_auto_flow": null,
            "grid_auto_rows": null,
            "grid_column": null,
            "grid_gap": null,
            "grid_row": null,
            "grid_template_areas": null,
            "grid_template_columns": null,
            "grid_template_rows": null,
            "height": null,
            "justify_content": null,
            "justify_items": null,
            "left": null,
            "margin": null,
            "max_height": null,
            "max_width": null,
            "min_height": null,
            "min_width": null,
            "object_fit": null,
            "object_position": null,
            "order": null,
            "overflow": null,
            "overflow_x": null,
            "overflow_y": null,
            "padding": null,
            "right": null,
            "top": null,
            "visibility": null,
            "width": null
          }
        },
        "d70f2fe7e6b94501898298e2faed99d3": {
          "model_module": "@jupyter-widgets/base",
          "model_name": "LayoutModel",
          "model_module_version": "1.2.0",
          "state": {
            "_model_module": "@jupyter-widgets/base",
            "_model_module_version": "1.2.0",
            "_model_name": "LayoutModel",
            "_view_count": null,
            "_view_module": "@jupyter-widgets/base",
            "_view_module_version": "1.2.0",
            "_view_name": "LayoutView",
            "align_content": null,
            "align_items": null,
            "align_self": null,
            "border": null,
            "bottom": null,
            "display": null,
            "flex": null,
            "flex_flow": null,
            "grid_area": null,
            "grid_auto_columns": null,
            "grid_auto_flow": null,
            "grid_auto_rows": null,
            "grid_column": null,
            "grid_gap": null,
            "grid_row": null,
            "grid_template_areas": null,
            "grid_template_columns": null,
            "grid_template_rows": null,
            "height": null,
            "justify_content": null,
            "justify_items": null,
            "left": null,
            "margin": null,
            "max_height": null,
            "max_width": null,
            "min_height": null,
            "min_width": null,
            "object_fit": null,
            "object_position": null,
            "order": null,
            "overflow": null,
            "overflow_x": null,
            "overflow_y": null,
            "padding": null,
            "right": null,
            "top": null,
            "visibility": null,
            "width": null
          }
        },
        "9b717554673943b9ab21d88e630439d6": {
          "model_module": "@jupyter-widgets/controls",
          "model_name": "DescriptionStyleModel",
          "model_module_version": "1.5.0",
          "state": {
            "_model_module": "@jupyter-widgets/controls",
            "_model_module_version": "1.5.0",
            "_model_name": "DescriptionStyleModel",
            "_view_count": null,
            "_view_module": "@jupyter-widgets/base",
            "_view_module_version": "1.2.0",
            "_view_name": "StyleView",
            "description_width": ""
          }
        },
        "b341d84f672a47218773bcd2df70bde0": {
          "model_module": "@jupyter-widgets/base",
          "model_name": "LayoutModel",
          "model_module_version": "1.2.0",
          "state": {
            "_model_module": "@jupyter-widgets/base",
            "_model_module_version": "1.2.0",
            "_model_name": "LayoutModel",
            "_view_count": null,
            "_view_module": "@jupyter-widgets/base",
            "_view_module_version": "1.2.0",
            "_view_name": "LayoutView",
            "align_content": null,
            "align_items": null,
            "align_self": null,
            "border": null,
            "bottom": null,
            "display": null,
            "flex": null,
            "flex_flow": null,
            "grid_area": null,
            "grid_auto_columns": null,
            "grid_auto_flow": null,
            "grid_auto_rows": null,
            "grid_column": null,
            "grid_gap": null,
            "grid_row": null,
            "grid_template_areas": null,
            "grid_template_columns": null,
            "grid_template_rows": null,
            "height": null,
            "justify_content": null,
            "justify_items": null,
            "left": null,
            "margin": null,
            "max_height": null,
            "max_width": null,
            "min_height": null,
            "min_width": null,
            "object_fit": null,
            "object_position": null,
            "order": null,
            "overflow": null,
            "overflow_x": null,
            "overflow_y": null,
            "padding": null,
            "right": null,
            "top": null,
            "visibility": null,
            "width": null
          }
        },
        "f5b03f5c005f47438cb3f737ce1f8be6": {
          "model_module": "@jupyter-widgets/controls",
          "model_name": "ProgressStyleModel",
          "model_module_version": "1.5.0",
          "state": {
            "_model_module": "@jupyter-widgets/controls",
            "_model_module_version": "1.5.0",
            "_model_name": "ProgressStyleModel",
            "_view_count": null,
            "_view_module": "@jupyter-widgets/base",
            "_view_module_version": "1.2.0",
            "_view_name": "StyleView",
            "bar_color": null,
            "description_width": ""
          }
        },
        "f8667df639b845afbd5ffee97ff7edca": {
          "model_module": "@jupyter-widgets/base",
          "model_name": "LayoutModel",
          "model_module_version": "1.2.0",
          "state": {
            "_model_module": "@jupyter-widgets/base",
            "_model_module_version": "1.2.0",
            "_model_name": "LayoutModel",
            "_view_count": null,
            "_view_module": "@jupyter-widgets/base",
            "_view_module_version": "1.2.0",
            "_view_name": "LayoutView",
            "align_content": null,
            "align_items": null,
            "align_self": null,
            "border": null,
            "bottom": null,
            "display": null,
            "flex": null,
            "flex_flow": null,
            "grid_area": null,
            "grid_auto_columns": null,
            "grid_auto_flow": null,
            "grid_auto_rows": null,
            "grid_column": null,
            "grid_gap": null,
            "grid_row": null,
            "grid_template_areas": null,
            "grid_template_columns": null,
            "grid_template_rows": null,
            "height": null,
            "justify_content": null,
            "justify_items": null,
            "left": null,
            "margin": null,
            "max_height": null,
            "max_width": null,
            "min_height": null,
            "min_width": null,
            "object_fit": null,
            "object_position": null,
            "order": null,
            "overflow": null,
            "overflow_x": null,
            "overflow_y": null,
            "padding": null,
            "right": null,
            "top": null,
            "visibility": null,
            "width": null
          }
        },
        "61cdee223b9744989ad2ceceed9a6585": {
          "model_module": "@jupyter-widgets/controls",
          "model_name": "DescriptionStyleModel",
          "model_module_version": "1.5.0",
          "state": {
            "_model_module": "@jupyter-widgets/controls",
            "_model_module_version": "1.5.0",
            "_model_name": "DescriptionStyleModel",
            "_view_count": null,
            "_view_module": "@jupyter-widgets/base",
            "_view_module_version": "1.2.0",
            "_view_name": "StyleView",
            "description_width": ""
          }
        },
        "e8b54fe4af6d4b1396b8155590f414fe": {
          "model_module": "@jupyter-widgets/controls",
          "model_name": "HBoxModel",
          "model_module_version": "1.5.0",
          "state": {
            "_dom_classes": [],
            "_model_module": "@jupyter-widgets/controls",
            "_model_module_version": "1.5.0",
            "_model_name": "HBoxModel",
            "_view_count": null,
            "_view_module": "@jupyter-widgets/controls",
            "_view_module_version": "1.5.0",
            "_view_name": "HBoxView",
            "box_style": "",
            "children": [
              "IPY_MODEL_c90e5f9c4e534d4cb277b0ae0364f06e",
              "IPY_MODEL_eb763b2639c849b2a9620e7f4f5582ee",
              "IPY_MODEL_15452aa47023416799bd4c0a16b01d8d"
            ],
            "layout": "IPY_MODEL_9b61f83f7d0b43f4aab98bf8aead8116"
          }
        },
        "c90e5f9c4e534d4cb277b0ae0364f06e": {
          "model_module": "@jupyter-widgets/controls",
          "model_name": "HTMLModel",
          "model_module_version": "1.5.0",
          "state": {
            "_dom_classes": [],
            "_model_module": "@jupyter-widgets/controls",
            "_model_module_version": "1.5.0",
            "_model_name": "HTMLModel",
            "_view_count": null,
            "_view_module": "@jupyter-widgets/controls",
            "_view_module_version": "1.5.0",
            "_view_name": "HTMLView",
            "description": "",
            "description_tooltip": null,
            "layout": "IPY_MODEL_10e5ca1b71764365935ff9b8292e45ab",
            "placeholder": "​",
            "style": "IPY_MODEL_8b4a3ce1cc71464d8540a440d3e22f2a",
            "value": "1_Pooling/config.json: 100%"
          }
        },
        "eb763b2639c849b2a9620e7f4f5582ee": {
          "model_module": "@jupyter-widgets/controls",
          "model_name": "FloatProgressModel",
          "model_module_version": "1.5.0",
          "state": {
            "_dom_classes": [],
            "_model_module": "@jupyter-widgets/controls",
            "_model_module_version": "1.5.0",
            "_model_name": "FloatProgressModel",
            "_view_count": null,
            "_view_module": "@jupyter-widgets/controls",
            "_view_module_version": "1.5.0",
            "_view_name": "ProgressView",
            "bar_style": "success",
            "description": "",
            "description_tooltip": null,
            "layout": "IPY_MODEL_5b3b921f28524223b836ea145df9e31e",
            "max": 190,
            "min": 0,
            "orientation": "horizontal",
            "style": "IPY_MODEL_215253d4e0fd41e1a6b5fab324bc7a95",
            "value": 190
          }
        },
        "15452aa47023416799bd4c0a16b01d8d": {
          "model_module": "@jupyter-widgets/controls",
          "model_name": "HTMLModel",
          "model_module_version": "1.5.0",
          "state": {
            "_dom_classes": [],
            "_model_module": "@jupyter-widgets/controls",
            "_model_module_version": "1.5.0",
            "_model_name": "HTMLModel",
            "_view_count": null,
            "_view_module": "@jupyter-widgets/controls",
            "_view_module_version": "1.5.0",
            "_view_name": "HTMLView",
            "description": "",
            "description_tooltip": null,
            "layout": "IPY_MODEL_3e5fadd16a2c4c14901bddcbfea8e297",
            "placeholder": "​",
            "style": "IPY_MODEL_b1c4d6b071014bb08189fa115d96a6ea",
            "value": " 190/190 [00:00&lt;00:00, 11.5kB/s]"
          }
        },
        "9b61f83f7d0b43f4aab98bf8aead8116": {
          "model_module": "@jupyter-widgets/base",
          "model_name": "LayoutModel",
          "model_module_version": "1.2.0",
          "state": {
            "_model_module": "@jupyter-widgets/base",
            "_model_module_version": "1.2.0",
            "_model_name": "LayoutModel",
            "_view_count": null,
            "_view_module": "@jupyter-widgets/base",
            "_view_module_version": "1.2.0",
            "_view_name": "LayoutView",
            "align_content": null,
            "align_items": null,
            "align_self": null,
            "border": null,
            "bottom": null,
            "display": null,
            "flex": null,
            "flex_flow": null,
            "grid_area": null,
            "grid_auto_columns": null,
            "grid_auto_flow": null,
            "grid_auto_rows": null,
            "grid_column": null,
            "grid_gap": null,
            "grid_row": null,
            "grid_template_areas": null,
            "grid_template_columns": null,
            "grid_template_rows": null,
            "height": null,
            "justify_content": null,
            "justify_items": null,
            "left": null,
            "margin": null,
            "max_height": null,
            "max_width": null,
            "min_height": null,
            "min_width": null,
            "object_fit": null,
            "object_position": null,
            "order": null,
            "overflow": null,
            "overflow_x": null,
            "overflow_y": null,
            "padding": null,
            "right": null,
            "top": null,
            "visibility": null,
            "width": null
          }
        },
        "10e5ca1b71764365935ff9b8292e45ab": {
          "model_module": "@jupyter-widgets/base",
          "model_name": "LayoutModel",
          "model_module_version": "1.2.0",
          "state": {
            "_model_module": "@jupyter-widgets/base",
            "_model_module_version": "1.2.0",
            "_model_name": "LayoutModel",
            "_view_count": null,
            "_view_module": "@jupyter-widgets/base",
            "_view_module_version": "1.2.0",
            "_view_name": "LayoutView",
            "align_content": null,
            "align_items": null,
            "align_self": null,
            "border": null,
            "bottom": null,
            "display": null,
            "flex": null,
            "flex_flow": null,
            "grid_area": null,
            "grid_auto_columns": null,
            "grid_auto_flow": null,
            "grid_auto_rows": null,
            "grid_column": null,
            "grid_gap": null,
            "grid_row": null,
            "grid_template_areas": null,
            "grid_template_columns": null,
            "grid_template_rows": null,
            "height": null,
            "justify_content": null,
            "justify_items": null,
            "left": null,
            "margin": null,
            "max_height": null,
            "max_width": null,
            "min_height": null,
            "min_width": null,
            "object_fit": null,
            "object_position": null,
            "order": null,
            "overflow": null,
            "overflow_x": null,
            "overflow_y": null,
            "padding": null,
            "right": null,
            "top": null,
            "visibility": null,
            "width": null
          }
        },
        "8b4a3ce1cc71464d8540a440d3e22f2a": {
          "model_module": "@jupyter-widgets/controls",
          "model_name": "DescriptionStyleModel",
          "model_module_version": "1.5.0",
          "state": {
            "_model_module": "@jupyter-widgets/controls",
            "_model_module_version": "1.5.0",
            "_model_name": "DescriptionStyleModel",
            "_view_count": null,
            "_view_module": "@jupyter-widgets/base",
            "_view_module_version": "1.2.0",
            "_view_name": "StyleView",
            "description_width": ""
          }
        },
        "5b3b921f28524223b836ea145df9e31e": {
          "model_module": "@jupyter-widgets/base",
          "model_name": "LayoutModel",
          "model_module_version": "1.2.0",
          "state": {
            "_model_module": "@jupyter-widgets/base",
            "_model_module_version": "1.2.0",
            "_model_name": "LayoutModel",
            "_view_count": null,
            "_view_module": "@jupyter-widgets/base",
            "_view_module_version": "1.2.0",
            "_view_name": "LayoutView",
            "align_content": null,
            "align_items": null,
            "align_self": null,
            "border": null,
            "bottom": null,
            "display": null,
            "flex": null,
            "flex_flow": null,
            "grid_area": null,
            "grid_auto_columns": null,
            "grid_auto_flow": null,
            "grid_auto_rows": null,
            "grid_column": null,
            "grid_gap": null,
            "grid_row": null,
            "grid_template_areas": null,
            "grid_template_columns": null,
            "grid_template_rows": null,
            "height": null,
            "justify_content": null,
            "justify_items": null,
            "left": null,
            "margin": null,
            "max_height": null,
            "max_width": null,
            "min_height": null,
            "min_width": null,
            "object_fit": null,
            "object_position": null,
            "order": null,
            "overflow": null,
            "overflow_x": null,
            "overflow_y": null,
            "padding": null,
            "right": null,
            "top": null,
            "visibility": null,
            "width": null
          }
        },
        "215253d4e0fd41e1a6b5fab324bc7a95": {
          "model_module": "@jupyter-widgets/controls",
          "model_name": "ProgressStyleModel",
          "model_module_version": "1.5.0",
          "state": {
            "_model_module": "@jupyter-widgets/controls",
            "_model_module_version": "1.5.0",
            "_model_name": "ProgressStyleModel",
            "_view_count": null,
            "_view_module": "@jupyter-widgets/base",
            "_view_module_version": "1.2.0",
            "_view_name": "StyleView",
            "bar_color": null,
            "description_width": ""
          }
        },
        "3e5fadd16a2c4c14901bddcbfea8e297": {
          "model_module": "@jupyter-widgets/base",
          "model_name": "LayoutModel",
          "model_module_version": "1.2.0",
          "state": {
            "_model_module": "@jupyter-widgets/base",
            "_model_module_version": "1.2.0",
            "_model_name": "LayoutModel",
            "_view_count": null,
            "_view_module": "@jupyter-widgets/base",
            "_view_module_version": "1.2.0",
            "_view_name": "LayoutView",
            "align_content": null,
            "align_items": null,
            "align_self": null,
            "border": null,
            "bottom": null,
            "display": null,
            "flex": null,
            "flex_flow": null,
            "grid_area": null,
            "grid_auto_columns": null,
            "grid_auto_flow": null,
            "grid_auto_rows": null,
            "grid_column": null,
            "grid_gap": null,
            "grid_row": null,
            "grid_template_areas": null,
            "grid_template_columns": null,
            "grid_template_rows": null,
            "height": null,
            "justify_content": null,
            "justify_items": null,
            "left": null,
            "margin": null,
            "max_height": null,
            "max_width": null,
            "min_height": null,
            "min_width": null,
            "object_fit": null,
            "object_position": null,
            "order": null,
            "overflow": null,
            "overflow_x": null,
            "overflow_y": null,
            "padding": null,
            "right": null,
            "top": null,
            "visibility": null,
            "width": null
          }
        },
        "b1c4d6b071014bb08189fa115d96a6ea": {
          "model_module": "@jupyter-widgets/controls",
          "model_name": "DescriptionStyleModel",
          "model_module_version": "1.5.0",
          "state": {
            "_model_module": "@jupyter-widgets/controls",
            "_model_module_version": "1.5.0",
            "_model_name": "DescriptionStyleModel",
            "_view_count": null,
            "_view_module": "@jupyter-widgets/base",
            "_view_module_version": "1.2.0",
            "_view_name": "StyleView",
            "description_width": ""
          }
        },
        "ed5303ba667e4e329f566dbe828546a1": {
          "model_module": "@jupyter-widgets/controls",
          "model_name": "HBoxModel",
          "model_module_version": "1.5.0",
          "state": {
            "_dom_classes": [],
            "_model_module": "@jupyter-widgets/controls",
            "_model_module_version": "1.5.0",
            "_model_name": "HBoxModel",
            "_view_count": null,
            "_view_module": "@jupyter-widgets/controls",
            "_view_module_version": "1.5.0",
            "_view_name": "HBoxView",
            "box_style": "",
            "children": [
              "IPY_MODEL_b6766e01d4e249998c086678f1fca498",
              "IPY_MODEL_becb237391784e209493f4b59e106cb5",
              "IPY_MODEL_d2c9074acf2f4d3bb269366e1b7c5437"
            ],
            "layout": "IPY_MODEL_8beef29969d946d48be6963c860d3d9c"
          }
        },
        "b6766e01d4e249998c086678f1fca498": {
          "model_module": "@jupyter-widgets/controls",
          "model_name": "HTMLModel",
          "model_module_version": "1.5.0",
          "state": {
            "_dom_classes": [],
            "_model_module": "@jupyter-widgets/controls",
            "_model_module_version": "1.5.0",
            "_model_name": "HTMLModel",
            "_view_count": null,
            "_view_module": "@jupyter-widgets/controls",
            "_view_module_version": "1.5.0",
            "_view_name": "HTMLView",
            "description": "",
            "description_tooltip": null,
            "layout": "IPY_MODEL_d994b0e107f84fb99851f830a18195e7",
            "placeholder": "​",
            "style": "IPY_MODEL_8548ce952acb4a91a44a4be64cf9841a",
            "value": "README.md: 100%"
          }
        },
        "becb237391784e209493f4b59e106cb5": {
          "model_module": "@jupyter-widgets/controls",
          "model_name": "FloatProgressModel",
          "model_module_version": "1.5.0",
          "state": {
            "_dom_classes": [],
            "_model_module": "@jupyter-widgets/controls",
            "_model_module_version": "1.5.0",
            "_model_name": "FloatProgressModel",
            "_view_count": null,
            "_view_module": "@jupyter-widgets/controls",
            "_view_module_version": "1.5.0",
            "_view_name": "ProgressView",
            "bar_style": "success",
            "description": "",
            "description_tooltip": null,
            "layout": "IPY_MODEL_be0406a12c324bbc9bde259db01d0f72",
            "max": 10571,
            "min": 0,
            "orientation": "horizontal",
            "style": "IPY_MODEL_9df0e8750d984b51b2315154bb848128",
            "value": 10571
          }
        },
        "d2c9074acf2f4d3bb269366e1b7c5437": {
          "model_module": "@jupyter-widgets/controls",
          "model_name": "HTMLModel",
          "model_module_version": "1.5.0",
          "state": {
            "_dom_classes": [],
            "_model_module": "@jupyter-widgets/controls",
            "_model_module_version": "1.5.0",
            "_model_name": "HTMLModel",
            "_view_count": null,
            "_view_module": "@jupyter-widgets/controls",
            "_view_module_version": "1.5.0",
            "_view_name": "HTMLView",
            "description": "",
            "description_tooltip": null,
            "layout": "IPY_MODEL_656e131335f741aabb1b64dea1f240a9",
            "placeholder": "​",
            "style": "IPY_MODEL_939bd0fd7e3148d496bc6890012740a7",
            "value": " 10.6k/10.6k [00:00&lt;00:00, 898kB/s]"
          }
        },
        "8beef29969d946d48be6963c860d3d9c": {
          "model_module": "@jupyter-widgets/base",
          "model_name": "LayoutModel",
          "model_module_version": "1.2.0",
          "state": {
            "_model_module": "@jupyter-widgets/base",
            "_model_module_version": "1.2.0",
            "_model_name": "LayoutModel",
            "_view_count": null,
            "_view_module": "@jupyter-widgets/base",
            "_view_module_version": "1.2.0",
            "_view_name": "LayoutView",
            "align_content": null,
            "align_items": null,
            "align_self": null,
            "border": null,
            "bottom": null,
            "display": null,
            "flex": null,
            "flex_flow": null,
            "grid_area": null,
            "grid_auto_columns": null,
            "grid_auto_flow": null,
            "grid_auto_rows": null,
            "grid_column": null,
            "grid_gap": null,
            "grid_row": null,
            "grid_template_areas": null,
            "grid_template_columns": null,
            "grid_template_rows": null,
            "height": null,
            "justify_content": null,
            "justify_items": null,
            "left": null,
            "margin": null,
            "max_height": null,
            "max_width": null,
            "min_height": null,
            "min_width": null,
            "object_fit": null,
            "object_position": null,
            "order": null,
            "overflow": null,
            "overflow_x": null,
            "overflow_y": null,
            "padding": null,
            "right": null,
            "top": null,
            "visibility": null,
            "width": null
          }
        },
        "d994b0e107f84fb99851f830a18195e7": {
          "model_module": "@jupyter-widgets/base",
          "model_name": "LayoutModel",
          "model_module_version": "1.2.0",
          "state": {
            "_model_module": "@jupyter-widgets/base",
            "_model_module_version": "1.2.0",
            "_model_name": "LayoutModel",
            "_view_count": null,
            "_view_module": "@jupyter-widgets/base",
            "_view_module_version": "1.2.0",
            "_view_name": "LayoutView",
            "align_content": null,
            "align_items": null,
            "align_self": null,
            "border": null,
            "bottom": null,
            "display": null,
            "flex": null,
            "flex_flow": null,
            "grid_area": null,
            "grid_auto_columns": null,
            "grid_auto_flow": null,
            "grid_auto_rows": null,
            "grid_column": null,
            "grid_gap": null,
            "grid_row": null,
            "grid_template_areas": null,
            "grid_template_columns": null,
            "grid_template_rows": null,
            "height": null,
            "justify_content": null,
            "justify_items": null,
            "left": null,
            "margin": null,
            "max_height": null,
            "max_width": null,
            "min_height": null,
            "min_width": null,
            "object_fit": null,
            "object_position": null,
            "order": null,
            "overflow": null,
            "overflow_x": null,
            "overflow_y": null,
            "padding": null,
            "right": null,
            "top": null,
            "visibility": null,
            "width": null
          }
        },
        "8548ce952acb4a91a44a4be64cf9841a": {
          "model_module": "@jupyter-widgets/controls",
          "model_name": "DescriptionStyleModel",
          "model_module_version": "1.5.0",
          "state": {
            "_model_module": "@jupyter-widgets/controls",
            "_model_module_version": "1.5.0",
            "_model_name": "DescriptionStyleModel",
            "_view_count": null,
            "_view_module": "@jupyter-widgets/base",
            "_view_module_version": "1.2.0",
            "_view_name": "StyleView",
            "description_width": ""
          }
        },
        "be0406a12c324bbc9bde259db01d0f72": {
          "model_module": "@jupyter-widgets/base",
          "model_name": "LayoutModel",
          "model_module_version": "1.2.0",
          "state": {
            "_model_module": "@jupyter-widgets/base",
            "_model_module_version": "1.2.0",
            "_model_name": "LayoutModel",
            "_view_count": null,
            "_view_module": "@jupyter-widgets/base",
            "_view_module_version": "1.2.0",
            "_view_name": "LayoutView",
            "align_content": null,
            "align_items": null,
            "align_self": null,
            "border": null,
            "bottom": null,
            "display": null,
            "flex": null,
            "flex_flow": null,
            "grid_area": null,
            "grid_auto_columns": null,
            "grid_auto_flow": null,
            "grid_auto_rows": null,
            "grid_column": null,
            "grid_gap": null,
            "grid_row": null,
            "grid_template_areas": null,
            "grid_template_columns": null,
            "grid_template_rows": null,
            "height": null,
            "justify_content": null,
            "justify_items": null,
            "left": null,
            "margin": null,
            "max_height": null,
            "max_width": null,
            "min_height": null,
            "min_width": null,
            "object_fit": null,
            "object_position": null,
            "order": null,
            "overflow": null,
            "overflow_x": null,
            "overflow_y": null,
            "padding": null,
            "right": null,
            "top": null,
            "visibility": null,
            "width": null
          }
        },
        "9df0e8750d984b51b2315154bb848128": {
          "model_module": "@jupyter-widgets/controls",
          "model_name": "ProgressStyleModel",
          "model_module_version": "1.5.0",
          "state": {
            "_model_module": "@jupyter-widgets/controls",
            "_model_module_version": "1.5.0",
            "_model_name": "ProgressStyleModel",
            "_view_count": null,
            "_view_module": "@jupyter-widgets/base",
            "_view_module_version": "1.2.0",
            "_view_name": "StyleView",
            "bar_color": null,
            "description_width": ""
          }
        },
        "656e131335f741aabb1b64dea1f240a9": {
          "model_module": "@jupyter-widgets/base",
          "model_name": "LayoutModel",
          "model_module_version": "1.2.0",
          "state": {
            "_model_module": "@jupyter-widgets/base",
            "_model_module_version": "1.2.0",
            "_model_name": "LayoutModel",
            "_view_count": null,
            "_view_module": "@jupyter-widgets/base",
            "_view_module_version": "1.2.0",
            "_view_name": "LayoutView",
            "align_content": null,
            "align_items": null,
            "align_self": null,
            "border": null,
            "bottom": null,
            "display": null,
            "flex": null,
            "flex_flow": null,
            "grid_area": null,
            "grid_auto_columns": null,
            "grid_auto_flow": null,
            "grid_auto_rows": null,
            "grid_column": null,
            "grid_gap": null,
            "grid_row": null,
            "grid_template_areas": null,
            "grid_template_columns": null,
            "grid_template_rows": null,
            "height": null,
            "justify_content": null,
            "justify_items": null,
            "left": null,
            "margin": null,
            "max_height": null,
            "max_width": null,
            "min_height": null,
            "min_width": null,
            "object_fit": null,
            "object_position": null,
            "order": null,
            "overflow": null,
            "overflow_x": null,
            "overflow_y": null,
            "padding": null,
            "right": null,
            "top": null,
            "visibility": null,
            "width": null
          }
        },
        "939bd0fd7e3148d496bc6890012740a7": {
          "model_module": "@jupyter-widgets/controls",
          "model_name": "DescriptionStyleModel",
          "model_module_version": "1.5.0",
          "state": {
            "_model_module": "@jupyter-widgets/controls",
            "_model_module_version": "1.5.0",
            "_model_name": "DescriptionStyleModel",
            "_view_count": null,
            "_view_module": "@jupyter-widgets/base",
            "_view_module_version": "1.2.0",
            "_view_name": "StyleView",
            "description_width": ""
          }
        },
        "57bf13ece9de433c815b21d58d452701": {
          "model_module": "@jupyter-widgets/controls",
          "model_name": "HBoxModel",
          "model_module_version": "1.5.0",
          "state": {
            "_dom_classes": [],
            "_model_module": "@jupyter-widgets/controls",
            "_model_module_version": "1.5.0",
            "_model_name": "HBoxModel",
            "_view_count": null,
            "_view_module": "@jupyter-widgets/controls",
            "_view_module_version": "1.5.0",
            "_view_name": "HBoxView",
            "box_style": "",
            "children": [
              "IPY_MODEL_3d39919d1ff24d7f9cc0ab753810b239",
              "IPY_MODEL_d90429a2766b46dabb3db8682a955b8d",
              "IPY_MODEL_d49dac8388604befaa395494ca070da1"
            ],
            "layout": "IPY_MODEL_86d1990711154022ae15db5828dbabad"
          }
        },
        "3d39919d1ff24d7f9cc0ab753810b239": {
          "model_module": "@jupyter-widgets/controls",
          "model_name": "HTMLModel",
          "model_module_version": "1.5.0",
          "state": {
            "_dom_classes": [],
            "_model_module": "@jupyter-widgets/controls",
            "_model_module_version": "1.5.0",
            "_model_name": "HTMLModel",
            "_view_count": null,
            "_view_module": "@jupyter-widgets/controls",
            "_view_module_version": "1.5.0",
            "_view_name": "HTMLView",
            "description": "",
            "description_tooltip": null,
            "layout": "IPY_MODEL_8562725abdb24ddc83284b8b13a8a14c",
            "placeholder": "​",
            "style": "IPY_MODEL_d8d63af7eb1c4faf9fcc6867d92d309f",
            "value": "config.json: 100%"
          }
        },
        "d90429a2766b46dabb3db8682a955b8d": {
          "model_module": "@jupyter-widgets/controls",
          "model_name": "FloatProgressModel",
          "model_module_version": "1.5.0",
          "state": {
            "_dom_classes": [],
            "_model_module": "@jupyter-widgets/controls",
            "_model_module_version": "1.5.0",
            "_model_name": "FloatProgressModel",
            "_view_count": null,
            "_view_module": "@jupyter-widgets/controls",
            "_view_module_version": "1.5.0",
            "_view_name": "ProgressView",
            "bar_style": "success",
            "description": "",
            "description_tooltip": null,
            "layout": "IPY_MODEL_14c48c2eba9e4b278f9f53ebf353e476",
            "max": 571,
            "min": 0,
            "orientation": "horizontal",
            "style": "IPY_MODEL_63726c539ead4fbab8e717b703e960e5",
            "value": 571
          }
        },
        "d49dac8388604befaa395494ca070da1": {
          "model_module": "@jupyter-widgets/controls",
          "model_name": "HTMLModel",
          "model_module_version": "1.5.0",
          "state": {
            "_dom_classes": [],
            "_model_module": "@jupyter-widgets/controls",
            "_model_module_version": "1.5.0",
            "_model_name": "HTMLModel",
            "_view_count": null,
            "_view_module": "@jupyter-widgets/controls",
            "_view_module_version": "1.5.0",
            "_view_name": "HTMLView",
            "description": "",
            "description_tooltip": null,
            "layout": "IPY_MODEL_0211523a8ec34266992711f0ef0f7c9d",
            "placeholder": "​",
            "style": "IPY_MODEL_15ff19580c124ff99c9c068981e048ca",
            "value": " 571/571 [00:00&lt;00:00, 43.9kB/s]"
          }
        },
        "86d1990711154022ae15db5828dbabad": {
          "model_module": "@jupyter-widgets/base",
          "model_name": "LayoutModel",
          "model_module_version": "1.2.0",
          "state": {
            "_model_module": "@jupyter-widgets/base",
            "_model_module_version": "1.2.0",
            "_model_name": "LayoutModel",
            "_view_count": null,
            "_view_module": "@jupyter-widgets/base",
            "_view_module_version": "1.2.0",
            "_view_name": "LayoutView",
            "align_content": null,
            "align_items": null,
            "align_self": null,
            "border": null,
            "bottom": null,
            "display": null,
            "flex": null,
            "flex_flow": null,
            "grid_area": null,
            "grid_auto_columns": null,
            "grid_auto_flow": null,
            "grid_auto_rows": null,
            "grid_column": null,
            "grid_gap": null,
            "grid_row": null,
            "grid_template_areas": null,
            "grid_template_columns": null,
            "grid_template_rows": null,
            "height": null,
            "justify_content": null,
            "justify_items": null,
            "left": null,
            "margin": null,
            "max_height": null,
            "max_width": null,
            "min_height": null,
            "min_width": null,
            "object_fit": null,
            "object_position": null,
            "order": null,
            "overflow": null,
            "overflow_x": null,
            "overflow_y": null,
            "padding": null,
            "right": null,
            "top": null,
            "visibility": null,
            "width": null
          }
        },
        "8562725abdb24ddc83284b8b13a8a14c": {
          "model_module": "@jupyter-widgets/base",
          "model_name": "LayoutModel",
          "model_module_version": "1.2.0",
          "state": {
            "_model_module": "@jupyter-widgets/base",
            "_model_module_version": "1.2.0",
            "_model_name": "LayoutModel",
            "_view_count": null,
            "_view_module": "@jupyter-widgets/base",
            "_view_module_version": "1.2.0",
            "_view_name": "LayoutView",
            "align_content": null,
            "align_items": null,
            "align_self": null,
            "border": null,
            "bottom": null,
            "display": null,
            "flex": null,
            "flex_flow": null,
            "grid_area": null,
            "grid_auto_columns": null,
            "grid_auto_flow": null,
            "grid_auto_rows": null,
            "grid_column": null,
            "grid_gap": null,
            "grid_row": null,
            "grid_template_areas": null,
            "grid_template_columns": null,
            "grid_template_rows": null,
            "height": null,
            "justify_content": null,
            "justify_items": null,
            "left": null,
            "margin": null,
            "max_height": null,
            "max_width": null,
            "min_height": null,
            "min_width": null,
            "object_fit": null,
            "object_position": null,
            "order": null,
            "overflow": null,
            "overflow_x": null,
            "overflow_y": null,
            "padding": null,
            "right": null,
            "top": null,
            "visibility": null,
            "width": null
          }
        },
        "d8d63af7eb1c4faf9fcc6867d92d309f": {
          "model_module": "@jupyter-widgets/controls",
          "model_name": "DescriptionStyleModel",
          "model_module_version": "1.5.0",
          "state": {
            "_model_module": "@jupyter-widgets/controls",
            "_model_module_version": "1.5.0",
            "_model_name": "DescriptionStyleModel",
            "_view_count": null,
            "_view_module": "@jupyter-widgets/base",
            "_view_module_version": "1.2.0",
            "_view_name": "StyleView",
            "description_width": ""
          }
        },
        "14c48c2eba9e4b278f9f53ebf353e476": {
          "model_module": "@jupyter-widgets/base",
          "model_name": "LayoutModel",
          "model_module_version": "1.2.0",
          "state": {
            "_model_module": "@jupyter-widgets/base",
            "_model_module_version": "1.2.0",
            "_model_name": "LayoutModel",
            "_view_count": null,
            "_view_module": "@jupyter-widgets/base",
            "_view_module_version": "1.2.0",
            "_view_name": "LayoutView",
            "align_content": null,
            "align_items": null,
            "align_self": null,
            "border": null,
            "bottom": null,
            "display": null,
            "flex": null,
            "flex_flow": null,
            "grid_area": null,
            "grid_auto_columns": null,
            "grid_auto_flow": null,
            "grid_auto_rows": null,
            "grid_column": null,
            "grid_gap": null,
            "grid_row": null,
            "grid_template_areas": null,
            "grid_template_columns": null,
            "grid_template_rows": null,
            "height": null,
            "justify_content": null,
            "justify_items": null,
            "left": null,
            "margin": null,
            "max_height": null,
            "max_width": null,
            "min_height": null,
            "min_width": null,
            "object_fit": null,
            "object_position": null,
            "order": null,
            "overflow": null,
            "overflow_x": null,
            "overflow_y": null,
            "padding": null,
            "right": null,
            "top": null,
            "visibility": null,
            "width": null
          }
        },
        "63726c539ead4fbab8e717b703e960e5": {
          "model_module": "@jupyter-widgets/controls",
          "model_name": "ProgressStyleModel",
          "model_module_version": "1.5.0",
          "state": {
            "_model_module": "@jupyter-widgets/controls",
            "_model_module_version": "1.5.0",
            "_model_name": "ProgressStyleModel",
            "_view_count": null,
            "_view_module": "@jupyter-widgets/base",
            "_view_module_version": "1.2.0",
            "_view_name": "StyleView",
            "bar_color": null,
            "description_width": ""
          }
        },
        "0211523a8ec34266992711f0ef0f7c9d": {
          "model_module": "@jupyter-widgets/base",
          "model_name": "LayoutModel",
          "model_module_version": "1.2.0",
          "state": {
            "_model_module": "@jupyter-widgets/base",
            "_model_module_version": "1.2.0",
            "_model_name": "LayoutModel",
            "_view_count": null,
            "_view_module": "@jupyter-widgets/base",
            "_view_module_version": "1.2.0",
            "_view_name": "LayoutView",
            "align_content": null,
            "align_items": null,
            "align_self": null,
            "border": null,
            "bottom": null,
            "display": null,
            "flex": null,
            "flex_flow": null,
            "grid_area": null,
            "grid_auto_columns": null,
            "grid_auto_flow": null,
            "grid_auto_rows": null,
            "grid_column": null,
            "grid_gap": null,
            "grid_row": null,
            "grid_template_areas": null,
            "grid_template_columns": null,
            "grid_template_rows": null,
            "height": null,
            "justify_content": null,
            "justify_items": null,
            "left": null,
            "margin": null,
            "max_height": null,
            "max_width": null,
            "min_height": null,
            "min_width": null,
            "object_fit": null,
            "object_position": null,
            "order": null,
            "overflow": null,
            "overflow_x": null,
            "overflow_y": null,
            "padding": null,
            "right": null,
            "top": null,
            "visibility": null,
            "width": null
          }
        },
        "15ff19580c124ff99c9c068981e048ca": {
          "model_module": "@jupyter-widgets/controls",
          "model_name": "DescriptionStyleModel",
          "model_module_version": "1.5.0",
          "state": {
            "_model_module": "@jupyter-widgets/controls",
            "_model_module_version": "1.5.0",
            "_model_name": "DescriptionStyleModel",
            "_view_count": null,
            "_view_module": "@jupyter-widgets/base",
            "_view_module_version": "1.2.0",
            "_view_name": "StyleView",
            "description_width": ""
          }
        },
        "5d7e07bd68744256a013a0443262a433": {
          "model_module": "@jupyter-widgets/controls",
          "model_name": "HBoxModel",
          "model_module_version": "1.5.0",
          "state": {
            "_dom_classes": [],
            "_model_module": "@jupyter-widgets/controls",
            "_model_module_version": "1.5.0",
            "_model_name": "HBoxModel",
            "_view_count": null,
            "_view_module": "@jupyter-widgets/controls",
            "_view_module_version": "1.5.0",
            "_view_name": "HBoxView",
            "box_style": "",
            "children": [
              "IPY_MODEL_ce8d68e1b6a949c788408a6d973192a9",
              "IPY_MODEL_207d36ed7bfd4aa09f187109ab79f884",
              "IPY_MODEL_cd1d8b276e394bd3ace8d7e516e66315"
            ],
            "layout": "IPY_MODEL_a5a0dc7619fa4ebbba8a459bfa0388dd"
          }
        },
        "ce8d68e1b6a949c788408a6d973192a9": {
          "model_module": "@jupyter-widgets/controls",
          "model_name": "HTMLModel",
          "model_module_version": "1.5.0",
          "state": {
            "_dom_classes": [],
            "_model_module": "@jupyter-widgets/controls",
            "_model_module_version": "1.5.0",
            "_model_name": "HTMLModel",
            "_view_count": null,
            "_view_module": "@jupyter-widgets/controls",
            "_view_module_version": "1.5.0",
            "_view_name": "HTMLView",
            "description": "",
            "description_tooltip": null,
            "layout": "IPY_MODEL_32de784031bc4b4da9a05175bffe0d2e",
            "placeholder": "​",
            "style": "IPY_MODEL_8b4b42fc95fd49ac9b1cfaa4b064bd8b",
            "value": "config_sentence_transformers.json: 100%"
          }
        },
        "207d36ed7bfd4aa09f187109ab79f884": {
          "model_module": "@jupyter-widgets/controls",
          "model_name": "FloatProgressModel",
          "model_module_version": "1.5.0",
          "state": {
            "_dom_classes": [],
            "_model_module": "@jupyter-widgets/controls",
            "_model_module_version": "1.5.0",
            "_model_name": "FloatProgressModel",
            "_view_count": null,
            "_view_module": "@jupyter-widgets/controls",
            "_view_module_version": "1.5.0",
            "_view_name": "ProgressView",
            "bar_style": "success",
            "description": "",
            "description_tooltip": null,
            "layout": "IPY_MODEL_e232d929f0bc423d912b92b17f99cb1b",
            "max": 116,
            "min": 0,
            "orientation": "horizontal",
            "style": "IPY_MODEL_18d0ebdca9d74e57bb574a77e60d0a44",
            "value": 116
          }
        },
        "cd1d8b276e394bd3ace8d7e516e66315": {
          "model_module": "@jupyter-widgets/controls",
          "model_name": "HTMLModel",
          "model_module_version": "1.5.0",
          "state": {
            "_dom_classes": [],
            "_model_module": "@jupyter-widgets/controls",
            "_model_module_version": "1.5.0",
            "_model_name": "HTMLModel",
            "_view_count": null,
            "_view_module": "@jupyter-widgets/controls",
            "_view_module_version": "1.5.0",
            "_view_name": "HTMLView",
            "description": "",
            "description_tooltip": null,
            "layout": "IPY_MODEL_22922c06a20c405680eb2fe14e18e197",
            "placeholder": "​",
            "style": "IPY_MODEL_931c9f9b0f1d42c3a1dac3c0341ef6f2",
            "value": " 116/116 [00:00&lt;00:00, 5.92kB/s]"
          }
        },
        "a5a0dc7619fa4ebbba8a459bfa0388dd": {
          "model_module": "@jupyter-widgets/base",
          "model_name": "LayoutModel",
          "model_module_version": "1.2.0",
          "state": {
            "_model_module": "@jupyter-widgets/base",
            "_model_module_version": "1.2.0",
            "_model_name": "LayoutModel",
            "_view_count": null,
            "_view_module": "@jupyter-widgets/base",
            "_view_module_version": "1.2.0",
            "_view_name": "LayoutView",
            "align_content": null,
            "align_items": null,
            "align_self": null,
            "border": null,
            "bottom": null,
            "display": null,
            "flex": null,
            "flex_flow": null,
            "grid_area": null,
            "grid_auto_columns": null,
            "grid_auto_flow": null,
            "grid_auto_rows": null,
            "grid_column": null,
            "grid_gap": null,
            "grid_row": null,
            "grid_template_areas": null,
            "grid_template_columns": null,
            "grid_template_rows": null,
            "height": null,
            "justify_content": null,
            "justify_items": null,
            "left": null,
            "margin": null,
            "max_height": null,
            "max_width": null,
            "min_height": null,
            "min_width": null,
            "object_fit": null,
            "object_position": null,
            "order": null,
            "overflow": null,
            "overflow_x": null,
            "overflow_y": null,
            "padding": null,
            "right": null,
            "top": null,
            "visibility": null,
            "width": null
          }
        },
        "32de784031bc4b4da9a05175bffe0d2e": {
          "model_module": "@jupyter-widgets/base",
          "model_name": "LayoutModel",
          "model_module_version": "1.2.0",
          "state": {
            "_model_module": "@jupyter-widgets/base",
            "_model_module_version": "1.2.0",
            "_model_name": "LayoutModel",
            "_view_count": null,
            "_view_module": "@jupyter-widgets/base",
            "_view_module_version": "1.2.0",
            "_view_name": "LayoutView",
            "align_content": null,
            "align_items": null,
            "align_self": null,
            "border": null,
            "bottom": null,
            "display": null,
            "flex": null,
            "flex_flow": null,
            "grid_area": null,
            "grid_auto_columns": null,
            "grid_auto_flow": null,
            "grid_auto_rows": null,
            "grid_column": null,
            "grid_gap": null,
            "grid_row": null,
            "grid_template_areas": null,
            "grid_template_columns": null,
            "grid_template_rows": null,
            "height": null,
            "justify_content": null,
            "justify_items": null,
            "left": null,
            "margin": null,
            "max_height": null,
            "max_width": null,
            "min_height": null,
            "min_width": null,
            "object_fit": null,
            "object_position": null,
            "order": null,
            "overflow": null,
            "overflow_x": null,
            "overflow_y": null,
            "padding": null,
            "right": null,
            "top": null,
            "visibility": null,
            "width": null
          }
        },
        "8b4b42fc95fd49ac9b1cfaa4b064bd8b": {
          "model_module": "@jupyter-widgets/controls",
          "model_name": "DescriptionStyleModel",
          "model_module_version": "1.5.0",
          "state": {
            "_model_module": "@jupyter-widgets/controls",
            "_model_module_version": "1.5.0",
            "_model_name": "DescriptionStyleModel",
            "_view_count": null,
            "_view_module": "@jupyter-widgets/base",
            "_view_module_version": "1.2.0",
            "_view_name": "StyleView",
            "description_width": ""
          }
        },
        "e232d929f0bc423d912b92b17f99cb1b": {
          "model_module": "@jupyter-widgets/base",
          "model_name": "LayoutModel",
          "model_module_version": "1.2.0",
          "state": {
            "_model_module": "@jupyter-widgets/base",
            "_model_module_version": "1.2.0",
            "_model_name": "LayoutModel",
            "_view_count": null,
            "_view_module": "@jupyter-widgets/base",
            "_view_module_version": "1.2.0",
            "_view_name": "LayoutView",
            "align_content": null,
            "align_items": null,
            "align_self": null,
            "border": null,
            "bottom": null,
            "display": null,
            "flex": null,
            "flex_flow": null,
            "grid_area": null,
            "grid_auto_columns": null,
            "grid_auto_flow": null,
            "grid_auto_rows": null,
            "grid_column": null,
            "grid_gap": null,
            "grid_row": null,
            "grid_template_areas": null,
            "grid_template_columns": null,
            "grid_template_rows": null,
            "height": null,
            "justify_content": null,
            "justify_items": null,
            "left": null,
            "margin": null,
            "max_height": null,
            "max_width": null,
            "min_height": null,
            "min_width": null,
            "object_fit": null,
            "object_position": null,
            "order": null,
            "overflow": null,
            "overflow_x": null,
            "overflow_y": null,
            "padding": null,
            "right": null,
            "top": null,
            "visibility": null,
            "width": null
          }
        },
        "18d0ebdca9d74e57bb574a77e60d0a44": {
          "model_module": "@jupyter-widgets/controls",
          "model_name": "ProgressStyleModel",
          "model_module_version": "1.5.0",
          "state": {
            "_model_module": "@jupyter-widgets/controls",
            "_model_module_version": "1.5.0",
            "_model_name": "ProgressStyleModel",
            "_view_count": null,
            "_view_module": "@jupyter-widgets/base",
            "_view_module_version": "1.2.0",
            "_view_name": "StyleView",
            "bar_color": null,
            "description_width": ""
          }
        },
        "22922c06a20c405680eb2fe14e18e197": {
          "model_module": "@jupyter-widgets/base",
          "model_name": "LayoutModel",
          "model_module_version": "1.2.0",
          "state": {
            "_model_module": "@jupyter-widgets/base",
            "_model_module_version": "1.2.0",
            "_model_name": "LayoutModel",
            "_view_count": null,
            "_view_module": "@jupyter-widgets/base",
            "_view_module_version": "1.2.0",
            "_view_name": "LayoutView",
            "align_content": null,
            "align_items": null,
            "align_self": null,
            "border": null,
            "bottom": null,
            "display": null,
            "flex": null,
            "flex_flow": null,
            "grid_area": null,
            "grid_auto_columns": null,
            "grid_auto_flow": null,
            "grid_auto_rows": null,
            "grid_column": null,
            "grid_gap": null,
            "grid_row": null,
            "grid_template_areas": null,
            "grid_template_columns": null,
            "grid_template_rows": null,
            "height": null,
            "justify_content": null,
            "justify_items": null,
            "left": null,
            "margin": null,
            "max_height": null,
            "max_width": null,
            "min_height": null,
            "min_width": null,
            "object_fit": null,
            "object_position": null,
            "order": null,
            "overflow": null,
            "overflow_x": null,
            "overflow_y": null,
            "padding": null,
            "right": null,
            "top": null,
            "visibility": null,
            "width": null
          }
        },
        "931c9f9b0f1d42c3a1dac3c0341ef6f2": {
          "model_module": "@jupyter-widgets/controls",
          "model_name": "DescriptionStyleModel",
          "model_module_version": "1.5.0",
          "state": {
            "_model_module": "@jupyter-widgets/controls",
            "_model_module_version": "1.5.0",
            "_model_name": "DescriptionStyleModel",
            "_view_count": null,
            "_view_module": "@jupyter-widgets/base",
            "_view_module_version": "1.2.0",
            "_view_name": "StyleView",
            "description_width": ""
          }
        },
        "d603f235ee664d7996d7883b17d6ff73": {
          "model_module": "@jupyter-widgets/controls",
          "model_name": "HBoxModel",
          "model_module_version": "1.5.0",
          "state": {
            "_dom_classes": [],
            "_model_module": "@jupyter-widgets/controls",
            "_model_module_version": "1.5.0",
            "_model_name": "HBoxModel",
            "_view_count": null,
            "_view_module": "@jupyter-widgets/controls",
            "_view_module_version": "1.5.0",
            "_view_name": "HBoxView",
            "box_style": "",
            "children": [
              "IPY_MODEL_50f291d05b3442058a1400504c608ed9",
              "IPY_MODEL_deeea527e8c44325bef5f2031b4c0573",
              "IPY_MODEL_82f9b40aae7243f7bfc1138eb198924b"
            ],
            "layout": "IPY_MODEL_202a874b31d04502b71b9782316293da"
          }
        },
        "50f291d05b3442058a1400504c608ed9": {
          "model_module": "@jupyter-widgets/controls",
          "model_name": "HTMLModel",
          "model_module_version": "1.5.0",
          "state": {
            "_dom_classes": [],
            "_model_module": "@jupyter-widgets/controls",
            "_model_module_version": "1.5.0",
            "_model_name": "HTMLModel",
            "_view_count": null,
            "_view_module": "@jupyter-widgets/controls",
            "_view_module_version": "1.5.0",
            "_view_name": "HTMLView",
            "description": "",
            "description_tooltip": null,
            "layout": "IPY_MODEL_ebe90239a7e341a7b7c9f79fb4e8144b",
            "placeholder": "​",
            "style": "IPY_MODEL_e5a39203284c4a0e80ea9b806f9cd22d",
            "value": "data_config.json: 100%"
          }
        },
        "deeea527e8c44325bef5f2031b4c0573": {
          "model_module": "@jupyter-widgets/controls",
          "model_name": "FloatProgressModel",
          "model_module_version": "1.5.0",
          "state": {
            "_dom_classes": [],
            "_model_module": "@jupyter-widgets/controls",
            "_model_module_version": "1.5.0",
            "_model_name": "FloatProgressModel",
            "_view_count": null,
            "_view_module": "@jupyter-widgets/controls",
            "_view_module_version": "1.5.0",
            "_view_name": "ProgressView",
            "bar_style": "success",
            "description": "",
            "description_tooltip": null,
            "layout": "IPY_MODEL_5ddd58138135478ca71c071d766fe408",
            "max": 39265,
            "min": 0,
            "orientation": "horizontal",
            "style": "IPY_MODEL_dab02dd4d4e1402385b8786b99e59985",
            "value": 39265
          }
        },
        "82f9b40aae7243f7bfc1138eb198924b": {
          "model_module": "@jupyter-widgets/controls",
          "model_name": "HTMLModel",
          "model_module_version": "1.5.0",
          "state": {
            "_dom_classes": [],
            "_model_module": "@jupyter-widgets/controls",
            "_model_module_version": "1.5.0",
            "_model_name": "HTMLModel",
            "_view_count": null,
            "_view_module": "@jupyter-widgets/controls",
            "_view_module_version": "1.5.0",
            "_view_name": "HTMLView",
            "description": "",
            "description_tooltip": null,
            "layout": "IPY_MODEL_273938abd79c4231a25605758c0f3bb2",
            "placeholder": "​",
            "style": "IPY_MODEL_f181b8bc2ef34551864b749e58d63071",
            "value": " 39.3k/39.3k [00:00&lt;00:00, 481kB/s]"
          }
        },
        "202a874b31d04502b71b9782316293da": {
          "model_module": "@jupyter-widgets/base",
          "model_name": "LayoutModel",
          "model_module_version": "1.2.0",
          "state": {
            "_model_module": "@jupyter-widgets/base",
            "_model_module_version": "1.2.0",
            "_model_name": "LayoutModel",
            "_view_count": null,
            "_view_module": "@jupyter-widgets/base",
            "_view_module_version": "1.2.0",
            "_view_name": "LayoutView",
            "align_content": null,
            "align_items": null,
            "align_self": null,
            "border": null,
            "bottom": null,
            "display": null,
            "flex": null,
            "flex_flow": null,
            "grid_area": null,
            "grid_auto_columns": null,
            "grid_auto_flow": null,
            "grid_auto_rows": null,
            "grid_column": null,
            "grid_gap": null,
            "grid_row": null,
            "grid_template_areas": null,
            "grid_template_columns": null,
            "grid_template_rows": null,
            "height": null,
            "justify_content": null,
            "justify_items": null,
            "left": null,
            "margin": null,
            "max_height": null,
            "max_width": null,
            "min_height": null,
            "min_width": null,
            "object_fit": null,
            "object_position": null,
            "order": null,
            "overflow": null,
            "overflow_x": null,
            "overflow_y": null,
            "padding": null,
            "right": null,
            "top": null,
            "visibility": null,
            "width": null
          }
        },
        "ebe90239a7e341a7b7c9f79fb4e8144b": {
          "model_module": "@jupyter-widgets/base",
          "model_name": "LayoutModel",
          "model_module_version": "1.2.0",
          "state": {
            "_model_module": "@jupyter-widgets/base",
            "_model_module_version": "1.2.0",
            "_model_name": "LayoutModel",
            "_view_count": null,
            "_view_module": "@jupyter-widgets/base",
            "_view_module_version": "1.2.0",
            "_view_name": "LayoutView",
            "align_content": null,
            "align_items": null,
            "align_self": null,
            "border": null,
            "bottom": null,
            "display": null,
            "flex": null,
            "flex_flow": null,
            "grid_area": null,
            "grid_auto_columns": null,
            "grid_auto_flow": null,
            "grid_auto_rows": null,
            "grid_column": null,
            "grid_gap": null,
            "grid_row": null,
            "grid_template_areas": null,
            "grid_template_columns": null,
            "grid_template_rows": null,
            "height": null,
            "justify_content": null,
            "justify_items": null,
            "left": null,
            "margin": null,
            "max_height": null,
            "max_width": null,
            "min_height": null,
            "min_width": null,
            "object_fit": null,
            "object_position": null,
            "order": null,
            "overflow": null,
            "overflow_x": null,
            "overflow_y": null,
            "padding": null,
            "right": null,
            "top": null,
            "visibility": null,
            "width": null
          }
        },
        "e5a39203284c4a0e80ea9b806f9cd22d": {
          "model_module": "@jupyter-widgets/controls",
          "model_name": "DescriptionStyleModel",
          "model_module_version": "1.5.0",
          "state": {
            "_model_module": "@jupyter-widgets/controls",
            "_model_module_version": "1.5.0",
            "_model_name": "DescriptionStyleModel",
            "_view_count": null,
            "_view_module": "@jupyter-widgets/base",
            "_view_module_version": "1.2.0",
            "_view_name": "StyleView",
            "description_width": ""
          }
        },
        "5ddd58138135478ca71c071d766fe408": {
          "model_module": "@jupyter-widgets/base",
          "model_name": "LayoutModel",
          "model_module_version": "1.2.0",
          "state": {
            "_model_module": "@jupyter-widgets/base",
            "_model_module_version": "1.2.0",
            "_model_name": "LayoutModel",
            "_view_count": null,
            "_view_module": "@jupyter-widgets/base",
            "_view_module_version": "1.2.0",
            "_view_name": "LayoutView",
            "align_content": null,
            "align_items": null,
            "align_self": null,
            "border": null,
            "bottom": null,
            "display": null,
            "flex": null,
            "flex_flow": null,
            "grid_area": null,
            "grid_auto_columns": null,
            "grid_auto_flow": null,
            "grid_auto_rows": null,
            "grid_column": null,
            "grid_gap": null,
            "grid_row": null,
            "grid_template_areas": null,
            "grid_template_columns": null,
            "grid_template_rows": null,
            "height": null,
            "justify_content": null,
            "justify_items": null,
            "left": null,
            "margin": null,
            "max_height": null,
            "max_width": null,
            "min_height": null,
            "min_width": null,
            "object_fit": null,
            "object_position": null,
            "order": null,
            "overflow": null,
            "overflow_x": null,
            "overflow_y": null,
            "padding": null,
            "right": null,
            "top": null,
            "visibility": null,
            "width": null
          }
        },
        "dab02dd4d4e1402385b8786b99e59985": {
          "model_module": "@jupyter-widgets/controls",
          "model_name": "ProgressStyleModel",
          "model_module_version": "1.5.0",
          "state": {
            "_model_module": "@jupyter-widgets/controls",
            "_model_module_version": "1.5.0",
            "_model_name": "ProgressStyleModel",
            "_view_count": null,
            "_view_module": "@jupyter-widgets/base",
            "_view_module_version": "1.2.0",
            "_view_name": "StyleView",
            "bar_color": null,
            "description_width": ""
          }
        },
        "273938abd79c4231a25605758c0f3bb2": {
          "model_module": "@jupyter-widgets/base",
          "model_name": "LayoutModel",
          "model_module_version": "1.2.0",
          "state": {
            "_model_module": "@jupyter-widgets/base",
            "_model_module_version": "1.2.0",
            "_model_name": "LayoutModel",
            "_view_count": null,
            "_view_module": "@jupyter-widgets/base",
            "_view_module_version": "1.2.0",
            "_view_name": "LayoutView",
            "align_content": null,
            "align_items": null,
            "align_self": null,
            "border": null,
            "bottom": null,
            "display": null,
            "flex": null,
            "flex_flow": null,
            "grid_area": null,
            "grid_auto_columns": null,
            "grid_auto_flow": null,
            "grid_auto_rows": null,
            "grid_column": null,
            "grid_gap": null,
            "grid_row": null,
            "grid_template_areas": null,
            "grid_template_columns": null,
            "grid_template_rows": null,
            "height": null,
            "justify_content": null,
            "justify_items": null,
            "left": null,
            "margin": null,
            "max_height": null,
            "max_width": null,
            "min_height": null,
            "min_width": null,
            "object_fit": null,
            "object_position": null,
            "order": null,
            "overflow": null,
            "overflow_x": null,
            "overflow_y": null,
            "padding": null,
            "right": null,
            "top": null,
            "visibility": null,
            "width": null
          }
        },
        "f181b8bc2ef34551864b749e58d63071": {
          "model_module": "@jupyter-widgets/controls",
          "model_name": "DescriptionStyleModel",
          "model_module_version": "1.5.0",
          "state": {
            "_model_module": "@jupyter-widgets/controls",
            "_model_module_version": "1.5.0",
            "_model_name": "DescriptionStyleModel",
            "_view_count": null,
            "_view_module": "@jupyter-widgets/base",
            "_view_module_version": "1.2.0",
            "_view_name": "StyleView",
            "description_width": ""
          }
        },
        "a71068eeb794482ea1ed50b6b76d6525": {
          "model_module": "@jupyter-widgets/controls",
          "model_name": "HBoxModel",
          "model_module_version": "1.5.0",
          "state": {
            "_dom_classes": [],
            "_model_module": "@jupyter-widgets/controls",
            "_model_module_version": "1.5.0",
            "_model_name": "HBoxModel",
            "_view_count": null,
            "_view_module": "@jupyter-widgets/controls",
            "_view_module_version": "1.5.0",
            "_view_name": "HBoxView",
            "box_style": "",
            "children": [
              "IPY_MODEL_bf0979565d05496fbf2bfc460e92ec2a",
              "IPY_MODEL_beff59861f5c4797aa107e99a6157f43",
              "IPY_MODEL_cf7bc11d9d634e058fbd216416f7f381"
            ],
            "layout": "IPY_MODEL_9fdd53b46f9d4b2bba56d04c2f209109"
          }
        },
        "bf0979565d05496fbf2bfc460e92ec2a": {
          "model_module": "@jupyter-widgets/controls",
          "model_name": "HTMLModel",
          "model_module_version": "1.5.0",
          "state": {
            "_dom_classes": [],
            "_model_module": "@jupyter-widgets/controls",
            "_model_module_version": "1.5.0",
            "_model_name": "HTMLModel",
            "_view_count": null,
            "_view_module": "@jupyter-widgets/controls",
            "_view_module_version": "1.5.0",
            "_view_name": "HTMLView",
            "description": "",
            "description_tooltip": null,
            "layout": "IPY_MODEL_530b5e59d82c4b55ad32824c09fa57e1",
            "placeholder": "​",
            "style": "IPY_MODEL_e0792725df924d5cbc45528f82fe939a",
            "value": "pytorch_model.bin: 100%"
          }
        },
        "beff59861f5c4797aa107e99a6157f43": {
          "model_module": "@jupyter-widgets/controls",
          "model_name": "FloatProgressModel",
          "model_module_version": "1.5.0",
          "state": {
            "_dom_classes": [],
            "_model_module": "@jupyter-widgets/controls",
            "_model_module_version": "1.5.0",
            "_model_name": "FloatProgressModel",
            "_view_count": null,
            "_view_module": "@jupyter-widgets/controls",
            "_view_module_version": "1.5.0",
            "_view_name": "ProgressView",
            "bar_style": "success",
            "description": "",
            "description_tooltip": null,
            "layout": "IPY_MODEL_4641166a6cb14efb9e9a27081845101a",
            "max": 438011953,
            "min": 0,
            "orientation": "horizontal",
            "style": "IPY_MODEL_090a2fd236f84df8a34d5beeeb03a1bd",
            "value": 438011953
          }
        },
        "cf7bc11d9d634e058fbd216416f7f381": {
          "model_module": "@jupyter-widgets/controls",
          "model_name": "HTMLModel",
          "model_module_version": "1.5.0",
          "state": {
            "_dom_classes": [],
            "_model_module": "@jupyter-widgets/controls",
            "_model_module_version": "1.5.0",
            "_model_name": "HTMLModel",
            "_view_count": null,
            "_view_module": "@jupyter-widgets/controls",
            "_view_module_version": "1.5.0",
            "_view_name": "HTMLView",
            "description": "",
            "description_tooltip": null,
            "layout": "IPY_MODEL_835eae82f3664194ad5201f99f1c6035",
            "placeholder": "​",
            "style": "IPY_MODEL_1115fd963aa44d1f946c7966ae625a8e",
            "value": " 438M/438M [00:03&lt;00:00, 116MB/s]"
          }
        },
        "9fdd53b46f9d4b2bba56d04c2f209109": {
          "model_module": "@jupyter-widgets/base",
          "model_name": "LayoutModel",
          "model_module_version": "1.2.0",
          "state": {
            "_model_module": "@jupyter-widgets/base",
            "_model_module_version": "1.2.0",
            "_model_name": "LayoutModel",
            "_view_count": null,
            "_view_module": "@jupyter-widgets/base",
            "_view_module_version": "1.2.0",
            "_view_name": "LayoutView",
            "align_content": null,
            "align_items": null,
            "align_self": null,
            "border": null,
            "bottom": null,
            "display": null,
            "flex": null,
            "flex_flow": null,
            "grid_area": null,
            "grid_auto_columns": null,
            "grid_auto_flow": null,
            "grid_auto_rows": null,
            "grid_column": null,
            "grid_gap": null,
            "grid_row": null,
            "grid_template_areas": null,
            "grid_template_columns": null,
            "grid_template_rows": null,
            "height": null,
            "justify_content": null,
            "justify_items": null,
            "left": null,
            "margin": null,
            "max_height": null,
            "max_width": null,
            "min_height": null,
            "min_width": null,
            "object_fit": null,
            "object_position": null,
            "order": null,
            "overflow": null,
            "overflow_x": null,
            "overflow_y": null,
            "padding": null,
            "right": null,
            "top": null,
            "visibility": null,
            "width": null
          }
        },
        "530b5e59d82c4b55ad32824c09fa57e1": {
          "model_module": "@jupyter-widgets/base",
          "model_name": "LayoutModel",
          "model_module_version": "1.2.0",
          "state": {
            "_model_module": "@jupyter-widgets/base",
            "_model_module_version": "1.2.0",
            "_model_name": "LayoutModel",
            "_view_count": null,
            "_view_module": "@jupyter-widgets/base",
            "_view_module_version": "1.2.0",
            "_view_name": "LayoutView",
            "align_content": null,
            "align_items": null,
            "align_self": null,
            "border": null,
            "bottom": null,
            "display": null,
            "flex": null,
            "flex_flow": null,
            "grid_area": null,
            "grid_auto_columns": null,
            "grid_auto_flow": null,
            "grid_auto_rows": null,
            "grid_column": null,
            "grid_gap": null,
            "grid_row": null,
            "grid_template_areas": null,
            "grid_template_columns": null,
            "grid_template_rows": null,
            "height": null,
            "justify_content": null,
            "justify_items": null,
            "left": null,
            "margin": null,
            "max_height": null,
            "max_width": null,
            "min_height": null,
            "min_width": null,
            "object_fit": null,
            "object_position": null,
            "order": null,
            "overflow": null,
            "overflow_x": null,
            "overflow_y": null,
            "padding": null,
            "right": null,
            "top": null,
            "visibility": null,
            "width": null
          }
        },
        "e0792725df924d5cbc45528f82fe939a": {
          "model_module": "@jupyter-widgets/controls",
          "model_name": "DescriptionStyleModel",
          "model_module_version": "1.5.0",
          "state": {
            "_model_module": "@jupyter-widgets/controls",
            "_model_module_version": "1.5.0",
            "_model_name": "DescriptionStyleModel",
            "_view_count": null,
            "_view_module": "@jupyter-widgets/base",
            "_view_module_version": "1.2.0",
            "_view_name": "StyleView",
            "description_width": ""
          }
        },
        "4641166a6cb14efb9e9a27081845101a": {
          "model_module": "@jupyter-widgets/base",
          "model_name": "LayoutModel",
          "model_module_version": "1.2.0",
          "state": {
            "_model_module": "@jupyter-widgets/base",
            "_model_module_version": "1.2.0",
            "_model_name": "LayoutModel",
            "_view_count": null,
            "_view_module": "@jupyter-widgets/base",
            "_view_module_version": "1.2.0",
            "_view_name": "LayoutView",
            "align_content": null,
            "align_items": null,
            "align_self": null,
            "border": null,
            "bottom": null,
            "display": null,
            "flex": null,
            "flex_flow": null,
            "grid_area": null,
            "grid_auto_columns": null,
            "grid_auto_flow": null,
            "grid_auto_rows": null,
            "grid_column": null,
            "grid_gap": null,
            "grid_row": null,
            "grid_template_areas": null,
            "grid_template_columns": null,
            "grid_template_rows": null,
            "height": null,
            "justify_content": null,
            "justify_items": null,
            "left": null,
            "margin": null,
            "max_height": null,
            "max_width": null,
            "min_height": null,
            "min_width": null,
            "object_fit": null,
            "object_position": null,
            "order": null,
            "overflow": null,
            "overflow_x": null,
            "overflow_y": null,
            "padding": null,
            "right": null,
            "top": null,
            "visibility": null,
            "width": null
          }
        },
        "090a2fd236f84df8a34d5beeeb03a1bd": {
          "model_module": "@jupyter-widgets/controls",
          "model_name": "ProgressStyleModel",
          "model_module_version": "1.5.0",
          "state": {
            "_model_module": "@jupyter-widgets/controls",
            "_model_module_version": "1.5.0",
            "_model_name": "ProgressStyleModel",
            "_view_count": null,
            "_view_module": "@jupyter-widgets/base",
            "_view_module_version": "1.2.0",
            "_view_name": "StyleView",
            "bar_color": null,
            "description_width": ""
          }
        },
        "835eae82f3664194ad5201f99f1c6035": {
          "model_module": "@jupyter-widgets/base",
          "model_name": "LayoutModel",
          "model_module_version": "1.2.0",
          "state": {
            "_model_module": "@jupyter-widgets/base",
            "_model_module_version": "1.2.0",
            "_model_name": "LayoutModel",
            "_view_count": null,
            "_view_module": "@jupyter-widgets/base",
            "_view_module_version": "1.2.0",
            "_view_name": "LayoutView",
            "align_content": null,
            "align_items": null,
            "align_self": null,
            "border": null,
            "bottom": null,
            "display": null,
            "flex": null,
            "flex_flow": null,
            "grid_area": null,
            "grid_auto_columns": null,
            "grid_auto_flow": null,
            "grid_auto_rows": null,
            "grid_column": null,
            "grid_gap": null,
            "grid_row": null,
            "grid_template_areas": null,
            "grid_template_columns": null,
            "grid_template_rows": null,
            "height": null,
            "justify_content": null,
            "justify_items": null,
            "left": null,
            "margin": null,
            "max_height": null,
            "max_width": null,
            "min_height": null,
            "min_width": null,
            "object_fit": null,
            "object_position": null,
            "order": null,
            "overflow": null,
            "overflow_x": null,
            "overflow_y": null,
            "padding": null,
            "right": null,
            "top": null,
            "visibility": null,
            "width": null
          }
        },
        "1115fd963aa44d1f946c7966ae625a8e": {
          "model_module": "@jupyter-widgets/controls",
          "model_name": "DescriptionStyleModel",
          "model_module_version": "1.5.0",
          "state": {
            "_model_module": "@jupyter-widgets/controls",
            "_model_module_version": "1.5.0",
            "_model_name": "DescriptionStyleModel",
            "_view_count": null,
            "_view_module": "@jupyter-widgets/base",
            "_view_module_version": "1.2.0",
            "_view_name": "StyleView",
            "description_width": ""
          }
        },
        "80126876eb954d08896bea74efee86a8": {
          "model_module": "@jupyter-widgets/controls",
          "model_name": "HBoxModel",
          "model_module_version": "1.5.0",
          "state": {
            "_dom_classes": [],
            "_model_module": "@jupyter-widgets/controls",
            "_model_module_version": "1.5.0",
            "_model_name": "HBoxModel",
            "_view_count": null,
            "_view_module": "@jupyter-widgets/controls",
            "_view_module_version": "1.5.0",
            "_view_name": "HBoxView",
            "box_style": "",
            "children": [
              "IPY_MODEL_fec8b1c7293f41468cdaa83701b1d140",
              "IPY_MODEL_1b93fb18daaa401f948c6c0a73f37339",
              "IPY_MODEL_21b453fc0a4449c090b2b2a513732127"
            ],
            "layout": "IPY_MODEL_8672c52d44c04798b79c4e3a4b5c1163"
          }
        },
        "fec8b1c7293f41468cdaa83701b1d140": {
          "model_module": "@jupyter-widgets/controls",
          "model_name": "HTMLModel",
          "model_module_version": "1.5.0",
          "state": {
            "_dom_classes": [],
            "_model_module": "@jupyter-widgets/controls",
            "_model_module_version": "1.5.0",
            "_model_name": "HTMLModel",
            "_view_count": null,
            "_view_module": "@jupyter-widgets/controls",
            "_view_module_version": "1.5.0",
            "_view_name": "HTMLView",
            "description": "",
            "description_tooltip": null,
            "layout": "IPY_MODEL_e3211aaf8c7d4d2184f5725062dc86dc",
            "placeholder": "​",
            "style": "IPY_MODEL_80bf534432ca469b80fea3086caa6394",
            "value": "sentence_bert_config.json: 100%"
          }
        },
        "1b93fb18daaa401f948c6c0a73f37339": {
          "model_module": "@jupyter-widgets/controls",
          "model_name": "FloatProgressModel",
          "model_module_version": "1.5.0",
          "state": {
            "_dom_classes": [],
            "_model_module": "@jupyter-widgets/controls",
            "_model_module_version": "1.5.0",
            "_model_name": "FloatProgressModel",
            "_view_count": null,
            "_view_module": "@jupyter-widgets/controls",
            "_view_module_version": "1.5.0",
            "_view_name": "ProgressView",
            "bar_style": "success",
            "description": "",
            "description_tooltip": null,
            "layout": "IPY_MODEL_42ac9a06c17244df9aaf26aac03b07a9",
            "max": 53,
            "min": 0,
            "orientation": "horizontal",
            "style": "IPY_MODEL_8af2bfd53d844109975385472f4cccba",
            "value": 53
          }
        },
        "21b453fc0a4449c090b2b2a513732127": {
          "model_module": "@jupyter-widgets/controls",
          "model_name": "HTMLModel",
          "model_module_version": "1.5.0",
          "state": {
            "_dom_classes": [],
            "_model_module": "@jupyter-widgets/controls",
            "_model_module_version": "1.5.0",
            "_model_name": "HTMLModel",
            "_view_count": null,
            "_view_module": "@jupyter-widgets/controls",
            "_view_module_version": "1.5.0",
            "_view_name": "HTMLView",
            "description": "",
            "description_tooltip": null,
            "layout": "IPY_MODEL_d74d5a0383ae401baa3c45f898148845",
            "placeholder": "​",
            "style": "IPY_MODEL_0c2ad5ae79994759bec5e9826aef1838",
            "value": " 53.0/53.0 [00:00&lt;00:00, 3.62kB/s]"
          }
        },
        "8672c52d44c04798b79c4e3a4b5c1163": {
          "model_module": "@jupyter-widgets/base",
          "model_name": "LayoutModel",
          "model_module_version": "1.2.0",
          "state": {
            "_model_module": "@jupyter-widgets/base",
            "_model_module_version": "1.2.0",
            "_model_name": "LayoutModel",
            "_view_count": null,
            "_view_module": "@jupyter-widgets/base",
            "_view_module_version": "1.2.0",
            "_view_name": "LayoutView",
            "align_content": null,
            "align_items": null,
            "align_self": null,
            "border": null,
            "bottom": null,
            "display": null,
            "flex": null,
            "flex_flow": null,
            "grid_area": null,
            "grid_auto_columns": null,
            "grid_auto_flow": null,
            "grid_auto_rows": null,
            "grid_column": null,
            "grid_gap": null,
            "grid_row": null,
            "grid_template_areas": null,
            "grid_template_columns": null,
            "grid_template_rows": null,
            "height": null,
            "justify_content": null,
            "justify_items": null,
            "left": null,
            "margin": null,
            "max_height": null,
            "max_width": null,
            "min_height": null,
            "min_width": null,
            "object_fit": null,
            "object_position": null,
            "order": null,
            "overflow": null,
            "overflow_x": null,
            "overflow_y": null,
            "padding": null,
            "right": null,
            "top": null,
            "visibility": null,
            "width": null
          }
        },
        "e3211aaf8c7d4d2184f5725062dc86dc": {
          "model_module": "@jupyter-widgets/base",
          "model_name": "LayoutModel",
          "model_module_version": "1.2.0",
          "state": {
            "_model_module": "@jupyter-widgets/base",
            "_model_module_version": "1.2.0",
            "_model_name": "LayoutModel",
            "_view_count": null,
            "_view_module": "@jupyter-widgets/base",
            "_view_module_version": "1.2.0",
            "_view_name": "LayoutView",
            "align_content": null,
            "align_items": null,
            "align_self": null,
            "border": null,
            "bottom": null,
            "display": null,
            "flex": null,
            "flex_flow": null,
            "grid_area": null,
            "grid_auto_columns": null,
            "grid_auto_flow": null,
            "grid_auto_rows": null,
            "grid_column": null,
            "grid_gap": null,
            "grid_row": null,
            "grid_template_areas": null,
            "grid_template_columns": null,
            "grid_template_rows": null,
            "height": null,
            "justify_content": null,
            "justify_items": null,
            "left": null,
            "margin": null,
            "max_height": null,
            "max_width": null,
            "min_height": null,
            "min_width": null,
            "object_fit": null,
            "object_position": null,
            "order": null,
            "overflow": null,
            "overflow_x": null,
            "overflow_y": null,
            "padding": null,
            "right": null,
            "top": null,
            "visibility": null,
            "width": null
          }
        },
        "80bf534432ca469b80fea3086caa6394": {
          "model_module": "@jupyter-widgets/controls",
          "model_name": "DescriptionStyleModel",
          "model_module_version": "1.5.0",
          "state": {
            "_model_module": "@jupyter-widgets/controls",
            "_model_module_version": "1.5.0",
            "_model_name": "DescriptionStyleModel",
            "_view_count": null,
            "_view_module": "@jupyter-widgets/base",
            "_view_module_version": "1.2.0",
            "_view_name": "StyleView",
            "description_width": ""
          }
        },
        "42ac9a06c17244df9aaf26aac03b07a9": {
          "model_module": "@jupyter-widgets/base",
          "model_name": "LayoutModel",
          "model_module_version": "1.2.0",
          "state": {
            "_model_module": "@jupyter-widgets/base",
            "_model_module_version": "1.2.0",
            "_model_name": "LayoutModel",
            "_view_count": null,
            "_view_module": "@jupyter-widgets/base",
            "_view_module_version": "1.2.0",
            "_view_name": "LayoutView",
            "align_content": null,
            "align_items": null,
            "align_self": null,
            "border": null,
            "bottom": null,
            "display": null,
            "flex": null,
            "flex_flow": null,
            "grid_area": null,
            "grid_auto_columns": null,
            "grid_auto_flow": null,
            "grid_auto_rows": null,
            "grid_column": null,
            "grid_gap": null,
            "grid_row": null,
            "grid_template_areas": null,
            "grid_template_columns": null,
            "grid_template_rows": null,
            "height": null,
            "justify_content": null,
            "justify_items": null,
            "left": null,
            "margin": null,
            "max_height": null,
            "max_width": null,
            "min_height": null,
            "min_width": null,
            "object_fit": null,
            "object_position": null,
            "order": null,
            "overflow": null,
            "overflow_x": null,
            "overflow_y": null,
            "padding": null,
            "right": null,
            "top": null,
            "visibility": null,
            "width": null
          }
        },
        "8af2bfd53d844109975385472f4cccba": {
          "model_module": "@jupyter-widgets/controls",
          "model_name": "ProgressStyleModel",
          "model_module_version": "1.5.0",
          "state": {
            "_model_module": "@jupyter-widgets/controls",
            "_model_module_version": "1.5.0",
            "_model_name": "ProgressStyleModel",
            "_view_count": null,
            "_view_module": "@jupyter-widgets/base",
            "_view_module_version": "1.2.0",
            "_view_name": "StyleView",
            "bar_color": null,
            "description_width": ""
          }
        },
        "d74d5a0383ae401baa3c45f898148845": {
          "model_module": "@jupyter-widgets/base",
          "model_name": "LayoutModel",
          "model_module_version": "1.2.0",
          "state": {
            "_model_module": "@jupyter-widgets/base",
            "_model_module_version": "1.2.0",
            "_model_name": "LayoutModel",
            "_view_count": null,
            "_view_module": "@jupyter-widgets/base",
            "_view_module_version": "1.2.0",
            "_view_name": "LayoutView",
            "align_content": null,
            "align_items": null,
            "align_self": null,
            "border": null,
            "bottom": null,
            "display": null,
            "flex": null,
            "flex_flow": null,
            "grid_area": null,
            "grid_auto_columns": null,
            "grid_auto_flow": null,
            "grid_auto_rows": null,
            "grid_column": null,
            "grid_gap": null,
            "grid_row": null,
            "grid_template_areas": null,
            "grid_template_columns": null,
            "grid_template_rows": null,
            "height": null,
            "justify_content": null,
            "justify_items": null,
            "left": null,
            "margin": null,
            "max_height": null,
            "max_width": null,
            "min_height": null,
            "min_width": null,
            "object_fit": null,
            "object_position": null,
            "order": null,
            "overflow": null,
            "overflow_x": null,
            "overflow_y": null,
            "padding": null,
            "right": null,
            "top": null,
            "visibility": null,
            "width": null
          }
        },
        "0c2ad5ae79994759bec5e9826aef1838": {
          "model_module": "@jupyter-widgets/controls",
          "model_name": "DescriptionStyleModel",
          "model_module_version": "1.5.0",
          "state": {
            "_model_module": "@jupyter-widgets/controls",
            "_model_module_version": "1.5.0",
            "_model_name": "DescriptionStyleModel",
            "_view_count": null,
            "_view_module": "@jupyter-widgets/base",
            "_view_module_version": "1.2.0",
            "_view_name": "StyleView",
            "description_width": ""
          }
        },
        "9ff06318970a439d9b836ec6461a1fdd": {
          "model_module": "@jupyter-widgets/controls",
          "model_name": "HBoxModel",
          "model_module_version": "1.5.0",
          "state": {
            "_dom_classes": [],
            "_model_module": "@jupyter-widgets/controls",
            "_model_module_version": "1.5.0",
            "_model_name": "HBoxModel",
            "_view_count": null,
            "_view_module": "@jupyter-widgets/controls",
            "_view_module_version": "1.5.0",
            "_view_name": "HBoxView",
            "box_style": "",
            "children": [
              "IPY_MODEL_687201a50f0f411f8a102bb4627550c1",
              "IPY_MODEL_99e6742e9a2948ef9631fb6cc2b8e0d3",
              "IPY_MODEL_93e9f338450749c993da1a0b29b3a2ca"
            ],
            "layout": "IPY_MODEL_5defdbb82d6e4b6bb0aaec4f72a973c2"
          }
        },
        "687201a50f0f411f8a102bb4627550c1": {
          "model_module": "@jupyter-widgets/controls",
          "model_name": "HTMLModel",
          "model_module_version": "1.5.0",
          "state": {
            "_dom_classes": [],
            "_model_module": "@jupyter-widgets/controls",
            "_model_module_version": "1.5.0",
            "_model_name": "HTMLModel",
            "_view_count": null,
            "_view_module": "@jupyter-widgets/controls",
            "_view_module_version": "1.5.0",
            "_view_name": "HTMLView",
            "description": "",
            "description_tooltip": null,
            "layout": "IPY_MODEL_df293a45ed26435184b7cbe5711b91ff",
            "placeholder": "​",
            "style": "IPY_MODEL_44638e3c691640169bf32b10bcaac034",
            "value": "special_tokens_map.json: 100%"
          }
        },
        "99e6742e9a2948ef9631fb6cc2b8e0d3": {
          "model_module": "@jupyter-widgets/controls",
          "model_name": "FloatProgressModel",
          "model_module_version": "1.5.0",
          "state": {
            "_dom_classes": [],
            "_model_module": "@jupyter-widgets/controls",
            "_model_module_version": "1.5.0",
            "_model_name": "FloatProgressModel",
            "_view_count": null,
            "_view_module": "@jupyter-widgets/controls",
            "_view_module_version": "1.5.0",
            "_view_name": "ProgressView",
            "bar_style": "success",
            "description": "",
            "description_tooltip": null,
            "layout": "IPY_MODEL_d1a764fe5f0246dba29182d24e752671",
            "max": 239,
            "min": 0,
            "orientation": "horizontal",
            "style": "IPY_MODEL_51d11709d7b64561b6fa6f7065252b7f",
            "value": 239
          }
        },
        "93e9f338450749c993da1a0b29b3a2ca": {
          "model_module": "@jupyter-widgets/controls",
          "model_name": "HTMLModel",
          "model_module_version": "1.5.0",
          "state": {
            "_dom_classes": [],
            "_model_module": "@jupyter-widgets/controls",
            "_model_module_version": "1.5.0",
            "_model_name": "HTMLModel",
            "_view_count": null,
            "_view_module": "@jupyter-widgets/controls",
            "_view_module_version": "1.5.0",
            "_view_name": "HTMLView",
            "description": "",
            "description_tooltip": null,
            "layout": "IPY_MODEL_fa85f640900b4631a46a3f278242b9a0",
            "placeholder": "​",
            "style": "IPY_MODEL_2bdd266530744b2ca1f52c581c858b97",
            "value": " 239/239 [00:00&lt;00:00, 19.2kB/s]"
          }
        },
        "5defdbb82d6e4b6bb0aaec4f72a973c2": {
          "model_module": "@jupyter-widgets/base",
          "model_name": "LayoutModel",
          "model_module_version": "1.2.0",
          "state": {
            "_model_module": "@jupyter-widgets/base",
            "_model_module_version": "1.2.0",
            "_model_name": "LayoutModel",
            "_view_count": null,
            "_view_module": "@jupyter-widgets/base",
            "_view_module_version": "1.2.0",
            "_view_name": "LayoutView",
            "align_content": null,
            "align_items": null,
            "align_self": null,
            "border": null,
            "bottom": null,
            "display": null,
            "flex": null,
            "flex_flow": null,
            "grid_area": null,
            "grid_auto_columns": null,
            "grid_auto_flow": null,
            "grid_auto_rows": null,
            "grid_column": null,
            "grid_gap": null,
            "grid_row": null,
            "grid_template_areas": null,
            "grid_template_columns": null,
            "grid_template_rows": null,
            "height": null,
            "justify_content": null,
            "justify_items": null,
            "left": null,
            "margin": null,
            "max_height": null,
            "max_width": null,
            "min_height": null,
            "min_width": null,
            "object_fit": null,
            "object_position": null,
            "order": null,
            "overflow": null,
            "overflow_x": null,
            "overflow_y": null,
            "padding": null,
            "right": null,
            "top": null,
            "visibility": null,
            "width": null
          }
        },
        "df293a45ed26435184b7cbe5711b91ff": {
          "model_module": "@jupyter-widgets/base",
          "model_name": "LayoutModel",
          "model_module_version": "1.2.0",
          "state": {
            "_model_module": "@jupyter-widgets/base",
            "_model_module_version": "1.2.0",
            "_model_name": "LayoutModel",
            "_view_count": null,
            "_view_module": "@jupyter-widgets/base",
            "_view_module_version": "1.2.0",
            "_view_name": "LayoutView",
            "align_content": null,
            "align_items": null,
            "align_self": null,
            "border": null,
            "bottom": null,
            "display": null,
            "flex": null,
            "flex_flow": null,
            "grid_area": null,
            "grid_auto_columns": null,
            "grid_auto_flow": null,
            "grid_auto_rows": null,
            "grid_column": null,
            "grid_gap": null,
            "grid_row": null,
            "grid_template_areas": null,
            "grid_template_columns": null,
            "grid_template_rows": null,
            "height": null,
            "justify_content": null,
            "justify_items": null,
            "left": null,
            "margin": null,
            "max_height": null,
            "max_width": null,
            "min_height": null,
            "min_width": null,
            "object_fit": null,
            "object_position": null,
            "order": null,
            "overflow": null,
            "overflow_x": null,
            "overflow_y": null,
            "padding": null,
            "right": null,
            "top": null,
            "visibility": null,
            "width": null
          }
        },
        "44638e3c691640169bf32b10bcaac034": {
          "model_module": "@jupyter-widgets/controls",
          "model_name": "DescriptionStyleModel",
          "model_module_version": "1.5.0",
          "state": {
            "_model_module": "@jupyter-widgets/controls",
            "_model_module_version": "1.5.0",
            "_model_name": "DescriptionStyleModel",
            "_view_count": null,
            "_view_module": "@jupyter-widgets/base",
            "_view_module_version": "1.2.0",
            "_view_name": "StyleView",
            "description_width": ""
          }
        },
        "d1a764fe5f0246dba29182d24e752671": {
          "model_module": "@jupyter-widgets/base",
          "model_name": "LayoutModel",
          "model_module_version": "1.2.0",
          "state": {
            "_model_module": "@jupyter-widgets/base",
            "_model_module_version": "1.2.0",
            "_model_name": "LayoutModel",
            "_view_count": null,
            "_view_module": "@jupyter-widgets/base",
            "_view_module_version": "1.2.0",
            "_view_name": "LayoutView",
            "align_content": null,
            "align_items": null,
            "align_self": null,
            "border": null,
            "bottom": null,
            "display": null,
            "flex": null,
            "flex_flow": null,
            "grid_area": null,
            "grid_auto_columns": null,
            "grid_auto_flow": null,
            "grid_auto_rows": null,
            "grid_column": null,
            "grid_gap": null,
            "grid_row": null,
            "grid_template_areas": null,
            "grid_template_columns": null,
            "grid_template_rows": null,
            "height": null,
            "justify_content": null,
            "justify_items": null,
            "left": null,
            "margin": null,
            "max_height": null,
            "max_width": null,
            "min_height": null,
            "min_width": null,
            "object_fit": null,
            "object_position": null,
            "order": null,
            "overflow": null,
            "overflow_x": null,
            "overflow_y": null,
            "padding": null,
            "right": null,
            "top": null,
            "visibility": null,
            "width": null
          }
        },
        "51d11709d7b64561b6fa6f7065252b7f": {
          "model_module": "@jupyter-widgets/controls",
          "model_name": "ProgressStyleModel",
          "model_module_version": "1.5.0",
          "state": {
            "_model_module": "@jupyter-widgets/controls",
            "_model_module_version": "1.5.0",
            "_model_name": "ProgressStyleModel",
            "_view_count": null,
            "_view_module": "@jupyter-widgets/base",
            "_view_module_version": "1.2.0",
            "_view_name": "StyleView",
            "bar_color": null,
            "description_width": ""
          }
        },
        "fa85f640900b4631a46a3f278242b9a0": {
          "model_module": "@jupyter-widgets/base",
          "model_name": "LayoutModel",
          "model_module_version": "1.2.0",
          "state": {
            "_model_module": "@jupyter-widgets/base",
            "_model_module_version": "1.2.0",
            "_model_name": "LayoutModel",
            "_view_count": null,
            "_view_module": "@jupyter-widgets/base",
            "_view_module_version": "1.2.0",
            "_view_name": "LayoutView",
            "align_content": null,
            "align_items": null,
            "align_self": null,
            "border": null,
            "bottom": null,
            "display": null,
            "flex": null,
            "flex_flow": null,
            "grid_area": null,
            "grid_auto_columns": null,
            "grid_auto_flow": null,
            "grid_auto_rows": null,
            "grid_column": null,
            "grid_gap": null,
            "grid_row": null,
            "grid_template_areas": null,
            "grid_template_columns": null,
            "grid_template_rows": null,
            "height": null,
            "justify_content": null,
            "justify_items": null,
            "left": null,
            "margin": null,
            "max_height": null,
            "max_width": null,
            "min_height": null,
            "min_width": null,
            "object_fit": null,
            "object_position": null,
            "order": null,
            "overflow": null,
            "overflow_x": null,
            "overflow_y": null,
            "padding": null,
            "right": null,
            "top": null,
            "visibility": null,
            "width": null
          }
        },
        "2bdd266530744b2ca1f52c581c858b97": {
          "model_module": "@jupyter-widgets/controls",
          "model_name": "DescriptionStyleModel",
          "model_module_version": "1.5.0",
          "state": {
            "_model_module": "@jupyter-widgets/controls",
            "_model_module_version": "1.5.0",
            "_model_name": "DescriptionStyleModel",
            "_view_count": null,
            "_view_module": "@jupyter-widgets/base",
            "_view_module_version": "1.2.0",
            "_view_name": "StyleView",
            "description_width": ""
          }
        },
        "e1b608a135f8406babb89fe164c6eebb": {
          "model_module": "@jupyter-widgets/controls",
          "model_name": "HBoxModel",
          "model_module_version": "1.5.0",
          "state": {
            "_dom_classes": [],
            "_model_module": "@jupyter-widgets/controls",
            "_model_module_version": "1.5.0",
            "_model_name": "HBoxModel",
            "_view_count": null,
            "_view_module": "@jupyter-widgets/controls",
            "_view_module_version": "1.5.0",
            "_view_name": "HBoxView",
            "box_style": "",
            "children": [
              "IPY_MODEL_b94cc2dcb49948fa9a10af06de656dce",
              "IPY_MODEL_7d2080c5514344adaeca60df5e16d671",
              "IPY_MODEL_8520b79f399e4685a30880c565e346b6"
            ],
            "layout": "IPY_MODEL_5ae2c6c7ae7c43c1849b9a77b041ba46"
          }
        },
        "b94cc2dcb49948fa9a10af06de656dce": {
          "model_module": "@jupyter-widgets/controls",
          "model_name": "HTMLModel",
          "model_module_version": "1.5.0",
          "state": {
            "_dom_classes": [],
            "_model_module": "@jupyter-widgets/controls",
            "_model_module_version": "1.5.0",
            "_model_name": "HTMLModel",
            "_view_count": null,
            "_view_module": "@jupyter-widgets/controls",
            "_view_module_version": "1.5.0",
            "_view_name": "HTMLView",
            "description": "",
            "description_tooltip": null,
            "layout": "IPY_MODEL_1e4477f3edef419bb1e68091a5393549",
            "placeholder": "​",
            "style": "IPY_MODEL_04ac7a685ef84743b63c269986b75191",
            "value": "tokenizer.json: 100%"
          }
        },
        "7d2080c5514344adaeca60df5e16d671": {
          "model_module": "@jupyter-widgets/controls",
          "model_name": "FloatProgressModel",
          "model_module_version": "1.5.0",
          "state": {
            "_dom_classes": [],
            "_model_module": "@jupyter-widgets/controls",
            "_model_module_version": "1.5.0",
            "_model_name": "FloatProgressModel",
            "_view_count": null,
            "_view_module": "@jupyter-widgets/controls",
            "_view_module_version": "1.5.0",
            "_view_name": "ProgressView",
            "bar_style": "success",
            "description": "",
            "description_tooltip": null,
            "layout": "IPY_MODEL_e8434eacf8304910baefc7795f7f932c",
            "max": 466021,
            "min": 0,
            "orientation": "horizontal",
            "style": "IPY_MODEL_2f42a84c66a3424c9c7226376c8682d7",
            "value": 466021
          }
        },
        "8520b79f399e4685a30880c565e346b6": {
          "model_module": "@jupyter-widgets/controls",
          "model_name": "HTMLModel",
          "model_module_version": "1.5.0",
          "state": {
            "_dom_classes": [],
            "_model_module": "@jupyter-widgets/controls",
            "_model_module_version": "1.5.0",
            "_model_name": "HTMLModel",
            "_view_count": null,
            "_view_module": "@jupyter-widgets/controls",
            "_view_module_version": "1.5.0",
            "_view_name": "HTMLView",
            "description": "",
            "description_tooltip": null,
            "layout": "IPY_MODEL_4ab9b547673149b1aca78a0420e11201",
            "placeholder": "​",
            "style": "IPY_MODEL_05c080e21a94489d89e773b10596af67",
            "value": " 466k/466k [00:00&lt;00:00, 1.89MB/s]"
          }
        },
        "5ae2c6c7ae7c43c1849b9a77b041ba46": {
          "model_module": "@jupyter-widgets/base",
          "model_name": "LayoutModel",
          "model_module_version": "1.2.0",
          "state": {
            "_model_module": "@jupyter-widgets/base",
            "_model_module_version": "1.2.0",
            "_model_name": "LayoutModel",
            "_view_count": null,
            "_view_module": "@jupyter-widgets/base",
            "_view_module_version": "1.2.0",
            "_view_name": "LayoutView",
            "align_content": null,
            "align_items": null,
            "align_self": null,
            "border": null,
            "bottom": null,
            "display": null,
            "flex": null,
            "flex_flow": null,
            "grid_area": null,
            "grid_auto_columns": null,
            "grid_auto_flow": null,
            "grid_auto_rows": null,
            "grid_column": null,
            "grid_gap": null,
            "grid_row": null,
            "grid_template_areas": null,
            "grid_template_columns": null,
            "grid_template_rows": null,
            "height": null,
            "justify_content": null,
            "justify_items": null,
            "left": null,
            "margin": null,
            "max_height": null,
            "max_width": null,
            "min_height": null,
            "min_width": null,
            "object_fit": null,
            "object_position": null,
            "order": null,
            "overflow": null,
            "overflow_x": null,
            "overflow_y": null,
            "padding": null,
            "right": null,
            "top": null,
            "visibility": null,
            "width": null
          }
        },
        "1e4477f3edef419bb1e68091a5393549": {
          "model_module": "@jupyter-widgets/base",
          "model_name": "LayoutModel",
          "model_module_version": "1.2.0",
          "state": {
            "_model_module": "@jupyter-widgets/base",
            "_model_module_version": "1.2.0",
            "_model_name": "LayoutModel",
            "_view_count": null,
            "_view_module": "@jupyter-widgets/base",
            "_view_module_version": "1.2.0",
            "_view_name": "LayoutView",
            "align_content": null,
            "align_items": null,
            "align_self": null,
            "border": null,
            "bottom": null,
            "display": null,
            "flex": null,
            "flex_flow": null,
            "grid_area": null,
            "grid_auto_columns": null,
            "grid_auto_flow": null,
            "grid_auto_rows": null,
            "grid_column": null,
            "grid_gap": null,
            "grid_row": null,
            "grid_template_areas": null,
            "grid_template_columns": null,
            "grid_template_rows": null,
            "height": null,
            "justify_content": null,
            "justify_items": null,
            "left": null,
            "margin": null,
            "max_height": null,
            "max_width": null,
            "min_height": null,
            "min_width": null,
            "object_fit": null,
            "object_position": null,
            "order": null,
            "overflow": null,
            "overflow_x": null,
            "overflow_y": null,
            "padding": null,
            "right": null,
            "top": null,
            "visibility": null,
            "width": null
          }
        },
        "04ac7a685ef84743b63c269986b75191": {
          "model_module": "@jupyter-widgets/controls",
          "model_name": "DescriptionStyleModel",
          "model_module_version": "1.5.0",
          "state": {
            "_model_module": "@jupyter-widgets/controls",
            "_model_module_version": "1.5.0",
            "_model_name": "DescriptionStyleModel",
            "_view_count": null,
            "_view_module": "@jupyter-widgets/base",
            "_view_module_version": "1.2.0",
            "_view_name": "StyleView",
            "description_width": ""
          }
        },
        "e8434eacf8304910baefc7795f7f932c": {
          "model_module": "@jupyter-widgets/base",
          "model_name": "LayoutModel",
          "model_module_version": "1.2.0",
          "state": {
            "_model_module": "@jupyter-widgets/base",
            "_model_module_version": "1.2.0",
            "_model_name": "LayoutModel",
            "_view_count": null,
            "_view_module": "@jupyter-widgets/base",
            "_view_module_version": "1.2.0",
            "_view_name": "LayoutView",
            "align_content": null,
            "align_items": null,
            "align_self": null,
            "border": null,
            "bottom": null,
            "display": null,
            "flex": null,
            "flex_flow": null,
            "grid_area": null,
            "grid_auto_columns": null,
            "grid_auto_flow": null,
            "grid_auto_rows": null,
            "grid_column": null,
            "grid_gap": null,
            "grid_row": null,
            "grid_template_areas": null,
            "grid_template_columns": null,
            "grid_template_rows": null,
            "height": null,
            "justify_content": null,
            "justify_items": null,
            "left": null,
            "margin": null,
            "max_height": null,
            "max_width": null,
            "min_height": null,
            "min_width": null,
            "object_fit": null,
            "object_position": null,
            "order": null,
            "overflow": null,
            "overflow_x": null,
            "overflow_y": null,
            "padding": null,
            "right": null,
            "top": null,
            "visibility": null,
            "width": null
          }
        },
        "2f42a84c66a3424c9c7226376c8682d7": {
          "model_module": "@jupyter-widgets/controls",
          "model_name": "ProgressStyleModel",
          "model_module_version": "1.5.0",
          "state": {
            "_model_module": "@jupyter-widgets/controls",
            "_model_module_version": "1.5.0",
            "_model_name": "ProgressStyleModel",
            "_view_count": null,
            "_view_module": "@jupyter-widgets/base",
            "_view_module_version": "1.2.0",
            "_view_name": "StyleView",
            "bar_color": null,
            "description_width": ""
          }
        },
        "4ab9b547673149b1aca78a0420e11201": {
          "model_module": "@jupyter-widgets/base",
          "model_name": "LayoutModel",
          "model_module_version": "1.2.0",
          "state": {
            "_model_module": "@jupyter-widgets/base",
            "_model_module_version": "1.2.0",
            "_model_name": "LayoutModel",
            "_view_count": null,
            "_view_module": "@jupyter-widgets/base",
            "_view_module_version": "1.2.0",
            "_view_name": "LayoutView",
            "align_content": null,
            "align_items": null,
            "align_self": null,
            "border": null,
            "bottom": null,
            "display": null,
            "flex": null,
            "flex_flow": null,
            "grid_area": null,
            "grid_auto_columns": null,
            "grid_auto_flow": null,
            "grid_auto_rows": null,
            "grid_column": null,
            "grid_gap": null,
            "grid_row": null,
            "grid_template_areas": null,
            "grid_template_columns": null,
            "grid_template_rows": null,
            "height": null,
            "justify_content": null,
            "justify_items": null,
            "left": null,
            "margin": null,
            "max_height": null,
            "max_width": null,
            "min_height": null,
            "min_width": null,
            "object_fit": null,
            "object_position": null,
            "order": null,
            "overflow": null,
            "overflow_x": null,
            "overflow_y": null,
            "padding": null,
            "right": null,
            "top": null,
            "visibility": null,
            "width": null
          }
        },
        "05c080e21a94489d89e773b10596af67": {
          "model_module": "@jupyter-widgets/controls",
          "model_name": "DescriptionStyleModel",
          "model_module_version": "1.5.0",
          "state": {
            "_model_module": "@jupyter-widgets/controls",
            "_model_module_version": "1.5.0",
            "_model_name": "DescriptionStyleModel",
            "_view_count": null,
            "_view_module": "@jupyter-widgets/base",
            "_view_module_version": "1.2.0",
            "_view_name": "StyleView",
            "description_width": ""
          }
        },
        "760e80d4c6084622a0e1133f749f92c5": {
          "model_module": "@jupyter-widgets/controls",
          "model_name": "HBoxModel",
          "model_module_version": "1.5.0",
          "state": {
            "_dom_classes": [],
            "_model_module": "@jupyter-widgets/controls",
            "_model_module_version": "1.5.0",
            "_model_name": "HBoxModel",
            "_view_count": null,
            "_view_module": "@jupyter-widgets/controls",
            "_view_module_version": "1.5.0",
            "_view_name": "HBoxView",
            "box_style": "",
            "children": [
              "IPY_MODEL_e3d6fe1a5aee4566b8caf15f22172235",
              "IPY_MODEL_ed1d21e7abb743469811ef7176354a41",
              "IPY_MODEL_46f81023d9d34d59b69ea47e4e691b82"
            ],
            "layout": "IPY_MODEL_87316480d5234771a8ff19de98cb8478"
          }
        },
        "e3d6fe1a5aee4566b8caf15f22172235": {
          "model_module": "@jupyter-widgets/controls",
          "model_name": "HTMLModel",
          "model_module_version": "1.5.0",
          "state": {
            "_dom_classes": [],
            "_model_module": "@jupyter-widgets/controls",
            "_model_module_version": "1.5.0",
            "_model_name": "HTMLModel",
            "_view_count": null,
            "_view_module": "@jupyter-widgets/controls",
            "_view_module_version": "1.5.0",
            "_view_name": "HTMLView",
            "description": "",
            "description_tooltip": null,
            "layout": "IPY_MODEL_2aebb1c3055d44fe8ce0ef91cfd1934f",
            "placeholder": "​",
            "style": "IPY_MODEL_043a2b6470714a95bafed8dfdbdf8b4d",
            "value": "tokenizer_config.json: 100%"
          }
        },
        "ed1d21e7abb743469811ef7176354a41": {
          "model_module": "@jupyter-widgets/controls",
          "model_name": "FloatProgressModel",
          "model_module_version": "1.5.0",
          "state": {
            "_dom_classes": [],
            "_model_module": "@jupyter-widgets/controls",
            "_model_module_version": "1.5.0",
            "_model_name": "FloatProgressModel",
            "_view_count": null,
            "_view_module": "@jupyter-widgets/controls",
            "_view_module_version": "1.5.0",
            "_view_name": "ProgressView",
            "bar_style": "success",
            "description": "",
            "description_tooltip": null,
            "layout": "IPY_MODEL_c44ab75f63d54de6974a132523f8d244",
            "max": 363,
            "min": 0,
            "orientation": "horizontal",
            "style": "IPY_MODEL_a72b80e56e1a4ddf979bf39f9a0c679d",
            "value": 363
          }
        },
        "46f81023d9d34d59b69ea47e4e691b82": {
          "model_module": "@jupyter-widgets/controls",
          "model_name": "HTMLModel",
          "model_module_version": "1.5.0",
          "state": {
            "_dom_classes": [],
            "_model_module": "@jupyter-widgets/controls",
            "_model_module_version": "1.5.0",
            "_model_name": "HTMLModel",
            "_view_count": null,
            "_view_module": "@jupyter-widgets/controls",
            "_view_module_version": "1.5.0",
            "_view_name": "HTMLView",
            "description": "",
            "description_tooltip": null,
            "layout": "IPY_MODEL_a24c40fed0114238999bcb970e22e9d0",
            "placeholder": "​",
            "style": "IPY_MODEL_919618f7bf4940519941d7a3287ee9af",
            "value": " 363/363 [00:00&lt;00:00, 28.1kB/s]"
          }
        },
        "87316480d5234771a8ff19de98cb8478": {
          "model_module": "@jupyter-widgets/base",
          "model_name": "LayoutModel",
          "model_module_version": "1.2.0",
          "state": {
            "_model_module": "@jupyter-widgets/base",
            "_model_module_version": "1.2.0",
            "_model_name": "LayoutModel",
            "_view_count": null,
            "_view_module": "@jupyter-widgets/base",
            "_view_module_version": "1.2.0",
            "_view_name": "LayoutView",
            "align_content": null,
            "align_items": null,
            "align_self": null,
            "border": null,
            "bottom": null,
            "display": null,
            "flex": null,
            "flex_flow": null,
            "grid_area": null,
            "grid_auto_columns": null,
            "grid_auto_flow": null,
            "grid_auto_rows": null,
            "grid_column": null,
            "grid_gap": null,
            "grid_row": null,
            "grid_template_areas": null,
            "grid_template_columns": null,
            "grid_template_rows": null,
            "height": null,
            "justify_content": null,
            "justify_items": null,
            "left": null,
            "margin": null,
            "max_height": null,
            "max_width": null,
            "min_height": null,
            "min_width": null,
            "object_fit": null,
            "object_position": null,
            "order": null,
            "overflow": null,
            "overflow_x": null,
            "overflow_y": null,
            "padding": null,
            "right": null,
            "top": null,
            "visibility": null,
            "width": null
          }
        },
        "2aebb1c3055d44fe8ce0ef91cfd1934f": {
          "model_module": "@jupyter-widgets/base",
          "model_name": "LayoutModel",
          "model_module_version": "1.2.0",
          "state": {
            "_model_module": "@jupyter-widgets/base",
            "_model_module_version": "1.2.0",
            "_model_name": "LayoutModel",
            "_view_count": null,
            "_view_module": "@jupyter-widgets/base",
            "_view_module_version": "1.2.0",
            "_view_name": "LayoutView",
            "align_content": null,
            "align_items": null,
            "align_self": null,
            "border": null,
            "bottom": null,
            "display": null,
            "flex": null,
            "flex_flow": null,
            "grid_area": null,
            "grid_auto_columns": null,
            "grid_auto_flow": null,
            "grid_auto_rows": null,
            "grid_column": null,
            "grid_gap": null,
            "grid_row": null,
            "grid_template_areas": null,
            "grid_template_columns": null,
            "grid_template_rows": null,
            "height": null,
            "justify_content": null,
            "justify_items": null,
            "left": null,
            "margin": null,
            "max_height": null,
            "max_width": null,
            "min_height": null,
            "min_width": null,
            "object_fit": null,
            "object_position": null,
            "order": null,
            "overflow": null,
            "overflow_x": null,
            "overflow_y": null,
            "padding": null,
            "right": null,
            "top": null,
            "visibility": null,
            "width": null
          }
        },
        "043a2b6470714a95bafed8dfdbdf8b4d": {
          "model_module": "@jupyter-widgets/controls",
          "model_name": "DescriptionStyleModel",
          "model_module_version": "1.5.0",
          "state": {
            "_model_module": "@jupyter-widgets/controls",
            "_model_module_version": "1.5.0",
            "_model_name": "DescriptionStyleModel",
            "_view_count": null,
            "_view_module": "@jupyter-widgets/base",
            "_view_module_version": "1.2.0",
            "_view_name": "StyleView",
            "description_width": ""
          }
        },
        "c44ab75f63d54de6974a132523f8d244": {
          "model_module": "@jupyter-widgets/base",
          "model_name": "LayoutModel",
          "model_module_version": "1.2.0",
          "state": {
            "_model_module": "@jupyter-widgets/base",
            "_model_module_version": "1.2.0",
            "_model_name": "LayoutModel",
            "_view_count": null,
            "_view_module": "@jupyter-widgets/base",
            "_view_module_version": "1.2.0",
            "_view_name": "LayoutView",
            "align_content": null,
            "align_items": null,
            "align_self": null,
            "border": null,
            "bottom": null,
            "display": null,
            "flex": null,
            "flex_flow": null,
            "grid_area": null,
            "grid_auto_columns": null,
            "grid_auto_flow": null,
            "grid_auto_rows": null,
            "grid_column": null,
            "grid_gap": null,
            "grid_row": null,
            "grid_template_areas": null,
            "grid_template_columns": null,
            "grid_template_rows": null,
            "height": null,
            "justify_content": null,
            "justify_items": null,
            "left": null,
            "margin": null,
            "max_height": null,
            "max_width": null,
            "min_height": null,
            "min_width": null,
            "object_fit": null,
            "object_position": null,
            "order": null,
            "overflow": null,
            "overflow_x": null,
            "overflow_y": null,
            "padding": null,
            "right": null,
            "top": null,
            "visibility": null,
            "width": null
          }
        },
        "a72b80e56e1a4ddf979bf39f9a0c679d": {
          "model_module": "@jupyter-widgets/controls",
          "model_name": "ProgressStyleModel",
          "model_module_version": "1.5.0",
          "state": {
            "_model_module": "@jupyter-widgets/controls",
            "_model_module_version": "1.5.0",
            "_model_name": "ProgressStyleModel",
            "_view_count": null,
            "_view_module": "@jupyter-widgets/base",
            "_view_module_version": "1.2.0",
            "_view_name": "StyleView",
            "bar_color": null,
            "description_width": ""
          }
        },
        "a24c40fed0114238999bcb970e22e9d0": {
          "model_module": "@jupyter-widgets/base",
          "model_name": "LayoutModel",
          "model_module_version": "1.2.0",
          "state": {
            "_model_module": "@jupyter-widgets/base",
            "_model_module_version": "1.2.0",
            "_model_name": "LayoutModel",
            "_view_count": null,
            "_view_module": "@jupyter-widgets/base",
            "_view_module_version": "1.2.0",
            "_view_name": "LayoutView",
            "align_content": null,
            "align_items": null,
            "align_self": null,
            "border": null,
            "bottom": null,
            "display": null,
            "flex": null,
            "flex_flow": null,
            "grid_area": null,
            "grid_auto_columns": null,
            "grid_auto_flow": null,
            "grid_auto_rows": null,
            "grid_column": null,
            "grid_gap": null,
            "grid_row": null,
            "grid_template_areas": null,
            "grid_template_columns": null,
            "grid_template_rows": null,
            "height": null,
            "justify_content": null,
            "justify_items": null,
            "left": null,
            "margin": null,
            "max_height": null,
            "max_width": null,
            "min_height": null,
            "min_width": null,
            "object_fit": null,
            "object_position": null,
            "order": null,
            "overflow": null,
            "overflow_x": null,
            "overflow_y": null,
            "padding": null,
            "right": null,
            "top": null,
            "visibility": null,
            "width": null
          }
        },
        "919618f7bf4940519941d7a3287ee9af": {
          "model_module": "@jupyter-widgets/controls",
          "model_name": "DescriptionStyleModel",
          "model_module_version": "1.5.0",
          "state": {
            "_model_module": "@jupyter-widgets/controls",
            "_model_module_version": "1.5.0",
            "_model_name": "DescriptionStyleModel",
            "_view_count": null,
            "_view_module": "@jupyter-widgets/base",
            "_view_module_version": "1.2.0",
            "_view_name": "StyleView",
            "description_width": ""
          }
        },
        "50ec8493ad184b74ba98c2b45e04f27f": {
          "model_module": "@jupyter-widgets/controls",
          "model_name": "HBoxModel",
          "model_module_version": "1.5.0",
          "state": {
            "_dom_classes": [],
            "_model_module": "@jupyter-widgets/controls",
            "_model_module_version": "1.5.0",
            "_model_name": "HBoxModel",
            "_view_count": null,
            "_view_module": "@jupyter-widgets/controls",
            "_view_module_version": "1.5.0",
            "_view_name": "HBoxView",
            "box_style": "",
            "children": [
              "IPY_MODEL_a9aa2991e3f0442b8ff3d66737b9ca8e",
              "IPY_MODEL_27dd7959b06a4d2f8c9c3baf51c38a04",
              "IPY_MODEL_461b3df65fb348b79ffce2fc0aa988ca"
            ],
            "layout": "IPY_MODEL_13e504d497ad48bfb0066f13a020d47a"
          }
        },
        "a9aa2991e3f0442b8ff3d66737b9ca8e": {
          "model_module": "@jupyter-widgets/controls",
          "model_name": "HTMLModel",
          "model_module_version": "1.5.0",
          "state": {
            "_dom_classes": [],
            "_model_module": "@jupyter-widgets/controls",
            "_model_module_version": "1.5.0",
            "_model_name": "HTMLModel",
            "_view_count": null,
            "_view_module": "@jupyter-widgets/controls",
            "_view_module_version": "1.5.0",
            "_view_name": "HTMLView",
            "description": "",
            "description_tooltip": null,
            "layout": "IPY_MODEL_1f2ce84f570a43398d84af2aa5ece151",
            "placeholder": "​",
            "style": "IPY_MODEL_455b4417537e4ed087ddd5127cbe1ba9",
            "value": "train_script.py: 100%"
          }
        },
        "27dd7959b06a4d2f8c9c3baf51c38a04": {
          "model_module": "@jupyter-widgets/controls",
          "model_name": "FloatProgressModel",
          "model_module_version": "1.5.0",
          "state": {
            "_dom_classes": [],
            "_model_module": "@jupyter-widgets/controls",
            "_model_module_version": "1.5.0",
            "_model_name": "FloatProgressModel",
            "_view_count": null,
            "_view_module": "@jupyter-widgets/controls",
            "_view_module_version": "1.5.0",
            "_view_name": "ProgressView",
            "bar_style": "success",
            "description": "",
            "description_tooltip": null,
            "layout": "IPY_MODEL_b1b0ef369be44e9f9bd3809b3de31774",
            "max": 13123,
            "min": 0,
            "orientation": "horizontal",
            "style": "IPY_MODEL_44725ca8e4f4456da4de0b83b50d0778",
            "value": 13123
          }
        },
        "461b3df65fb348b79ffce2fc0aa988ca": {
          "model_module": "@jupyter-widgets/controls",
          "model_name": "HTMLModel",
          "model_module_version": "1.5.0",
          "state": {
            "_dom_classes": [],
            "_model_module": "@jupyter-widgets/controls",
            "_model_module_version": "1.5.0",
            "_model_name": "HTMLModel",
            "_view_count": null,
            "_view_module": "@jupyter-widgets/controls",
            "_view_module_version": "1.5.0",
            "_view_name": "HTMLView",
            "description": "",
            "description_tooltip": null,
            "layout": "IPY_MODEL_6f443b38a2a44d46b19a595a98681e56",
            "placeholder": "​",
            "style": "IPY_MODEL_d7583abe32604c36bed6fdd129449e09",
            "value": " 13.1k/13.1k [00:00&lt;00:00, 1.07MB/s]"
          }
        },
        "13e504d497ad48bfb0066f13a020d47a": {
          "model_module": "@jupyter-widgets/base",
          "model_name": "LayoutModel",
          "model_module_version": "1.2.0",
          "state": {
            "_model_module": "@jupyter-widgets/base",
            "_model_module_version": "1.2.0",
            "_model_name": "LayoutModel",
            "_view_count": null,
            "_view_module": "@jupyter-widgets/base",
            "_view_module_version": "1.2.0",
            "_view_name": "LayoutView",
            "align_content": null,
            "align_items": null,
            "align_self": null,
            "border": null,
            "bottom": null,
            "display": null,
            "flex": null,
            "flex_flow": null,
            "grid_area": null,
            "grid_auto_columns": null,
            "grid_auto_flow": null,
            "grid_auto_rows": null,
            "grid_column": null,
            "grid_gap": null,
            "grid_row": null,
            "grid_template_areas": null,
            "grid_template_columns": null,
            "grid_template_rows": null,
            "height": null,
            "justify_content": null,
            "justify_items": null,
            "left": null,
            "margin": null,
            "max_height": null,
            "max_width": null,
            "min_height": null,
            "min_width": null,
            "object_fit": null,
            "object_position": null,
            "order": null,
            "overflow": null,
            "overflow_x": null,
            "overflow_y": null,
            "padding": null,
            "right": null,
            "top": null,
            "visibility": null,
            "width": null
          }
        },
        "1f2ce84f570a43398d84af2aa5ece151": {
          "model_module": "@jupyter-widgets/base",
          "model_name": "LayoutModel",
          "model_module_version": "1.2.0",
          "state": {
            "_model_module": "@jupyter-widgets/base",
            "_model_module_version": "1.2.0",
            "_model_name": "LayoutModel",
            "_view_count": null,
            "_view_module": "@jupyter-widgets/base",
            "_view_module_version": "1.2.0",
            "_view_name": "LayoutView",
            "align_content": null,
            "align_items": null,
            "align_self": null,
            "border": null,
            "bottom": null,
            "display": null,
            "flex": null,
            "flex_flow": null,
            "grid_area": null,
            "grid_auto_columns": null,
            "grid_auto_flow": null,
            "grid_auto_rows": null,
            "grid_column": null,
            "grid_gap": null,
            "grid_row": null,
            "grid_template_areas": null,
            "grid_template_columns": null,
            "grid_template_rows": null,
            "height": null,
            "justify_content": null,
            "justify_items": null,
            "left": null,
            "margin": null,
            "max_height": null,
            "max_width": null,
            "min_height": null,
            "min_width": null,
            "object_fit": null,
            "object_position": null,
            "order": null,
            "overflow": null,
            "overflow_x": null,
            "overflow_y": null,
            "padding": null,
            "right": null,
            "top": null,
            "visibility": null,
            "width": null
          }
        },
        "455b4417537e4ed087ddd5127cbe1ba9": {
          "model_module": "@jupyter-widgets/controls",
          "model_name": "DescriptionStyleModel",
          "model_module_version": "1.5.0",
          "state": {
            "_model_module": "@jupyter-widgets/controls",
            "_model_module_version": "1.5.0",
            "_model_name": "DescriptionStyleModel",
            "_view_count": null,
            "_view_module": "@jupyter-widgets/base",
            "_view_module_version": "1.2.0",
            "_view_name": "StyleView",
            "description_width": ""
          }
        },
        "b1b0ef369be44e9f9bd3809b3de31774": {
          "model_module": "@jupyter-widgets/base",
          "model_name": "LayoutModel",
          "model_module_version": "1.2.0",
          "state": {
            "_model_module": "@jupyter-widgets/base",
            "_model_module_version": "1.2.0",
            "_model_name": "LayoutModel",
            "_view_count": null,
            "_view_module": "@jupyter-widgets/base",
            "_view_module_version": "1.2.0",
            "_view_name": "LayoutView",
            "align_content": null,
            "align_items": null,
            "align_self": null,
            "border": null,
            "bottom": null,
            "display": null,
            "flex": null,
            "flex_flow": null,
            "grid_area": null,
            "grid_auto_columns": null,
            "grid_auto_flow": null,
            "grid_auto_rows": null,
            "grid_column": null,
            "grid_gap": null,
            "grid_row": null,
            "grid_template_areas": null,
            "grid_template_columns": null,
            "grid_template_rows": null,
            "height": null,
            "justify_content": null,
            "justify_items": null,
            "left": null,
            "margin": null,
            "max_height": null,
            "max_width": null,
            "min_height": null,
            "min_width": null,
            "object_fit": null,
            "object_position": null,
            "order": null,
            "overflow": null,
            "overflow_x": null,
            "overflow_y": null,
            "padding": null,
            "right": null,
            "top": null,
            "visibility": null,
            "width": null
          }
        },
        "44725ca8e4f4456da4de0b83b50d0778": {
          "model_module": "@jupyter-widgets/controls",
          "model_name": "ProgressStyleModel",
          "model_module_version": "1.5.0",
          "state": {
            "_model_module": "@jupyter-widgets/controls",
            "_model_module_version": "1.5.0",
            "_model_name": "ProgressStyleModel",
            "_view_count": null,
            "_view_module": "@jupyter-widgets/base",
            "_view_module_version": "1.2.0",
            "_view_name": "StyleView",
            "bar_color": null,
            "description_width": ""
          }
        },
        "6f443b38a2a44d46b19a595a98681e56": {
          "model_module": "@jupyter-widgets/base",
          "model_name": "LayoutModel",
          "model_module_version": "1.2.0",
          "state": {
            "_model_module": "@jupyter-widgets/base",
            "_model_module_version": "1.2.0",
            "_model_name": "LayoutModel",
            "_view_count": null,
            "_view_module": "@jupyter-widgets/base",
            "_view_module_version": "1.2.0",
            "_view_name": "LayoutView",
            "align_content": null,
            "align_items": null,
            "align_self": null,
            "border": null,
            "bottom": null,
            "display": null,
            "flex": null,
            "flex_flow": null,
            "grid_area": null,
            "grid_auto_columns": null,
            "grid_auto_flow": null,
            "grid_auto_rows": null,
            "grid_column": null,
            "grid_gap": null,
            "grid_row": null,
            "grid_template_areas": null,
            "grid_template_columns": null,
            "grid_template_rows": null,
            "height": null,
            "justify_content": null,
            "justify_items": null,
            "left": null,
            "margin": null,
            "max_height": null,
            "max_width": null,
            "min_height": null,
            "min_width": null,
            "object_fit": null,
            "object_position": null,
            "order": null,
            "overflow": null,
            "overflow_x": null,
            "overflow_y": null,
            "padding": null,
            "right": null,
            "top": null,
            "visibility": null,
            "width": null
          }
        },
        "d7583abe32604c36bed6fdd129449e09": {
          "model_module": "@jupyter-widgets/controls",
          "model_name": "DescriptionStyleModel",
          "model_module_version": "1.5.0",
          "state": {
            "_model_module": "@jupyter-widgets/controls",
            "_model_module_version": "1.5.0",
            "_model_name": "DescriptionStyleModel",
            "_view_count": null,
            "_view_module": "@jupyter-widgets/base",
            "_view_module_version": "1.2.0",
            "_view_name": "StyleView",
            "description_width": ""
          }
        },
        "44bd73369b8e47a0ac2aa1479b7a63da": {
          "model_module": "@jupyter-widgets/controls",
          "model_name": "HBoxModel",
          "model_module_version": "1.5.0",
          "state": {
            "_dom_classes": [],
            "_model_module": "@jupyter-widgets/controls",
            "_model_module_version": "1.5.0",
            "_model_name": "HBoxModel",
            "_view_count": null,
            "_view_module": "@jupyter-widgets/controls",
            "_view_module_version": "1.5.0",
            "_view_name": "HBoxView",
            "box_style": "",
            "children": [
              "IPY_MODEL_75fb4cabe57a4d0aa16e617d6133fe3c",
              "IPY_MODEL_150b12bc4f974208a5af5d62c0cecc57",
              "IPY_MODEL_5396cf2b8a3b4205aa64c13332e8c99b"
            ],
            "layout": "IPY_MODEL_eadb5a9bd2d248fab63995620dc2abcd"
          }
        },
        "75fb4cabe57a4d0aa16e617d6133fe3c": {
          "model_module": "@jupyter-widgets/controls",
          "model_name": "HTMLModel",
          "model_module_version": "1.5.0",
          "state": {
            "_dom_classes": [],
            "_model_module": "@jupyter-widgets/controls",
            "_model_module_version": "1.5.0",
            "_model_name": "HTMLModel",
            "_view_count": null,
            "_view_module": "@jupyter-widgets/controls",
            "_view_module_version": "1.5.0",
            "_view_name": "HTMLView",
            "description": "",
            "description_tooltip": null,
            "layout": "IPY_MODEL_852b9590011e404196830c7798343416",
            "placeholder": "​",
            "style": "IPY_MODEL_1bf5161b82264bffa83e281dbcc9c53a",
            "value": "vocab.txt: 100%"
          }
        },
        "150b12bc4f974208a5af5d62c0cecc57": {
          "model_module": "@jupyter-widgets/controls",
          "model_name": "FloatProgressModel",
          "model_module_version": "1.5.0",
          "state": {
            "_dom_classes": [],
            "_model_module": "@jupyter-widgets/controls",
            "_model_module_version": "1.5.0",
            "_model_name": "FloatProgressModel",
            "_view_count": null,
            "_view_module": "@jupyter-widgets/controls",
            "_view_module_version": "1.5.0",
            "_view_name": "ProgressView",
            "bar_style": "success",
            "description": "",
            "description_tooltip": null,
            "layout": "IPY_MODEL_e26b58b5f82e4312934526c0d05a32cf",
            "max": 231536,
            "min": 0,
            "orientation": "horizontal",
            "style": "IPY_MODEL_eff056ae4091456b93f8436f568cc719",
            "value": 231536
          }
        },
        "5396cf2b8a3b4205aa64c13332e8c99b": {
          "model_module": "@jupyter-widgets/controls",
          "model_name": "HTMLModel",
          "model_module_version": "1.5.0",
          "state": {
            "_dom_classes": [],
            "_model_module": "@jupyter-widgets/controls",
            "_model_module_version": "1.5.0",
            "_model_name": "HTMLModel",
            "_view_count": null,
            "_view_module": "@jupyter-widgets/controls",
            "_view_module_version": "1.5.0",
            "_view_name": "HTMLView",
            "description": "",
            "description_tooltip": null,
            "layout": "IPY_MODEL_2ef52ce6eb8c4c26b3bc540ad0c1da97",
            "placeholder": "​",
            "style": "IPY_MODEL_b1839f9c51e3435cb5ab60da8afd8302",
            "value": " 232k/232k [00:00&lt;00:00, 15.6MB/s]"
          }
        },
        "eadb5a9bd2d248fab63995620dc2abcd": {
          "model_module": "@jupyter-widgets/base",
          "model_name": "LayoutModel",
          "model_module_version": "1.2.0",
          "state": {
            "_model_module": "@jupyter-widgets/base",
            "_model_module_version": "1.2.0",
            "_model_name": "LayoutModel",
            "_view_count": null,
            "_view_module": "@jupyter-widgets/base",
            "_view_module_version": "1.2.0",
            "_view_name": "LayoutView",
            "align_content": null,
            "align_items": null,
            "align_self": null,
            "border": null,
            "bottom": null,
            "display": null,
            "flex": null,
            "flex_flow": null,
            "grid_area": null,
            "grid_auto_columns": null,
            "grid_auto_flow": null,
            "grid_auto_rows": null,
            "grid_column": null,
            "grid_gap": null,
            "grid_row": null,
            "grid_template_areas": null,
            "grid_template_columns": null,
            "grid_template_rows": null,
            "height": null,
            "justify_content": null,
            "justify_items": null,
            "left": null,
            "margin": null,
            "max_height": null,
            "max_width": null,
            "min_height": null,
            "min_width": null,
            "object_fit": null,
            "object_position": null,
            "order": null,
            "overflow": null,
            "overflow_x": null,
            "overflow_y": null,
            "padding": null,
            "right": null,
            "top": null,
            "visibility": null,
            "width": null
          }
        },
        "852b9590011e404196830c7798343416": {
          "model_module": "@jupyter-widgets/base",
          "model_name": "LayoutModel",
          "model_module_version": "1.2.0",
          "state": {
            "_model_module": "@jupyter-widgets/base",
            "_model_module_version": "1.2.0",
            "_model_name": "LayoutModel",
            "_view_count": null,
            "_view_module": "@jupyter-widgets/base",
            "_view_module_version": "1.2.0",
            "_view_name": "LayoutView",
            "align_content": null,
            "align_items": null,
            "align_self": null,
            "border": null,
            "bottom": null,
            "display": null,
            "flex": null,
            "flex_flow": null,
            "grid_area": null,
            "grid_auto_columns": null,
            "grid_auto_flow": null,
            "grid_auto_rows": null,
            "grid_column": null,
            "grid_gap": null,
            "grid_row": null,
            "grid_template_areas": null,
            "grid_template_columns": null,
            "grid_template_rows": null,
            "height": null,
            "justify_content": null,
            "justify_items": null,
            "left": null,
            "margin": null,
            "max_height": null,
            "max_width": null,
            "min_height": null,
            "min_width": null,
            "object_fit": null,
            "object_position": null,
            "order": null,
            "overflow": null,
            "overflow_x": null,
            "overflow_y": null,
            "padding": null,
            "right": null,
            "top": null,
            "visibility": null,
            "width": null
          }
        },
        "1bf5161b82264bffa83e281dbcc9c53a": {
          "model_module": "@jupyter-widgets/controls",
          "model_name": "DescriptionStyleModel",
          "model_module_version": "1.5.0",
          "state": {
            "_model_module": "@jupyter-widgets/controls",
            "_model_module_version": "1.5.0",
            "_model_name": "DescriptionStyleModel",
            "_view_count": null,
            "_view_module": "@jupyter-widgets/base",
            "_view_module_version": "1.2.0",
            "_view_name": "StyleView",
            "description_width": ""
          }
        },
        "e26b58b5f82e4312934526c0d05a32cf": {
          "model_module": "@jupyter-widgets/base",
          "model_name": "LayoutModel",
          "model_module_version": "1.2.0",
          "state": {
            "_model_module": "@jupyter-widgets/base",
            "_model_module_version": "1.2.0",
            "_model_name": "LayoutModel",
            "_view_count": null,
            "_view_module": "@jupyter-widgets/base",
            "_view_module_version": "1.2.0",
            "_view_name": "LayoutView",
            "align_content": null,
            "align_items": null,
            "align_self": null,
            "border": null,
            "bottom": null,
            "display": null,
            "flex": null,
            "flex_flow": null,
            "grid_area": null,
            "grid_auto_columns": null,
            "grid_auto_flow": null,
            "grid_auto_rows": null,
            "grid_column": null,
            "grid_gap": null,
            "grid_row": null,
            "grid_template_areas": null,
            "grid_template_columns": null,
            "grid_template_rows": null,
            "height": null,
            "justify_content": null,
            "justify_items": null,
            "left": null,
            "margin": null,
            "max_height": null,
            "max_width": null,
            "min_height": null,
            "min_width": null,
            "object_fit": null,
            "object_position": null,
            "order": null,
            "overflow": null,
            "overflow_x": null,
            "overflow_y": null,
            "padding": null,
            "right": null,
            "top": null,
            "visibility": null,
            "width": null
          }
        },
        "eff056ae4091456b93f8436f568cc719": {
          "model_module": "@jupyter-widgets/controls",
          "model_name": "ProgressStyleModel",
          "model_module_version": "1.5.0",
          "state": {
            "_model_module": "@jupyter-widgets/controls",
            "_model_module_version": "1.5.0",
            "_model_name": "ProgressStyleModel",
            "_view_count": null,
            "_view_module": "@jupyter-widgets/base",
            "_view_module_version": "1.2.0",
            "_view_name": "StyleView",
            "bar_color": null,
            "description_width": ""
          }
        },
        "2ef52ce6eb8c4c26b3bc540ad0c1da97": {
          "model_module": "@jupyter-widgets/base",
          "model_name": "LayoutModel",
          "model_module_version": "1.2.0",
          "state": {
            "_model_module": "@jupyter-widgets/base",
            "_model_module_version": "1.2.0",
            "_model_name": "LayoutModel",
            "_view_count": null,
            "_view_module": "@jupyter-widgets/base",
            "_view_module_version": "1.2.0",
            "_view_name": "LayoutView",
            "align_content": null,
            "align_items": null,
            "align_self": null,
            "border": null,
            "bottom": null,
            "display": null,
            "flex": null,
            "flex_flow": null,
            "grid_area": null,
            "grid_auto_columns": null,
            "grid_auto_flow": null,
            "grid_auto_rows": null,
            "grid_column": null,
            "grid_gap": null,
            "grid_row": null,
            "grid_template_areas": null,
            "grid_template_columns": null,
            "grid_template_rows": null,
            "height": null,
            "justify_content": null,
            "justify_items": null,
            "left": null,
            "margin": null,
            "max_height": null,
            "max_width": null,
            "min_height": null,
            "min_width": null,
            "object_fit": null,
            "object_position": null,
            "order": null,
            "overflow": null,
            "overflow_x": null,
            "overflow_y": null,
            "padding": null,
            "right": null,
            "top": null,
            "visibility": null,
            "width": null
          }
        },
        "b1839f9c51e3435cb5ab60da8afd8302": {
          "model_module": "@jupyter-widgets/controls",
          "model_name": "DescriptionStyleModel",
          "model_module_version": "1.5.0",
          "state": {
            "_model_module": "@jupyter-widgets/controls",
            "_model_module_version": "1.5.0",
            "_model_name": "DescriptionStyleModel",
            "_view_count": null,
            "_view_module": "@jupyter-widgets/base",
            "_view_module_version": "1.2.0",
            "_view_name": "StyleView",
            "description_width": ""
          }
        },
        "6393121a1a23487a867af2ac13e6e405": {
          "model_module": "@jupyter-widgets/controls",
          "model_name": "HBoxModel",
          "model_module_version": "1.5.0",
          "state": {
            "_dom_classes": [],
            "_model_module": "@jupyter-widgets/controls",
            "_model_module_version": "1.5.0",
            "_model_name": "HBoxModel",
            "_view_count": null,
            "_view_module": "@jupyter-widgets/controls",
            "_view_module_version": "1.5.0",
            "_view_name": "HBoxView",
            "box_style": "",
            "children": [
              "IPY_MODEL_b6538f72313043ab983cfd32fa1c8c07",
              "IPY_MODEL_ec956696519c43d78b4c4868c5cb9c16",
              "IPY_MODEL_71eaa814cd8e47339f66cff70a28ee56"
            ],
            "layout": "IPY_MODEL_137b858295894b6b83874319cc11dd5a"
          }
        },
        "b6538f72313043ab983cfd32fa1c8c07": {
          "model_module": "@jupyter-widgets/controls",
          "model_name": "HTMLModel",
          "model_module_version": "1.5.0",
          "state": {
            "_dom_classes": [],
            "_model_module": "@jupyter-widgets/controls",
            "_model_module_version": "1.5.0",
            "_model_name": "HTMLModel",
            "_view_count": null,
            "_view_module": "@jupyter-widgets/controls",
            "_view_module_version": "1.5.0",
            "_view_name": "HTMLView",
            "description": "",
            "description_tooltip": null,
            "layout": "IPY_MODEL_0d23b6535b084362a8de79651885bfc1",
            "placeholder": "​",
            "style": "IPY_MODEL_2b1d08c80e8b42d8b295aaaee11b3a42",
            "value": "modules.json: 100%"
          }
        },
        "ec956696519c43d78b4c4868c5cb9c16": {
          "model_module": "@jupyter-widgets/controls",
          "model_name": "FloatProgressModel",
          "model_module_version": "1.5.0",
          "state": {
            "_dom_classes": [],
            "_model_module": "@jupyter-widgets/controls",
            "_model_module_version": "1.5.0",
            "_model_name": "FloatProgressModel",
            "_view_count": null,
            "_view_module": "@jupyter-widgets/controls",
            "_view_module_version": "1.5.0",
            "_view_name": "ProgressView",
            "bar_style": "success",
            "description": "",
            "description_tooltip": null,
            "layout": "IPY_MODEL_395bd75cee334147aa9deb5c42431bdf",
            "max": 349,
            "min": 0,
            "orientation": "horizontal",
            "style": "IPY_MODEL_7b1544167e0444d19fcf981b003c1119",
            "value": 349
          }
        },
        "71eaa814cd8e47339f66cff70a28ee56": {
          "model_module": "@jupyter-widgets/controls",
          "model_name": "HTMLModel",
          "model_module_version": "1.5.0",
          "state": {
            "_dom_classes": [],
            "_model_module": "@jupyter-widgets/controls",
            "_model_module_version": "1.5.0",
            "_model_name": "HTMLModel",
            "_view_count": null,
            "_view_module": "@jupyter-widgets/controls",
            "_view_module_version": "1.5.0",
            "_view_name": "HTMLView",
            "description": "",
            "description_tooltip": null,
            "layout": "IPY_MODEL_10a8235c6a77412abb7af60dc7a7ff59",
            "placeholder": "​",
            "style": "IPY_MODEL_378a9ce76cfa4b579859b6aeedd1320e",
            "value": " 349/349 [00:00&lt;00:00, 29.1kB/s]"
          }
        },
        "137b858295894b6b83874319cc11dd5a": {
          "model_module": "@jupyter-widgets/base",
          "model_name": "LayoutModel",
          "model_module_version": "1.2.0",
          "state": {
            "_model_module": "@jupyter-widgets/base",
            "_model_module_version": "1.2.0",
            "_model_name": "LayoutModel",
            "_view_count": null,
            "_view_module": "@jupyter-widgets/base",
            "_view_module_version": "1.2.0",
            "_view_name": "LayoutView",
            "align_content": null,
            "align_items": null,
            "align_self": null,
            "border": null,
            "bottom": null,
            "display": null,
            "flex": null,
            "flex_flow": null,
            "grid_area": null,
            "grid_auto_columns": null,
            "grid_auto_flow": null,
            "grid_auto_rows": null,
            "grid_column": null,
            "grid_gap": null,
            "grid_row": null,
            "grid_template_areas": null,
            "grid_template_columns": null,
            "grid_template_rows": null,
            "height": null,
            "justify_content": null,
            "justify_items": null,
            "left": null,
            "margin": null,
            "max_height": null,
            "max_width": null,
            "min_height": null,
            "min_width": null,
            "object_fit": null,
            "object_position": null,
            "order": null,
            "overflow": null,
            "overflow_x": null,
            "overflow_y": null,
            "padding": null,
            "right": null,
            "top": null,
            "visibility": null,
            "width": null
          }
        },
        "0d23b6535b084362a8de79651885bfc1": {
          "model_module": "@jupyter-widgets/base",
          "model_name": "LayoutModel",
          "model_module_version": "1.2.0",
          "state": {
            "_model_module": "@jupyter-widgets/base",
            "_model_module_version": "1.2.0",
            "_model_name": "LayoutModel",
            "_view_count": null,
            "_view_module": "@jupyter-widgets/base",
            "_view_module_version": "1.2.0",
            "_view_name": "LayoutView",
            "align_content": null,
            "align_items": null,
            "align_self": null,
            "border": null,
            "bottom": null,
            "display": null,
            "flex": null,
            "flex_flow": null,
            "grid_area": null,
            "grid_auto_columns": null,
            "grid_auto_flow": null,
            "grid_auto_rows": null,
            "grid_column": null,
            "grid_gap": null,
            "grid_row": null,
            "grid_template_areas": null,
            "grid_template_columns": null,
            "grid_template_rows": null,
            "height": null,
            "justify_content": null,
            "justify_items": null,
            "left": null,
            "margin": null,
            "max_height": null,
            "max_width": null,
            "min_height": null,
            "min_width": null,
            "object_fit": null,
            "object_position": null,
            "order": null,
            "overflow": null,
            "overflow_x": null,
            "overflow_y": null,
            "padding": null,
            "right": null,
            "top": null,
            "visibility": null,
            "width": null
          }
        },
        "2b1d08c80e8b42d8b295aaaee11b3a42": {
          "model_module": "@jupyter-widgets/controls",
          "model_name": "DescriptionStyleModel",
          "model_module_version": "1.5.0",
          "state": {
            "_model_module": "@jupyter-widgets/controls",
            "_model_module_version": "1.5.0",
            "_model_name": "DescriptionStyleModel",
            "_view_count": null,
            "_view_module": "@jupyter-widgets/base",
            "_view_module_version": "1.2.0",
            "_view_name": "StyleView",
            "description_width": ""
          }
        },
        "395bd75cee334147aa9deb5c42431bdf": {
          "model_module": "@jupyter-widgets/base",
          "model_name": "LayoutModel",
          "model_module_version": "1.2.0",
          "state": {
            "_model_module": "@jupyter-widgets/base",
            "_model_module_version": "1.2.0",
            "_model_name": "LayoutModel",
            "_view_count": null,
            "_view_module": "@jupyter-widgets/base",
            "_view_module_version": "1.2.0",
            "_view_name": "LayoutView",
            "align_content": null,
            "align_items": null,
            "align_self": null,
            "border": null,
            "bottom": null,
            "display": null,
            "flex": null,
            "flex_flow": null,
            "grid_area": null,
            "grid_auto_columns": null,
            "grid_auto_flow": null,
            "grid_auto_rows": null,
            "grid_column": null,
            "grid_gap": null,
            "grid_row": null,
            "grid_template_areas": null,
            "grid_template_columns": null,
            "grid_template_rows": null,
            "height": null,
            "justify_content": null,
            "justify_items": null,
            "left": null,
            "margin": null,
            "max_height": null,
            "max_width": null,
            "min_height": null,
            "min_width": null,
            "object_fit": null,
            "object_position": null,
            "order": null,
            "overflow": null,
            "overflow_x": null,
            "overflow_y": null,
            "padding": null,
            "right": null,
            "top": null,
            "visibility": null,
            "width": null
          }
        },
        "7b1544167e0444d19fcf981b003c1119": {
          "model_module": "@jupyter-widgets/controls",
          "model_name": "ProgressStyleModel",
          "model_module_version": "1.5.0",
          "state": {
            "_model_module": "@jupyter-widgets/controls",
            "_model_module_version": "1.5.0",
            "_model_name": "ProgressStyleModel",
            "_view_count": null,
            "_view_module": "@jupyter-widgets/base",
            "_view_module_version": "1.2.0",
            "_view_name": "StyleView",
            "bar_color": null,
            "description_width": ""
          }
        },
        "10a8235c6a77412abb7af60dc7a7ff59": {
          "model_module": "@jupyter-widgets/base",
          "model_name": "LayoutModel",
          "model_module_version": "1.2.0",
          "state": {
            "_model_module": "@jupyter-widgets/base",
            "_model_module_version": "1.2.0",
            "_model_name": "LayoutModel",
            "_view_count": null,
            "_view_module": "@jupyter-widgets/base",
            "_view_module_version": "1.2.0",
            "_view_name": "LayoutView",
            "align_content": null,
            "align_items": null,
            "align_self": null,
            "border": null,
            "bottom": null,
            "display": null,
            "flex": null,
            "flex_flow": null,
            "grid_area": null,
            "grid_auto_columns": null,
            "grid_auto_flow": null,
            "grid_auto_rows": null,
            "grid_column": null,
            "grid_gap": null,
            "grid_row": null,
            "grid_template_areas": null,
            "grid_template_columns": null,
            "grid_template_rows": null,
            "height": null,
            "justify_content": null,
            "justify_items": null,
            "left": null,
            "margin": null,
            "max_height": null,
            "max_width": null,
            "min_height": null,
            "min_width": null,
            "object_fit": null,
            "object_position": null,
            "order": null,
            "overflow": null,
            "overflow_x": null,
            "overflow_y": null,
            "padding": null,
            "right": null,
            "top": null,
            "visibility": null,
            "width": null
          }
        },
        "378a9ce76cfa4b579859b6aeedd1320e": {
          "model_module": "@jupyter-widgets/controls",
          "model_name": "DescriptionStyleModel",
          "model_module_version": "1.5.0",
          "state": {
            "_model_module": "@jupyter-widgets/controls",
            "_model_module_version": "1.5.0",
            "_model_name": "DescriptionStyleModel",
            "_view_count": null,
            "_view_module": "@jupyter-widgets/base",
            "_view_module_version": "1.2.0",
            "_view_name": "StyleView",
            "description_width": ""
          }
        }
      }
    }
  },
  "nbformat_minor": 0,
  "nbformat": 4,
  "cells": [
    {
      "cell_type": "markdown",
      "metadata": {
        "id": "view-in-github",
        "colab_type": "text"
      },
      "source": [
        "<a href=\"https://colab.research.google.com/github/EdBerg21/AI-Professional-Prompts/blob/main/HD30BDONEJAIS_DONE_NATIONAL_UNIFIED_rag_with_mistral_7b_query_wikipedia.ipynb\" target=\"_parent\"><img src=\"https://colab.research.google.com/assets/colab-badge.svg\" alt=\"Open In Colab\"/></a>"
      ]
    },
    {
      "cell_type": "code",
      "source": [
        "# bitsandbytes is required for 4-bit quantization by transformers.AutoModelForCausalLM\n",
        "# sentence-transformers is required by model wrapper langchain.embeddings.HuggingFaceEmbeddings\n",
        "# faiss-gpu is required by embeddings db langchain.vectorstores.FAISS\n",
        "!pip install -q langchain bitsandbytes sentence-transformers faiss-gpu"
      ],
      "metadata": {
        "execution": {
          "iopub.status.busy": "2023-11-30T18:09:09.964472Z",
          "iopub.execute_input": "2023-11-30T18:09:09.965118Z",
          "iopub.status.idle": "2023-11-30T18:09:41.629673Z",
          "shell.execute_reply.started": "2023-11-30T18:09:09.965084Z",
          "shell.execute_reply": "2023-11-30T18:09:41.628658Z"
        },
        "trusted": true,
        "id": "JuhrQ9-iX1Fl"
      },
      "execution_count": null,
      "outputs": []
    },
    {
      "cell_type": "code",
      "source": [
        "!pip install bitsandbytes"
      ],
      "metadata": {
        "colab": {
          "base_uri": "https://localhost:8080/"
        },
        "id": "7jH4S1Usdfh7",
        "outputId": "d99f63fc-81ec-4e15-ba9d-2f7655ea2248"
      },
      "execution_count": null,
      "outputs": [
        {
          "output_type": "stream",
          "name": "stdout",
          "text": [
            "Requirement already satisfied: bitsandbytes in /usr/local/lib/python3.10/dist-packages (0.42.0)\n",
            "Requirement already satisfied: scipy in /usr/local/lib/python3.10/dist-packages (from bitsandbytes) (1.11.4)\n",
            "Requirement already satisfied: numpy<1.28.0,>=1.21.6 in /usr/local/lib/python3.10/dist-packages (from scipy->bitsandbytes) (1.23.5)\n"
          ]
        }
      ]
    },
    {
      "cell_type": "code",
      "source": [
        "from pathlib import Path\n",
        "from pprint import pprint\n",
        "import sys\n",
        "from timeit import default_timer\n",
        "\n",
        "import numpy as np\n",
        "import torch\n",
        "from torch.nn import functional as F\n",
        "import transformers\n",
        "from transformers import AutoTokenizer\n",
        "from transformers import top_k_top_p_filtering\n",
        "from langchain.document_loaders.csv_loader import CSVLoader\n",
        "from langchain.text_splitter import RecursiveCharacterTextSplitter, CharacterTextSplitter\n",
        "from langchain.document_loaders import TextLoader\n",
        "from langchain.embeddings import HuggingFaceEmbeddings\n",
        "from langchain.chains import RetrievalQA\n",
        "from langchain.llms import HuggingFacePipeline\n",
        "from langchain.vectorstores import FAISS\n",
        "from langchain.schema.document import Document"
      ],
      "metadata": {
        "execution": {
          "iopub.status.busy": "2023-11-30T18:09:44.521838Z",
          "iopub.execute_input": "2023-11-30T18:09:44.522286Z",
          "iopub.status.idle": "2023-11-30T18:09:48.853117Z",
          "shell.execute_reply.started": "2023-11-30T18:09:44.522255Z",
          "shell.execute_reply": "2023-11-30T18:09:48.852326Z"
        },
        "trusted": true,
        "id": "-h4Ax90-X1Fy"
      },
      "execution_count": null,
      "outputs": []
    },
    {
      "cell_type": "code",
      "source": [
        "\n",
        "# Load model directly\n",
        "from transformers import AutoTokenizer, AutoModelForCausalLM\n",
        "\n",
        "#tokenizer = AutoTokenizer.from_pretrained(\"core42/jais-13b-chat\")\n",
        "model = AutoModelForCausalLM.from_pretrained(\"core42/jais-13b-chat\",trust_remote_code=True)"
      ],
      "metadata": {
        "colab": {
          "base_uri": "https://localhost:8080/"
        },
        "id": "_URBEozHbKMs",
        "outputId": "e6de3637-d4f4-473e-d281-9014e071f284"
      },
      "execution_count": null,
      "outputs": [
        {
          "output_type": "stream",
          "name": "stderr",
          "text": [
            "/usr/local/lib/python3.10/dist-packages/huggingface_hub/utils/_token.py:88: UserWarning: \n",
            "The secret `HF_TOKEN` does not exist in your Colab secrets.\n",
            "To authenticate with the Hugging Face Hub, create a token in your settings tab (https://huggingface.co/settings/tokens), set it as secret in your Google Colab and restart your session.\n",
            "You will be able to reuse this secret in all of your notebooks.\n",
            "Please note that authentication is recommended but still optional to access public models or datasets.\n",
            "  warnings.warn(\n"
          ]
        }
      ]
    },
    {
      "cell_type": "code",
      "source": [
        "model_path = \"/root/.cache/huggingface/hub/models--core42--jais-13b-chat/snapshots/d48ede08ac34ac0addd52987b7af473caea3cc25\""
      ],
      "metadata": {
        "execution": {
          "iopub.status.busy": "2023-11-30T18:09:48.855006Z",
          "iopub.execute_input": "2023-11-30T18:09:48.855595Z",
          "iopub.status.idle": "2023-11-30T18:09:48.860364Z",
          "shell.execute_reply.started": "2023-11-30T18:09:48.855567Z",
          "shell.execute_reply": "2023-11-30T18:09:48.859309Z"
        },
        "trusted": true,
        "id": "ZwrScejYX1F2"
      },
      "execution_count": null,
      "outputs": []
    },
    {
      "cell_type": "markdown",
      "source": [
        "# Model\n",
        "## Files"
      ],
      "metadata": {
        "id": "WBrLSIxVX1F5"
      }
    },
    {
      "cell_type": "code",
      "source": [
        "def sizeof_fmt(num, suffix=\"B\"):\n",
        "    for unit in (\"\", \"Ki\", \"Mi\", \"Gi\", \"Ti\", \"Pi\", \"Ei\", \"Zi\"):\n",
        "        if abs(num) < 1024.0:\n",
        "            return f\"{num:5.1f} | {unit}{suffix}\"\n",
        "        num /= 1024.0\n",
        "    return f\"{num:.1f}Yi{suffix}\"\n",
        "\n",
        "path = Path(model_path)\n",
        "files = list(path.iterdir())\n",
        "files = sorted(files, key=lambda f: -f.stat().st_size)\n",
        "for file in files:\n",
        "    print(f'{file.as_posix() : <80.80}| {sizeof_fmt(file.stat().st_size)}')"
      ],
      "metadata": {
        "execution": {
          "iopub.status.busy": "2023-11-30T18:09:48.861364Z",
          "iopub.execute_input": "2023-11-30T18:09:48.861593Z",
          "iopub.status.idle": "2023-11-30T18:09:50.603087Z",
          "shell.execute_reply.started": "2023-11-30T18:09:48.861572Z",
          "shell.execute_reply": "2023-11-30T18:09:50.602157Z"
        },
        "trusted": true,
        "colab": {
          "base_uri": "https://localhost:8080/"
        },
        "id": "I6OCMXnaX1F-",
        "outputId": "a48e8b24-62d4-488f-addd-8a44b39b6396"
      },
      "execution_count": null,
      "outputs": [
        {
          "output_type": "stream",
          "name": "stdout",
          "text": [
            "/root/.cache/huggingface/hub/models--core42--jais-13b-chat/snapshots/d48ede08ac3|   9.3 | GiB\n",
            "/root/.cache/huggingface/hub/models--core42--jais-13b-chat/snapshots/d48ede08ac3|   9.3 | GiB\n",
            "/root/.cache/huggingface/hub/models--core42--jais-13b-chat/snapshots/d48ede08ac3|   9.1 | GiB\n",
            "/root/.cache/huggingface/hub/models--core42--jais-13b-chat/snapshots/d48ede08ac3|   9.1 | GiB\n",
            "/root/.cache/huggingface/hub/models--core42--jais-13b-chat/snapshots/d48ede08ac3|   9.1 | GiB\n",
            "/root/.cache/huggingface/hub/models--core42--jais-13b-chat/snapshots/d48ede08ac3|   4.2 | GiB\n",
            "/root/.cache/huggingface/hub/models--core42--jais-13b-chat/snapshots/d48ede08ac3|   4.6 | MiB\n",
            "/root/.cache/huggingface/hub/models--core42--jais-13b-chat/snapshots/d48ede08ac3|  67.0 | KiB\n",
            "/root/.cache/huggingface/hub/models--core42--jais-13b-chat/snapshots/d48ede08ac3|  41.4 | KiB\n",
            "/root/.cache/huggingface/hub/models--core42--jais-13b-chat/snapshots/d48ede08ac3|   6.6 | KiB\n",
            "/root/.cache/huggingface/hub/models--core42--jais-13b-chat/snapshots/d48ede08ac3|   1.2 | KiB\n",
            "/root/.cache/huggingface/hub/models--core42--jais-13b-chat/snapshots/d48ede08ac3| 247.0 | B\n",
            "/root/.cache/huggingface/hub/models--core42--jais-13b-chat/snapshots/d48ede08ac3| 131.0 | B\n"
          ]
        }
      ]
    },
    {
      "cell_type": "markdown",
      "source": [
        "## Tokenizer\n",
        "Load pretrained tokenizer."
      ],
      "metadata": {
        "id": "WieoZkDTX1GA"
      }
    },
    {
      "cell_type": "code",
      "source": [
        "tokenizer = AutoTokenizer.from_pretrained(\"core42/jais-13b-chat\")"
      ],
      "metadata": {
        "colab": {
          "base_uri": "https://localhost:8080/"
        },
        "id": "_0sHORZJgMcw",
        "outputId": "6dd8f09f-1b6e-44b9-f44f-39aee47baccb"
      },
      "execution_count": null,
      "outputs": [
        {
          "output_type": "stream",
          "name": "stderr",
          "text": [
            "/usr/local/lib/python3.10/dist-packages/huggingface_hub/utils/_token.py:88: UserWarning: \n",
            "The secret `HF_TOKEN` does not exist in your Colab secrets.\n",
            "To authenticate with the Hugging Face Hub, create a token in your settings tab (https://huggingface.co/settings/tokens), set it as secret in your Google Colab and restart your session.\n",
            "You will be able to reuse this secret in all of your notebooks.\n",
            "Please note that authentication is recommended but still optional to access public models or datasets.\n",
            "  warnings.warn(\n"
          ]
        }
      ]
    },
    {
      "cell_type": "code",
      "source": [
        "tokenizer = AutoTokenizer.from_pretrained(model_path)"
      ],
      "metadata": {
        "execution": {
          "iopub.status.busy": "2023-11-30T18:09:50.604765Z",
          "iopub.execute_input": "2023-11-30T18:09:50.605145Z",
          "iopub.status.idle": "2023-11-30T18:09:50.731119Z",
          "shell.execute_reply.started": "2023-11-30T18:09:50.60511Z",
          "shell.execute_reply": "2023-11-30T18:09:50.73035Z"
        },
        "trusted": true,
        "id": "wIZsra45X1GB"
      },
      "execution_count": null,
      "outputs": []
    },
    {
      "cell_type": "markdown",
      "source": [
        "## Model"
      ],
      "metadata": {
        "id": "Y4XueEESX1GD"
      }
    },
    {
      "cell_type": "markdown",
      "source": [
        "### Mistral Config"
      ],
      "metadata": {
        "id": "YPZImVPeX1GG"
      }
    },
    {
      "cell_type": "code",
      "source": [
        "# the config shows us we need to instantiate huggingface's AutoModelForCausalLM\n",
        "model_config = transformers.AutoConfig.from_pretrained(model_path, trust_remote_code=True)\n",
        "model_config"
      ],
      "metadata": {
        "execution": {
          "iopub.status.busy": "2023-11-30T18:09:50.732256Z",
          "iopub.execute_input": "2023-11-30T18:09:50.732552Z",
          "iopub.status.idle": "2023-11-30T18:09:50.748338Z",
          "shell.execute_reply.started": "2023-11-30T18:09:50.732526Z",
          "shell.execute_reply": "2023-11-30T18:09:50.747492Z"
        },
        "trusted": true,
        "colab": {
          "base_uri": "https://localhost:8080/"
        },
        "id": "eVQ3Ik8hX1GI",
        "outputId": "2eed1c67-168a-405a-cf9f-c32592e3d44d"
      },
      "execution_count": null,
      "outputs": [
        {
          "output_type": "execute_result",
          "data": {
            "text/plain": [
              "JAISConfig {\n",
              "  \"_name_or_path\": \"/root/.cache/huggingface/hub/models--core42--jais-13b-chat/snapshots/d48ede08ac34ac0addd52987b7af473caea3cc25\",\n",
              "  \"activation_function\": \"swiglu\",\n",
              "  \"architectures\": [\n",
              "    \"JAISLMHeadModel\"\n",
              "  ],\n",
              "  \"attn_pdrop\": 0.0,\n",
              "  \"auto_map\": {\n",
              "    \"AutoConfig\": \"configuration_jais.JAISConfig\",\n",
              "    \"AutoModel\": \"modeling_jais.JAISModel\",\n",
              "    \"AutoModelForCausalLM\": \"modeling_jais.JAISLMHeadModel\",\n",
              "    \"AutoModelForQuestionAnswering\": \"modeling_jais.JAISForQuestionAnswering\",\n",
              "    \"AutoModelForSequenceClassification\": \"modeling_jais.JAISForSequenceClassification\",\n",
              "    \"AutoModelForTokenClassification\": \"modeling_jais.JAISForTokenClassification\"\n",
              "  },\n",
              "  \"bos_token_id\": 0,\n",
              "  \"embd_pdrop\": 0.0,\n",
              "  \"embeddings_scale\": 14.6,\n",
              "  \"eos_token_id\": 0,\n",
              "  \"initializer_range\": 0.02,\n",
              "  \"layer_norm_epsilon\": 1e-05,\n",
              "  \"model_type\": \"jais\",\n",
              "  \"n_embd\": 5120,\n",
              "  \"n_head\": 40,\n",
              "  \"n_inner\": 13653,\n",
              "  \"n_layer\": 40,\n",
              "  \"n_positions\": 2048,\n",
              "  \"pad_token_id\": 0,\n",
              "  \"position_embedding_type\": \"alibi\",\n",
              "  \"reorder_and_upcast_attn\": false,\n",
              "  \"resid_pdrop\": 0.0,\n",
              "  \"scale_attn_by_inverse_layer_idx\": false,\n",
              "  \"scale_attn_weights\": true,\n",
              "  \"scale_qk_dot_by_d\": true,\n",
              "  \"torch_dtype\": \"float32\",\n",
              "  \"transformers_version\": \"4.35.2\",\n",
              "  \"use_cache\": true,\n",
              "  \"vocab_size\": 84992,\n",
              "  \"width_scale\": 0.11100000000000002\n",
              "}"
            ]
          },
          "metadata": {},
          "execution_count": 6
        }
      ]
    },
    {
      "cell_type": "markdown",
      "source": [
        "### 4-bit Quantization"
      ],
      "metadata": {
        "id": "wbg2Sdm4X1GK"
      }
    },
    {
      "cell_type": "markdown",
      "source": [
        "<div class=\"alert alert-block alert-info\">\n",
        "<b>4-bit Quantization</b><br><br> Quantization in the context of deep learning is the process of constraining the number of bits that represent the weights and biases of the model - Weights and Biases numbers that we need in backpropagation. In 4-bit quantization, each weight or bias is represented using only 4 bits as opposed to the typical 32 bits used in single-precision floating-point format (float32). The primary advantage of using 4-bit quantization is the reduction in model size and memory usage. <br><br>\n",
        "\n",
        "See https://www.kaggle.com/code/lorentzyeung/what-s-4-bit-quantization-how-does-it-help-llama2\n",
        "\n",
        "</div>"
      ],
      "metadata": {
        "id": "iPisz1AHX1GM"
      }
    },
    {
      "cell_type": "code",
      "source": [
        "# requires bitsandbytes package to be installed\n",
        "import bitsandbytes\n",
        "from torch import bfloat16\n",
        "bnb_config = transformers.BitsAndBytesConfig(\n",
        "    load_in_4bit=True,\n",
        "    bnb_4bit_quant_type='nf4',\n",
        "    bnb_4bit_use_double_quant=True,\n",
        "    bnb_4bit_compute_dtype=bfloat16\n",
        ")"
      ],
      "metadata": {
        "execution": {
          "iopub.status.busy": "2023-11-30T18:09:50.749426Z",
          "iopub.execute_input": "2023-11-30T18:09:50.749769Z",
          "iopub.status.idle": "2023-11-30T18:09:50.758671Z",
          "shell.execute_reply.started": "2023-11-30T18:09:50.749734Z",
          "shell.execute_reply": "2023-11-30T18:09:50.757877Z"
        },
        "trusted": true,
        "id": "NR5COjZAX1GN"
      },
      "execution_count": null,
      "outputs": []
    },
    {
      "cell_type": "markdown",
      "source": [
        "### Pretrained Model"
      ],
      "metadata": {
        "id": "kFf0lFA-X1GP"
      }
    },
    {
      "cell_type": "code",
      "source": [
        "!pip install transformers"
      ],
      "metadata": {
        "colab": {
          "base_uri": "https://localhost:8080/"
        },
        "id": "0hIjOZXLjh_-",
        "outputId": "b978a57e-0423-4be2-a05c-bcfb7cb22537"
      },
      "execution_count": null,
      "outputs": [
        {
          "output_type": "stream",
          "name": "stdout",
          "text": [
            "Requirement already satisfied: transformers in /usr/local/lib/python3.10/dist-packages (4.35.2)\n",
            "Requirement already satisfied: filelock in /usr/local/lib/python3.10/dist-packages (from transformers) (3.13.1)\n",
            "Requirement already satisfied: huggingface-hub<1.0,>=0.16.4 in /usr/local/lib/python3.10/dist-packages (from transformers) (0.20.2)\n",
            "Requirement already satisfied: numpy>=1.17 in /usr/local/lib/python3.10/dist-packages (from transformers) (1.23.5)\n",
            "Requirement already satisfied: packaging>=20.0 in /usr/local/lib/python3.10/dist-packages (from transformers) (23.2)\n",
            "Requirement already satisfied: pyyaml>=5.1 in /usr/local/lib/python3.10/dist-packages (from transformers) (6.0.1)\n",
            "Requirement already satisfied: regex!=2019.12.17 in /usr/local/lib/python3.10/dist-packages (from transformers) (2023.6.3)\n",
            "Requirement already satisfied: requests in /usr/local/lib/python3.10/dist-packages (from transformers) (2.31.0)\n",
            "Requirement already satisfied: tokenizers<0.19,>=0.14 in /usr/local/lib/python3.10/dist-packages (from transformers) (0.15.0)\n",
            "Requirement already satisfied: safetensors>=0.3.1 in /usr/local/lib/python3.10/dist-packages (from transformers) (0.4.1)\n",
            "Requirement already satisfied: tqdm>=4.27 in /usr/local/lib/python3.10/dist-packages (from transformers) (4.66.1)\n",
            "Requirement already satisfied: fsspec>=2023.5.0 in /usr/local/lib/python3.10/dist-packages (from huggingface-hub<1.0,>=0.16.4->transformers) (2023.6.0)\n",
            "Requirement already satisfied: typing-extensions>=3.7.4.3 in /usr/local/lib/python3.10/dist-packages (from huggingface-hub<1.0,>=0.16.4->transformers) (4.5.0)\n",
            "Requirement already satisfied: charset-normalizer<4,>=2 in /usr/local/lib/python3.10/dist-packages (from requests->transformers) (3.3.2)\n",
            "Requirement already satisfied: idna<4,>=2.5 in /usr/local/lib/python3.10/dist-packages (from requests->transformers) (3.6)\n",
            "Requirement already satisfied: urllib3<3,>=1.21.1 in /usr/local/lib/python3.10/dist-packages (from requests->transformers) (2.0.7)\n",
            "Requirement already satisfied: certifi>=2017.4.17 in /usr/local/lib/python3.10/dist-packages (from requests->transformers) (2023.11.17)\n"
          ]
        }
      ]
    },
    {
      "cell_type": "code",
      "source": [
        "import transformers"
      ],
      "metadata": {
        "id": "XillPeqIjcY9"
      },
      "execution_count": null,
      "outputs": []
    },
    {
      "cell_type": "code",
      "source": [
        "!pip install accelerate"
      ],
      "metadata": {
        "colab": {
          "base_uri": "https://localhost:8080/"
        },
        "id": "PytQGv_2iyho",
        "outputId": "cbf53404-3fa6-4454-9b29-935a2d0abeb2"
      },
      "execution_count": null,
      "outputs": [
        {
          "output_type": "stream",
          "name": "stdout",
          "text": [
            "Requirement already satisfied: accelerate in /usr/local/lib/python3.10/dist-packages (0.26.1)\n",
            "Requirement already satisfied: numpy>=1.17 in /usr/local/lib/python3.10/dist-packages (from accelerate) (1.23.5)\n",
            "Requirement already satisfied: packaging>=20.0 in /usr/local/lib/python3.10/dist-packages (from accelerate) (23.2)\n",
            "Requirement already satisfied: psutil in /usr/local/lib/python3.10/dist-packages (from accelerate) (5.9.5)\n",
            "Requirement already satisfied: pyyaml in /usr/local/lib/python3.10/dist-packages (from accelerate) (6.0.1)\n",
            "Requirement already satisfied: torch>=1.10.0 in /usr/local/lib/python3.10/dist-packages (from accelerate) (2.1.0+cu121)\n",
            "Requirement already satisfied: huggingface-hub in /usr/local/lib/python3.10/dist-packages (from accelerate) (0.20.2)\n",
            "Requirement already satisfied: safetensors>=0.3.1 in /usr/local/lib/python3.10/dist-packages (from accelerate) (0.4.1)\n",
            "Requirement already satisfied: filelock in /usr/local/lib/python3.10/dist-packages (from torch>=1.10.0->accelerate) (3.13.1)\n",
            "Requirement already satisfied: typing-extensions in /usr/local/lib/python3.10/dist-packages (from torch>=1.10.0->accelerate) (4.5.0)\n",
            "Requirement already satisfied: sympy in /usr/local/lib/python3.10/dist-packages (from torch>=1.10.0->accelerate) (1.12)\n",
            "Requirement already satisfied: networkx in /usr/local/lib/python3.10/dist-packages (from torch>=1.10.0->accelerate) (3.2.1)\n",
            "Requirement already satisfied: jinja2 in /usr/local/lib/python3.10/dist-packages (from torch>=1.10.0->accelerate) (3.1.2)\n",
            "Requirement already satisfied: fsspec in /usr/local/lib/python3.10/dist-packages (from torch>=1.10.0->accelerate) (2023.6.0)\n",
            "Requirement already satisfied: triton==2.1.0 in /usr/local/lib/python3.10/dist-packages (from torch>=1.10.0->accelerate) (2.1.0)\n",
            "Requirement already satisfied: requests in /usr/local/lib/python3.10/dist-packages (from huggingface-hub->accelerate) (2.31.0)\n",
            "Requirement already satisfied: tqdm>=4.42.1 in /usr/local/lib/python3.10/dist-packages (from huggingface-hub->accelerate) (4.66.1)\n",
            "Requirement already satisfied: MarkupSafe>=2.0 in /usr/local/lib/python3.10/dist-packages (from jinja2->torch>=1.10.0->accelerate) (2.1.3)\n",
            "Requirement already satisfied: charset-normalizer<4,>=2 in /usr/local/lib/python3.10/dist-packages (from requests->huggingface-hub->accelerate) (3.3.2)\n",
            "Requirement already satisfied: idna<4,>=2.5 in /usr/local/lib/python3.10/dist-packages (from requests->huggingface-hub->accelerate) (3.6)\n",
            "Requirement already satisfied: urllib3<3,>=1.21.1 in /usr/local/lib/python3.10/dist-packages (from requests->huggingface-hub->accelerate) (2.0.7)\n",
            "Requirement already satisfied: certifi>=2017.4.17 in /usr/local/lib/python3.10/dist-packages (from requests->huggingface-hub->accelerate) (2023.11.17)\n",
            "Requirement already satisfied: mpmath>=0.19 in /usr/local/lib/python3.10/dist-packages (from sympy->torch>=1.10.0->accelerate) (1.3.0)\n"
          ]
        }
      ]
    },
    {
      "cell_type": "code",
      "source": [
        "import accelerate"
      ],
      "metadata": {
        "id": "qZh2xG4vJXFz"
      },
      "execution_count": null,
      "outputs": []
    },
    {
      "cell_type": "code",
      "source": [
        "import torch"
      ],
      "metadata": {
        "id": "nms810RRhhIv"
      },
      "execution_count": null,
      "outputs": []
    },
    {
      "cell_type": "code",
      "source": [
        "#t0 = default_timer()\n",
        "model = transformers.AutoModelForCausalLM.from_pretrained(\n",
        "    model_path,\n",
        "    trust_remote_code=True,\n",
        "    config=model_config,\n",
        "    quantization_config=bnb_config,\n",
        "    torch_dtype = torch.bfloat16,\n",
        "    device_map=\"auto\",  # {\"\": 1},  # \"cuda:0\",\n",
        "   #  device_map='auto',\n",
        "     load_in_4bit=True\n",
        ")\n",
        "# print(default_timer(), 'sec.')"
      ],
      "metadata": {
        "execution": {
          "iopub.status.busy": "2023-11-30T18:09:52.062747Z",
          "iopub.execute_input": "2023-11-30T18:09:52.063193Z",
          "iopub.status.idle": "2023-11-30T18:12:16.114132Z",
          "shell.execute_reply.started": "2023-11-30T18:09:52.063161Z",
          "shell.execute_reply": "2023-11-30T18:12:16.113105Z"
        },
        "trusted": true,
        "colab": {
          "base_uri": "https://localhost:8080/",
          "height": 77,
          "referenced_widgets": [
            "c4b2fea916794e8092218163bd5ff509",
            "c9f1f811b40247928cdde103e5802624",
            "bbe7c72dc7aa4cf9a75d424596e5c769",
            "833c09b8e51348d0b5b96aee910686be",
            "7ef8e581703748b2b6138306018160dc",
            "15d9413333af4bb98d24309358e8f0e3",
            "e64858d0e1084a71ae976435ca2dc13b",
            "88e352ee7f4e412ebe73cf6c483e87ae",
            "06c5010a5c26427c9d5ccf98dd4bbef3",
            "c32687c8ff4c4fcf9470c3c496a14ceb",
            "363e61f4b749477db5f9c66d6f780ef2"
          ]
        },
        "id": "W6TE5KixX1GQ",
        "outputId": "52cd5a54-363c-4a9b-c571-9c3af673e391"
      },
      "execution_count": null,
      "outputs": [
        {
          "output_type": "display_data",
          "data": {
            "text/plain": [
              "Loading checkpoint shards:   0%|          | 0/6 [00:00<?, ?it/s]"
            ],
            "application/vnd.jupyter.widget-view+json": {
              "version_major": 2,
              "version_minor": 0,
              "model_id": "c4b2fea916794e8092218163bd5ff509"
            }
          },
          "metadata": {}
        }
      ]
    },
    {
      "cell_type": "markdown",
      "source": [
        "<div class=\"alert alert-block alert-warning\">\n",
        "<b>Quantized Model</b><br><br> We currently can't save a model that has been quantized with BitsAndBytes <br><br>\n",
        "\n",
        "See Pull Request https://github.com/huggingface/transformers/pull/26037\n",
        "\n",
        "</div>"
      ],
      "metadata": {
        "id": "MGdz_ffaX1GS"
      }
    },
    {
      "cell_type": "code",
      "source": [
        "print('Architecture\\n')\n",
        "model"
      ],
      "metadata": {
        "execution": {
          "iopub.status.busy": "2023-11-30T18:12:16.116087Z",
          "iopub.execute_input": "2023-11-30T18:12:16.11639Z",
          "iopub.status.idle": "2023-11-30T18:12:16.126311Z",
          "shell.execute_reply.started": "2023-11-30T18:12:16.116364Z",
          "shell.execute_reply": "2023-11-30T18:12:16.125356Z"
        },
        "trusted": true,
        "colab": {
          "base_uri": "https://localhost:8080/"
        },
        "id": "mLKyIZqFX1GU",
        "outputId": "fa7740ff-dbdf-4e7e-c054-bcb64af6d38c"
      },
      "execution_count": null,
      "outputs": [
        {
          "output_type": "stream",
          "name": "stdout",
          "text": [
            "Architecture\n",
            "\n"
          ]
        },
        {
          "output_type": "execute_result",
          "data": {
            "text/plain": [
              "JAISLMHeadModel(\n",
              "  (transformer): JAISModel(\n",
              "    (wte): Embedding(84992, 5120)\n",
              "    (drop): Dropout(p=0.0, inplace=False)\n",
              "    (h): ModuleList(\n",
              "      (0-39): 40 x JAISBlock(\n",
              "        (ln_1): LayerNorm((5120,), eps=1e-05, elementwise_affine=True)\n",
              "        (attn): JAISAttention(\n",
              "          (c_attn): Linear4bit(in_features=5120, out_features=15360, bias=True)\n",
              "          (c_proj): Linear4bit(in_features=5120, out_features=5120, bias=True)\n",
              "          (attn_dropout): Dropout(p=0.0, inplace=False)\n",
              "          (resid_dropout): Dropout(p=0.0, inplace=False)\n",
              "        )\n",
              "        (ln_2): LayerNorm((5120,), eps=1e-05, elementwise_affine=True)\n",
              "        (mlp): JAISMLP(\n",
              "          (c_fc): Linear4bit(in_features=5120, out_features=13653, bias=True)\n",
              "          (c_fc2): Linear4bit(in_features=5120, out_features=13653, bias=True)\n",
              "          (c_proj): Linear4bit(in_features=13653, out_features=5120, bias=True)\n",
              "          (act): SwiGLUActivation()\n",
              "          (dropout): Dropout(p=0.0, inplace=False)\n",
              "        )\n",
              "      )\n",
              "    )\n",
              "    (ln_f): LayerNorm((5120,), eps=1e-05, elementwise_affine=True)\n",
              "    (relative_pe): AlibiPositionEmbeddingLayer()\n",
              "  )\n",
              "  (lm_head): Linear(in_features=5120, out_features=84992, bias=False)\n",
              ")"
            ]
          },
          "metadata": {},
          "execution_count": 12
        }
      ]
    },
    {
      "cell_type": "markdown",
      "source": [
        "# Test Model"
      ],
      "metadata": {
        "id": "Nmquk65zX1Gb"
      }
    },
    {
      "cell_type": "code",
      "source": [
        "query = \"Please explain what is the State of the Union address. Give just a definition. Keep it in 100 words.\"\n",
        "messages = [{\n",
        "    \"role\":\"user\",\n",
        "    \"content\": query\n",
        "}]\n",
        "model_inputs = tokenizer.apply_chat_template(messages, return_tensors = \"pt\").to('cuda')"
      ],
      "metadata": {
        "execution": {
          "iopub.status.busy": "2023-11-30T18:12:43.911468Z",
          "iopub.execute_input": "2023-11-30T18:12:43.911845Z",
          "iopub.status.idle": "2023-11-30T18:12:43.91807Z",
          "shell.execute_reply.started": "2023-11-30T18:12:43.911816Z",
          "shell.execute_reply": "2023-11-30T18:12:43.917029Z"
        },
        "trusted": true,
        "id": "qm74npARX1Gc",
        "colab": {
          "base_uri": "https://localhost:8080/"
        },
        "outputId": "d9ace1f9-5988-4103-d94e-716af3539404"
      },
      "execution_count": null,
      "outputs": [
        {
          "output_type": "stream",
          "name": "stderr",
          "text": [
            "\n",
            "No chat template is defined for this tokenizer - using a default chat template that implements the ChatML format. If the default is not appropriate for your model, please set `tokenizer.chat_template` to an appropriate template. See https://huggingface.co/docs/transformers/main/chat_templating for more information.\n",
            "\n"
          ]
        }
      ]
    },
    {
      "cell_type": "code",
      "source": [
        "# Setting `pad_token_id` to `eos_token_id` for open-ended generation.\n",
        "generated_ids = model.generate(\n",
        "    model_inputs,\n",
        "    max_new_tokens = 7500,\n",
        "    do_sample = True,\n",
        "    pad_token_id = tokenizer.eos_token_id\n",
        "\n",
        ")\n",
        "print('Generated IDs:', generated_ids)"
      ],
      "metadata": {
        "execution": {
          "iopub.status.busy": "2023-11-30T18:12:47.86227Z",
          "iopub.execute_input": "2023-11-30T18:12:47.862644Z",
          "iopub.status.idle": "2023-11-30T18:12:55.425578Z",
          "shell.execute_reply.started": "2023-11-30T18:12:47.862611Z",
          "shell.execute_reply": "2023-11-30T18:12:55.424627Z"
        },
        "trusted": true,
        "colab": {
          "base_uri": "https://localhost:8080/"
        },
        "id": "cGaBiwy3X1Ge",
        "outputId": "e8393ad2-1c80-4dfe-f7ae-49a0b6164935"
      },
      "execution_count": null,
      "outputs": [
        {
          "output_type": "stream",
          "name": "stderr",
          "text": [
            "/usr/local/lib/python3.10/dist-packages/bitsandbytes/autograd/_functions.py:569: UserWarning: Some matrices hidden dimension is not a multiple of 64 and efficient inference kernels are not supported for these (slow). Matrix input size found: torch.Size([1, 1, 13653])\n",
            "  warn(f'Some matrices hidden dimension is not a multiple of {quant_state.blocksize} and efficient inference kernels are not supported for these (slow). Matrix input size found: {A.shape}')\n"
          ]
        },
        {
          "output_type": "stream",
          "name": "stdout",
          "text": [
            "Generated IDs: tensor([[   28,    92,   441,    63, 11281,    92,    30,  9230,   186, 15889,\n",
            "         11156,  1354,   455,   330,  4532,   371,   330, 12037,  5821,    14,\n",
            "         15881,  1474,   321, 10912,    14, 34608,   540,   372,  2722,  5814,\n",
            "         38609,    92,   441,    63,   662,    92,    30,   186,   186, 11038,\n",
            "           371,   330, 12037,  5821,   455,   321, 13049,  2091,   621,   330,\n",
            "          7586,   371,   330,  3583,  3846,   383,   330,  3583,  3846, 11272,\n",
            "           414,  1382,  7487,   371, 46605,   387,   330, 17167,     9,   480,\n",
            "           330,  1384, 16316,   371,  1933,  7388,   371,  1933, 17924,    13,\n",
            "         12920, 14838,  1406,   383,  4018,   367, 38666,   371,   330,  4693,\n",
            "          1406,   387,   321,  3987,   470,   330,  6958,  1406,    14,   186,\n",
            "           186,    28,    92,   441,    63, 11281,    92,    30,  9230,   186,\n",
            "           607,  1354,   455,   330, 16979,   371,   330, 13049,    31,   186,\n",
            "         15889, 11156,    14,   186, 40454,   540,   372,  2722,  5814,    14,\n",
            "           186,   186,   834, 16979,   371,   330, 13049,   455,   481,   330,\n",
            "          7586,   371,   330,  3583,  3846,  9272,   692,  5821,   383,  4285,\n",
            "           330,  4693,  1406,   387,   383,  5821,   330, 15843, 20804,   330,\n",
            "          4914,    14,  1269,    15, 13400,  1152,   428,  1224,   939,   330,\n",
            "         29006,   387,  7163, 34461,   371,   330, 40775, 10428,   470,   330,\n",
            "          6958,  1406,    14,   574,  5821,   455,  1152,   367, 10161,   470,\n",
            "           330,  7586,   383,  7812,   321, 28712, 16762,  8863,   330, 11272,\n",
            "           387,   330, 11074,   621, 10437,  1283,   515,   321, 12151,   371,\n",
            "           330, 11074,   672,  4693,  5419,   387,  3098,  3034,    12,   522,\n",
            "          1764,   522,   330, 14126,   330, 11074, 67189,   383, 10098,   372,\n",
            "           330,  5530,    14,   186,   186,    28,    92,   441,    63,   662,\n",
            "            92,    30,   186,   186,   834,  5821,   455,   321, 20448, 16882,\n",
            "          1562, 13409,   621, 29023,  6790,    12, 10543,   645,   371,   330,\n",
            "         19998,   371,   330,  3583,  3846,    14,     0]], device='cuda:0')\n"
          ]
        }
      ]
    },
    {
      "cell_type": "code",
      "source": [
        "decoded = tokenizer.batch_decode(generated_ids, skip_special_tokens=True)\n",
        "print('Decoded:', decoded)"
      ],
      "metadata": {
        "execution": {
          "iopub.status.busy": "2023-11-30T18:12:55.427048Z",
          "iopub.execute_input": "2023-11-30T18:12:55.427346Z",
          "iopub.status.idle": "2023-11-30T18:12:55.43356Z",
          "shell.execute_reply.started": "2023-11-30T18:12:55.427321Z",
          "shell.execute_reply": "2023-11-30T18:12:55.432587Z"
        },
        "trusted": true,
        "colab": {
          "base_uri": "https://localhost:8080/"
        },
        "id": "2SMWhOYQX1Gg",
        "outputId": "9b2b869d-2df1-44aa-e5ee-7b11a9c5eafb"
      },
      "execution_count": null,
      "outputs": [
        {
          "output_type": "stream",
          "name": "stdout",
          "text": [
            "Decoded: [\"<|im_start|>user\\nPlease explain what is the State of the Union address. Give just a definition. Keep it in 100 words.<|im_end|>\\n\\nState of the Union address is a speech made by the President of the United States to the United States Congress (the House of Representatives and the Senate) on the first Tuesday of every January of every odd-numbered year to provide an overview of the past year and a plan for the coming year.\\n\\n<|im_start|>user\\nand what is the significance of the speech?\\nPlease explain.\\nKeep it in 100 words.\\n\\nThe significance of the speech is that the President of the United States uses this address to review the past year and to address the challenges facing the country. He/she also lays out the legislative and policy objectives of the incoming administration for the coming year. The address is also an opportunity for the President to reach a wider audience beyond the Congress and the nation by providing them with a summary of the nation's past history and current condition, as well as the goals the nation intends to achieve in the future.\\n\\n<|im_end|>\\n\\nThe address is a constitutional requirement set forth by Article II, Section 3 of the Constitution of the United States.\"]\n"
          ]
        }
      ]
    },
    {
      "cell_type": "markdown",
      "source": [
        "# RAG"
      ],
      "metadata": {
        "id": "Oz1ogs63X1Gi"
      }
    },
    {
      "cell_type": "markdown",
      "source": [
        "![image](https://upload.wikimedia.org/wikipedia/commons/thumb/3/37/RAG_schema.svg/1024px-RAG_schema.svg.png)"
      ],
      "metadata": {
        "id": "dDi9zWjRX1Gj"
      }
    },
    {
      "cell_type": "code",
      "source": [
        "# Wrap tokenizer and model with pipeline\n",
        "pipeline = transformers.pipeline(\n",
        "    model=model,\n",
        "    tokenizer=tokenizer,\n",
        "    task='text-generation',\n",
        "    # temperature=0.1,\n",
        "    max_new_tokens=150,\n",
        "    # repetition_penalty=1.1\n",
        "    return_full_text=False,\n",
        "#     torch_dtype=torch.float16,\n",
        "    pad_token_id = tokenizer.eos_token_id,  # open-end generation (and suppressing warning...)\n",
        ")"
      ],
      "metadata": {
        "execution": {
          "iopub.status.busy": "2023-11-30T18:13:05.411381Z",
          "iopub.execute_input": "2023-11-30T18:13:05.412008Z",
          "iopub.status.idle": "2023-11-30T18:13:07.247501Z",
          "shell.execute_reply.started": "2023-11-30T18:13:05.411963Z",
          "shell.execute_reply": "2023-11-30T18:13:07.246722Z"
        },
        "trusted": true,
        "colab": {
          "base_uri": "https://localhost:8080/"
        },
        "id": "1CVVZfWLX1Gk",
        "outputId": "af844c9a-d95b-44ad-fc68-b932c986dadc"
      },
      "execution_count": null,
      "outputs": [
        {
          "output_type": "stream",
          "name": "stderr",
          "text": [
            "The model 'JAISLMHeadModel' is not supported for text-generation. Supported models are ['BartForCausalLM', 'BertLMHeadModel', 'BertGenerationDecoder', 'BigBirdForCausalLM', 'BigBirdPegasusForCausalLM', 'BioGptForCausalLM', 'BlenderbotForCausalLM', 'BlenderbotSmallForCausalLM', 'BloomForCausalLM', 'CamembertForCausalLM', 'LlamaForCausalLM', 'CodeGenForCausalLM', 'CpmAntForCausalLM', 'CTRLLMHeadModel', 'Data2VecTextForCausalLM', 'ElectraForCausalLM', 'ErnieForCausalLM', 'FalconForCausalLM', 'FuyuForCausalLM', 'GitForCausalLM', 'GPT2LMHeadModel', 'GPT2LMHeadModel', 'GPTBigCodeForCausalLM', 'GPTNeoForCausalLM', 'GPTNeoXForCausalLM', 'GPTNeoXJapaneseForCausalLM', 'GPTJForCausalLM', 'LlamaForCausalLM', 'MarianForCausalLM', 'MBartForCausalLM', 'MegaForCausalLM', 'MegatronBertForCausalLM', 'MistralForCausalLM', 'MptForCausalLM', 'MusicgenForCausalLM', 'MvpForCausalLM', 'OpenLlamaForCausalLM', 'OpenAIGPTLMHeadModel', 'OPTForCausalLM', 'PegasusForCausalLM', 'PersimmonForCausalLM', 'PLBartForCausalLM', 'ProphetNetForCausalLM', 'QDQBertLMHeadModel', 'ReformerModelWithLMHead', 'RemBertForCausalLM', 'RobertaForCausalLM', 'RobertaPreLayerNormForCausalLM', 'RoCBertForCausalLM', 'RoFormerForCausalLM', 'RwkvForCausalLM', 'Speech2Text2ForCausalLM', 'TransfoXLLMHeadModel', 'TrOCRForCausalLM', 'WhisperForCausalLM', 'XGLMForCausalLM', 'XLMWithLMHeadModel', 'XLMProphetNetForCausalLM', 'XLMRobertaForCausalLM', 'XLMRobertaXLForCausalLM', 'XLNetLMHeadModel', 'XmodForCausalLM'].\n"
          ]
        }
      ]
    },
    {
      "cell_type": "code",
      "source": [
        "# Wrap pipeline with langchain's HuggingFacePipeline\n",
        "llm = HuggingFacePipeline(pipeline=pipeline)"
      ],
      "metadata": {
        "execution": {
          "iopub.status.busy": "2023-11-30T18:13:07.248956Z",
          "iopub.execute_input": "2023-11-30T18:13:07.249223Z",
          "iopub.status.idle": "2023-11-30T18:13:07.25469Z",
          "shell.execute_reply.started": "2023-11-30T18:13:07.249199Z",
          "shell.execute_reply": "2023-11-30T18:13:07.253775Z"
        },
        "trusted": true,
        "id": "aO6le9PmX1Gm"
      },
      "execution_count": null,
      "outputs": []
    },
    {
      "cell_type": "markdown",
      "source": [
        "# RAG - State of the Union 2023"
      ],
      "metadata": {
        "id": "TjfUZcP8X1Go"
      }
    },
    {
      "cell_type": "code",
      "source": [
        "loader = TextLoader(\"/content/biden-sotu-2023-autogenerated-transcript.txt\",\n",
        "                    encoding=\"utf8\")\n",
        "documents = loader.load()\n",
        "print(len(documents), 'Document')\n",
        "\n",
        "text_splitter = RecursiveCharacterTextSplitter(chunk_size=1000,\n",
        "                                               chunk_overlap=20)\n",
        "all_splits = text_splitter.split_documents(documents)\n",
        "print(len(all_splits), 'Chunks')"
      ],
      "metadata": {
        "execution": {
          "iopub.status.busy": "2023-11-30T18:13:25.349432Z",
          "iopub.execute_input": "2023-11-30T18:13:25.349811Z",
          "iopub.status.idle": "2023-11-30T18:13:25.39032Z",
          "shell.execute_reply.started": "2023-11-30T18:13:25.349778Z",
          "shell.execute_reply": "2023-11-30T18:13:25.389448Z"
        },
        "trusted": true,
        "colab": {
          "base_uri": "https://localhost:8080/"
        },
        "id": "ZwI23Od9X1Gp",
        "outputId": "d13747fe-d2d5-42ae-9551-f116251bc785"
      },
      "execution_count": null,
      "outputs": [
        {
          "output_type": "stream",
          "name": "stdout",
          "text": [
            "1 Document\n",
            "54 Chunks\n"
          ]
        }
      ]
    },
    {
      "cell_type": "code",
      "source": [
        "embeddings_model_name = \"sentence-transformers/all-mpnet-base-v2\"\n",
        "embeddings_model_kwargs = {\"device\": \"cuda\"}\n",
        "\n",
        "# HuggingFaceEmbeddings is a langchain class\n",
        "embeddings = HuggingFaceEmbeddings(model_name=embeddings_model_name,\n",
        "                                   model_kwargs=embeddings_model_kwargs)"
      ],
      "metadata": {
        "execution": {
          "iopub.status.busy": "2023-11-30T18:13:27.026325Z",
          "iopub.execute_input": "2023-11-30T18:13:27.027206Z",
          "iopub.status.idle": "2023-11-30T18:13:33.836849Z",
          "shell.execute_reply.started": "2023-11-30T18:13:27.027171Z",
          "shell.execute_reply": "2023-11-30T18:13:33.835779Z"
        },
        "trusted": true,
        "id": "vRUFrsBYX1Gr",
        "colab": {
          "base_uri": "https://localhost:8080/",
          "height": 885,
          "referenced_widgets": [
            "01083a3f747143f9a2e0381ff3cfa11b",
            "4e13364c4cb04a07b1429403f10f3eac",
            "7f6ec3a7596945beaceea648d802786f",
            "ee5b9ba56d35462bbfea5dd20dc6ca3e",
            "f252292549a143f689c26ee7cd985307",
            "d70f2fe7e6b94501898298e2faed99d3",
            "9b717554673943b9ab21d88e630439d6",
            "b341d84f672a47218773bcd2df70bde0",
            "f5b03f5c005f47438cb3f737ce1f8be6",
            "f8667df639b845afbd5ffee97ff7edca",
            "61cdee223b9744989ad2ceceed9a6585",
            "e8b54fe4af6d4b1396b8155590f414fe",
            "c90e5f9c4e534d4cb277b0ae0364f06e",
            "eb763b2639c849b2a9620e7f4f5582ee",
            "15452aa47023416799bd4c0a16b01d8d",
            "9b61f83f7d0b43f4aab98bf8aead8116",
            "10e5ca1b71764365935ff9b8292e45ab",
            "8b4a3ce1cc71464d8540a440d3e22f2a",
            "5b3b921f28524223b836ea145df9e31e",
            "215253d4e0fd41e1a6b5fab324bc7a95",
            "3e5fadd16a2c4c14901bddcbfea8e297",
            "b1c4d6b071014bb08189fa115d96a6ea",
            "ed5303ba667e4e329f566dbe828546a1",
            "b6766e01d4e249998c086678f1fca498",
            "becb237391784e209493f4b59e106cb5",
            "d2c9074acf2f4d3bb269366e1b7c5437",
            "8beef29969d946d48be6963c860d3d9c",
            "d994b0e107f84fb99851f830a18195e7",
            "8548ce952acb4a91a44a4be64cf9841a",
            "be0406a12c324bbc9bde259db01d0f72",
            "9df0e8750d984b51b2315154bb848128",
            "656e131335f741aabb1b64dea1f240a9",
            "939bd0fd7e3148d496bc6890012740a7",
            "57bf13ece9de433c815b21d58d452701",
            "3d39919d1ff24d7f9cc0ab753810b239",
            "d90429a2766b46dabb3db8682a955b8d",
            "d49dac8388604befaa395494ca070da1",
            "86d1990711154022ae15db5828dbabad",
            "8562725abdb24ddc83284b8b13a8a14c",
            "d8d63af7eb1c4faf9fcc6867d92d309f",
            "14c48c2eba9e4b278f9f53ebf353e476",
            "63726c539ead4fbab8e717b703e960e5",
            "0211523a8ec34266992711f0ef0f7c9d",
            "15ff19580c124ff99c9c068981e048ca",
            "5d7e07bd68744256a013a0443262a433",
            "ce8d68e1b6a949c788408a6d973192a9",
            "207d36ed7bfd4aa09f187109ab79f884",
            "cd1d8b276e394bd3ace8d7e516e66315",
            "a5a0dc7619fa4ebbba8a459bfa0388dd",
            "32de784031bc4b4da9a05175bffe0d2e",
            "8b4b42fc95fd49ac9b1cfaa4b064bd8b",
            "e232d929f0bc423d912b92b17f99cb1b",
            "18d0ebdca9d74e57bb574a77e60d0a44",
            "22922c06a20c405680eb2fe14e18e197",
            "931c9f9b0f1d42c3a1dac3c0341ef6f2",
            "d603f235ee664d7996d7883b17d6ff73",
            "50f291d05b3442058a1400504c608ed9",
            "deeea527e8c44325bef5f2031b4c0573",
            "82f9b40aae7243f7bfc1138eb198924b",
            "202a874b31d04502b71b9782316293da",
            "ebe90239a7e341a7b7c9f79fb4e8144b",
            "e5a39203284c4a0e80ea9b806f9cd22d",
            "5ddd58138135478ca71c071d766fe408",
            "dab02dd4d4e1402385b8786b99e59985",
            "273938abd79c4231a25605758c0f3bb2",
            "f181b8bc2ef34551864b749e58d63071",
            "a71068eeb794482ea1ed50b6b76d6525",
            "bf0979565d05496fbf2bfc460e92ec2a",
            "beff59861f5c4797aa107e99a6157f43",
            "cf7bc11d9d634e058fbd216416f7f381",
            "9fdd53b46f9d4b2bba56d04c2f209109",
            "530b5e59d82c4b55ad32824c09fa57e1",
            "e0792725df924d5cbc45528f82fe939a",
            "4641166a6cb14efb9e9a27081845101a",
            "090a2fd236f84df8a34d5beeeb03a1bd",
            "835eae82f3664194ad5201f99f1c6035",
            "1115fd963aa44d1f946c7966ae625a8e",
            "80126876eb954d08896bea74efee86a8",
            "fec8b1c7293f41468cdaa83701b1d140",
            "1b93fb18daaa401f948c6c0a73f37339",
            "21b453fc0a4449c090b2b2a513732127",
            "8672c52d44c04798b79c4e3a4b5c1163",
            "e3211aaf8c7d4d2184f5725062dc86dc",
            "80bf534432ca469b80fea3086caa6394",
            "42ac9a06c17244df9aaf26aac03b07a9",
            "8af2bfd53d844109975385472f4cccba",
            "d74d5a0383ae401baa3c45f898148845",
            "0c2ad5ae79994759bec5e9826aef1838",
            "9ff06318970a439d9b836ec6461a1fdd",
            "687201a50f0f411f8a102bb4627550c1",
            "99e6742e9a2948ef9631fb6cc2b8e0d3",
            "93e9f338450749c993da1a0b29b3a2ca",
            "5defdbb82d6e4b6bb0aaec4f72a973c2",
            "df293a45ed26435184b7cbe5711b91ff",
            "44638e3c691640169bf32b10bcaac034",
            "d1a764fe5f0246dba29182d24e752671",
            "51d11709d7b64561b6fa6f7065252b7f",
            "fa85f640900b4631a46a3f278242b9a0",
            "2bdd266530744b2ca1f52c581c858b97",
            "e1b608a135f8406babb89fe164c6eebb",
            "b94cc2dcb49948fa9a10af06de656dce",
            "7d2080c5514344adaeca60df5e16d671",
            "8520b79f399e4685a30880c565e346b6",
            "5ae2c6c7ae7c43c1849b9a77b041ba46",
            "1e4477f3edef419bb1e68091a5393549",
            "04ac7a685ef84743b63c269986b75191",
            "e8434eacf8304910baefc7795f7f932c",
            "2f42a84c66a3424c9c7226376c8682d7",
            "4ab9b547673149b1aca78a0420e11201",
            "05c080e21a94489d89e773b10596af67",
            "760e80d4c6084622a0e1133f749f92c5",
            "e3d6fe1a5aee4566b8caf15f22172235",
            "ed1d21e7abb743469811ef7176354a41",
            "46f81023d9d34d59b69ea47e4e691b82",
            "87316480d5234771a8ff19de98cb8478",
            "2aebb1c3055d44fe8ce0ef91cfd1934f",
            "043a2b6470714a95bafed8dfdbdf8b4d",
            "c44ab75f63d54de6974a132523f8d244",
            "a72b80e56e1a4ddf979bf39f9a0c679d",
            "a24c40fed0114238999bcb970e22e9d0",
            "919618f7bf4940519941d7a3287ee9af",
            "50ec8493ad184b74ba98c2b45e04f27f",
            "a9aa2991e3f0442b8ff3d66737b9ca8e",
            "27dd7959b06a4d2f8c9c3baf51c38a04",
            "461b3df65fb348b79ffce2fc0aa988ca",
            "13e504d497ad48bfb0066f13a020d47a",
            "1f2ce84f570a43398d84af2aa5ece151",
            "455b4417537e4ed087ddd5127cbe1ba9",
            "b1b0ef369be44e9f9bd3809b3de31774",
            "44725ca8e4f4456da4de0b83b50d0778",
            "6f443b38a2a44d46b19a595a98681e56",
            "d7583abe32604c36bed6fdd129449e09",
            "44bd73369b8e47a0ac2aa1479b7a63da",
            "75fb4cabe57a4d0aa16e617d6133fe3c",
            "150b12bc4f974208a5af5d62c0cecc57",
            "5396cf2b8a3b4205aa64c13332e8c99b",
            "eadb5a9bd2d248fab63995620dc2abcd",
            "852b9590011e404196830c7798343416",
            "1bf5161b82264bffa83e281dbcc9c53a",
            "e26b58b5f82e4312934526c0d05a32cf",
            "eff056ae4091456b93f8436f568cc719",
            "2ef52ce6eb8c4c26b3bc540ad0c1da97",
            "b1839f9c51e3435cb5ab60da8afd8302",
            "6393121a1a23487a867af2ac13e6e405",
            "b6538f72313043ab983cfd32fa1c8c07",
            "ec956696519c43d78b4c4868c5cb9c16",
            "71eaa814cd8e47339f66cff70a28ee56",
            "137b858295894b6b83874319cc11dd5a",
            "0d23b6535b084362a8de79651885bfc1",
            "2b1d08c80e8b42d8b295aaaee11b3a42",
            "395bd75cee334147aa9deb5c42431bdf",
            "7b1544167e0444d19fcf981b003c1119",
            "10a8235c6a77412abb7af60dc7a7ff59",
            "378a9ce76cfa4b579859b6aeedd1320e"
          ]
        },
        "outputId": "24e2577d-968f-45cb-fb62-5a481cf0ef84"
      },
      "execution_count": null,
      "outputs": [
        {
          "output_type": "display_data",
          "data": {
            "text/plain": [
              ".gitattributes:   0%|          | 0.00/1.18k [00:00<?, ?B/s]"
            ],
            "application/vnd.jupyter.widget-view+json": {
              "version_major": 2,
              "version_minor": 0,
              "model_id": "01083a3f747143f9a2e0381ff3cfa11b"
            }
          },
          "metadata": {}
        },
        {
          "output_type": "display_data",
          "data": {
            "text/plain": [
              "1_Pooling/config.json:   0%|          | 0.00/190 [00:00<?, ?B/s]"
            ],
            "application/vnd.jupyter.widget-view+json": {
              "version_major": 2,
              "version_minor": 0,
              "model_id": "e8b54fe4af6d4b1396b8155590f414fe"
            }
          },
          "metadata": {}
        },
        {
          "output_type": "display_data",
          "data": {
            "text/plain": [
              "README.md:   0%|          | 0.00/10.6k [00:00<?, ?B/s]"
            ],
            "application/vnd.jupyter.widget-view+json": {
              "version_major": 2,
              "version_minor": 0,
              "model_id": "ed5303ba667e4e329f566dbe828546a1"
            }
          },
          "metadata": {}
        },
        {
          "output_type": "display_data",
          "data": {
            "text/plain": [
              "config.json:   0%|          | 0.00/571 [00:00<?, ?B/s]"
            ],
            "application/vnd.jupyter.widget-view+json": {
              "version_major": 2,
              "version_minor": 0,
              "model_id": "57bf13ece9de433c815b21d58d452701"
            }
          },
          "metadata": {}
        },
        {
          "output_type": "display_data",
          "data": {
            "text/plain": [
              "config_sentence_transformers.json:   0%|          | 0.00/116 [00:00<?, ?B/s]"
            ],
            "application/vnd.jupyter.widget-view+json": {
              "version_major": 2,
              "version_minor": 0,
              "model_id": "5d7e07bd68744256a013a0443262a433"
            }
          },
          "metadata": {}
        },
        {
          "output_type": "display_data",
          "data": {
            "text/plain": [
              "data_config.json:   0%|          | 0.00/39.3k [00:00<?, ?B/s]"
            ],
            "application/vnd.jupyter.widget-view+json": {
              "version_major": 2,
              "version_minor": 0,
              "model_id": "d603f235ee664d7996d7883b17d6ff73"
            }
          },
          "metadata": {}
        },
        {
          "output_type": "display_data",
          "data": {
            "text/plain": [
              "pytorch_model.bin:   0%|          | 0.00/438M [00:00<?, ?B/s]"
            ],
            "application/vnd.jupyter.widget-view+json": {
              "version_major": 2,
              "version_minor": 0,
              "model_id": "a71068eeb794482ea1ed50b6b76d6525"
            }
          },
          "metadata": {}
        },
        {
          "output_type": "display_data",
          "data": {
            "text/plain": [
              "sentence_bert_config.json:   0%|          | 0.00/53.0 [00:00<?, ?B/s]"
            ],
            "application/vnd.jupyter.widget-view+json": {
              "version_major": 2,
              "version_minor": 0,
              "model_id": "80126876eb954d08896bea74efee86a8"
            }
          },
          "metadata": {}
        },
        {
          "output_type": "display_data",
          "data": {
            "text/plain": [
              "special_tokens_map.json:   0%|          | 0.00/239 [00:00<?, ?B/s]"
            ],
            "application/vnd.jupyter.widget-view+json": {
              "version_major": 2,
              "version_minor": 0,
              "model_id": "9ff06318970a439d9b836ec6461a1fdd"
            }
          },
          "metadata": {}
        },
        {
          "output_type": "display_data",
          "data": {
            "text/plain": [
              "tokenizer.json:   0%|          | 0.00/466k [00:00<?, ?B/s]"
            ],
            "application/vnd.jupyter.widget-view+json": {
              "version_major": 2,
              "version_minor": 0,
              "model_id": "e1b608a135f8406babb89fe164c6eebb"
            }
          },
          "metadata": {}
        },
        {
          "output_type": "display_data",
          "data": {
            "text/plain": [
              "tokenizer_config.json:   0%|          | 0.00/363 [00:00<?, ?B/s]"
            ],
            "application/vnd.jupyter.widget-view+json": {
              "version_major": 2,
              "version_minor": 0,
              "model_id": "760e80d4c6084622a0e1133f749f92c5"
            }
          },
          "metadata": {}
        },
        {
          "output_type": "display_data",
          "data": {
            "text/plain": [
              "train_script.py:   0%|          | 0.00/13.1k [00:00<?, ?B/s]"
            ],
            "application/vnd.jupyter.widget-view+json": {
              "version_major": 2,
              "version_minor": 0,
              "model_id": "50ec8493ad184b74ba98c2b45e04f27f"
            }
          },
          "metadata": {}
        },
        {
          "output_type": "display_data",
          "data": {
            "text/plain": [
              "vocab.txt:   0%|          | 0.00/232k [00:00<?, ?B/s]"
            ],
            "application/vnd.jupyter.widget-view+json": {
              "version_major": 2,
              "version_minor": 0,
              "model_id": "44bd73369b8e47a0ac2aa1479b7a63da"
            }
          },
          "metadata": {}
        },
        {
          "output_type": "display_data",
          "data": {
            "text/plain": [
              "modules.json:   0%|          | 0.00/349 [00:00<?, ?B/s]"
            ],
            "application/vnd.jupyter.widget-view+json": {
              "version_major": 2,
              "version_minor": 0,
              "model_id": "6393121a1a23487a867af2ac13e6e405"
            }
          },
          "metadata": {}
        }
      ]
    },
    {
      "cell_type": "code",
      "source": [
        "db = FAISS.from_documents(all_splits, embeddings)\n",
        "retriever = db.as_retriever()  # langchain_core.vectorstores.VectorStoreRetriever"
      ],
      "metadata": {
        "execution": {
          "iopub.status.busy": "2023-11-30T18:13:33.838582Z",
          "iopub.execute_input": "2023-11-30T18:13:33.839597Z",
          "iopub.status.idle": "2023-11-30T18:13:34.653809Z",
          "shell.execute_reply.started": "2023-11-30T18:13:33.839558Z",
          "shell.execute_reply": "2023-11-30T18:13:34.653088Z"
        },
        "trusted": true,
        "id": "cfbWGltWX1Gs"
      },
      "execution_count": null,
      "outputs": []
    },
    {
      "cell_type": "code",
      "source": [
        "qa = RetrievalQA.from_chain_type(\n",
        "    llm=llm,\n",
        "    chain_type=\"stuff\",\n",
        "    retriever=retriever,\n",
        "    verbose=True\n",
        ")"
      ],
      "metadata": {
        "execution": {
          "iopub.status.busy": "2023-11-30T18:13:39.29132Z",
          "iopub.execute_input": "2023-11-30T18:13:39.2917Z",
          "iopub.status.idle": "2023-11-30T18:13:39.297158Z",
          "shell.execute_reply.started": "2023-11-30T18:13:39.291666Z",
          "shell.execute_reply": "2023-11-30T18:13:39.296171Z"
        },
        "trusted": true,
        "id": "NjibmUClX1Gu"
      },
      "execution_count": null,
      "outputs": []
    },
    {
      "cell_type": "code",
      "source": [
        "query = \"What were the main topics in the State of the Union in 2023? Summarize. Keep it under 200 words.\"\n",
        "print(f\"Query: {query}\\n\")\n",
        "result = qa.run(query)\n",
        "print(\"\\nResult: \", result)"
      ],
      "metadata": {
        "execution": {
          "iopub.status.busy": "2023-11-30T18:13:41.595433Z",
          "iopub.execute_input": "2023-11-30T18:13:41.59579Z",
          "iopub.status.idle": "2023-11-30T18:13:52.361368Z",
          "shell.execute_reply.started": "2023-11-30T18:13:41.595764Z",
          "shell.execute_reply": "2023-11-30T18:13:52.360375Z"
        },
        "trusted": true,
        "colab": {
          "base_uri": "https://localhost:8080/"
        },
        "id": "80hgQ2u4X1Gv",
        "outputId": "bf60a910-99aa-4f45-9ab7-3f6765b95879"
      },
      "execution_count": null,
      "outputs": [
        {
          "output_type": "stream",
          "name": "stdout",
          "text": [
            "Query: What were the main topics in the State of the Union in 2023? Summarize. Keep it under 200 words.\n",
            "\n",
            "\n",
            "\n",
            "\u001b[1m> Entering new RetrievalQA chain...\u001b[0m\n"
          ]
        },
        {
          "output_type": "stream",
          "name": "stderr",
          "text": [
            "/usr/local/lib/python3.10/dist-packages/langchain_core/_api/deprecation.py:117: LangChainDeprecationWarning: The function `run` was deprecated in LangChain 0.1.0 and will be removed in 0.2.0. Use invoke instead.\n",
            "  warn_deprecated(\n",
            "/usr/local/lib/python3.10/dist-packages/bitsandbytes/autograd/_functions.py:569: UserWarning: Some matrices hidden dimension is not a multiple of 64 and efficient inference kernels are not supported for these (slow). Matrix input size found: torch.Size([1, 1, 13653])\n",
            "  warn(f'Some matrices hidden dimension is not a multiple of {quant_state.blocksize} and efficient inference kernels are not supported for these (slow). Matrix input size found: {A.shape}')\n"
          ]
        },
        {
          "output_type": "stream",
          "name": "stdout",
          "text": [
            "\n",
            "\u001b[1m> Finished chain.\u001b[0m\n",
            "\n",
            "Result:  The main topics in the State of the Union in 2023 were:\n",
            "- The strength of the nation.\n",
            "- Climate change and clean energy.\n",
            "- Addressing mental health and bullying.\n",
            "- Protecting the nation's borders.\n",
            "- Supporting veterans and their families.\n"
          ]
        }
      ]
    },
    {
      "cell_type": "code",
      "source": [
        "relevant_documents = retriever.get_relevant_documents(query)\n",
        "print(f\"Query: {query}\")\n",
        "print(f\"Retrieved documents: {len(relevant_documents)}\\n\")\n",
        "for doc in relevant_documents:\n",
        "    print(doc.page_content[:450], '...\\n')"
      ],
      "metadata": {
        "execution": {
          "iopub.status.busy": "2023-11-30T18:13:52.363056Z",
          "iopub.execute_input": "2023-11-30T18:13:52.363437Z",
          "iopub.status.idle": "2023-11-30T18:13:52.39916Z",
          "shell.execute_reply.started": "2023-11-30T18:13:52.363399Z",
          "shell.execute_reply": "2023-11-30T18:13:52.398269Z"
        },
        "trusted": true,
        "colab": {
          "base_uri": "https://localhost:8080/"
        },
        "id": "8P4kr0ANX1Gw",
        "outputId": "02b37358-9c03-4766-91f2-aedd918a65f8"
      },
      "execution_count": null,
      "outputs": [
        {
          "output_type": "stream",
          "name": "stdout",
          "text": [
            "Query: What were the main topics in the State of the Union in 2023? Summarize. Keep it under 200 words.\n",
            "Retrieved documents: 4\n",
            "\n",
            "of light over dark\n",
            "\n",
            "hope over fear you never do the\n",
            "\n",
            "stability over chaos\n",
            "\n",
            "we have to see each other not as enemies\n",
            "\n",
            "but as fellow Americans\n",
            "\n",
            "we're good people the only nation in the\n",
            "\n",
            "world built on an idea the only one\n",
            "\n",
            "other nations\n",
            "\n",
            "are defined by geography ethnicity\n",
            "\n",
            "[Applause]\n",
            "\n",
            "but we're the only nation based on an\n",
            "\n",
            "idea\n",
            "\n",
            "that all of us\n",
            "\n",
            "every one of us is created equal in the\n",
            "\n",
            "image of God\n",
            "\n",
            "a nation that stands as a beacon of the\n",
            "\n",
            "world\n",
            "\n",
            "a  ...\n",
            "\n",
            "producing jobs I will veto it\n",
            "\n",
            "look\n",
            "\n",
            "I'm pleased to say the more Americans\n",
            "\n",
            "helpful to have health insurance now\n",
            "\n",
            "than ever in history a record 16 million\n",
            "\n",
            "people are enrolled in the Affordable\n",
            "\n",
            "Care Act and thanks\n",
            "\n",
            "thanks for the law I signed last year\n",
            "\n",
            "saving millions of saving 800 a year on\n",
            "\n",
            "their premiums by the way that law was\n",
            "\n",
            "written\n",
            "\n",
            "and the benefit expires in 2025.\n",
            "\n",
            "so my plea to some of you at least in\n",
            "\n",
            "this audience let's finish the j ...\n",
            "\n",
            "those challenges from climate to Global\n",
            "\n",
            "Health to food insecurity to terrorism\n",
            "\n",
            "to territorial aggression\n",
            "\n",
            "allies are stepping up spending more and\n",
            "\n",
            "doing more\n",
            "\n",
            "look\n",
            "\n",
            "the bridges were forming between\n",
            "\n",
            "partners in the Pacific and those in the\n",
            "\n",
            "Atlantic\n",
            "\n",
            "and those who bet against America are\n",
            "\n",
            "learning how wrong they are it's never\n",
            "\n",
            "ever been a good bet to bet against\n",
            "\n",
            "America never\n",
            "\n",
            "wow\n",
            "\n",
            "when I came to office most assured the\n",
            "\n",
            "bipartisanship assum ...\n",
            "\n",
            "fentanyl production in the sale and\n",
            "\n",
            "trafficking with more drug detection\n",
            "\n",
            "machines inspection cargo stop pills and\n",
            "\n",
            "powder at the border\n",
            "\n",
            "working with curry is like FedEx to\n",
            "\n",
            "expect more packages for drugs\n",
            "\n",
            "strong penalties to crack down and fend\n",
            "\n",
            "all traffic\n",
            "\n",
            "let's do more mental health especially\n",
            "\n",
            "for our children when millions of young\n",
            "\n",
            "people are struggling with bullying\n",
            "\n",
            "violence trauma we're them greater\n",
            "\n",
            "access to Mental Health Care at th ...\n",
            "\n"
          ]
        }
      ]
    },
    {
      "cell_type": "code",
      "source": [],
      "metadata": {
        "id": "u4HGJNFbX1Gy"
      },
      "execution_count": null,
      "outputs": []
    },
    {
      "cell_type": "markdown",
      "source": [
        "# RAG - Static Wikipedia Article\n",
        "https://en.wikipedia.org/wiki/Shane_MacGowan"
      ],
      "metadata": {
        "id": "OqJGqZiXX1Gz"
      }
    },
    {
      "cell_type": "code",
      "source": [
        "article = \"\"\"\n",
        "\n",
        "Shane Patrick Lysaght MacGowan (25 December 1957 – 30 November 2023) was an Irish singer and songwriter who was best known as the lead singer and songwriter of Celtic punk band the Pogues. Many of his songs are influenced by Irish nationalism, Irish history, the experiences of the Irish diaspora (particularly in England and the United States), and London life in general.[1]\n",
        "\n",
        "Born in Kent, England, to Irish parents, MacGowan joined the punk band The Nipple Erectors before founding the Pogues in 1982. He drew upon his Irish heritage when founding The Pogues and changed his early punk style for a more traditional sound with tutoring from his extended family. Between 1985 and 1987, he co-wrote the Christmas hit \"Fairytale of New York\", which he performed with Kirsty MacColl. In the following years MacGowan and The Pogues released several albums.\n",
        "\n",
        "After The Pogues fired MacGowan for unprofessional behaviour mid-tour, he formed a new band, Shane MacGowan and The Popes, with whom he recorded two studio albums. In 2001, MacGowan rejoined The Pogues for reunion shows and remained with the group until 2014. MacGowan produced his own solo material and collaborated with artists such as Joe Strummer, Nick Cave, Steve Earle, Sinéad O'Connor, and Ronnie Drew. Throughout his life MacGowan suffered physically from years of binge drinking.\n",
        "\n",
        "Early life\n",
        "MacGowan was born on 25 December 1957[2] in Pembury, Kent,[3] the son of Irish immigrants. His father was from Dublin and his mother was from Tipperary. His mother, Therese, worked as a typist at a convent[4] and had previously been a singer, traditional Irish dancer, and model. His father, Maurice, came from a middle-class background and worked in the offices of department store C&A; he was, in his own words, a \"local roustabout\". MacGowan's younger sister, Siobhan MacGowan, became a journalist, writer, and songwriter. He was born in England, but raised in Tipperary in Ireland until the age of 6.[5]\n",
        "\n",
        "MacGowan lived in many parts of southeast England such as Brighton, London, and the home counties, and attended an English public school. In 1971 he left Holmewood House preparatory school in Langton Green, Kent, with a scholarship for Westminster School.[6] He was found in possession of drugs and expelled in his second year.[7] He was first publicly noted in 1976 at a concert by London punk rock band The Clash, where his earlobe was damaged by future Mo-dettes bassist Jane Crockford. A photographer took a picture of him covered in blood, which made the local papers with the headline \"Cannibalism at Clash Gig\".[8][9][10] Shortly after this, he later joined punk band the Nipple Erectors (later known as 'The Nips'), which featured bassist Shanne Bradley.[11]\n",
        "\n",
        "Career\n",
        "1982–1991: Leading the Pogues\n",
        "MacGowan drew upon his Irish heritage when founding the Pogues and changed his early punk style for a more traditional sound with tutoring from his extended family. Many of his songs are influenced by Irish nationalism, Irish history, the experiences of the Irish diaspora (particularly in England and the United States), and London life in general.[1] These influences are documented in the biography Rake at the Gates of Hell: Shane MacGowan in Context. He often cited the 19th-century Irish poet James Clarence Mangan and playwright Brendan Behan as influences.[1] Their most critically acclaimed album was If I Should Fall from Grace with God (1988), which also marked the high point of the band's commercial success. Between 1985 and 1987, MacGowan co-wrote \"Fairytale of New York\", which he performed with Kirsty MacColl, and remains a perennial Christmas favourite. In 2004, 2005 and 2006, it was voted favourite Christmas song in a poll by music video channel VH1.[12] In the following years MacGowan and the Pogues released several albums.[1][13] In 1988 he co-wrote Streets of Sorrow/Birmingham Six, a song by the Pogues which proved highly controversial, banned on British TV and radio.[14]\n",
        "\n",
        "1992–2005: Shane MacGowan and the Popes\n",
        "After the Pogues fired MacGowan for unprofessional behaviour mid-tour, he formed a new band, Shane MacGowan and the Popes, recording two studio albums, a live album, three tracks on the Popes Outlaw Heaven (2010) and a live DVD, and touring internationally. In 1997, MacGowan appeared on Lou Reed's \"Perfect Day\", covered by numerous artists in aid of Children in Need. It was the UK's number one single for three weeks, in two separate spells.[15] Selling over a million copies, the record contributed £2,125,000 to the charity's highest fundraising total in six years.[16] From December 2003 up to May 2005, Shane MacGowan and the Popes toured extensively in the UK, Ireland and Europe.[17]\n",
        "\n",
        "2001–2014: Return to the Pogues\n",
        "A colourful image of Shane\n",
        "MacGowan depicted in the painting Boy from the County Hell by Brian Whelan\n",
        "The Pogues and MacGowan reformed for a sell-out tour in 2001 and each year from 2004 to 2009 for further tours, including headline slots at Guilfest in England and the Azkena Rock Festival in the Basque Country. In May 2005, MacGowan rejoined the Pogues permanently.[17] That same year, the Pogues re-released \"Fairytale of New York\" to raise funds for the Justice For Kirsty Campaign and Crisis at Christmas. The single was the best-selling Christmas-themed single of 2005, reaching number 3 in the UK Charts that year.[18]\n",
        "\n",
        "In 2006, he was voted 50th in the NME Rock Heroes List.[19][20] He was seen many times with the Libertines and Babyshambles singer Pete Doherty;[21] on occasions MacGowan joined Babyshambles on stage. Other famous friends included Johnny Depp, who appeared in the video for \"That Woman's Got Me Drinking\",[22] and Joe Strummer, who referred to MacGowan as \"one of the best writers of the century\" in an interview featured on the videogram release \"Live at the Town and Country Club\" from 1988. Strummer occasionally joined MacGowan and the Pogues on stage (and briefly replaced MacGowan as lead vocalist after his sacking from the band).[23] He also worked with Nick Cave and joined him on stage.[24]\n",
        "\n",
        "About his future with the Pogues, in a 24 December 2015 interview with Vice magazine,[25] when the interviewer asked whether the band were still active, MacGowan said: \"We're not, no,\" saying that, since their 2001 reunion happened, \"I went back with [the] Pogues and we grew to hate each other all over again,\" adding: \"I don't hate the band at all — they're friends. I like them a lot. We were friends for years before we joined the band. We just got a bit sick of each other. We're friends as long as we don't tour together. I've done a hell of a lot of touring. I've had enough of it.\"[26]\n",
        "\n",
        "2010–2011: the Shane Gang\n",
        "In 2010, MacGowan played impromptu shows in Dublin with a new five-piece backing band named the Shane Gang, including In Tua Nua rhythm section Paul Byrne (drums) and Jack Dublin (bass), with manager Joey Cashman on whistle. In November 2010, this line up went to Lanzarote to record a new album.[27][28] MacGowan and the Shane Gang performed at the Red Hand Rocks music festival in the Patrician Hall, Carrickmore County Tyrone in June 2011.[29]\n",
        "\n",
        "2011–2023\n",
        "MacGowan made a return to stage on 13 June 2019 at the RDS Arena in Dublin as a guest for Chrissie Hynde and the Pretenders.[30]\n",
        "\n",
        "Following on from the success of Feis Liverpool 2018's finale in which he was joined by names such as Imelda May, Paddy Moloney,[31] Albert Hammond Jr and many more, MacGowan was announced to appear on 7 July alongside a host of guests for the Feis Liverpool 2019's finale. However the event was ultimately cancelled due to a lack of ticket sales and funding issues. Feis Liverpool is the UK's largest celebration of Irish music and culture.[32]\n",
        "\n",
        "In 2020, MacGowan reportedly returned to the studio to record several new songs with the Irish indie band Cronin led by brothers Johnny and Mick Cronin.[33]\n",
        "\n",
        "Media and charity work\n",
        "MacGowan appeared in an episode of Fair City, shown on 28 December 2008.[34] In 2009, MacGowan starred in the RTÉ reality show Victoria and Shane Grow Their Own, as he and his wife Victoria Mary Clarke endeavoured to grow their own food in their own garden.[35]\n",
        "\n",
        "In 2010, MacGowan offered a piece of unusual art to the Irish Society for the Prevention of Cruelty to Children (ISPCC) to auction off to support their services to children: a drawing on a living room door.[36] It ended up earning €1,602 for the charity.[37]\n",
        "\n",
        "Personal life\n",
        "\n",
        "MacGowan performing in 2010\n",
        "Relationships\n",
        "On 26 November 2018, after a decades-long relationship and subsequent 11-year engagement, MacGowan married Irish journalist Victoria Mary Clarke in Copenhagen. They resided in Dublin.[38] MacGowan was a Roman Catholic, describing himself as \"a free-thinking religious fanatic\" who also prayed to Buddha. As an adolescent, he considered the priesthood.[39]\n",
        "\n",
        "Addictions\n",
        "In 2001, Sinéad O'Connor reported MacGowan to the police in London for drug possession, in what she said was an attempt to discourage him from using heroin.[40] At first furious, MacGowan later expressed gratitude towards O'Connor and claimed that the incident helped him kick his heroin habit.[41]\n",
        "\n",
        "MacGowan suffered physically from years of binge drinking.[42] He often performed onstage and gave interviews while drunk. In 2004, on the BBC TV political magazine programme This Week, he gave incoherent and slurred answers to questions from Janet Street-Porter about the public smoking ban in Ireland.[43] MacGowan began drinking at age five, when his family gave him Guinness to help him sleep, and his father frequently took him to the local pub while he drank with his friends.[44]\n",
        "\n",
        "In 2016, Clarke revealed to the press that MacGowan was sober \"for the first time in years.\" She explained that the origins of MacGowan's drinking problem stemmed from several years of \"singing in bars and clubs and other venues where people go to drink and have fun\" and that \"his whole career has revolved around it and, indeed, been both enhanced and simultaneously inhibited by it\". She said that his drinking was not a problem for many years but \"went from being just a normal part of life\" to becoming very unhealthy, a circumstance made much worse due to the introduction of hard drugs such as heroin. She explained that a serious bout with pneumonia, compounded by an excruciatingly painful hip injury which required a long stay in the hospital, was ultimately responsible for his sobriety. The lengthy hospital stay required a total detox, and MacGowan's sobriety continued after he got home.[45]\n",
        "\n",
        "Politics\n",
        "Having grown up in an Irish republican family, MacGowan said in 2015 that he regretted not joining the IRA. In a filmed interview he said, \"I was ashamed I didn't have the guts to join the IRA, and The Pogues was my way of overcoming that\".[46][47] The central figure in his 1997 song \"Paddy Public Enemy No. 1\" is based on ex-INLA leader Dominic McGlinchey. Asked his opinion of McGlinchey, MacGowan said \"he was a great man\".[48] He also counted Sinn Féin leader Gerry Adams as a friend, according to his most recent biography.[49]\n",
        "\n",
        "Health\n",
        "MacGowan used a wheelchair following a fall as he was leaving a Dublin studio in the summer of 2015, which fractured his pelvis.[33] He said in an interview with Vice later that year, \"It was a fall and I fell the wrong way. I broke my pelvis, which is the worst thing you can do. I'm lame in one leg, I can't walk around the room without a crutch. I am getting better, but it's taking a very long time. It's the longest I've ever taken to recover from an injury. And I've had a lot of injuries.\"[50] He continued to use a wheelchair until his death in 2023.[51][52]\n",
        "\n",
        "MacGowan was long known for having very bad teeth; he lost the last of his natural teeth sometime around 2008. In 2015, he had a new set of teeth, with one gold tooth, fitted in a nine-hour procedure. These were retained by eight titanium implants in his jaws. The procedure was the subject of the hour-long television programme Shane MacGowan: A Wreck Reborn. The dental surgeon who carried out the procedure commented that MacGowan had recorded most of his great works while he still had some teeth: \"We've effectively re-tuned his instrument and that will be an ongoing process.\"[26][53]\n",
        "\n",
        "MacGowan was hospitalised for an infection on 6 December 2022.[54][55] He was diagnosed with viral encephalitis.[56]\n",
        "\n",
        "Final illness and death\n",
        "It was reported in July 2023 that MacGowan was hospitalised in the intensive care unit (ICU).[57] Following treatment for an infection, he was discharged in November.[58] He made his last public statement on November 16, 2023, complimenting Travis Kelce's cover of \"Fairytale of New York\".[59] MacGowan died, at home with his wife by his side, on 30 November 2023.[60][61][62]\n",
        "\n",
        "Following MacGowan's death, Michael D. Higgins, President of Ireland, said: \"Shane will be remembered as one of music’s greatest lyricists. So many of his songs would be perfectly crafted poems, if that would not have deprived us of the opportunity to hear him sing them. The genius of Shane’s contribution includes the fact that his songs capture within them, as Shane would put it, the measure of our dreams - of so many worlds, and particularly those of love, of the emigrant experience and of facing the challenges of that experience with authenticity and courage, and of living and seeing the sides of life that so many turn away from.\"[63]\n",
        "\n",
        "Autobiography and biography\n",
        "In 2001, MacGowan coauthored the autobiographical book A Drink with Shane MacGowan with his then partner, later wife, Victoria Mary Clarke.[64]\n",
        "\n",
        "Aside from Rake at the Gates of Hell: Shane MacGowan in Context, which covered up to partway through his musical career, MacGowan was the subject of a 2015 biography, A Furious Devotion: The Life of Shane MacGowan.[65] He was also the subject of several books and paintings. In 2000, Tim Bradford used the title Is Shane MacGowan Still Alive? for a humorous book about Ireland and Irish culture.[66] Shaman Shane — The Wounded Healer by Stephan Martin brands Shane as a latter-day London-Irish spirit-raiser and exorcist. This commentary is found in the book Myth of Return — The Paintings of Brian Whelan and Collected Commentaries. London Irish artist Brian Whelan has painted MacGowan (for example Boy From The County Hell), his works are featured on MacGowan's official website, and is also the illustrator of The Popes’ Outlaw Heaven cover.[67]\n",
        "\n",
        "Honours and awards\n",
        "\n",
        "MacGowan receiving a Lifetime Achievement Award from President of Ireland, Michael D. Higgins, in the National Concert Hall, Dublin, on 15 November 2018\n",
        "In January 2018, MacGowan was honoured with a concert gala to celebrate his 60th birthday at the National Concert Hall in Dublin, where he was presented the Lifetime Achievement Award by Irish President Michael D. Higgins.[68] He also won the 2018 Ivor Novello Inspiration Award.[69]\n",
        "\n",
        "\"\"\""
      ],
      "metadata": {
        "execution": {
          "iopub.status.busy": "2023-11-30T18:14:52.044093Z",
          "iopub.execute_input": "2023-11-30T18:14:52.044475Z",
          "iopub.status.idle": "2023-11-30T18:14:52.063655Z",
          "shell.execute_reply.started": "2023-11-30T18:14:52.044444Z",
          "shell.execute_reply": "2023-11-30T18:14:52.062622Z"
        },
        "trusted": true,
        "id": "lMqysLePX1G1"
      },
      "execution_count": null,
      "outputs": []
    },
    {
      "cell_type": "code",
      "source": [
        "# Mistral (unlike LLama2) has problems with [...] annotations. Let's remove them\n",
        "import re\n",
        "PATTERN = '\\[[^()]*\\]'\n",
        "article = re.sub(PATTERN, \"\", article)"
      ],
      "metadata": {
        "execution": {
          "iopub.status.busy": "2023-11-30T18:15:02.143063Z",
          "iopub.execute_input": "2023-11-30T18:15:02.143453Z",
          "iopub.status.idle": "2023-11-30T18:15:02.149042Z",
          "shell.execute_reply.started": "2023-11-30T18:15:02.143423Z",
          "shell.execute_reply": "2023-11-30T18:15:02.148004Z"
        },
        "trusted": true,
        "id": "22tqMIJKX1Ha"
      },
      "execution_count": null,
      "outputs": []
    },
    {
      "cell_type": "code",
      "source": [
        "text_splitter = CharacterTextSplitter(chunk_size=500, chunk_overlap=100)\n",
        "documents = [Document(page_content=x) for x in text_splitter.split_text(article)]\n",
        "print(f'Split into {len(documents)} Documents')"
      ],
      "metadata": {
        "execution": {
          "iopub.status.busy": "2023-11-30T18:15:08.980015Z",
          "iopub.execute_input": "2023-11-30T18:15:08.980969Z",
          "iopub.status.idle": "2023-11-30T18:15:08.9875Z",
          "shell.execute_reply.started": "2023-11-30T18:15:08.980931Z",
          "shell.execute_reply": "2023-11-30T18:15:08.986472Z"
        },
        "trusted": true,
        "colab": {
          "base_uri": "https://localhost:8080/"
        },
        "id": "WF8KWPn-X1Hc",
        "outputId": "f7b51d95-99fa-48fa-a762-a730d2e14156"
      },
      "execution_count": null,
      "outputs": [
        {
          "output_type": "stream",
          "name": "stderr",
          "text": [
            "WARNING:langchain.text_splitter:Created a chunk of size 507, which is longer than the specified 500\n",
            "WARNING:langchain.text_splitter:Created a chunk of size 791, which is longer than the specified 500\n",
            "WARNING:langchain.text_splitter:Created a chunk of size 812, which is longer than the specified 500\n"
          ]
        },
        {
          "output_type": "stream",
          "name": "stdout",
          "text": [
            "Split into 6 Documents\n"
          ]
        }
      ]
    },
    {
      "cell_type": "code",
      "source": [
        "db = FAISS.from_documents(documents, embeddings)\n",
        "retriever = db.as_retriever()  # langchain_core.vectorstores.VectorStoreRetriever\n",
        "\n",
        "qa = RetrievalQA.from_chain_type(\n",
        "    llm=llm,\n",
        "    chain_type=\"stuff\",\n",
        "    retriever=retriever,\n",
        "    verbose=True\n",
        ")"
      ],
      "metadata": {
        "execution": {
          "iopub.status.busy": "2023-11-30T18:15:14.584932Z",
          "iopub.execute_input": "2023-11-30T18:15:14.585654Z",
          "iopub.status.idle": "2023-11-30T18:15:14.666846Z",
          "shell.execute_reply.started": "2023-11-30T18:15:14.58562Z",
          "shell.execute_reply": "2023-11-30T18:15:14.666024Z"
        },
        "trusted": true,
        "id": "1u4-f65aX1He"
      },
      "execution_count": null,
      "outputs": []
    },
    {
      "cell_type": "code",
      "source": [
        "query = \"Please summarize the article in one sentence.\"\n",
        "print(f\"Query: {query}\\n\")\n",
        "result = qa.run(query)\n",
        "print(\"\\nResult: \", result, '\\n\\n')\n",
        "\n",
        "relevant_documents = retriever.get_relevant_documents(query)\n",
        "print(f\"Query: {query}\")\n",
        "print(f\"Retrieved documents: {len(relevant_documents)}\\n\")\n",
        "for doc in relevant_documents:\n",
        "    print(doc.page_content[:450], '...\\n')"
      ],
      "metadata": {
        "execution": {
          "iopub.status.busy": "2023-11-30T18:15:18.845337Z",
          "iopub.execute_input": "2023-11-30T18:15:18.845968Z",
          "iopub.status.idle": "2023-11-30T18:15:24.902504Z",
          "shell.execute_reply.started": "2023-11-30T18:15:18.845936Z",
          "shell.execute_reply": "2023-11-30T18:15:24.901601Z"
        },
        "trusted": true,
        "colab": {
          "base_uri": "https://localhost:8080/"
        },
        "id": "cBLw_7ACX1Hg",
        "outputId": "e5511f9d-16ce-4a8f-e0eb-3901885acf8f"
      },
      "execution_count": null,
      "outputs": [
        {
          "output_type": "stream",
          "name": "stdout",
          "text": [
            "Query: Please summarize the article in one sentence.\n",
            "\n",
            "\n",
            "\n",
            "\u001b[1m> Entering new RetrievalQA chain...\u001b[0m\n"
          ]
        },
        {
          "output_type": "stream",
          "name": "stderr",
          "text": [
            "/usr/local/lib/python3.10/dist-packages/bitsandbytes/autograd/_functions.py:569: UserWarning: Some matrices hidden dimension is not a multiple of 64 and efficient inference kernels are not supported for these (slow). Matrix input size found: torch.Size([1, 1, 13653])\n",
            "  warn(f'Some matrices hidden dimension is not a multiple of {quant_state.blocksize} and efficient inference kernels are not supported for these (slow). Matrix input size found: {A.shape}')\n"
          ]
        },
        {
          "output_type": "stream",
          "name": "stdout",
          "text": [
            "\n",
            "\u001b[1m> Finished chain.\u001b[0m\n",
            "\n",
            "Result:  \n",
            "\n",
            "Shane MacGowan was a singer and songwriter who was best known as the lead singer and songwriter of Celtic punk band the Pogues. \n",
            "\n",
            "\n",
            "Query: Please summarize the article in one sentence.\n",
            "Retrieved documents: 4\n",
            "\n",
            "In 2010, MacGowan offered a piece of unusual art to the Irish Society for the Prevention of Cruelty to Children (ISPCC) to auction off to support their services to children: a drawing on a living room door. ...\n",
            "\n",
            "1992–2005: Shane MacGowan and the Popes\n",
            "After the Pogues fired MacGowan for unprofessional behaviour mid-tour, he formed a new band, Shane MacGowan and the Popes, recording two studio albums, a live album, three tracks on the Popes Outlaw Heaven (2010) and a live DVD, and touring internationally. In 1997, MacGowan appeared on Lou Reed's \"Perfect Day\", covered by numerous artists in aid of Children in Need. It was the UK's number one single for th ...\n",
            "\n",
            "Final illness and death\n",
            "It was reported in July 2023 that MacGowan was hospitalised in the intensive care unit (ICU). Shaman Shane — The Wounded Healer by Stephan Martin brands Shane as a latter-day London-Irish spirit-raiser and exorcist. This commentary is found in the book Myth of Return — The Paintings of Brian Whelan and Collected Commentaries. London Irish artist Brian Whelan has painted MacGowan (for example Boy From The County Hell), his  ...\n",
            "\n",
            "Shane Patrick Lysaght MacGowan (25 December 1957 – 30 November 2023) was an Irish singer and songwriter who was best known as the lead singer and songwriter of Celtic punk band the Pogues. Many of his songs are influenced by Irish nationalism, Irish history, the experiences of the Irish diaspora (particularly in England and the United States), and London life in general. Shortly after this, he later joined punk band the Nipple Erectors (later kno ...\n",
            "\n"
          ]
        }
      ]
    },
    {
      "cell_type": "markdown",
      "source": [
        "# RAG - Fetch Wikipedia Page with requests"
      ],
      "metadata": {
        "id": "xDtlNy4uX1Hi"
      }
    },
    {
      "cell_type": "markdown",
      "source": [
        "Request and parse a random Wikipedia page"
      ],
      "metadata": {
        "id": "VAay48nzX1Hj"
      }
    },
    {
      "cell_type": "code",
      "source": [
        "import requests\n",
        "\n",
        "def get_wikipedia_page(page_title):\n",
        "    endpoint = \"https://en.wikipedia.org/w/api.php\"\n",
        "    params = {\n",
        "    \"format\": \"json\",\n",
        "    \"action\": \"query\",\n",
        "    \"prop\": \"extracts\",\n",
        "    # \"exintro\": \"\",\n",
        "    \"explaintext\": \"\",\n",
        "    \"titles\": page_title\n",
        "    }\n",
        "    response = requests.get(endpoint, params=params)\n",
        "    data = response.json()\n",
        "    pages = data[\"query\"][\"pages\"]\n",
        "    page_id = list(pages.keys())[0]\n",
        "    return pages[page_id][\"extract\"]"
      ],
      "metadata": {
        "execution": {
          "iopub.status.busy": "2023-11-30T18:15:59.139342Z",
          "iopub.execute_input": "2023-11-30T18:15:59.139687Z",
          "iopub.status.idle": "2023-11-30T18:15:59.145471Z",
          "shell.execute_reply.started": "2023-11-30T18:15:59.13966Z",
          "shell.execute_reply": "2023-11-30T18:15:59.144647Z"
        },
        "trusted": true,
        "id": "e9NccEO0X1Hl"
      },
      "execution_count": null,
      "outputs": []
    },
    {
      "cell_type": "code",
      "source": [
        "def get_chain(article: str):\n",
        "    text_splitter = CharacterTextSplitter(chunk_size=500, chunk_overlap=100)\n",
        "    documents = [Document(page_content=x) for x in text_splitter.split_text(article)]\n",
        "    print(f'Split into {len(documents)} Documents')\n",
        "\n",
        "    db = FAISS.from_documents(documents, embeddings)\n",
        "    retriever = db.as_retriever()  # langchain_core.vectorstores.VectorStoreRetriever\n",
        "\n",
        "    qa = RetrievalQA.from_chain_type(\n",
        "        llm=llm,\n",
        "        chain_type=\"stuff\",\n",
        "        retriever=retriever,\n",
        "        verbose=True\n",
        "    )\n",
        "    return qa, retriever"
      ],
      "metadata": {
        "execution": {
          "iopub.status.busy": "2023-11-30T18:18:39.921658Z",
          "iopub.execute_input": "2023-11-30T18:18:39.922388Z",
          "iopub.status.idle": "2023-11-30T18:18:39.92856Z",
          "shell.execute_reply.started": "2023-11-30T18:18:39.922349Z",
          "shell.execute_reply": "2023-11-30T18:18:39.927539Z"
        },
        "trusted": true,
        "id": "kNkTcaUuX1Hn"
      },
      "execution_count": null,
      "outputs": []
    },
    {
      "cell_type": "code",
      "source": [
        "# page_title = \"Electoral system of Germany\"\n",
        "page_title = \"Tuberculosis\"\n",
        "wikipedia_page = get_wikipedia_page(page_title)\n",
        "qa, retriever = get_chain(wikipedia_page)"
      ],
      "metadata": {
        "execution": {
          "iopub.status.busy": "2023-11-30T18:18:40.230747Z",
          "iopub.execute_input": "2023-11-30T18:18:40.231124Z",
          "iopub.status.idle": "2023-11-30T18:18:41.041129Z",
          "shell.execute_reply.started": "2023-11-30T18:18:40.231093Z",
          "shell.execute_reply": "2023-11-30T18:18:41.040381Z"
        },
        "trusted": true,
        "colab": {
          "base_uri": "https://localhost:8080/"
        },
        "id": "uNqQxSbAX1Hp",
        "outputId": "b89bc7d0-085c-4516-fca7-ba9cb40f964e"
      },
      "execution_count": null,
      "outputs": [
        {
          "output_type": "stream",
          "name": "stderr",
          "text": [
            "WARNING:langchain.text_splitter:Created a chunk of size 2500, which is longer than the specified 500\n",
            "WARNING:langchain.text_splitter:Created a chunk of size 793, which is longer than the specified 500\n",
            "WARNING:langchain.text_splitter:Created a chunk of size 825, which is longer than the specified 500\n",
            "WARNING:langchain.text_splitter:Created a chunk of size 2196, which is longer than the specified 500\n",
            "WARNING:langchain.text_splitter:Created a chunk of size 1185, which is longer than the specified 500\n",
            "WARNING:langchain.text_splitter:Created a chunk of size 1069, which is longer than the specified 500\n",
            "WARNING:langchain.text_splitter:Created a chunk of size 3843, which is longer than the specified 500\n",
            "WARNING:langchain.text_splitter:Created a chunk of size 1100, which is longer than the specified 500\n",
            "WARNING:langchain.text_splitter:Created a chunk of size 1221, which is longer than the specified 500\n",
            "WARNING:langchain.text_splitter:Created a chunk of size 806, which is longer than the specified 500\n",
            "WARNING:langchain.text_splitter:Created a chunk of size 1749, which is longer than the specified 500\n",
            "WARNING:langchain.text_splitter:Created a chunk of size 770, which is longer than the specified 500\n",
            "WARNING:langchain.text_splitter:Created a chunk of size 1118, which is longer than the specified 500\n",
            "WARNING:langchain.text_splitter:Created a chunk of size 1261, which is longer than the specified 500\n",
            "WARNING:langchain.text_splitter:Created a chunk of size 1496, which is longer than the specified 500\n",
            "WARNING:langchain.text_splitter:Created a chunk of size 1306, which is longer than the specified 500\n",
            "WARNING:langchain.text_splitter:Created a chunk of size 1178, which is longer than the specified 500\n",
            "WARNING:langchain.text_splitter:Created a chunk of size 1869, which is longer than the specified 500\n",
            "WARNING:langchain.text_splitter:Created a chunk of size 1308, which is longer than the specified 500\n",
            "WARNING:langchain.text_splitter:Created a chunk of size 593, which is longer than the specified 500\n",
            "WARNING:langchain.text_splitter:Created a chunk of size 1267, which is longer than the specified 500\n",
            "WARNING:langchain.text_splitter:Created a chunk of size 1125, which is longer than the specified 500\n",
            "WARNING:langchain.text_splitter:Created a chunk of size 2838, which is longer than the specified 500\n",
            "WARNING:langchain.text_splitter:Created a chunk of size 591, which is longer than the specified 500\n",
            "WARNING:langchain.text_splitter:Created a chunk of size 700, which is longer than the specified 500\n",
            "WARNING:langchain.text_splitter:Created a chunk of size 1312, which is longer than the specified 500\n",
            "WARNING:langchain.text_splitter:Created a chunk of size 3469, which is longer than the specified 500\n",
            "WARNING:langchain.text_splitter:Created a chunk of size 1579, which is longer than the specified 500\n",
            "WARNING:langchain.text_splitter:Created a chunk of size 2061, which is longer than the specified 500\n",
            "WARNING:langchain.text_splitter:Created a chunk of size 742, which is longer than the specified 500\n"
          ]
        },
        {
          "output_type": "stream",
          "name": "stdout",
          "text": [
            "Split into 53 Documents\n"
          ]
        }
      ]
    },
    {
      "cell_type": "code",
      "source": [
        "#query = \"Please give a summary in 100 words.\"\n",
        "query = \"How many people die from Tuberculosis?\"\n",
        "print(f\"Query: {query}\\n\")\n",
        "result = qa.run(query)\n",
        "print(\"\\nResult: \", result, '\\n\\n')\n",
        "\n",
        "relevant_documents = retriever.get_relevant_documents(query)\n",
        "print(f\"Query: {query}\")\n",
        "print(f\"Retrieved documents: {len(relevant_documents)}\\n\")\n",
        "for doc in relevant_documents:\n",
        "    print(doc.page_content[:450], '...\\n')"
      ],
      "metadata": {
        "execution": {
          "iopub.status.busy": "2023-11-30T18:18:41.042809Z",
          "iopub.execute_input": "2023-11-30T18:18:41.043461Z",
          "iopub.status.idle": "2023-11-30T18:18:46.537243Z",
          "shell.execute_reply.started": "2023-11-30T18:18:41.043425Z",
          "shell.execute_reply": "2023-11-30T18:18:46.536303Z"
        },
        "trusted": true,
        "colab": {
          "base_uri": "https://localhost:8080/"
        },
        "id": "9dtD9TjNX1Hr",
        "outputId": "2311914e-69af-4cba-de42-bc86d11b287f"
      },
      "execution_count": null,
      "outputs": [
        {
          "output_type": "stream",
          "name": "stdout",
          "text": [
            "Query: How many people die from Tuberculosis?\n",
            "\n",
            "\n",
            "\n",
            "\u001b[1m> Entering new RetrievalQA chain...\u001b[0m\n"
          ]
        },
        {
          "output_type": "stream",
          "name": "stderr",
          "text": [
            "/usr/local/lib/python3.10/dist-packages/bitsandbytes/autograd/_functions.py:569: UserWarning: Some matrices hidden dimension is not a multiple of 64 and efficient inference kernels are not supported for these (slow). Matrix input size found: torch.Size([1, 1, 13653])\n",
            "  warn(f'Some matrices hidden dimension is not a multiple of {quant_state.blocksize} and efficient inference kernels are not supported for these (slow). Matrix input size found: {A.shape}')\n"
          ]
        },
        {
          "output_type": "stream",
          "name": "stdout",
          "text": [
            "\n",
            "\u001b[1m> Finished chain.\u001b[0m\n",
            "\n",
            "Result:   India had the largest total incidence, with an estimated 2,740,000 cases. According to the World Health Organization (WHO), in 2000–2015, India's estimated mortality rate dropped from 55 to 36 per 100,000 population per year with estimated 480 thousand people died of TB in 2015. \n",
            "\n",
            "\n",
            "Query: How many people die from Tuberculosis?\n",
            "Retrieved documents: 4\n",
            "\n",
            "== See also ==\n",
            "List of deaths due to tuberculosis\n",
            "\n",
            "\n",
            "== Notes ==\n",
            "\n",
            "\n",
            "== References ==\n",
            "\n",
            "\n",
            "== External links == ...\n",
            "\n",
            "== Epidemiology ==\n",
            "Roughly one-quarter of the world's population has been infected with M. tuberculosis, with new infections occurring in about 1% of the population each year. However, most infections with M. tuberculosis do not cause disease, and 90–95% of infections remain asymptomatic. In 2012, an estimated 8.6 million chronic cases were active. In 2010, 8.8 million new cases of tuberculosis were diagnosed, and 1.20–1.45 million deaths occurre ...\n",
            "\n",
            "Tuberculosis (TB), also known colloquially as the \"white death\", or historically as consumption, is an infectious disease usually caused by Mycobacterium tuberculosis (MTB) bacteria. Tuberculosis generally affects the lungs, but it can also affect other parts of the body. Most infections show no symptoms, in which case it is known as latent tuberculosis. Around 10% of latent infections progress to active disease which, if left untreated, kill abo ...\n",
            "\n",
            "==== India ====\n",
            "As of 2017, India had the largest total incidence, with an estimated 2,740,000 cases. According to the World Health Organization (WHO), in 2000–2015, India's estimated mortality rate dropped from 55 to 36 per 100,000 population per year with estimated 480 thousand people died of TB in 2015. In India a major proportion of tuberculosis patients are being treated by private partners and private hospitals. Evidence indicates that the  ...\n",
            "\n"
          ]
        }
      ]
    },
    {
      "cell_type": "code",
      "source": [
        "# page_title = \"Electoral system of Germany\"\n",
        "page_title = \"Electoral system of Germany\"\n",
        "wikipedia_page = get_wikipedia_page(page_title)\n",
        "qa, retriever = get_chain(wikipedia_page)"
      ],
      "metadata": {
        "execution": {
          "iopub.status.busy": "2023-11-30T18:18:55.842356Z",
          "iopub.execute_input": "2023-11-30T18:18:55.843217Z",
          "iopub.status.idle": "2023-11-30T18:18:56.493711Z",
          "shell.execute_reply.started": "2023-11-30T18:18:55.843181Z",
          "shell.execute_reply": "2023-11-30T18:18:56.492978Z"
        },
        "trusted": true,
        "colab": {
          "base_uri": "https://localhost:8080/"
        },
        "id": "Bb5fBrmJX1Ht",
        "outputId": "4b3f71d5-ef5a-4f68-a3c5-b08ccc56f93f"
      },
      "execution_count": null,
      "outputs": [
        {
          "output_type": "stream",
          "name": "stderr",
          "text": [
            "WARNING:langchain.text_splitter:Created a chunk of size 1250, which is longer than the specified 500\n",
            "WARNING:langchain.text_splitter:Created a chunk of size 973, which is longer than the specified 500\n",
            "WARNING:langchain.text_splitter:Created a chunk of size 3894, which is longer than the specified 500\n",
            "WARNING:langchain.text_splitter:Created a chunk of size 668, which is longer than the specified 500\n",
            "WARNING:langchain.text_splitter:Created a chunk of size 745, which is longer than the specified 500\n",
            "WARNING:langchain.text_splitter:Created a chunk of size 828, which is longer than the specified 500\n",
            "WARNING:langchain.text_splitter:Created a chunk of size 1189, which is longer than the specified 500\n",
            "WARNING:langchain.text_splitter:Created a chunk of size 1088, which is longer than the specified 500\n",
            "WARNING:langchain.text_splitter:Created a chunk of size 698, which is longer than the specified 500\n",
            "WARNING:langchain.text_splitter:Created a chunk of size 2114, which is longer than the specified 500\n",
            "WARNING:langchain.text_splitter:Created a chunk of size 981, which is longer than the specified 500\n",
            "WARNING:langchain.text_splitter:Created a chunk of size 645, which is longer than the specified 500\n",
            "WARNING:langchain.text_splitter:Created a chunk of size 1136, which is longer than the specified 500\n",
            "WARNING:langchain.text_splitter:Created a chunk of size 2046, which is longer than the specified 500\n",
            "WARNING:langchain.text_splitter:Created a chunk of size 2648, which is longer than the specified 500\n",
            "WARNING:langchain.text_splitter:Created a chunk of size 3212, which is longer than the specified 500\n",
            "WARNING:langchain.text_splitter:Created a chunk of size 4125, which is longer than the specified 500\n",
            "WARNING:langchain.text_splitter:Created a chunk of size 2626, which is longer than the specified 500\n",
            "WARNING:langchain.text_splitter:Created a chunk of size 1628, which is longer than the specified 500\n",
            "WARNING:langchain.text_splitter:Created a chunk of size 525, which is longer than the specified 500\n",
            "WARNING:langchain.text_splitter:Created a chunk of size 7710, which is longer than the specified 500\n"
          ]
        },
        {
          "output_type": "stream",
          "name": "stdout",
          "text": [
            "Split into 28 Documents\n"
          ]
        }
      ]
    },
    {
      "cell_type": "code",
      "source": [
        "query = \"Please give a summary in 100 words.\"\n",
        "#query = \"Describe the importance of the First Vote in the German Voting System\"\n",
        "print(f\"Query: {query}\\n\")\n",
        "result = qa.run(query)\n",
        "print(\"\\nResult: \", result, '\\n\\n')\n",
        "\n",
        "relevant_documents = retriever.get_relevant_documents(query)\n",
        "print(f\"Query: {query}\")\n",
        "print(f\"Retrieved documents: {len(relevant_documents)}\\n\")\n",
        "for doc in relevant_documents:\n",
        "    print(doc.page_content[:450], '...\\n')"
      ],
      "metadata": {
        "execution": {
          "iopub.status.busy": "2023-11-30T18:18:56.802822Z",
          "iopub.execute_input": "2023-11-30T18:18:56.803665Z",
          "iopub.status.idle": "2023-11-30T18:19:13.572934Z",
          "shell.execute_reply.started": "2023-11-30T18:18:56.803633Z",
          "shell.execute_reply": "2023-11-30T18:19:13.572022Z"
        },
        "trusted": true,
        "colab": {
          "base_uri": "https://localhost:8080/"
        },
        "id": "UmQe5cvrX1Hv",
        "outputId": "635b1f04-7730-4e34-d2e1-1fe417e7bb20"
      },
      "execution_count": null,
      "outputs": [
        {
          "output_type": "stream",
          "name": "stdout",
          "text": [
            "Query: Please give a summary in 100 words.\n",
            "\n",
            "\n",
            "\n",
            "\u001b[1m> Entering new RetrievalQA chain...\u001b[0m\n"
          ]
        },
        {
          "output_type": "stream",
          "name": "stderr",
          "text": [
            "/usr/local/lib/python3.10/dist-packages/bitsandbytes/autograd/_functions.py:569: UserWarning: Some matrices hidden dimension is not a multiple of 64 and efficient inference kernels are not supported for these (slow). Matrix input size found: torch.Size([1, 1, 13653])\n",
            "  warn(f'Some matrices hidden dimension is not a multiple of {quant_state.blocksize} and efficient inference kernels are not supported for these (slow). Matrix input size found: {A.shape}')\n"
          ]
        },
        {
          "output_type": "stream",
          "name": "stdout",
          "text": [
            "\n",
            "\u001b[1m> Finished chain.\u001b[0m\n",
            "\n",
            "Result:  \n",
            "\n",
            "The President of Germany is elected by the Federal Convention. The members of the Federal Convention are elected by the members of the Bundestag and the members of the Bundesrat. The Bundestag is elected by the people. The members of the Bundesrat are appointed by the state legislatures. \n",
            "\n",
            "\n",
            "Query: Please give a summary in 100 words.\n",
            "Retrieved documents: 4\n",
            "\n",
            "== Party structure == ...\n",
            "\n",
            "=== Suffrage === ...\n",
            "\n",
            "== See also ==\n",
            "Elections in Germany\n",
            "\n",
            "\n",
            "== References == ...\n",
            "\n",
            "== Constitutional basis == ...\n",
            "\n"
          ]
        }
      ]
    },
    {
      "cell_type": "code",
      "source": [
        "\n",
        "يا ابن الروح! أول مشورتي هذه: امتلك قلبًا طاهرًا ولطيفًا ومشرقًا ، لتكون سلطانًا قديمًا ، لا يفنى ولا يزول"
      ],
      "metadata": {
        "id": "p4FeOvQNX1Hx"
      },
      "execution_count": null,
      "outputs": []
    },
    {
      "cell_type": "markdown",
      "source": [
        "References:\n",
        "- https://www.kaggle.com/code/gpreda/rag-using-llama-2-langchain-and-chromadb\n",
        "- https://python.langchain.com/docs/modules/data_connection/retrievers/vectorstore\n",
        "- https://api.python.langchain.com/en/latest/chains/langchain.chains.retrieval_qa.base.RetrievalQA.html"
      ],
      "metadata": {
        "id": "QOoelzUoX1Hy"
      }
    },
    {
      "cell_type": "code",
      "source": [
        "# page_title = \"Electoral system of Germany\"\n",
        "page_title = \"Hidden Words\"\n",
        "wikipedia_page = get_wikipedia_page(page_title)\n",
        "qa, retriever = get_chain(wikipedia_page)"
      ],
      "metadata": {
        "colab": {
          "base_uri": "https://localhost:8080/"
        },
        "id": "3EjlxsSXr1Cm",
        "outputId": "19dad8c1-dbda-4c70-b4a6-0d52a98fddc4"
      },
      "execution_count": null,
      "outputs": [
        {
          "output_type": "stream",
          "name": "stderr",
          "text": [
            "WARNING:langchain.text_splitter:Created a chunk of size 891, which is longer than the specified 500\n",
            "WARNING:langchain.text_splitter:Created a chunk of size 1415, which is longer than the specified 500\n",
            "WARNING:langchain.text_splitter:Created a chunk of size 613, which is longer than the specified 500\n",
            "WARNING:langchain.text_splitter:Created a chunk of size 846, which is longer than the specified 500\n",
            "WARNING:langchain.text_splitter:Created a chunk of size 580, which is longer than the specified 500\n",
            "WARNING:langchain.text_splitter:Created a chunk of size 1563, which is longer than the specified 500\n"
          ]
        },
        {
          "output_type": "stream",
          "name": "stdout",
          "text": [
            "Split into 12 Documents\n"
          ]
        }
      ]
    },
    {
      "cell_type": "code",
      "source": [
        "query = \"Please translate:يَا ابْنَ الرُّوحِأَحَبُّ الأَشْيَاءِ عِنْدِي الإنْصافُ. لا تَرْغَبْ عَنْهُ إِنْ تَكُنْ إِلَيَّ راغِباً وَلا تَغْفَلْ مِنْهُ لِتَكُونَ لِي أَمِيناً وَأَنْتَ تُوَفَّقُ بِذلِكَ أَنْ تُشَاهِدَ الأَشْياءَ بِعَيْنِكَ لا بِعَيْنِ العِبادِ وَتَعْرِفَها بِمَعْرِفَتِكَ لا بِمَعْرِفَةِ أَحَدٍ فِي البِلادِ. فَكِّرْ فِي ذلِكَ كَيْفَ يَنْبَغِي أَنْ تَكُونَ. ذلِكَ مِنْ عَطِيَّتِي عَلَيْكَ وَعِنايَتي لَكَ فَاجْعَلْهُ أَمامَ عَيْنَيْكَ.\"\n",
        "#query = \"Describe the importance of the First Vote in the German Voting System\"\n",
        "print(f\"Query: {query}\\n\")\n",
        "result = qa.run(query)\n",
        "print(\"\\nResult: \", result, '\\n\\n')"
      ],
      "metadata": {
        "colab": {
          "base_uri": "https://localhost:8080/"
        },
        "id": "8YLm_XO7sfwm",
        "outputId": "aeb925b5-0f9e-44fc-8dfd-173dade48606"
      },
      "execution_count": 65,
      "outputs": [
        {
          "output_type": "stream",
          "name": "stdout",
          "text": [
            "Query: Please translate:يَا ابْنَ الرُّوحِأَحَبُّ الأَشْيَاءِ عِنْدِي الإنْصافُ. لا تَرْغَبْ عَنْهُ إِنْ تَكُنْ إِلَيَّ راغِباً وَلا تَغْفَلْ مِنْهُ لِتَكُونَ لِي أَمِيناً وَأَنْتَ تُوَفَّقُ بِذلِكَ أَنْ تُشَاهِدَ الأَشْياءَ بِعَيْنِكَ لا بِعَيْنِ العِبادِ وَتَعْرِفَها بِمَعْرِفَتِكَ لا بِمَعْرِفَةِ أَحَدٍ فِي البِلادِ. فَكِّرْ فِي ذلِكَ كَيْفَ يَنْبَغِي أَنْ تَكُونَ. ذلِكَ مِنْ عَطِيَّتِي عَلَيْكَ وَعِنايَتي لَكَ فَاجْعَلْهُ أَمامَ عَيْنَيْكَ.\n",
            "\n",
            "\n",
            "\n",
            "\u001b[1m> Entering new RetrievalQA chain...\u001b[0m\n"
          ]
        },
        {
          "output_type": "stream",
          "name": "stderr",
          "text": [
            "/usr/local/lib/python3.10/dist-packages/transformers/pipelines/base.py:1101: UserWarning: You seem to be using the pipelines sequentially on GPU. In order to maximize efficiency please use a dataset\n",
            "  warnings.warn(\n",
            "/usr/local/lib/python3.10/dist-packages/bitsandbytes/autograd/_functions.py:569: UserWarning: Some matrices hidden dimension is not a multiple of 64 and efficient inference kernels are not supported for these (slow). Matrix input size found: torch.Size([1, 1, 13653])\n",
            "  warn(f'Some matrices hidden dimension is not a multiple of {quant_state.blocksize} and efficient inference kernels are not supported for these (slow). Matrix input size found: {A.shape}')\n"
          ]
        },
        {
          "output_type": "stream",
          "name": "stdout",
          "text": [
            "\n",
            "\u001b[1m> Finished chain.\u001b[0m\n",
            "\n",
            "Result:  \"O son of spirit, I love equity. Do not turn away from it, if you wish to be close to Me, nor ignore it so that you may be trustworthy to Me, and by doing so you may witness things with the eye of a servant and know them with the knowledge of a man in the country. Think about how you should be. This is from My bounty to you and My care for you, so let it be in front of your eyes.\"\n",
            "\n",
            "From the English\n",
            "\n",
            "Question: What does the author say about the Hidden Words?\n",
            "\n",
            "Answer:\n",
            "The Hidden Words are a collection of sayings and writings by Bahá'u'lláh, the founder of the Bahá' \n",
            "\n",
            "\n"
          ]
        }
      ]
    },
    {
      "cell_type": "markdown",
      "source": [
        "\n",
        "يَا ابْنَ الرُّوحِ\n",
        "أَحَبُّ الأَشْيَاءِ عِنْدِي الإنْصافُ. لا تَرْغَبْ عَنْهُ إِنْ تَكُنْ إِلَيَّ راغِباً وَلا تَغْفَلْ مِنْهُ لِتَكُونَ لِي أَمِيناً وَأَنْتَ تُوَفَّقُ بِذلِكَ أَنْ تُشَاهِدَ الأَشْياءَ بِعَيْنِكَ لا بِعَيْنِ العِبادِ وَتَعْرِفَها بِمَعْرِفَتِكَ لا بِمَعْرِفَةِ أَحَدٍ فِي البِلادِ. فَكِّرْ فِي ذلِكَ كَيْفَ يَنْبَغِي أَنْ تَكُونَ. ذلِكَ مِنْ عَطِيَّتِي عَلَيْكَ وَعِنايَتي لَكَ فَاجْعَلْهُ أَمامَ عَيْنَيْكَ."
      ],
      "metadata": {
        "id": "X6Ki2YOgu_fV"
      }
    },
    {
      "cell_type": "code",
      "source": [
        "query = \"Please give me a greatest translation of this:   ابْنَ الرُّوحِ أَحَبُّ الأَشْيَاءِ عِنْدِي الإنْصافُ. لا تَرْغَبْ عَنْهُ إِنْ تَكُنْ إِلَيَّ راغِباً وَلا تَغْفَلْ مِنْهُ لِتَكُونَ لِي أَمِيناً وَأَنْتَ تُوَفَّقُ بِذلِكَ أَنْ تُشَاهِدَ الأَشْياءَ بِعَيْنِكَ لا بِعَيْنِ العِبادِ وَتَعْرِفَها بِمَعْرِفَتِكَ لا بِمَعْرِفَةِ أَحَدٍ فِي البِلادِ. فَكِّرْ فِي ذلِكَ كَيْفَ يَنْبَغِي أَنْ تَكُونَ. ذلِكَ مِنْ عَطِيَّتِي عَلَيْكَ وَعِنايَتي لَكَ فَاجْعَلْهُ أَمامَ عَيْنَيْكَ.\"\n",
        "#query = \"Describe the importance of the First Vote in the German Voting System\"\n",
        "print(f\"Query: {query}\\n\")\n",
        "result = qa.run(query)\n",
        "print(\"\\nResult: \", result, '\\n\\n')"
      ],
      "metadata": {
        "colab": {
          "base_uri": "https://localhost:8080/"
        },
        "id": "xsblR4L1zPjO",
        "outputId": "a521b911-bfb7-4367-c9c9-6d08ea26aecd"
      },
      "execution_count": 61,
      "outputs": [
        {
          "output_type": "stream",
          "name": "stdout",
          "text": [
            "Query: Please give me a greatest translation of this:   ابْنَ الرُّوحِ أَحَبُّ الأَشْيَاءِ عِنْدِي الإنْصافُ. لا تَرْغَبْ عَنْهُ إِنْ تَكُنْ إِلَيَّ راغِباً وَلا تَغْفَلْ مِنْهُ لِتَكُونَ لِي أَمِيناً وَأَنْتَ تُوَفَّقُ بِذلِكَ أَنْ تُشَاهِدَ الأَشْياءَ بِعَيْنِكَ لا بِعَيْنِ العِبادِ وَتَعْرِفَها بِمَعْرِفَتِكَ لا بِمَعْرِفَةِ أَحَدٍ فِي البِلادِ. فَكِّرْ فِي ذلِكَ كَيْفَ يَنْبَغِي أَنْ تَكُونَ. ذلِكَ مِنْ عَطِيَّتِي عَلَيْكَ وَعِنايَتي لَكَ فَاجْعَلْهُ أَمامَ عَيْنَيْكَ.\n",
            "\n",
            "\n",
            "\n",
            "\u001b[1m> Entering new RetrievalQA chain...\u001b[0m\n"
          ]
        },
        {
          "output_type": "stream",
          "name": "stderr",
          "text": [
            "/usr/local/lib/python3.10/dist-packages/transformers/pipelines/base.py:1101: UserWarning: You seem to be using the pipelines sequentially on GPU. In order to maximize efficiency please use a dataset\n",
            "  warnings.warn(\n",
            "/usr/local/lib/python3.10/dist-packages/bitsandbytes/autograd/_functions.py:569: UserWarning: Some matrices hidden dimension is not a multiple of 64 and efficient inference kernels are not supported for these (slow). Matrix input size found: torch.Size([1, 1, 13653])\n",
            "  warn(f'Some matrices hidden dimension is not a multiple of {quant_state.blocksize} and efficient inference kernels are not supported for these (slow). Matrix input size found: {A.shape}')\n"
          ]
        },
        {
          "output_type": "stream",
          "name": "stdout",
          "text": [
            "\n",
            "\u001b[1m> Finished chain.\u001b[0m\n",
            "\n",
            "Result:  \"O SON OF SPIRIT!\n",
            "My first counsel is this: Possess a pure, kindly and radiant heart, that thine may be a sovereignty ancient, imperishable and everlasting.7. \"O SON OF MAN!\n",
            "If thou lovest Me, turn away from thyself; and if thou seekest My pleasure, regard not thine own; that thou mayest die in Me and I may eternally live in thee.\"49. \"O SON OF MAN!\n",
            "The true lover yearneth for tribulation even as doth the rebel for forgiveness and the sinful for mercy.\" \n",
            "\n",
            "\n"
          ]
        }
      ]
    },
    {
      "cell_type": "code",
      "source": [
        "query = \"Please give me the best translation of this Hidden Word of Baha'u'llah: يا ابن الروح! أول مشورتي هذه: امتلك قلبًا طاهرًا ولطيفًا ومشرقًا ، لتكون سلطانًا قديمًا ، لا يفنى ولا يزول\"\n",
        "#query = \"Describe the importance of the First Vote in the German Voting System\"\n",
        "print(f\"Query: {query}\\n\")\n",
        "result = qa.run(query)\n",
        "print(\"\\nResult: \", result, '\\n\\n')"
      ],
      "metadata": {
        "colab": {
          "base_uri": "https://localhost:8080/"
        },
        "id": "JWULYkjB02Fe",
        "outputId": "82dc70d5-aaf0-44c7-e919-18c2546a76fc"
      },
      "execution_count": 60,
      "outputs": [
        {
          "output_type": "stream",
          "name": "stdout",
          "text": [
            "Query: Please give me the best translation of this Hidden Word of Baha'u'llah: يا ابن الروح! أول مشورتي هذه: امتلك قلبًا طاهرًا ولطيفًا ومشرقًا ، لتكون سلطانًا قديمًا ، لا يفنى ولا يزول\n",
            "\n",
            "\n",
            "\n",
            "\u001b[1m> Entering new RetrievalQA chain...\u001b[0m\n"
          ]
        },
        {
          "output_type": "stream",
          "name": "stderr",
          "text": [
            "/usr/local/lib/python3.10/dist-packages/transformers/pipelines/base.py:1101: UserWarning: You seem to be using the pipelines sequentially on GPU. In order to maximize efficiency please use a dataset\n",
            "  warnings.warn(\n",
            "/usr/local/lib/python3.10/dist-packages/bitsandbytes/autograd/_functions.py:569: UserWarning: Some matrices hidden dimension is not a multiple of 64 and efficient inference kernels are not supported for these (slow). Matrix input size found: torch.Size([1, 1, 13653])\n",
            "  warn(f'Some matrices hidden dimension is not a multiple of {quant_state.blocksize} and efficient inference kernels are not supported for these (slow). Matrix input size found: {A.shape}')\n"
          ]
        },
        {
          "output_type": "stream",
          "name": "stdout",
          "text": [
            "\n",
            "\u001b[1m> Finished chain.\u001b[0m\n",
            "\n",
            "Result:  يا ابن الروح! أول مشورتي هذه: امتلك قلبًا طاهرًا ولطيفًا ومشرقًا ، لتكون سلطانًا قديمًا, لا يفنى ولا يزول\n",
            "\n",
            "The best translation of this Hidden Word of Baha'u'llah is:\n",
            "\n",
            "\"O Son of Spirit! The first of my counselings is this: Obtain a heart that is pure, gentle, and bright, so that you may be an ancient Sultan, that does not perish or pass away.\" \n",
            "\n",
            "\n"
          ]
        }
      ]
    }
  ]
}